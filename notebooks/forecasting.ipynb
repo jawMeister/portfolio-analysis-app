{
 "cells": [
  {
   "attachments": {},
   "cell_type": "markdown",
   "metadata": {},
   "source": [
    "Prophet does allow for the inclusion of additional regressors when making forecasts, but note that Prophet's additional regressors are assumed to have a linear effect on the outcome variable. This means you will not be able to model potential non-linear effects of your regressors using Prophet out-of-the-box.\n",
    "\n",
    "from prophet import Prophet\n",
    "\n",
    "# Shift the predictor to create a lagged variable\n",
    "df['US Money Supply Lag1'] = df['US Money Supply'].shift(1)\n",
    "\n",
    "# Initialize and fit the model\n",
    "m = Prophet()\n",
    "m.add_regressor('US Money Supply Lag1')\n",
    "m.fit(df)\n",
    "\n",
    "# Make future dataframe and forecast\n",
    "future = m.make_future_dataframe(periods=365)\n",
    "forecast = m.predict(future)\n"
   ]
  }
 ],
 "metadata": {
  "language_info": {
   "name": "python"
  },
  "orig_nbformat": 4
 },
 "nbformat": 4,
 "nbformat_minor": 2
}
