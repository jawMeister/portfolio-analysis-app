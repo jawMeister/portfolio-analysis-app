{
 "cells": [
  {
   "attachments": {},
   "cell_type": "markdown",
   "metadata": {},
   "source": [
    "Prophet does allow for the inclusion of additional regressors when making forecasts, but note that Prophet's additional regressors are assumed to have a linear effect on the outcome variable. This means you will not be able to model potential non-linear effects of your regressors using Prophet out-of-the-box.\n",
    "\n",
    "from prophet import Prophet\n",
    "\n",
    "# Shift the predictor to create a lagged variable\n",
    "df['US Money Supply Lag1'] = df['US Money Supply'].shift(1)\n",
    "\n",
    "# Initialize and fit the model\n",
    "m = Prophet()\n",
    "m.add_regressor('US Money Supply Lag1')\n",
    "m.fit(df)\n",
    "\n",
    "# Make future dataframe and forecast\n",
    "future = m.make_future_dataframe(periods=365)\n",
    "forecast = m.predict(future)"
   ]
  },
  {
   "cell_type": "code",
   "execution_count": null,
   "metadata": {},
   "outputs": [],
   "source": [
    "\n",
    "# TODO: whelp, the import is failing with Exception: Could not deserialize ATN with version <ctrl char> (expected 4).\n",
    "# which upon search comes from antlr4 -> per pip list, antlr4-python3-runtime 4.12.0 is installed\n",
    "# per https://github.com/antlr/antlr4/issues/3753, \"Please regenerate lexer/parser using the new ANTLR 4.10.1\", ???\n",
    "# maybe need to follow the more detailed steps to fully install OpenBB Terminal so the SDK works?\n",
    "# or... given it's in open source, maybe just clone the repo and run it as a local package?\n",
    "from openbb_terminal.sdk import openbb\n",
    "\n",
    "spy = openbb.stocks.load('SPY', start_date = '1990-01-01')\n"
   ]
  },
  {
   "cell_type": "code",
   "execution_count": null,
   "metadata": {},
   "outputs": [],
   "source": [
    "from typing import Union\n",
    "\n",
    "\"\"\"\n",
    "https://docs.openbb.co/sdk/usage/intros/forecast\n",
    "\n",
    "Tuple[List[TimeSeries], List[TimeSeries], List[TimeSeries], Optional[float], StatsForecast, Union[int, str]]\n",
    "\n",
    "openbb.forecast.autoselect(data: Union[pd.Series, pd.DataFrame], \n",
    "                            target_column: str = \"close\", \n",
    "                            seasonal_periods: int = 7, \n",
    "                            n_predict: int = 5, \n",
    "                            start_window: float = 0.85, \n",
    "                            forecast_horizon: int = 5)\n",
    "\n",
    "\"\"\"\n",
    "\n",
    "model_table = Union[int, str]\n",
    "adj_data, historical_forecast, predicted_forecast, precision, ets_model, model_table = openbb.forecast(portfolio_daily_returns)"
   ]
  }
 ],
 "metadata": {
  "kernelspec": {
   "display_name": ".venv",
   "language": "python",
   "name": "python3"
  },
  "language_info": {
   "codemirror_mode": {
    "name": "ipython",
    "version": 3
   },
   "file_extension": ".py",
   "mimetype": "text/x-python",
   "name": "python",
   "nbconvert_exporter": "python",
   "pygments_lexer": "ipython3",
   "version": "3.10.6"
  },
  "orig_nbformat": 4
 },
 "nbformat": 4,
 "nbformat_minor": 2
}
