{
 "cells": [
  {
   "cell_type": "code",
   "execution_count": 1,
   "metadata": {},
   "outputs": [
    {
     "name": "stderr",
     "output_type": "stream",
     "text": [
      "2023-06-03 05:29:14.805 WARNING streamlit.runtime.caching.cache_data_api: No runtime found, using MemoryCacheStorageManager\n",
      "2023-06-03 05:29:14.807 WARNING streamlit.runtime.caching.cache_data_api: No runtime found, using MemoryCacheStorageManager\n",
      "2023-06-03 05:29:14.808 WARNING streamlit.runtime.caching.cache_data_api: No runtime found, using MemoryCacheStorageManager\n",
      "2023-06-03 05:29:14.809 WARNING streamlit.runtime.caching.cache_data_api: No runtime found, using MemoryCacheStorageManager\n",
      "2023-06-03 05:29:14.810 WARNING streamlit.runtime.caching.cache_data_api: No runtime found, using MemoryCacheStorageManager\n",
      "2023-06-03 05:29:14.810 WARNING streamlit.runtime.caching.cache_data_api: No runtime found, using MemoryCacheStorageManager\n",
      "2023-06-03 05:29:14.811 WARNING streamlit.runtime.caching.cache_data_api: No runtime found, using MemoryCacheStorageManager\n",
      "2023-06-03 05:29:14.812 WARNING streamlit.runtime.caching.cache_data_api: No runtime found, using MemoryCacheStorageManager\n",
      "2023-06-03 05:29:14.912 WARNING streamlit.runtime.caching.cache_data_api: No runtime found, using MemoryCacheStorageManager\n",
      "2023-06-03 05:29:15.014 \n",
      "  \u001b[33m\u001b[1mWarning:\u001b[0m to view this Streamlit app on a browser, run it with the following\n",
      "  command:\n",
      "\n",
      "    streamlit run /home/jaws/development/public/portfolio-analysis-app/.venv/lib/python3.10/site-packages/ipykernel_launcher.py [ARGUMENTS]\n",
      "2023-06-03 05:29:15.015 No runtime found, using MemoryCacheStorageManager\n",
      "2023-06-03 05:29:15,016 (INFO):  utils.get_stock_data - Getting stock data for ['AAPL', 'AMZN', 'NVDA', 'MMC', 'GOOG', 'MSFT', 'BTC-USD', 'ETH-USD', 'XOM', 'BAC', 'V', 'GOLD', '^GSPC'] from 2014-01-01 to 2023-06-02\n"
     ]
    },
    {
     "name": "stdout",
     "output_type": "stream",
     "text": [
      "[*********************100%***********************]  13 of 13 completed\n",
      "Expected annual return: 28.0%\n",
      "Annual volatility: 23.3%\n",
      "Sharpe Ratio: 1.11\n",
      "ef weights:\n",
      "AAPL       0.11997\n",
      "AMZN       0.00000\n",
      "BAC        0.00000\n",
      "BTC-USD    0.15161\n",
      "ETH-USD    0.00000\n",
      "GOLD       0.00000\n",
      "GOOG       0.00000\n",
      "MMC        0.27981\n",
      "MSFT       0.09622\n",
      "NVDA       0.35239\n",
      "V          0.00000\n",
      "XOM        0.00000\n",
      "dtype: float64\n",
      "ef performance: (0.27988419701883627, 0.23321841467899954, 1.1143382368692427)\n"
     ]
    }
   ],
   "source": [
    "import os, sys\n",
    "# enable absolute paths transversal (from notebooks folder to src folder)\n",
    "parent_dir = os.path.abspath('..')\n",
    "if parent_dir not in sys.path:\n",
    "    sys.path.append(parent_dir)\n",
    "    \n",
    "from datetime import datetime, timedelta\n",
    "import streamlit as st\n",
    "from pypfopt import expected_returns, EfficientFrontier\n",
    "import pandas as pd\n",
    "import numpy as np\n",
    "\n",
    "import src.utils as utils\n",
    "import src.macro.calculate as calculate\n",
    "import src.macro.plot as plot\n",
    "\n",
    "tickers = ['AAPL','AMZN','NVDA','MMC','GOOG','MSFT','BTC-USD','ETH-USD','XOM','BAC','V','GOLD','^GSPC']\n",
    "start_date = '2014-01-01'\n",
    "end_date = datetime.now() - timedelta(1)\n",
    "\n",
    "# just grabbing the 'Adj Close' column\n",
    "stock_data = utils.get_stock_data(tickers, start_date, end_date)\n",
    "\n",
    "sp500_data = stock_data['^GSPC']\n",
    "stock_data = stock_data.drop(['^GSPC'], axis=1)\n",
    "\n",
    "stock_data.tail()\n",
    "\n",
    "\"\"\"similar to portfolio/display.py, set the portfolio weights and calculate the performance\n",
    "\"\"\"\n",
    "risk_free_rate = 0.04\n",
    "mu = expected_returns.mean_historical_return(stock_data)\n",
    "S = utils.calculate_covariance_matrix(stock_data)\n",
    "\n",
    "# Calculating the cumulative monthly returns of a portfolio of stocks with given weights:\n",
    "min_risk, max_risk = utils.calculate_risk_extents(mu, S, risk_free_rate)\n",
    "risk = (max_risk + min_risk) / 2\n",
    "\n",
    "ef = EfficientFrontier(mu, S)\n",
    "ef.efficient_risk(risk)\n",
    "weights = ef.clean_weights()\n",
    "weights = pd.Series(weights).reindex(stock_data.columns)\n",
    "ef_returns, ef_volatility, ef_sharpe = ef.portfolio_performance(risk_free_rate)\n",
    "print(f'ef weights:\\n{weights}')\n",
    "print(f'ef performance: {ef_returns, ef_volatility, ef_sharpe}')\n",
    "\n"
   ]
  },
  {
   "cell_type": "code",
   "execution_count": 2,
   "metadata": {},
   "outputs": [
    {
     "name": "stdout",
     "output_type": "stream",
     "text": [
      "Requirement already satisfied: python-dotenv in /home/jaws/development/public/portfolio-analysis-app/.venv/lib/python3.10/site-packages (1.0.0)\n",
      "Note: you may need to restart the kernel to use updated packages.\n"
     ]
    }
   ],
   "source": [
    "%pip install python-dotenv\n",
    "\n",
    "\n"
   ]
  },
  {
   "cell_type": "code",
   "execution_count": 19,
   "metadata": {},
   "outputs": [
    {
     "name": "stdout",
     "output_type": "stream",
     "text": [
      "6909a5f9244a34fc5b3724c919a2ddd0\n",
      "e12908f5601c2198927fecc7d3dcb1ea\n",
      "i3rjXmcrBdZ1sLCv8Pij\n"
     ]
    }
   ],
   "source": [
    "from dotenv import load_dotenv\n",
    "load_dotenv()\n",
    "\n",
    "print(os.environ.get('FRED_API_KEY'))\n",
    "print(os.environ.get('FMP_API_KEY'))\n",
    "print(os.environ.get('NASDAQ_API_KEY'))"
   ]
  },
  {
   "cell_type": "code",
   "execution_count": 18,
   "metadata": {},
   "outputs": [
    {
     "name": "stdout",
     "output_type": "stream",
     "text": [
      "Requirement already satisfied: pip in /home/jaws/development/public/portfolio-analysis-app/.venv/lib/python3.10/site-packages (22.0.2)\n",
      "Requirement already satisfied: install in /home/jaws/development/public/portfolio-analysis-app/.venv/lib/python3.10/site-packages (1.3.5)\n",
      "Requirement already satisfied: Nasdaq-Data-Link in /home/jaws/development/public/portfolio-analysis-app/.venv/lib/python3.10/site-packages (1.0.4)\n",
      "Requirement already satisfied: numpy>=1.8 in /home/jaws/development/public/portfolio-analysis-app/.venv/lib/python3.10/site-packages (from Nasdaq-Data-Link) (1.24.3)\n",
      "Requirement already satisfied: python-dateutil in /home/jaws/development/public/portfolio-analysis-app/.venv/lib/python3.10/site-packages (from Nasdaq-Data-Link) (2.8.2)\n",
      "Requirement already satisfied: inflection>=0.3.1 in /home/jaws/development/public/portfolio-analysis-app/.venv/lib/python3.10/site-packages (from Nasdaq-Data-Link) (0.5.1)\n",
      "Requirement already satisfied: requests>=2.7.0 in /home/jaws/development/public/portfolio-analysis-app/.venv/lib/python3.10/site-packages (from Nasdaq-Data-Link) (2.30.0)\n",
      "Requirement already satisfied: more-itertools in /home/jaws/development/public/portfolio-analysis-app/.venv/lib/python3.10/site-packages (from Nasdaq-Data-Link) (9.1.0)\n",
      "Requirement already satisfied: six in /home/jaws/development/public/portfolio-analysis-app/.venv/lib/python3.10/site-packages (from Nasdaq-Data-Link) (1.16.0)\n",
      "Requirement already satisfied: pandas>=0.14 in /home/jaws/development/public/portfolio-analysis-app/.venv/lib/python3.10/site-packages (from Nasdaq-Data-Link) (2.0.1)\n",
      "Requirement already satisfied: tzdata>=2022.1 in /home/jaws/development/public/portfolio-analysis-app/.venv/lib/python3.10/site-packages (from pandas>=0.14->Nasdaq-Data-Link) (2023.3)\n",
      "Requirement already satisfied: pytz>=2020.1 in /home/jaws/development/public/portfolio-analysis-app/.venv/lib/python3.10/site-packages (from pandas>=0.14->Nasdaq-Data-Link) (2023.3)\n",
      "Requirement already satisfied: charset-normalizer<4,>=2 in /home/jaws/development/public/portfolio-analysis-app/.venv/lib/python3.10/site-packages (from requests>=2.7.0->Nasdaq-Data-Link) (3.1.0)\n",
      "Requirement already satisfied: urllib3<3,>=1.21.1 in /home/jaws/development/public/portfolio-analysis-app/.venv/lib/python3.10/site-packages (from requests>=2.7.0->Nasdaq-Data-Link) (2.0.2)\n",
      "Requirement already satisfied: idna<4,>=2.5 in /home/jaws/development/public/portfolio-analysis-app/.venv/lib/python3.10/site-packages (from requests>=2.7.0->Nasdaq-Data-Link) (3.4)\n",
      "Requirement already satisfied: certifi>=2017.4.17 in /home/jaws/development/public/portfolio-analysis-app/.venv/lib/python3.10/site-packages (from requests>=2.7.0->Nasdaq-Data-Link) (2023.5.7)\n",
      "Note: you may need to restart the kernel to use updated packages.\n",
      "Collecting quandl\n",
      "  Using cached Quandl-3.7.0-py2.py3-none-any.whl (26 kB)\n",
      "Requirement already satisfied: more-itertools in /home/jaws/development/public/portfolio-analysis-app/.venv/lib/python3.10/site-packages (from quandl) (9.1.0)\n",
      "Requirement already satisfied: six in /home/jaws/development/public/portfolio-analysis-app/.venv/lib/python3.10/site-packages (from quandl) (1.16.0)\n",
      "Requirement already satisfied: python-dateutil in /home/jaws/development/public/portfolio-analysis-app/.venv/lib/python3.10/site-packages (from quandl) (2.8.2)\n",
      "Requirement already satisfied: inflection>=0.3.1 in /home/jaws/development/public/portfolio-analysis-app/.venv/lib/python3.10/site-packages (from quandl) (0.5.1)\n",
      "Requirement already satisfied: pandas>=0.14 in /home/jaws/development/public/portfolio-analysis-app/.venv/lib/python3.10/site-packages (from quandl) (2.0.1)\n",
      "Requirement already satisfied: numpy>=1.8 in /home/jaws/development/public/portfolio-analysis-app/.venv/lib/python3.10/site-packages (from quandl) (1.24.3)\n",
      "Requirement already satisfied: requests>=2.7.0 in /home/jaws/development/public/portfolio-analysis-app/.venv/lib/python3.10/site-packages (from quandl) (2.30.0)\n",
      "Requirement already satisfied: pytz>=2020.1 in /home/jaws/development/public/portfolio-analysis-app/.venv/lib/python3.10/site-packages (from pandas>=0.14->quandl) (2023.3)\n",
      "Requirement already satisfied: tzdata>=2022.1 in /home/jaws/development/public/portfolio-analysis-app/.venv/lib/python3.10/site-packages (from pandas>=0.14->quandl) (2023.3)\n",
      "Requirement already satisfied: certifi>=2017.4.17 in /home/jaws/development/public/portfolio-analysis-app/.venv/lib/python3.10/site-packages (from requests>=2.7.0->quandl) (2023.5.7)\n",
      "Requirement already satisfied: urllib3<3,>=1.21.1 in /home/jaws/development/public/portfolio-analysis-app/.venv/lib/python3.10/site-packages (from requests>=2.7.0->quandl) (2.0.2)\n",
      "Requirement already satisfied: idna<4,>=2.5 in /home/jaws/development/public/portfolio-analysis-app/.venv/lib/python3.10/site-packages (from requests>=2.7.0->quandl) (3.4)\n",
      "Requirement already satisfied: charset-normalizer<4,>=2 in /home/jaws/development/public/portfolio-analysis-app/.venv/lib/python3.10/site-packages (from requests>=2.7.0->quandl) (3.1.0)\n",
      "Installing collected packages: quandl\n",
      "Successfully installed quandl-3.7.0\n",
      "Note: you may need to restart the kernel to use updated packages.\n"
     ]
    }
   ],
   "source": [
    "%pip install pip install Nasdaq-Data-Link\n",
    "%pip install quandl"
   ]
  },
  {
   "cell_type": "code",
   "execution_count": 20,
   "metadata": {},
   "outputs": [
    {
     "name": "stdout",
     "output_type": "stream",
     "text": [
      "head:             Value\n",
      "Date             \n",
      "1959-01-31  289.8\n",
      "1959-02-28  287.7\n",
      "1959-03-31  287.9\n",
      "1959-04-30  290.2\n",
      "1959-05-31  290.2\n",
      "tail:               Value\n",
      "Date               \n",
      "2022-12-31  21433.1\n",
      "2023-01-31  21280.9\n",
      "2023-02-28  21113.2\n",
      "2023-03-31  21006.2\n",
      "2023-04-30  20827.1\n",
      "description:               Value\n",
      "count    772.000000\n",
      "mean    5017.158549\n",
      "std     5260.669388\n",
      "min      287.700000\n",
      "25%      908.525000\n",
      "50%     3312.450000\n",
      "75%     7181.600000\n",
      "max    21855.800000\n"
     ]
    }
   ],
   "source": [
    "import quandl\n",
    "\n",
    "us_m2_data = quandl.get(\"FED/M2_N_M\", authtoken=os.environ.get('NASDAQ_API_KEY'))\n",
    "print(f'head: {us_m2_data.head()}')\n",
    "print(f'tail: {us_m2_data.tail()}')\n",
    "print(f'description: {us_m2_data.describe()}')"
   ]
  },
  {
   "cell_type": "code",
   "execution_count": 16,
   "metadata": {},
   "outputs": [
    {
     "name": "stdout",
     "output_type": "stream",
     "text": [
      "user_macro_input: {'US Interest Rate': 0.01, 'US Inflation Rate': 0.02, 'US M2 Money Supply': 0.1, 'China M2 Money Supply': 0.15}\n",
      "Fetching macroeconomic data from FRED from 2014-01-01 to 2023-06-02 05:29:14.916319\n",
      "Fetching economic data from FMP from 2014-01-01 to 2023-06-02 05:29:14.916319 with api key e12908f5601c2198927fecc7d3dcb1ea\n",
      "response for GDP was:\n",
      "<Response [403]>\n"
     ]
    },
    {
     "ename": "ValueError",
     "evalue": "If using all scalar values, you must pass an index",
     "output_type": "error",
     "traceback": [
      "\u001b[0;31m---------------------------------------------------------------------------\u001b[0m",
      "\u001b[0;31mValueError\u001b[0m                                Traceback (most recent call last)",
      "Cell \u001b[0;32mIn[16], line 46\u001b[0m\n\u001b[1;32m     42\u001b[0m     macroeconomic_data\u001b[39m.\u001b[39mcolumns \u001b[39m=\u001b[39m calculate\u001b[39m.\u001b[39mget_macro_factor_list()\n\u001b[1;32m     44\u001b[0m     \u001b[39mreturn\u001b[39;00m macroeconomic_data\n\u001b[0;32m---> 46\u001b[0m macroeconomic_data \u001b[39m=\u001b[39m get_historical_macro_data(start_date, end_date)\n\u001b[1;32m     48\u001b[0m figs_to_plot \u001b[39m=\u001b[39m plot\u001b[39m.\u001b[39mplot_historical_macro_data(macroeconomic_data)\n\u001b[1;32m     50\u001b[0m \u001b[39mfor\u001b[39;00m fig \u001b[39min\u001b[39;00m figs_to_plot:\n",
      "Cell \u001b[0;32mIn[16], line 35\u001b[0m, in \u001b[0;36mget_historical_macro_data\u001b[0;34m(start_date, end_date)\u001b[0m\n\u001b[1;32m     33\u001b[0m \u001b[39mprint\u001b[39m(\u001b[39mf\u001b[39m\u001b[39m\"\u001b[39m\u001b[39mresponse for \u001b[39m\u001b[39m{\u001b[39;00mindicator\u001b[39m}\u001b[39;00m\u001b[39m was:\u001b[39m\u001b[39m\\n\u001b[39;00m\u001b[39m{\u001b[39;00mresponse\u001b[39m}\u001b[39;00m\u001b[39m\"\u001b[39m)\n\u001b[1;32m     34\u001b[0m data \u001b[39m=\u001b[39m response\u001b[39m.\u001b[39mjson()\n\u001b[0;32m---> 35\u001b[0m df \u001b[39m=\u001b[39m pd\u001b[39m.\u001b[39;49mDataFrame(data)\n\u001b[1;32m     36\u001b[0m df[\u001b[39m'\u001b[39m\u001b[39mdate\u001b[39m\u001b[39m'\u001b[39m] \u001b[39m=\u001b[39m pd\u001b[39m.\u001b[39mto_datetime(df[\u001b[39m'\u001b[39m\u001b[39mdate\u001b[39m\u001b[39m'\u001b[39m])\n\u001b[1;32m     37\u001b[0m df\u001b[39m.\u001b[39mset_index(\u001b[39m'\u001b[39m\u001b[39mdate\u001b[39m\u001b[39m'\u001b[39m, inplace\u001b[39m=\u001b[39m\u001b[39mTrue\u001b[39;00m)\n",
      "File \u001b[0;32m~/development/public/portfolio-analysis-app/.venv/lib/python3.10/site-packages/pandas/core/frame.py:709\u001b[0m, in \u001b[0;36mDataFrame.__init__\u001b[0;34m(self, data, index, columns, dtype, copy)\u001b[0m\n\u001b[1;32m    703\u001b[0m     mgr \u001b[39m=\u001b[39m \u001b[39mself\u001b[39m\u001b[39m.\u001b[39m_init_mgr(\n\u001b[1;32m    704\u001b[0m         data, axes\u001b[39m=\u001b[39m{\u001b[39m\"\u001b[39m\u001b[39mindex\u001b[39m\u001b[39m\"\u001b[39m: index, \u001b[39m\"\u001b[39m\u001b[39mcolumns\u001b[39m\u001b[39m\"\u001b[39m: columns}, dtype\u001b[39m=\u001b[39mdtype, copy\u001b[39m=\u001b[39mcopy\n\u001b[1;32m    705\u001b[0m     )\n\u001b[1;32m    707\u001b[0m \u001b[39melif\u001b[39;00m \u001b[39misinstance\u001b[39m(data, \u001b[39mdict\u001b[39m):\n\u001b[1;32m    708\u001b[0m     \u001b[39m# GH#38939 de facto copy defaults to False only in non-dict cases\u001b[39;00m\n\u001b[0;32m--> 709\u001b[0m     mgr \u001b[39m=\u001b[39m dict_to_mgr(data, index, columns, dtype\u001b[39m=\u001b[39;49mdtype, copy\u001b[39m=\u001b[39;49mcopy, typ\u001b[39m=\u001b[39;49mmanager)\n\u001b[1;32m    710\u001b[0m \u001b[39melif\u001b[39;00m \u001b[39misinstance\u001b[39m(data, ma\u001b[39m.\u001b[39mMaskedArray):\n\u001b[1;32m    711\u001b[0m     \u001b[39mfrom\u001b[39;00m \u001b[39mnumpy\u001b[39;00m\u001b[39m.\u001b[39;00m\u001b[39mma\u001b[39;00m \u001b[39mimport\u001b[39;00m mrecords\n",
      "File \u001b[0;32m~/development/public/portfolio-analysis-app/.venv/lib/python3.10/site-packages/pandas/core/internals/construction.py:481\u001b[0m, in \u001b[0;36mdict_to_mgr\u001b[0;34m(data, index, columns, dtype, typ, copy)\u001b[0m\n\u001b[1;32m    477\u001b[0m     \u001b[39melse\u001b[39;00m:\n\u001b[1;32m    478\u001b[0m         \u001b[39m# dtype check to exclude e.g. range objects, scalars\u001b[39;00m\n\u001b[1;32m    479\u001b[0m         arrays \u001b[39m=\u001b[39m [x\u001b[39m.\u001b[39mcopy() \u001b[39mif\u001b[39;00m \u001b[39mhasattr\u001b[39m(x, \u001b[39m\"\u001b[39m\u001b[39mdtype\u001b[39m\u001b[39m\"\u001b[39m) \u001b[39melse\u001b[39;00m x \u001b[39mfor\u001b[39;00m x \u001b[39min\u001b[39;00m arrays]\n\u001b[0;32m--> 481\u001b[0m \u001b[39mreturn\u001b[39;00m arrays_to_mgr(arrays, columns, index, dtype\u001b[39m=\u001b[39;49mdtype, typ\u001b[39m=\u001b[39;49mtyp, consolidate\u001b[39m=\u001b[39;49mcopy)\n",
      "File \u001b[0;32m~/development/public/portfolio-analysis-app/.venv/lib/python3.10/site-packages/pandas/core/internals/construction.py:115\u001b[0m, in \u001b[0;36marrays_to_mgr\u001b[0;34m(arrays, columns, index, dtype, verify_integrity, typ, consolidate)\u001b[0m\n\u001b[1;32m    112\u001b[0m \u001b[39mif\u001b[39;00m verify_integrity:\n\u001b[1;32m    113\u001b[0m     \u001b[39m# figure out the index, if necessary\u001b[39;00m\n\u001b[1;32m    114\u001b[0m     \u001b[39mif\u001b[39;00m index \u001b[39mis\u001b[39;00m \u001b[39mNone\u001b[39;00m:\n\u001b[0;32m--> 115\u001b[0m         index \u001b[39m=\u001b[39m _extract_index(arrays)\n\u001b[1;32m    116\u001b[0m     \u001b[39melse\u001b[39;00m:\n\u001b[1;32m    117\u001b[0m         index \u001b[39m=\u001b[39m ensure_index(index)\n",
      "File \u001b[0;32m~/development/public/portfolio-analysis-app/.venv/lib/python3.10/site-packages/pandas/core/internals/construction.py:645\u001b[0m, in \u001b[0;36m_extract_index\u001b[0;34m(data)\u001b[0m\n\u001b[1;32m    642\u001b[0m         \u001b[39mraise\u001b[39;00m \u001b[39mValueError\u001b[39;00m(\u001b[39m\"\u001b[39m\u001b[39mPer-column arrays must each be 1-dimensional\u001b[39m\u001b[39m\"\u001b[39m)\n\u001b[1;32m    644\u001b[0m \u001b[39mif\u001b[39;00m \u001b[39mnot\u001b[39;00m indexes \u001b[39mand\u001b[39;00m \u001b[39mnot\u001b[39;00m raw_lengths:\n\u001b[0;32m--> 645\u001b[0m     \u001b[39mraise\u001b[39;00m \u001b[39mValueError\u001b[39;00m(\u001b[39m\"\u001b[39m\u001b[39mIf using all scalar values, you must pass an index\u001b[39m\u001b[39m\"\u001b[39m)\n\u001b[1;32m    647\u001b[0m \u001b[39mif\u001b[39;00m have_series:\n\u001b[1;32m    648\u001b[0m     index \u001b[39m=\u001b[39m union_indexes(indexes)\n",
      "\u001b[0;31mValueError\u001b[0m: If using all scalar values, you must pass an index"
     ]
    }
   ],
   "source": [
    "\n",
    "\n",
    "from fredapi import Fred\n",
    "\n",
    "import requests\n",
    "\n",
    "import logging\n",
    "logging.basicConfig(level=logging.WARNING, format='%(asctime)s (%(levelname)s):  %(module)s.%(funcName)s - %(message)s')\n",
    "\n",
    "# Set up logger for a specific module to a different level\n",
    "logger = logging.getLogger(__name__)\n",
    "logger.setLevel(logging.INFO)\n",
    "\n",
    "# get the macro factors, eg, interest rate, inflation, money supply, etc that we want to analyze\n",
    "user_macro_input = calculate.get_macro_factor_defaults()\n",
    "print(f'user_macro_input: {user_macro_input}')\n",
    "            \n",
    "def get_historical_macro_data(start_date, end_date):\n",
    "    fred = Fred(api_key=os.environ.get('FRED_API_KEY'))\n",
    "    print(f\"Fetching macroeconomic data from FRED from {start_date} to {end_date}\")\n",
    "    # Get macroeconomic data\n",
    "    us_interest_rate = fred.get_series('GS10', start_date, end_date)  # 10-Year Treasury Constant Maturity Rate\n",
    "    us_inflation = fred.get_series('T10YIE', start_date, end_date)  # 10-Year Breakeven Inflation Rate\n",
    "    us_m2_money_supply = fred.get_series('M2', start_date, end_date)  # M2 Money Stock\n",
    "    china_m2_money_supply = fred.get_series('MYAGM2CNM189N', start_date, end_date)  # China M2 Money Supply\n",
    "    \n",
    "    \"\"\" need to get a paid subscription to get the ecomomic data from FMP\n",
    "    fmp_api_key = os.environ.get('FMP_API_KEY')\n",
    "    print(f\"Fetching economic data from FMP from {start_date} to {end_date} with api key {fmp_api_key}\")\n",
    "    base_url = \"https://financialmodelingprep.com/api/v4/economic\"\n",
    "\n",
    "    indicators = [\"GDP\", \"realGDP\", \"federalFunds\", \"CPI\", \"inflationRate\", \"inflation\", \"retailSales\", \"consumerSentiment\", \"unemploymentRate\", \"initialClaims\"]\n",
    "    \n",
    "    for indicator in indicators:\n",
    "        params = {\"apikey\": fmp_api_key, \"from\": start_date, \"to\": end_date, \"name\": indicator}\n",
    "        response = requests.get(f\"{base_url}\", params=params)\n",
    "        print(f\"response for {indicator} was:\\n{response}\")\n",
    "        data = response.json()\n",
    "        df = pd.DataFrame(data)\n",
    "        df['date'] = pd.to_datetime(df['date'])\n",
    "        df.set_index('date', inplace=True)\n",
    "        df = df[start_date:end_date]\n",
    "        macroeconomic_data = pd.concat([macroeconomic_data, df], axis=1)\n",
    "    \"\"\"\n",
    "\n",
    "    logger.debug(\"macroeconomic_data.head():\\n{}\".format(macroeconomic_data.head()))\n",
    "    macroeconomic_data.columns = calculate.get_macro_factor_list()\n",
    "    \n",
    "    return macroeconomic_data\n",
    "\n",
    "macroeconomic_data = get_historical_macro_data(start_date, end_date)\n",
    "\n",
    "figs_to_plot = plot.plot_historical_macro_data(macroeconomic_data)\n",
    "\n",
    "for fig in figs_to_plot:\n",
    "    fig.show()"
   ]
  },
  {
   "cell_type": "code",
   "execution_count": 5,
   "metadata": {},
   "outputs": [
    {
     "name": "stdout",
     "output_type": "stream",
     "text": [
      "daily_returns tail:\n",
      "                AAPL      AMZN       BAC   BTC-USD   ETH-USD      GOLD   \n",
      "Date                                                                     \n",
      "2023-05-28  0.000000  0.000000  0.000000  0.045306  0.043578  0.000000  \\\n",
      "2023-05-29  0.000000  0.000000  0.000000 -0.012097 -0.009334  0.000000   \n",
      "2023-05-30  0.010660  0.012905 -0.001766 -0.001569  0.004199 -0.006513   \n",
      "2023-05-31 -0.000282 -0.008877 -0.016631 -0.017424 -0.014148  0.005959   \n",
      "2023-06-01  0.016023  0.018162  0.007617 -0.014684 -0.006365  0.033768   \n",
      "\n",
      "                GOOG       MMC      MSFT      NVDA         V       XOM  \n",
      "Date                                                                    \n",
      "2023-05-28  0.000000  0.000000  0.000000  0.000000  0.000000  0.000000  \n",
      "2023-05-29  0.000000  0.000000  0.000000  0.000000  0.000000  0.000000  \n",
      "2023-05-30 -0.006298  0.006292 -0.005047  0.029913 -0.014977 -0.008860  \n",
      "2023-05-31 -0.010189 -0.006540 -0.008514 -0.056767 -0.002752 -0.017878  \n",
      "2023-06-01  0.008106  0.007160  0.012759  0.051171  0.024748  0.011548  \n",
      "portfolio_returns tail:\n",
      "Date\n",
      "2023-05-28    0.006869\n",
      "2023-05-29   -0.001834\n",
      "2023-05-30    0.012857\n",
      "2023-05-31   -0.025329\n",
      "2023-06-01    0.020959\n",
      "dtype: float64\n",
      "combined_data.head():\n",
      "                AAPL      AMZN       BAC  BTC-USD  ETH-USD      GOLD   \n",
      "2014-01-31 -0.094968 -0.098701  0.040373      0.0      0.0  0.052976  \\\n",
      "2014-02-28  0.057511  0.009507 -0.013134      0.0      0.0  0.059567   \n",
      "2014-03-31  0.019953 -0.071058  0.041155      0.0      0.0 -0.125123   \n",
      "2014-04-30  0.099396 -0.095847 -0.119767      0.0      0.0 -0.020191   \n",
      "2014-05-31  0.078709  0.027685  0.000000      0.0      0.0 -0.074946   \n",
      "\n",
      "                GOOG       MMC      MSFT      NVDA  ...  US Inflation Rate   \n",
      "2014-01-31  0.060955 -0.036928  0.018299 -0.010089  ...               2.14  \\\n",
      "2014-02-28  0.029366  0.053599  0.020013  0.175987  ...               2.17   \n",
      "2014-03-31 -0.082751  0.023671  0.069956 -0.025572  ...               2.13   \n",
      "2014-04-30 -0.054419  0.005409 -0.014394  0.031268  ...               2.18   \n",
      "2014-05-31  0.063096  0.019469  0.020515  0.033433  ...               2.22   \n",
      "\n",
      "            US M2 Money Supply  China M2 Money Supply   \n",
      "2014-01-31             11114.3           1.123521e+14  \\\n",
      "2014-02-28             11174.9           1.131761e+14   \n",
      "2014-03-31             11223.4           1.160687e+14   \n",
      "2014-04-30             11295.1           1.168813e+14   \n",
      "2014-05-31             11346.6           1.182294e+14   \n",
      "\n",
      "            US Interest Rate Change  US Inflation Rate Change   \n",
      "2014-01-31                      NaN                       NaN  \\\n",
      "2014-02-28                -0.052448                  0.014019   \n",
      "2014-03-31                 0.003690                 -0.018433   \n",
      "2014-04-30                -0.003676                  0.023474   \n",
      "2014-05-31                -0.055351                  0.018349   \n",
      "\n",
      "            US M2 Money Supply Change  China M2 Money Supply Change   \n",
      "2014-01-31                        NaN                           NaN  \\\n",
      "2014-02-28                   0.005452                      0.007334   \n",
      "2014-03-31                   0.004340                      0.025559   \n",
      "2014-04-30                   0.006388                      0.007000   \n",
      "2014-05-31                   0.004559                      0.011534   \n",
      "\n",
      "            weighted_portfolio_returns_monthly   \n",
      "2014-01-31                           -0.022768  \\\n",
      "2014-02-28                            0.084564   \n",
      "2014-03-31                            0.006972   \n",
      "2014-04-30                            0.023804   \n",
      "2014-05-31                            0.029015   \n",
      "\n",
      "            weighted_portfolio_cumulative_returns  cumulative_inflation  \n",
      "2014-01-31                              -0.022768                  2.14  \n",
      "2014-02-28                               0.059870                  4.31  \n",
      "2014-03-31                               0.067260                  6.44  \n",
      "2014-04-30                               0.092665                  8.62  \n",
      "2014-05-31                               0.124369                 10.84  \n",
      "\n",
      "[5 rows x 23 columns]\n"
     ]
    },
    {
     "data": {
      "application/vnd.plotly.v1+json": {
       "config": {
        "plotlyServerURL": "https://plot.ly"
       },
       "data": [
        {
         "fill": "tozeroy",
         "mode": "lines",
         "name": "Weighted Portfolio Monthly Returns",
         "type": "scatter",
         "x": [
          "2014-01-31T00:00:00",
          "2014-02-28T00:00:00",
          "2014-03-31T00:00:00",
          "2014-04-30T00:00:00",
          "2014-05-31T00:00:00",
          "2014-06-30T00:00:00",
          "2014-07-31T00:00:00",
          "2014-08-31T00:00:00",
          "2014-09-30T00:00:00",
          "2014-10-31T00:00:00",
          "2014-11-30T00:00:00",
          "2014-12-31T00:00:00",
          "2015-01-31T00:00:00",
          "2015-02-28T00:00:00",
          "2015-03-31T00:00:00",
          "2015-04-30T00:00:00",
          "2015-05-31T00:00:00",
          "2015-06-30T00:00:00",
          "2015-07-31T00:00:00",
          "2015-08-31T00:00:00",
          "2015-09-30T00:00:00",
          "2015-10-31T00:00:00",
          "2015-11-30T00:00:00",
          "2015-12-31T00:00:00",
          "2016-01-31T00:00:00",
          "2016-02-29T00:00:00",
          "2016-03-31T00:00:00",
          "2016-04-30T00:00:00",
          "2016-05-31T00:00:00",
          "2016-06-30T00:00:00",
          "2016-07-31T00:00:00",
          "2016-08-31T00:00:00",
          "2016-09-30T00:00:00",
          "2016-10-31T00:00:00",
          "2016-11-30T00:00:00",
          "2016-12-31T00:00:00",
          "2017-01-31T00:00:00",
          "2017-02-28T00:00:00",
          "2017-03-31T00:00:00",
          "2017-04-30T00:00:00",
          "2017-05-31T00:00:00",
          "2017-06-30T00:00:00",
          "2017-07-31T00:00:00",
          "2017-08-31T00:00:00",
          "2017-09-30T00:00:00",
          "2017-10-31T00:00:00",
          "2017-11-30T00:00:00",
          "2017-12-31T00:00:00",
          "2018-01-31T00:00:00",
          "2018-02-28T00:00:00",
          "2018-03-31T00:00:00",
          "2018-04-30T00:00:00",
          "2018-05-31T00:00:00",
          "2018-06-30T00:00:00",
          "2018-07-31T00:00:00",
          "2018-08-31T00:00:00",
          "2018-09-30T00:00:00",
          "2018-10-31T00:00:00",
          "2018-11-30T00:00:00",
          "2018-12-31T00:00:00",
          "2019-01-31T00:00:00",
          "2019-02-28T00:00:00",
          "2019-03-31T00:00:00",
          "2019-04-30T00:00:00",
          "2019-05-31T00:00:00",
          "2019-06-30T00:00:00",
          "2019-07-31T00:00:00",
          "2019-08-31T00:00:00",
          "2019-09-30T00:00:00",
          "2019-10-31T00:00:00",
          "2019-11-30T00:00:00",
          "2019-12-31T00:00:00",
          "2020-01-31T00:00:00",
          "2020-02-29T00:00:00",
          "2020-03-31T00:00:00",
          "2020-04-30T00:00:00",
          "2020-05-31T00:00:00",
          "2020-06-30T00:00:00",
          "2020-07-31T00:00:00",
          "2020-08-31T00:00:00",
          "2020-09-30T00:00:00",
          "2020-10-31T00:00:00",
          "2020-11-30T00:00:00",
          "2020-12-31T00:00:00",
          "2021-01-31T00:00:00",
          "2021-02-28T00:00:00",
          "2021-03-31T00:00:00",
          "2021-04-30T00:00:00",
          "2021-05-31T00:00:00",
          "2021-06-30T00:00:00",
          "2021-07-31T00:00:00",
          "2021-08-31T00:00:00",
          "2021-09-30T00:00:00",
          "2021-10-31T00:00:00",
          "2021-11-30T00:00:00",
          "2021-12-31T00:00:00",
          "2022-01-31T00:00:00",
          "2022-02-28T00:00:00",
          "2022-03-31T00:00:00",
          "2022-04-30T00:00:00",
          "2022-05-31T00:00:00",
          "2022-06-30T00:00:00",
          "2022-07-31T00:00:00",
          "2022-08-31T00:00:00",
          "2022-09-30T00:00:00",
          "2022-10-31T00:00:00",
          "2022-11-30T00:00:00",
          "2022-12-31T00:00:00",
          "2023-01-31T00:00:00",
          "2023-02-28T00:00:00",
          "2023-03-31T00:00:00",
          "2023-04-30T00:00:00",
          "2023-05-31T00:00:00",
          "2023-06-30T00:00:00"
         ],
         "y": [
          -0.022767789393831284,
          0.08456361411625557,
          0.006972160934285432,
          0.0238037700888325,
          0.029015320604546257,
          0.005313067748732969,
          -0.01668649174974357,
          0.06911081439840405,
          -0.0448092788571246,
          0.02527740795476241,
          0.07475266708656281,
          -0.04662816275823467,
          -0.08023685185296192,
          0.11993894956089579,
          -0.03593923064358806,
          0.03816585783639881,
          0.011121753621671893,
          -0.029380841496837617,
          0.020328166535782843,
          -0.017444784581634787,
          0.029076147512591355,
          0.1517269691576313,
          0.0789678634563773,
          0.02571068400140497,
          -0.07636176492052071,
          0.06806102633417566,
          0.08191537966579343,
          -0.004261542015104203,
          0.16751536930471533,
          0.046005284986976314,
          0.07219273607403709,
          0.028033515818111754,
          0.05691119903809505,
          0.02535154135272699,
          0.14427822654087152,
          0.10035523226758425,
          0.028372659180651683,
          0.045061734748758964,
          0.02647241209072182,
          0.027182888755201695,
          0.25469188826146794,
          0.011177006562607783,
          0.08631762482631022,
          0.11650412270871735,
          0.027752058853328876,
          0.137265688388849,
          0.08250986324254805,
          0.04322965315468652,
          0.06322756663304063,
          0.01159526622882745,
          -0.07752028831699842,
          0.036248469874994305,
          0.02889777919203862,
          -0.03760534958906392,
          0.062226232651354074,
          0.07019799702941576,
          -0.012312236438861257,
          -0.10040487114078223,
          -0.14093683940566726,
          -0.12078950196837968,
          0.06085758369202132,
          0.07354085447092662,
          0.08715554843473639,
          0.06695237801500209,
          -0.03973928720594766,
          0.15610996066152416,
          0.014666560489148939,
          -0.002263375493744668,
          0.0031813530044841887,
          0.1021802051696723,
          0.026123223711324473,
          0.04775451642142814,
          0.06177383855811769,
          0.0006785634591912615,
          -0.09311740675240732,
          0.16142329233884634,
          0.12969036999210037,
          0.052372449165385415,
          0.12440232943298124,
          0.12514443410818088,
          -0.024318008829977145,
          -0.025574732712359216,
          0.13535787664504606,
          0.0787257617539987,
          0.013629279353991164,
          0.07874014879308655,
          0.05497180374821897,
          0.09279155469313016,
          -0.03212064691858785,
          0.09833723588528787,
          0.04758958014863657,
          0.10471499709788867,
          -0.059202191398693205,
          0.1965143518791388,
          0.09191027713683786,
          -0.037176517736400405,
          -0.12399230739347256,
          0.0140321056178907,
          0.09158496969401209,
          -0.17921299739432361,
          -0.02912317479882698,
          -0.1518650904427895,
          0.14756540247989314,
          -0.09506046189850703,
          -0.11867412741102268,
          0.08666941729632138,
          0.08601074291688104,
          -0.08553648977894213,
          0.20755265708321158,
          0.04970324924387848,
          0.14238126353982583,
          0.03917618072011453,
          0.11235989332109808,
          0.020959340471572663
         ]
        }
       ],
       "layout": {
        "template": {
         "data": {
          "candlestick": [
           {
            "decreasing": {
             "line": {
              "color": "#000033"
             }
            },
            "increasing": {
             "line": {
              "color": "#000032"
             }
            },
            "type": "candlestick"
           }
          ],
          "contour": [
           {
            "colorscale": [
             [
              0,
              "#000011"
             ],
             [
              0.1111111111111111,
              "#000012"
             ],
             [
              0.2222222222222222,
              "#000013"
             ],
             [
              0.3333333333333333,
              "#000014"
             ],
             [
              0.4444444444444444,
              "#000015"
             ],
             [
              0.5555555555555556,
              "#000016"
             ],
             [
              0.6666666666666666,
              "#000017"
             ],
             [
              0.7777777777777778,
              "#000018"
             ],
             [
              0.8888888888888888,
              "#000019"
             ],
             [
              1,
              "#000020"
             ]
            ],
            "type": "contour"
           }
          ],
          "contourcarpet": [
           {
            "colorscale": [
             [
              0,
              "#000011"
             ],
             [
              0.1111111111111111,
              "#000012"
             ],
             [
              0.2222222222222222,
              "#000013"
             ],
             [
              0.3333333333333333,
              "#000014"
             ],
             [
              0.4444444444444444,
              "#000015"
             ],
             [
              0.5555555555555556,
              "#000016"
             ],
             [
              0.6666666666666666,
              "#000017"
             ],
             [
              0.7777777777777778,
              "#000018"
             ],
             [
              0.8888888888888888,
              "#000019"
             ],
             [
              1,
              "#000020"
             ]
            ],
            "type": "contourcarpet"
           }
          ],
          "heatmap": [
           {
            "colorscale": [
             [
              0,
              "#000011"
             ],
             [
              0.1111111111111111,
              "#000012"
             ],
             [
              0.2222222222222222,
              "#000013"
             ],
             [
              0.3333333333333333,
              "#000014"
             ],
             [
              0.4444444444444444,
              "#000015"
             ],
             [
              0.5555555555555556,
              "#000016"
             ],
             [
              0.6666666666666666,
              "#000017"
             ],
             [
              0.7777777777777778,
              "#000018"
             ],
             [
              0.8888888888888888,
              "#000019"
             ],
             [
              1,
              "#000020"
             ]
            ],
            "type": "heatmap"
           }
          ],
          "histogram2d": [
           {
            "colorscale": [
             [
              0,
              "#000011"
             ],
             [
              0.1111111111111111,
              "#000012"
             ],
             [
              0.2222222222222222,
              "#000013"
             ],
             [
              0.3333333333333333,
              "#000014"
             ],
             [
              0.4444444444444444,
              "#000015"
             ],
             [
              0.5555555555555556,
              "#000016"
             ],
             [
              0.6666666666666666,
              "#000017"
             ],
             [
              0.7777777777777778,
              "#000018"
             ],
             [
              0.8888888888888888,
              "#000019"
             ],
             [
              1,
              "#000020"
             ]
            ],
            "type": "histogram2d"
           }
          ],
          "icicle": [
           {
            "textfont": {
             "color": "white"
            },
            "type": "icicle"
           }
          ],
          "sankey": [
           {
            "textfont": {
             "color": "#000036"
            },
            "type": "sankey"
           }
          ],
          "scatter": [
           {
            "marker": {
             "line": {
              "width": 0
             }
            },
            "type": "scatter"
           }
          ],
          "table": [
           {
            "cells": {
             "fill": {
              "color": "#000038"
             },
             "font": {
              "color": "#000037"
             },
             "line": {
              "color": "#000039"
             }
            },
            "header": {
             "fill": {
              "color": "#000040"
             },
             "font": {
              "color": "#000036"
             },
             "line": {
              "color": "#000039"
             }
            },
            "type": "table"
           }
          ],
          "waterfall": [
           {
            "connector": {
             "line": {
              "color": "#000036",
              "width": 2
             }
            },
            "decreasing": {
             "marker": {
              "color": "#000033"
             }
            },
            "increasing": {
             "marker": {
              "color": "#000032"
             }
            },
            "totals": {
             "marker": {
              "color": "#000034"
             }
            },
            "type": "waterfall"
           }
          ]
         },
         "layout": {
          "coloraxis": {
           "colorscale": [
            [
             0,
             "#000011"
            ],
            [
             0.1111111111111111,
             "#000012"
            ],
            [
             0.2222222222222222,
             "#000013"
            ],
            [
             0.3333333333333333,
             "#000014"
            ],
            [
             0.4444444444444444,
             "#000015"
            ],
            [
             0.5555555555555556,
             "#000016"
            ],
            [
             0.6666666666666666,
             "#000017"
            ],
            [
             0.7777777777777778,
             "#000018"
            ],
            [
             0.8888888888888888,
             "#000019"
            ],
            [
             1,
             "#000020"
            ]
           ]
          },
          "colorscale": {
           "diverging": [
            [
             0,
             "#000021"
            ],
            [
             0.1,
             "#000022"
            ],
            [
             0.2,
             "#000023"
            ],
            [
             0.3,
             "#000024"
            ],
            [
             0.4,
             "#000025"
            ],
            [
             0.5,
             "#000026"
            ],
            [
             0.6,
             "#000027"
            ],
            [
             0.7,
             "#000028"
            ],
            [
             0.8,
             "#000029"
            ],
            [
             0.9,
             "#000030"
            ],
            [
             1,
             "#000031"
            ]
           ],
           "sequential": [
            [
             0,
             "#000011"
            ],
            [
             0.1111111111111111,
             "#000012"
            ],
            [
             0.2222222222222222,
             "#000013"
            ],
            [
             0.3333333333333333,
             "#000014"
            ],
            [
             0.4444444444444444,
             "#000015"
            ],
            [
             0.5555555555555556,
             "#000016"
            ],
            [
             0.6666666666666666,
             "#000017"
            ],
            [
             0.7777777777777778,
             "#000018"
            ],
            [
             0.8888888888888888,
             "#000019"
            ],
            [
             1,
             "#000020"
            ]
           ],
           "sequentialminus": [
            [
             0,
             "#000011"
            ],
            [
             0.1111111111111111,
             "#000012"
            ],
            [
             0.2222222222222222,
             "#000013"
            ],
            [
             0.3333333333333333,
             "#000014"
            ],
            [
             0.4444444444444444,
             "#000015"
            ],
            [
             0.5555555555555556,
             "#000016"
            ],
            [
             0.6666666666666666,
             "#000017"
            ],
            [
             0.7777777777777778,
             "#000018"
            ],
            [
             0.8888888888888888,
             "#000019"
            ],
            [
             1,
             "#000020"
            ]
           ]
          },
          "colorway": [
           "#000001",
           "#000002",
           "#000003",
           "#000004",
           "#000005",
           "#000006",
           "#000007",
           "#000008",
           "#000009",
           "#000010"
          ]
         }
        },
        "title": {
         "text": "Weighted Portfolio Monthly Returns<br><sup>(not including dividends)</sup>"
        },
        "yaxis": {
         "tickformat": ".1%",
         "title": {
          "text": "Returns (%)"
         }
        }
       }
      },
      "text/html": [
       "<div>                            <div id=\"7a8bc621-214e-4305-9eb9-6bf77a610ac4\" class=\"plotly-graph-div\" style=\"height:525px; width:100%;\"></div>            <script type=\"text/javascript\">                require([\"plotly\"], function(Plotly) {                    window.PLOTLYENV=window.PLOTLYENV || {};                                    if (document.getElementById(\"7a8bc621-214e-4305-9eb9-6bf77a610ac4\")) {                    Plotly.newPlot(                        \"7a8bc621-214e-4305-9eb9-6bf77a610ac4\",                        [{\"fill\":\"tozeroy\",\"mode\":\"lines\",\"name\":\"Weighted Portfolio Monthly Returns\",\"x\":[\"2014-01-31T00:00:00\",\"2014-02-28T00:00:00\",\"2014-03-31T00:00:00\",\"2014-04-30T00:00:00\",\"2014-05-31T00:00:00\",\"2014-06-30T00:00:00\",\"2014-07-31T00:00:00\",\"2014-08-31T00:00:00\",\"2014-09-30T00:00:00\",\"2014-10-31T00:00:00\",\"2014-11-30T00:00:00\",\"2014-12-31T00:00:00\",\"2015-01-31T00:00:00\",\"2015-02-28T00:00:00\",\"2015-03-31T00:00:00\",\"2015-04-30T00:00:00\",\"2015-05-31T00:00:00\",\"2015-06-30T00:00:00\",\"2015-07-31T00:00:00\",\"2015-08-31T00:00:00\",\"2015-09-30T00:00:00\",\"2015-10-31T00:00:00\",\"2015-11-30T00:00:00\",\"2015-12-31T00:00:00\",\"2016-01-31T00:00:00\",\"2016-02-29T00:00:00\",\"2016-03-31T00:00:00\",\"2016-04-30T00:00:00\",\"2016-05-31T00:00:00\",\"2016-06-30T00:00:00\",\"2016-07-31T00:00:00\",\"2016-08-31T00:00:00\",\"2016-09-30T00:00:00\",\"2016-10-31T00:00:00\",\"2016-11-30T00:00:00\",\"2016-12-31T00:00:00\",\"2017-01-31T00:00:00\",\"2017-02-28T00:00:00\",\"2017-03-31T00:00:00\",\"2017-04-30T00:00:00\",\"2017-05-31T00:00:00\",\"2017-06-30T00:00:00\",\"2017-07-31T00:00:00\",\"2017-08-31T00:00:00\",\"2017-09-30T00:00:00\",\"2017-10-31T00:00:00\",\"2017-11-30T00:00:00\",\"2017-12-31T00:00:00\",\"2018-01-31T00:00:00\",\"2018-02-28T00:00:00\",\"2018-03-31T00:00:00\",\"2018-04-30T00:00:00\",\"2018-05-31T00:00:00\",\"2018-06-30T00:00:00\",\"2018-07-31T00:00:00\",\"2018-08-31T00:00:00\",\"2018-09-30T00:00:00\",\"2018-10-31T00:00:00\",\"2018-11-30T00:00:00\",\"2018-12-31T00:00:00\",\"2019-01-31T00:00:00\",\"2019-02-28T00:00:00\",\"2019-03-31T00:00:00\",\"2019-04-30T00:00:00\",\"2019-05-31T00:00:00\",\"2019-06-30T00:00:00\",\"2019-07-31T00:00:00\",\"2019-08-31T00:00:00\",\"2019-09-30T00:00:00\",\"2019-10-31T00:00:00\",\"2019-11-30T00:00:00\",\"2019-12-31T00:00:00\",\"2020-01-31T00:00:00\",\"2020-02-29T00:00:00\",\"2020-03-31T00:00:00\",\"2020-04-30T00:00:00\",\"2020-05-31T00:00:00\",\"2020-06-30T00:00:00\",\"2020-07-31T00:00:00\",\"2020-08-31T00:00:00\",\"2020-09-30T00:00:00\",\"2020-10-31T00:00:00\",\"2020-11-30T00:00:00\",\"2020-12-31T00:00:00\",\"2021-01-31T00:00:00\",\"2021-02-28T00:00:00\",\"2021-03-31T00:00:00\",\"2021-04-30T00:00:00\",\"2021-05-31T00:00:00\",\"2021-06-30T00:00:00\",\"2021-07-31T00:00:00\",\"2021-08-31T00:00:00\",\"2021-09-30T00:00:00\",\"2021-10-31T00:00:00\",\"2021-11-30T00:00:00\",\"2021-12-31T00:00:00\",\"2022-01-31T00:00:00\",\"2022-02-28T00:00:00\",\"2022-03-31T00:00:00\",\"2022-04-30T00:00:00\",\"2022-05-31T00:00:00\",\"2022-06-30T00:00:00\",\"2022-07-31T00:00:00\",\"2022-08-31T00:00:00\",\"2022-09-30T00:00:00\",\"2022-10-31T00:00:00\",\"2022-11-30T00:00:00\",\"2022-12-31T00:00:00\",\"2023-01-31T00:00:00\",\"2023-02-28T00:00:00\",\"2023-03-31T00:00:00\",\"2023-04-30T00:00:00\",\"2023-05-31T00:00:00\",\"2023-06-30T00:00:00\"],\"y\":[-0.022767789393831284,0.08456361411625557,0.006972160934285432,0.0238037700888325,0.029015320604546257,0.005313067748732969,-0.01668649174974357,0.06911081439840405,-0.0448092788571246,0.02527740795476241,0.07475266708656281,-0.04662816275823467,-0.08023685185296192,0.11993894956089579,-0.03593923064358806,0.03816585783639881,0.011121753621671893,-0.029380841496837617,0.020328166535782843,-0.017444784581634787,0.029076147512591355,0.1517269691576313,0.0789678634563773,0.02571068400140497,-0.07636176492052071,0.06806102633417566,0.08191537966579343,-0.004261542015104203,0.16751536930471533,0.046005284986976314,0.07219273607403709,0.028033515818111754,0.05691119903809505,0.02535154135272699,0.14427822654087152,0.10035523226758425,0.028372659180651683,0.045061734748758964,0.02647241209072182,0.027182888755201695,0.25469188826146794,0.011177006562607783,0.08631762482631022,0.11650412270871735,0.027752058853328876,0.137265688388849,0.08250986324254805,0.04322965315468652,0.06322756663304063,0.01159526622882745,-0.07752028831699842,0.036248469874994305,0.02889777919203862,-0.03760534958906392,0.062226232651354074,0.07019799702941576,-0.012312236438861257,-0.10040487114078223,-0.14093683940566726,-0.12078950196837968,0.06085758369202132,0.07354085447092662,0.08715554843473639,0.06695237801500209,-0.03973928720594766,0.15610996066152416,0.014666560489148939,-0.002263375493744668,0.0031813530044841887,0.1021802051696723,0.026123223711324473,0.04775451642142814,0.06177383855811769,0.0006785634591912615,-0.09311740675240732,0.16142329233884634,0.12969036999210037,0.052372449165385415,0.12440232943298124,0.12514443410818088,-0.024318008829977145,-0.025574732712359216,0.13535787664504606,0.0787257617539987,0.013629279353991164,0.07874014879308655,0.05497180374821897,0.09279155469313016,-0.03212064691858785,0.09833723588528787,0.04758958014863657,0.10471499709788867,-0.059202191398693205,0.1965143518791388,0.09191027713683786,-0.037176517736400405,-0.12399230739347256,0.0140321056178907,0.09158496969401209,-0.17921299739432361,-0.02912317479882698,-0.1518650904427895,0.14756540247989314,-0.09506046189850703,-0.11867412741102268,0.08666941729632138,0.08601074291688104,-0.08553648977894213,0.20755265708321158,0.04970324924387848,0.14238126353982583,0.03917618072011453,0.11235989332109808,0.020959340471572663],\"type\":\"scatter\"}],                        {\"template\":{\"data\":{\"candlestick\":[{\"decreasing\":{\"line\":{\"color\":\"#000033\"}},\"increasing\":{\"line\":{\"color\":\"#000032\"}},\"type\":\"candlestick\"}],\"contourcarpet\":[{\"colorscale\":[[0.0,\"#000011\"],[0.1111111111111111,\"#000012\"],[0.2222222222222222,\"#000013\"],[0.3333333333333333,\"#000014\"],[0.4444444444444444,\"#000015\"],[0.5555555555555556,\"#000016\"],[0.6666666666666666,\"#000017\"],[0.7777777777777778,\"#000018\"],[0.8888888888888888,\"#000019\"],[1.0,\"#000020\"]],\"type\":\"contourcarpet\"}],\"contour\":[{\"colorscale\":[[0.0,\"#000011\"],[0.1111111111111111,\"#000012\"],[0.2222222222222222,\"#000013\"],[0.3333333333333333,\"#000014\"],[0.4444444444444444,\"#000015\"],[0.5555555555555556,\"#000016\"],[0.6666666666666666,\"#000017\"],[0.7777777777777778,\"#000018\"],[0.8888888888888888,\"#000019\"],[1.0,\"#000020\"]],\"type\":\"contour\"}],\"heatmap\":[{\"colorscale\":[[0.0,\"#000011\"],[0.1111111111111111,\"#000012\"],[0.2222222222222222,\"#000013\"],[0.3333333333333333,\"#000014\"],[0.4444444444444444,\"#000015\"],[0.5555555555555556,\"#000016\"],[0.6666666666666666,\"#000017\"],[0.7777777777777778,\"#000018\"],[0.8888888888888888,\"#000019\"],[1.0,\"#000020\"]],\"type\":\"heatmap\"}],\"histogram2d\":[{\"colorscale\":[[0.0,\"#000011\"],[0.1111111111111111,\"#000012\"],[0.2222222222222222,\"#000013\"],[0.3333333333333333,\"#000014\"],[0.4444444444444444,\"#000015\"],[0.5555555555555556,\"#000016\"],[0.6666666666666666,\"#000017\"],[0.7777777777777778,\"#000018\"],[0.8888888888888888,\"#000019\"],[1.0,\"#000020\"]],\"type\":\"histogram2d\"}],\"icicle\":[{\"textfont\":{\"color\":\"white\"},\"type\":\"icicle\"}],\"sankey\":[{\"textfont\":{\"color\":\"#000036\"},\"type\":\"sankey\"}],\"scatter\":[{\"marker\":{\"line\":{\"width\":0}},\"type\":\"scatter\"}],\"table\":[{\"cells\":{\"fill\":{\"color\":\"#000038\"},\"font\":{\"color\":\"#000037\"},\"line\":{\"color\":\"#000039\"}},\"header\":{\"fill\":{\"color\":\"#000040\"},\"font\":{\"color\":\"#000036\"},\"line\":{\"color\":\"#000039\"}},\"type\":\"table\"}],\"waterfall\":[{\"connector\":{\"line\":{\"color\":\"#000036\",\"width\":2}},\"decreasing\":{\"marker\":{\"color\":\"#000033\"}},\"increasing\":{\"marker\":{\"color\":\"#000032\"}},\"totals\":{\"marker\":{\"color\":\"#000034\"}},\"type\":\"waterfall\"}]},\"layout\":{\"coloraxis\":{\"colorscale\":[[0.0,\"#000011\"],[0.1111111111111111,\"#000012\"],[0.2222222222222222,\"#000013\"],[0.3333333333333333,\"#000014\"],[0.4444444444444444,\"#000015\"],[0.5555555555555556,\"#000016\"],[0.6666666666666666,\"#000017\"],[0.7777777777777778,\"#000018\"],[0.8888888888888888,\"#000019\"],[1.0,\"#000020\"]]},\"colorscale\":{\"diverging\":[[0.0,\"#000021\"],[0.1,\"#000022\"],[0.2,\"#000023\"],[0.3,\"#000024\"],[0.4,\"#000025\"],[0.5,\"#000026\"],[0.6,\"#000027\"],[0.7,\"#000028\"],[0.8,\"#000029\"],[0.9,\"#000030\"],[1.0,\"#000031\"]],\"sequential\":[[0.0,\"#000011\"],[0.1111111111111111,\"#000012\"],[0.2222222222222222,\"#000013\"],[0.3333333333333333,\"#000014\"],[0.4444444444444444,\"#000015\"],[0.5555555555555556,\"#000016\"],[0.6666666666666666,\"#000017\"],[0.7777777777777778,\"#000018\"],[0.8888888888888888,\"#000019\"],[1.0,\"#000020\"]],\"sequentialminus\":[[0.0,\"#000011\"],[0.1111111111111111,\"#000012\"],[0.2222222222222222,\"#000013\"],[0.3333333333333333,\"#000014\"],[0.4444444444444444,\"#000015\"],[0.5555555555555556,\"#000016\"],[0.6666666666666666,\"#000017\"],[0.7777777777777778,\"#000018\"],[0.8888888888888888,\"#000019\"],[1.0,\"#000020\"]]},\"colorway\":[\"#000001\",\"#000002\",\"#000003\",\"#000004\",\"#000005\",\"#000006\",\"#000007\",\"#000008\",\"#000009\",\"#000010\"]}},\"yaxis\":{\"title\":{\"text\":\"Returns (%)\"},\"tickformat\":\".1%\"},\"title\":{\"text\":\"Weighted Portfolio Monthly Returns<br><sup>(not including dividends)</sup>\"}},                        {\"responsive\": true}                    ).then(function(){\n",
       "                            \n",
       "var gd = document.getElementById('7a8bc621-214e-4305-9eb9-6bf77a610ac4');\n",
       "var x = new MutationObserver(function (mutations, observer) {{\n",
       "        var display = window.getComputedStyle(gd).display;\n",
       "        if (!display || display === 'none') {{\n",
       "            console.log([gd, 'removed!']);\n",
       "            Plotly.purge(gd);\n",
       "            observer.disconnect();\n",
       "        }}\n",
       "}});\n",
       "\n",
       "// Listen for the removal of the full notebook cells\n",
       "var notebookContainer = gd.closest('#notebook-container');\n",
       "if (notebookContainer) {{\n",
       "    x.observe(notebookContainer, {childList: true});\n",
       "}}\n",
       "\n",
       "// Listen for the clearing of the current output cell\n",
       "var outputEl = gd.closest('.output');\n",
       "if (outputEl) {{\n",
       "    x.observe(outputEl, {childList: true});\n",
       "}}\n",
       "\n",
       "                        })                };                });            </script>        </div>"
      ]
     },
     "metadata": {},
     "output_type": "display_data"
    },
    {
     "data": {
      "application/vnd.plotly.v1+json": {
       "config": {
        "plotlyServerURL": "https://plot.ly"
       },
       "data": [
        {
         "fill": "tozeroy",
         "mode": "lines",
         "name": "Weighted Portfolio Cumulative Returns",
         "type": "scatter",
         "x": [
          "2014-01-31T00:00:00",
          "2014-02-28T00:00:00",
          "2014-03-31T00:00:00",
          "2014-04-30T00:00:00",
          "2014-05-31T00:00:00",
          "2014-06-30T00:00:00",
          "2014-07-31T00:00:00",
          "2014-08-31T00:00:00",
          "2014-09-30T00:00:00",
          "2014-10-31T00:00:00",
          "2014-11-30T00:00:00",
          "2014-12-31T00:00:00",
          "2015-01-31T00:00:00",
          "2015-02-28T00:00:00",
          "2015-03-31T00:00:00",
          "2015-04-30T00:00:00",
          "2015-05-31T00:00:00",
          "2015-06-30T00:00:00",
          "2015-07-31T00:00:00",
          "2015-08-31T00:00:00",
          "2015-09-30T00:00:00",
          "2015-10-31T00:00:00",
          "2015-11-30T00:00:00",
          "2015-12-31T00:00:00",
          "2016-01-31T00:00:00",
          "2016-02-29T00:00:00",
          "2016-03-31T00:00:00",
          "2016-04-30T00:00:00",
          "2016-05-31T00:00:00",
          "2016-06-30T00:00:00",
          "2016-07-31T00:00:00",
          "2016-08-31T00:00:00",
          "2016-09-30T00:00:00",
          "2016-10-31T00:00:00",
          "2016-11-30T00:00:00",
          "2016-12-31T00:00:00",
          "2017-01-31T00:00:00",
          "2017-02-28T00:00:00",
          "2017-03-31T00:00:00",
          "2017-04-30T00:00:00",
          "2017-05-31T00:00:00",
          "2017-06-30T00:00:00",
          "2017-07-31T00:00:00",
          "2017-08-31T00:00:00",
          "2017-09-30T00:00:00",
          "2017-10-31T00:00:00",
          "2017-11-30T00:00:00",
          "2017-12-31T00:00:00",
          "2018-01-31T00:00:00",
          "2018-02-28T00:00:00",
          "2018-03-31T00:00:00",
          "2018-04-30T00:00:00",
          "2018-05-31T00:00:00",
          "2018-06-30T00:00:00",
          "2018-07-31T00:00:00",
          "2018-08-31T00:00:00",
          "2018-09-30T00:00:00",
          "2018-10-31T00:00:00",
          "2018-11-30T00:00:00",
          "2018-12-31T00:00:00",
          "2019-01-31T00:00:00",
          "2019-02-28T00:00:00",
          "2019-03-31T00:00:00",
          "2019-04-30T00:00:00",
          "2019-05-31T00:00:00",
          "2019-06-30T00:00:00",
          "2019-07-31T00:00:00",
          "2019-08-31T00:00:00",
          "2019-09-30T00:00:00",
          "2019-10-31T00:00:00",
          "2019-11-30T00:00:00",
          "2019-12-31T00:00:00",
          "2020-01-31T00:00:00",
          "2020-02-29T00:00:00",
          "2020-03-31T00:00:00",
          "2020-04-30T00:00:00",
          "2020-05-31T00:00:00",
          "2020-06-30T00:00:00",
          "2020-07-31T00:00:00",
          "2020-08-31T00:00:00",
          "2020-09-30T00:00:00",
          "2020-10-31T00:00:00",
          "2020-11-30T00:00:00",
          "2020-12-31T00:00:00",
          "2021-01-31T00:00:00",
          "2021-02-28T00:00:00",
          "2021-03-31T00:00:00",
          "2021-04-30T00:00:00",
          "2021-05-31T00:00:00",
          "2021-06-30T00:00:00",
          "2021-07-31T00:00:00",
          "2021-08-31T00:00:00",
          "2021-09-30T00:00:00",
          "2021-10-31T00:00:00",
          "2021-11-30T00:00:00",
          "2021-12-31T00:00:00",
          "2022-01-31T00:00:00",
          "2022-02-28T00:00:00",
          "2022-03-31T00:00:00",
          "2022-04-30T00:00:00",
          "2022-05-31T00:00:00",
          "2022-06-30T00:00:00",
          "2022-07-31T00:00:00",
          "2022-08-31T00:00:00",
          "2022-09-30T00:00:00",
          "2022-10-31T00:00:00",
          "2022-11-30T00:00:00",
          "2022-12-31T00:00:00",
          "2023-01-31T00:00:00",
          "2023-02-28T00:00:00",
          "2023-03-31T00:00:00",
          "2023-04-30T00:00:00",
          "2023-05-31T00:00:00",
          "2023-06-30T00:00:00"
         ],
         "y": [
          -0.022767789393831284,
          0.05987049816584422,
          0.0672600858485577,
          0.09266489955708446,
          0.12436892193106752,
          0.13034277018785723,
          0.11148131487873525,
          0.18829669373861369,
          0.135049975823881,
          0.1637410971118245,
          0.2507338479191761,
          0.19241442649116758,
          0.0967388468054613,
          0.2282805520339366,
          0.18413709397935518,
          0.2293307019669777,
          0.2430030151538114,
          0.20648254058548599,
          0.23100811859302217,
          0.20953344714592337,
          0.24470202007655129,
          0.4335568850871476,
          0.546761809445659,
          0.5865301135537577,
          0.46537987398323866,
          0.5651151321759829,
          0.693322132448857,
          0.6861059690363203,
          0.9685546331263244,
          1.0591185500357336,
          1.2077719520636174,
          1.2696635620045762,
          1.3988328367313305,
          1.4596469465900044,
          1.8145204459606799,
          2.0969722990369286,
          2.1848416385694227,
          2.328356127703441,
          2.4164657427006855,
          2.5093351509204758,
          3.403134347050755,
          3.4523482085437847,
          3.836664330804961,
          4.400155665501939,
          4.550021103348086,
          5.3118485706718,
          5.832638333045603,
          6.12801091831458,
          6.578697703613356,
          6.666574721154556,
          6.072259638366844,
          6.328618228816322,
          6.540399020175405,
          6.256839678980674,
          6.7084054731585026,
          7.249520097664815,
          7.147950055715228,
          6.329856180309611,
          5.296809416958678,
          4.536220943494436,
          4.87314197290067,
          5.305057852016849,
          5.854578627022118,
          6.313508966392057,
          6.02287533309333,
          7.119216125073319,
          7.2382970994961795,
          7.219650739730993,
          7.245800350307647,
          8.088357921890237,
          8.325775129052364,
          8.771123010595241,
          9.374722785983261,
          9.381762693765069,
          8.41503987420278,
          9.93484660819811,
          11.352990910622188,
          11.999947299129216,
          13.617171025646885,
          15.446428621913963,
          15.04648422546467,
          14.636099680425323,
          16.75256893217798,
          18.150153444454062,
          18.41115623542032,
          19.939593565643168,
          21.090680793701175,
          23.140509408778378,
          22.36510062962416,
          24.662760041722997,
          25.8840400175638,
          28.69920218998252,
          26.940944337542685,
          32.43174090492598,
          35.50446147666469,
          34.147352717119716,
          29.789351354951805,
          30.221390785070835,
          33.08080091392645,
          26.97307842854249,
          26.15841357580675,
          22.033998641834177,
          25.43301992213775,
          22.920284838966897,
          20.081565908279384,
          21.908692941243952,
          23.879086640375053,
          21.751016900251198,
          26.473050909243387,
          27.838550806075272,
          31.94462010850173,
          33.23526449962792,
          37.081935166625684,
          37.88010741159935
         ]
        }
       ],
       "layout": {
        "template": {
         "data": {
          "candlestick": [
           {
            "decreasing": {
             "line": {
              "color": "#000033"
             }
            },
            "increasing": {
             "line": {
              "color": "#000032"
             }
            },
            "type": "candlestick"
           }
          ],
          "contour": [
           {
            "colorscale": [
             [
              0,
              "#000011"
             ],
             [
              0.1111111111111111,
              "#000012"
             ],
             [
              0.2222222222222222,
              "#000013"
             ],
             [
              0.3333333333333333,
              "#000014"
             ],
             [
              0.4444444444444444,
              "#000015"
             ],
             [
              0.5555555555555556,
              "#000016"
             ],
             [
              0.6666666666666666,
              "#000017"
             ],
             [
              0.7777777777777778,
              "#000018"
             ],
             [
              0.8888888888888888,
              "#000019"
             ],
             [
              1,
              "#000020"
             ]
            ],
            "type": "contour"
           }
          ],
          "contourcarpet": [
           {
            "colorscale": [
             [
              0,
              "#000011"
             ],
             [
              0.1111111111111111,
              "#000012"
             ],
             [
              0.2222222222222222,
              "#000013"
             ],
             [
              0.3333333333333333,
              "#000014"
             ],
             [
              0.4444444444444444,
              "#000015"
             ],
             [
              0.5555555555555556,
              "#000016"
             ],
             [
              0.6666666666666666,
              "#000017"
             ],
             [
              0.7777777777777778,
              "#000018"
             ],
             [
              0.8888888888888888,
              "#000019"
             ],
             [
              1,
              "#000020"
             ]
            ],
            "type": "contourcarpet"
           }
          ],
          "heatmap": [
           {
            "colorscale": [
             [
              0,
              "#000011"
             ],
             [
              0.1111111111111111,
              "#000012"
             ],
             [
              0.2222222222222222,
              "#000013"
             ],
             [
              0.3333333333333333,
              "#000014"
             ],
             [
              0.4444444444444444,
              "#000015"
             ],
             [
              0.5555555555555556,
              "#000016"
             ],
             [
              0.6666666666666666,
              "#000017"
             ],
             [
              0.7777777777777778,
              "#000018"
             ],
             [
              0.8888888888888888,
              "#000019"
             ],
             [
              1,
              "#000020"
             ]
            ],
            "type": "heatmap"
           }
          ],
          "histogram2d": [
           {
            "colorscale": [
             [
              0,
              "#000011"
             ],
             [
              0.1111111111111111,
              "#000012"
             ],
             [
              0.2222222222222222,
              "#000013"
             ],
             [
              0.3333333333333333,
              "#000014"
             ],
             [
              0.4444444444444444,
              "#000015"
             ],
             [
              0.5555555555555556,
              "#000016"
             ],
             [
              0.6666666666666666,
              "#000017"
             ],
             [
              0.7777777777777778,
              "#000018"
             ],
             [
              0.8888888888888888,
              "#000019"
             ],
             [
              1,
              "#000020"
             ]
            ],
            "type": "histogram2d"
           }
          ],
          "icicle": [
           {
            "textfont": {
             "color": "white"
            },
            "type": "icicle"
           }
          ],
          "sankey": [
           {
            "textfont": {
             "color": "#000036"
            },
            "type": "sankey"
           }
          ],
          "scatter": [
           {
            "marker": {
             "line": {
              "width": 0
             }
            },
            "type": "scatter"
           }
          ],
          "table": [
           {
            "cells": {
             "fill": {
              "color": "#000038"
             },
             "font": {
              "color": "#000037"
             },
             "line": {
              "color": "#000039"
             }
            },
            "header": {
             "fill": {
              "color": "#000040"
             },
             "font": {
              "color": "#000036"
             },
             "line": {
              "color": "#000039"
             }
            },
            "type": "table"
           }
          ],
          "waterfall": [
           {
            "connector": {
             "line": {
              "color": "#000036",
              "width": 2
             }
            },
            "decreasing": {
             "marker": {
              "color": "#000033"
             }
            },
            "increasing": {
             "marker": {
              "color": "#000032"
             }
            },
            "totals": {
             "marker": {
              "color": "#000034"
             }
            },
            "type": "waterfall"
           }
          ]
         },
         "layout": {
          "coloraxis": {
           "colorscale": [
            [
             0,
             "#000011"
            ],
            [
             0.1111111111111111,
             "#000012"
            ],
            [
             0.2222222222222222,
             "#000013"
            ],
            [
             0.3333333333333333,
             "#000014"
            ],
            [
             0.4444444444444444,
             "#000015"
            ],
            [
             0.5555555555555556,
             "#000016"
            ],
            [
             0.6666666666666666,
             "#000017"
            ],
            [
             0.7777777777777778,
             "#000018"
            ],
            [
             0.8888888888888888,
             "#000019"
            ],
            [
             1,
             "#000020"
            ]
           ]
          },
          "colorscale": {
           "diverging": [
            [
             0,
             "#000021"
            ],
            [
             0.1,
             "#000022"
            ],
            [
             0.2,
             "#000023"
            ],
            [
             0.3,
             "#000024"
            ],
            [
             0.4,
             "#000025"
            ],
            [
             0.5,
             "#000026"
            ],
            [
             0.6,
             "#000027"
            ],
            [
             0.7,
             "#000028"
            ],
            [
             0.8,
             "#000029"
            ],
            [
             0.9,
             "#000030"
            ],
            [
             1,
             "#000031"
            ]
           ],
           "sequential": [
            [
             0,
             "#000011"
            ],
            [
             0.1111111111111111,
             "#000012"
            ],
            [
             0.2222222222222222,
             "#000013"
            ],
            [
             0.3333333333333333,
             "#000014"
            ],
            [
             0.4444444444444444,
             "#000015"
            ],
            [
             0.5555555555555556,
             "#000016"
            ],
            [
             0.6666666666666666,
             "#000017"
            ],
            [
             0.7777777777777778,
             "#000018"
            ],
            [
             0.8888888888888888,
             "#000019"
            ],
            [
             1,
             "#000020"
            ]
           ],
           "sequentialminus": [
            [
             0,
             "#000011"
            ],
            [
             0.1111111111111111,
             "#000012"
            ],
            [
             0.2222222222222222,
             "#000013"
            ],
            [
             0.3333333333333333,
             "#000014"
            ],
            [
             0.4444444444444444,
             "#000015"
            ],
            [
             0.5555555555555556,
             "#000016"
            ],
            [
             0.6666666666666666,
             "#000017"
            ],
            [
             0.7777777777777778,
             "#000018"
            ],
            [
             0.8888888888888888,
             "#000019"
            ],
            [
             1,
             "#000020"
            ]
           ]
          },
          "colorway": [
           "#000001",
           "#000002",
           "#000003",
           "#000004",
           "#000005",
           "#000006",
           "#000007",
           "#000008",
           "#000009",
           "#000010"
          ]
         }
        },
        "title": {
         "text": "Weighted Portfolio Cumulative Returns<br><sup>(not including dividends)</sup>"
        },
        "yaxis": {
         "tickformat": ".1%",
         "title": {
          "text": "Returns (%)"
         }
        }
       }
      },
      "text/html": [
       "<div>                            <div id=\"569ff454-98f9-4308-a263-1623946f8a2a\" class=\"plotly-graph-div\" style=\"height:525px; width:100%;\"></div>            <script type=\"text/javascript\">                require([\"plotly\"], function(Plotly) {                    window.PLOTLYENV=window.PLOTLYENV || {};                                    if (document.getElementById(\"569ff454-98f9-4308-a263-1623946f8a2a\")) {                    Plotly.newPlot(                        \"569ff454-98f9-4308-a263-1623946f8a2a\",                        [{\"fill\":\"tozeroy\",\"mode\":\"lines\",\"name\":\"Weighted Portfolio Cumulative Returns\",\"x\":[\"2014-01-31T00:00:00\",\"2014-02-28T00:00:00\",\"2014-03-31T00:00:00\",\"2014-04-30T00:00:00\",\"2014-05-31T00:00:00\",\"2014-06-30T00:00:00\",\"2014-07-31T00:00:00\",\"2014-08-31T00:00:00\",\"2014-09-30T00:00:00\",\"2014-10-31T00:00:00\",\"2014-11-30T00:00:00\",\"2014-12-31T00:00:00\",\"2015-01-31T00:00:00\",\"2015-02-28T00:00:00\",\"2015-03-31T00:00:00\",\"2015-04-30T00:00:00\",\"2015-05-31T00:00:00\",\"2015-06-30T00:00:00\",\"2015-07-31T00:00:00\",\"2015-08-31T00:00:00\",\"2015-09-30T00:00:00\",\"2015-10-31T00:00:00\",\"2015-11-30T00:00:00\",\"2015-12-31T00:00:00\",\"2016-01-31T00:00:00\",\"2016-02-29T00:00:00\",\"2016-03-31T00:00:00\",\"2016-04-30T00:00:00\",\"2016-05-31T00:00:00\",\"2016-06-30T00:00:00\",\"2016-07-31T00:00:00\",\"2016-08-31T00:00:00\",\"2016-09-30T00:00:00\",\"2016-10-31T00:00:00\",\"2016-11-30T00:00:00\",\"2016-12-31T00:00:00\",\"2017-01-31T00:00:00\",\"2017-02-28T00:00:00\",\"2017-03-31T00:00:00\",\"2017-04-30T00:00:00\",\"2017-05-31T00:00:00\",\"2017-06-30T00:00:00\",\"2017-07-31T00:00:00\",\"2017-08-31T00:00:00\",\"2017-09-30T00:00:00\",\"2017-10-31T00:00:00\",\"2017-11-30T00:00:00\",\"2017-12-31T00:00:00\",\"2018-01-31T00:00:00\",\"2018-02-28T00:00:00\",\"2018-03-31T00:00:00\",\"2018-04-30T00:00:00\",\"2018-05-31T00:00:00\",\"2018-06-30T00:00:00\",\"2018-07-31T00:00:00\",\"2018-08-31T00:00:00\",\"2018-09-30T00:00:00\",\"2018-10-31T00:00:00\",\"2018-11-30T00:00:00\",\"2018-12-31T00:00:00\",\"2019-01-31T00:00:00\",\"2019-02-28T00:00:00\",\"2019-03-31T00:00:00\",\"2019-04-30T00:00:00\",\"2019-05-31T00:00:00\",\"2019-06-30T00:00:00\",\"2019-07-31T00:00:00\",\"2019-08-31T00:00:00\",\"2019-09-30T00:00:00\",\"2019-10-31T00:00:00\",\"2019-11-30T00:00:00\",\"2019-12-31T00:00:00\",\"2020-01-31T00:00:00\",\"2020-02-29T00:00:00\",\"2020-03-31T00:00:00\",\"2020-04-30T00:00:00\",\"2020-05-31T00:00:00\",\"2020-06-30T00:00:00\",\"2020-07-31T00:00:00\",\"2020-08-31T00:00:00\",\"2020-09-30T00:00:00\",\"2020-10-31T00:00:00\",\"2020-11-30T00:00:00\",\"2020-12-31T00:00:00\",\"2021-01-31T00:00:00\",\"2021-02-28T00:00:00\",\"2021-03-31T00:00:00\",\"2021-04-30T00:00:00\",\"2021-05-31T00:00:00\",\"2021-06-30T00:00:00\",\"2021-07-31T00:00:00\",\"2021-08-31T00:00:00\",\"2021-09-30T00:00:00\",\"2021-10-31T00:00:00\",\"2021-11-30T00:00:00\",\"2021-12-31T00:00:00\",\"2022-01-31T00:00:00\",\"2022-02-28T00:00:00\",\"2022-03-31T00:00:00\",\"2022-04-30T00:00:00\",\"2022-05-31T00:00:00\",\"2022-06-30T00:00:00\",\"2022-07-31T00:00:00\",\"2022-08-31T00:00:00\",\"2022-09-30T00:00:00\",\"2022-10-31T00:00:00\",\"2022-11-30T00:00:00\",\"2022-12-31T00:00:00\",\"2023-01-31T00:00:00\",\"2023-02-28T00:00:00\",\"2023-03-31T00:00:00\",\"2023-04-30T00:00:00\",\"2023-05-31T00:00:00\",\"2023-06-30T00:00:00\"],\"y\":[-0.022767789393831284,0.05987049816584422,0.0672600858485577,0.09266489955708446,0.12436892193106752,0.13034277018785723,0.11148131487873525,0.18829669373861369,0.135049975823881,0.1637410971118245,0.2507338479191761,0.19241442649116758,0.0967388468054613,0.2282805520339366,0.18413709397935518,0.2293307019669777,0.2430030151538114,0.20648254058548599,0.23100811859302217,0.20953344714592337,0.24470202007655129,0.4335568850871476,0.546761809445659,0.5865301135537577,0.46537987398323866,0.5651151321759829,0.693322132448857,0.6861059690363203,0.9685546331263244,1.0591185500357336,1.2077719520636174,1.2696635620045762,1.3988328367313305,1.4596469465900044,1.8145204459606799,2.0969722990369286,2.1848416385694227,2.328356127703441,2.4164657427006855,2.5093351509204758,3.403134347050755,3.4523482085437847,3.836664330804961,4.400155665501939,4.550021103348086,5.3118485706718,5.832638333045603,6.12801091831458,6.578697703613356,6.666574721154556,6.072259638366844,6.328618228816322,6.540399020175405,6.256839678980674,6.7084054731585026,7.249520097664815,7.147950055715228,6.329856180309611,5.296809416958678,4.536220943494436,4.87314197290067,5.305057852016849,5.854578627022118,6.313508966392057,6.02287533309333,7.119216125073319,7.2382970994961795,7.219650739730993,7.245800350307647,8.088357921890237,8.325775129052364,8.771123010595241,9.374722785983261,9.381762693765069,8.41503987420278,9.93484660819811,11.352990910622188,11.999947299129216,13.617171025646885,15.446428621913963,15.04648422546467,14.636099680425323,16.75256893217798,18.150153444454062,18.41115623542032,19.939593565643168,21.090680793701175,23.140509408778378,22.36510062962416,24.662760041722997,25.8840400175638,28.69920218998252,26.940944337542685,32.43174090492598,35.50446147666469,34.147352717119716,29.789351354951805,30.221390785070835,33.08080091392645,26.97307842854249,26.15841357580675,22.033998641834177,25.43301992213775,22.920284838966897,20.081565908279384,21.908692941243952,23.879086640375053,21.751016900251198,26.473050909243387,27.838550806075272,31.94462010850173,33.23526449962792,37.081935166625684,37.88010741159935],\"type\":\"scatter\"}],                        {\"template\":{\"data\":{\"candlestick\":[{\"decreasing\":{\"line\":{\"color\":\"#000033\"}},\"increasing\":{\"line\":{\"color\":\"#000032\"}},\"type\":\"candlestick\"}],\"contourcarpet\":[{\"colorscale\":[[0.0,\"#000011\"],[0.1111111111111111,\"#000012\"],[0.2222222222222222,\"#000013\"],[0.3333333333333333,\"#000014\"],[0.4444444444444444,\"#000015\"],[0.5555555555555556,\"#000016\"],[0.6666666666666666,\"#000017\"],[0.7777777777777778,\"#000018\"],[0.8888888888888888,\"#000019\"],[1.0,\"#000020\"]],\"type\":\"contourcarpet\"}],\"contour\":[{\"colorscale\":[[0.0,\"#000011\"],[0.1111111111111111,\"#000012\"],[0.2222222222222222,\"#000013\"],[0.3333333333333333,\"#000014\"],[0.4444444444444444,\"#000015\"],[0.5555555555555556,\"#000016\"],[0.6666666666666666,\"#000017\"],[0.7777777777777778,\"#000018\"],[0.8888888888888888,\"#000019\"],[1.0,\"#000020\"]],\"type\":\"contour\"}],\"heatmap\":[{\"colorscale\":[[0.0,\"#000011\"],[0.1111111111111111,\"#000012\"],[0.2222222222222222,\"#000013\"],[0.3333333333333333,\"#000014\"],[0.4444444444444444,\"#000015\"],[0.5555555555555556,\"#000016\"],[0.6666666666666666,\"#000017\"],[0.7777777777777778,\"#000018\"],[0.8888888888888888,\"#000019\"],[1.0,\"#000020\"]],\"type\":\"heatmap\"}],\"histogram2d\":[{\"colorscale\":[[0.0,\"#000011\"],[0.1111111111111111,\"#000012\"],[0.2222222222222222,\"#000013\"],[0.3333333333333333,\"#000014\"],[0.4444444444444444,\"#000015\"],[0.5555555555555556,\"#000016\"],[0.6666666666666666,\"#000017\"],[0.7777777777777778,\"#000018\"],[0.8888888888888888,\"#000019\"],[1.0,\"#000020\"]],\"type\":\"histogram2d\"}],\"icicle\":[{\"textfont\":{\"color\":\"white\"},\"type\":\"icicle\"}],\"sankey\":[{\"textfont\":{\"color\":\"#000036\"},\"type\":\"sankey\"}],\"scatter\":[{\"marker\":{\"line\":{\"width\":0}},\"type\":\"scatter\"}],\"table\":[{\"cells\":{\"fill\":{\"color\":\"#000038\"},\"font\":{\"color\":\"#000037\"},\"line\":{\"color\":\"#000039\"}},\"header\":{\"fill\":{\"color\":\"#000040\"},\"font\":{\"color\":\"#000036\"},\"line\":{\"color\":\"#000039\"}},\"type\":\"table\"}],\"waterfall\":[{\"connector\":{\"line\":{\"color\":\"#000036\",\"width\":2}},\"decreasing\":{\"marker\":{\"color\":\"#000033\"}},\"increasing\":{\"marker\":{\"color\":\"#000032\"}},\"totals\":{\"marker\":{\"color\":\"#000034\"}},\"type\":\"waterfall\"}]},\"layout\":{\"coloraxis\":{\"colorscale\":[[0.0,\"#000011\"],[0.1111111111111111,\"#000012\"],[0.2222222222222222,\"#000013\"],[0.3333333333333333,\"#000014\"],[0.4444444444444444,\"#000015\"],[0.5555555555555556,\"#000016\"],[0.6666666666666666,\"#000017\"],[0.7777777777777778,\"#000018\"],[0.8888888888888888,\"#000019\"],[1.0,\"#000020\"]]},\"colorscale\":{\"diverging\":[[0.0,\"#000021\"],[0.1,\"#000022\"],[0.2,\"#000023\"],[0.3,\"#000024\"],[0.4,\"#000025\"],[0.5,\"#000026\"],[0.6,\"#000027\"],[0.7,\"#000028\"],[0.8,\"#000029\"],[0.9,\"#000030\"],[1.0,\"#000031\"]],\"sequential\":[[0.0,\"#000011\"],[0.1111111111111111,\"#000012\"],[0.2222222222222222,\"#000013\"],[0.3333333333333333,\"#000014\"],[0.4444444444444444,\"#000015\"],[0.5555555555555556,\"#000016\"],[0.6666666666666666,\"#000017\"],[0.7777777777777778,\"#000018\"],[0.8888888888888888,\"#000019\"],[1.0,\"#000020\"]],\"sequentialminus\":[[0.0,\"#000011\"],[0.1111111111111111,\"#000012\"],[0.2222222222222222,\"#000013\"],[0.3333333333333333,\"#000014\"],[0.4444444444444444,\"#000015\"],[0.5555555555555556,\"#000016\"],[0.6666666666666666,\"#000017\"],[0.7777777777777778,\"#000018\"],[0.8888888888888888,\"#000019\"],[1.0,\"#000020\"]]},\"colorway\":[\"#000001\",\"#000002\",\"#000003\",\"#000004\",\"#000005\",\"#000006\",\"#000007\",\"#000008\",\"#000009\",\"#000010\"]}},\"yaxis\":{\"title\":{\"text\":\"Returns (%)\"},\"tickformat\":\".1%\"},\"title\":{\"text\":\"Weighted Portfolio Cumulative Returns<br><sup>(not including dividends)</sup>\"}},                        {\"responsive\": true}                    ).then(function(){\n",
       "                            \n",
       "var gd = document.getElementById('569ff454-98f9-4308-a263-1623946f8a2a');\n",
       "var x = new MutationObserver(function (mutations, observer) {{\n",
       "        var display = window.getComputedStyle(gd).display;\n",
       "        if (!display || display === 'none') {{\n",
       "            console.log([gd, 'removed!']);\n",
       "            Plotly.purge(gd);\n",
       "            observer.disconnect();\n",
       "        }}\n",
       "}});\n",
       "\n",
       "// Listen for the removal of the full notebook cells\n",
       "var notebookContainer = gd.closest('#notebook-container');\n",
       "if (notebookContainer) {{\n",
       "    x.observe(notebookContainer, {childList: true});\n",
       "}}\n",
       "\n",
       "// Listen for the clearing of the current output cell\n",
       "var outputEl = gd.closest('.output');\n",
       "if (outputEl) {{\n",
       "    x.observe(outputEl, {childList: true});\n",
       "}}\n",
       "\n",
       "                        })                };                });            </script>        </div>"
      ]
     },
     "metadata": {},
     "output_type": "display_data"
    }
   ],
   "source": [
    "import src.macro.calculate as calculate\n",
    "import src.macro.plot as plot\n",
    "\n",
    "# bring the macro data into the same format as the portfolio data as a new df (monthly basis), clean it and do some summary calcs\n",
    "combined_data = calculate.clean_and_combine_macro_data(stock_data, weights, macroeconomic_data)\n",
    "print(f'combined_data.head():\\n{combined_data.head()}')\n",
    "\n",
    "fig1, fig2 = plot.plot_historical_portfolio_performance(combined_data)\n",
    "fig1.show()\n",
    "fig2.show()"
   ]
  },
  {
   "cell_type": "code",
   "execution_count": 6,
   "metadata": {},
   "outputs": [
    {
     "data": {
      "application/vnd.plotly.v1+json": {
       "config": {
        "plotlyServerURL": "https://plot.ly"
       },
       "data": [
        {
         "mode": "lines",
         "name": "Portfolio Monthly Returns",
         "type": "scatter",
         "x": [
          "2014-01-31T00:00:00",
          "2014-02-28T00:00:00",
          "2014-03-31T00:00:00",
          "2014-04-30T00:00:00",
          "2014-05-31T00:00:00",
          "2014-06-30T00:00:00",
          "2014-07-31T00:00:00",
          "2014-08-31T00:00:00",
          "2014-09-30T00:00:00",
          "2014-10-31T00:00:00",
          "2014-11-30T00:00:00",
          "2014-12-31T00:00:00",
          "2015-01-31T00:00:00",
          "2015-02-28T00:00:00",
          "2015-03-31T00:00:00",
          "2015-04-30T00:00:00",
          "2015-05-31T00:00:00",
          "2015-06-30T00:00:00",
          "2015-07-31T00:00:00",
          "2015-08-31T00:00:00",
          "2015-09-30T00:00:00",
          "2015-10-31T00:00:00",
          "2015-11-30T00:00:00",
          "2015-12-31T00:00:00",
          "2016-01-31T00:00:00",
          "2016-02-29T00:00:00",
          "2016-03-31T00:00:00",
          "2016-04-30T00:00:00",
          "2016-05-31T00:00:00",
          "2016-06-30T00:00:00",
          "2016-07-31T00:00:00",
          "2016-08-31T00:00:00",
          "2016-09-30T00:00:00",
          "2016-10-31T00:00:00",
          "2016-11-30T00:00:00",
          "2016-12-31T00:00:00",
          "2017-01-31T00:00:00",
          "2017-02-28T00:00:00",
          "2017-03-31T00:00:00",
          "2017-04-30T00:00:00",
          "2017-05-31T00:00:00",
          "2017-06-30T00:00:00",
          "2017-07-31T00:00:00",
          "2017-08-31T00:00:00",
          "2017-09-30T00:00:00",
          "2017-10-31T00:00:00",
          "2017-11-30T00:00:00",
          "2017-12-31T00:00:00",
          "2018-01-31T00:00:00",
          "2018-02-28T00:00:00",
          "2018-03-31T00:00:00",
          "2018-04-30T00:00:00",
          "2018-05-31T00:00:00",
          "2018-06-30T00:00:00",
          "2018-07-31T00:00:00",
          "2018-08-31T00:00:00",
          "2018-09-30T00:00:00",
          "2018-10-31T00:00:00",
          "2018-11-30T00:00:00",
          "2018-12-31T00:00:00",
          "2019-01-31T00:00:00",
          "2019-02-28T00:00:00",
          "2019-03-31T00:00:00",
          "2019-04-30T00:00:00",
          "2019-05-31T00:00:00",
          "2019-06-30T00:00:00",
          "2019-07-31T00:00:00",
          "2019-08-31T00:00:00",
          "2019-09-30T00:00:00",
          "2019-10-31T00:00:00",
          "2019-11-30T00:00:00",
          "2019-12-31T00:00:00",
          "2020-01-31T00:00:00",
          "2020-02-29T00:00:00",
          "2020-03-31T00:00:00",
          "2020-04-30T00:00:00",
          "2020-05-31T00:00:00",
          "2020-06-30T00:00:00",
          "2020-07-31T00:00:00",
          "2020-08-31T00:00:00",
          "2020-09-30T00:00:00",
          "2020-10-31T00:00:00",
          "2020-11-30T00:00:00",
          "2020-12-31T00:00:00",
          "2021-01-31T00:00:00",
          "2021-02-28T00:00:00",
          "2021-03-31T00:00:00",
          "2021-04-30T00:00:00",
          "2021-05-31T00:00:00",
          "2021-06-30T00:00:00",
          "2021-07-31T00:00:00",
          "2021-08-31T00:00:00",
          "2021-09-30T00:00:00",
          "2021-10-31T00:00:00",
          "2021-11-30T00:00:00",
          "2021-12-31T00:00:00",
          "2022-01-31T00:00:00",
          "2022-02-28T00:00:00",
          "2022-03-31T00:00:00",
          "2022-04-30T00:00:00",
          "2022-05-31T00:00:00",
          "2022-06-30T00:00:00",
          "2022-07-31T00:00:00",
          "2022-08-31T00:00:00",
          "2022-09-30T00:00:00",
          "2022-10-31T00:00:00",
          "2022-11-30T00:00:00",
          "2022-12-31T00:00:00",
          "2023-01-31T00:00:00",
          "2023-02-28T00:00:00",
          "2023-03-31T00:00:00",
          "2023-04-30T00:00:00",
          "2023-05-31T00:00:00",
          "2023-06-30T00:00:00"
         ],
         "xaxis": "x",
         "y": [
          -0.022767789393831284,
          0.08456361411625557,
          0.006972160934285432,
          0.0238037700888325,
          0.029015320604546257,
          0.005313067748732969,
          -0.01668649174974357,
          0.06911081439840405,
          -0.0448092788571246,
          0.02527740795476241,
          0.07475266708656281,
          -0.04662816275823467,
          -0.08023685185296192,
          0.11993894956089579,
          -0.03593923064358806,
          0.03816585783639881,
          0.011121753621671893,
          -0.029380841496837617,
          0.020328166535782843,
          -0.017444784581634787,
          0.029076147512591355,
          0.1517269691576313,
          0.0789678634563773,
          0.02571068400140497,
          -0.07636176492052071,
          0.06806102633417566,
          0.08191537966579343,
          -0.004261542015104203,
          0.16751536930471533,
          0.046005284986976314,
          0.07219273607403709,
          0.028033515818111754,
          0.05691119903809505,
          0.02535154135272699,
          0.14427822654087152,
          0.10035523226758425,
          0.028372659180651683,
          0.045061734748758964,
          0.02647241209072182,
          0.027182888755201695,
          0.25469188826146794,
          0.011177006562607783,
          0.08631762482631022,
          0.11650412270871735,
          0.027752058853328876,
          0.137265688388849,
          0.08250986324254805,
          0.04322965315468652,
          0.06322756663304063,
          0.01159526622882745,
          -0.07752028831699842,
          0.036248469874994305,
          0.02889777919203862,
          -0.03760534958906392,
          0.062226232651354074,
          0.07019799702941576,
          -0.012312236438861257,
          -0.10040487114078223,
          -0.14093683940566726,
          -0.12078950196837968,
          0.06085758369202132,
          0.07354085447092662,
          0.08715554843473639,
          0.06695237801500209,
          -0.03973928720594766,
          0.15610996066152416,
          0.014666560489148939,
          -0.002263375493744668,
          0.0031813530044841887,
          0.1021802051696723,
          0.026123223711324473,
          0.04775451642142814,
          0.06177383855811769,
          0.0006785634591912615,
          -0.09311740675240732,
          0.16142329233884634,
          0.12969036999210037,
          0.052372449165385415,
          0.12440232943298124,
          0.12514443410818088,
          -0.024318008829977145,
          -0.025574732712359216,
          0.13535787664504606,
          0.0787257617539987,
          0.013629279353991164,
          0.07874014879308655,
          0.05497180374821897,
          0.09279155469313016,
          -0.03212064691858785,
          0.09833723588528787,
          0.04758958014863657,
          0.10471499709788867,
          -0.059202191398693205,
          0.1965143518791388,
          0.09191027713683786,
          -0.037176517736400405,
          -0.12399230739347256,
          0.0140321056178907,
          0.09158496969401209,
          -0.17921299739432361,
          -0.02912317479882698,
          -0.1518650904427895,
          0.14756540247989314,
          -0.09506046189850703,
          -0.11867412741102268,
          0.08666941729632138,
          0.08601074291688104,
          -0.08553648977894213,
          0.20755265708321158,
          0.04970324924387848,
          0.14238126353982583,
          0.03917618072011453,
          0.11235989332109808,
          0.020959340471572663
         ],
         "yaxis": "y"
        },
        {
         "mode": "lines",
         "name": "US Interest Rate",
         "type": "scatter",
         "x": [
          "2014-01-31T00:00:00",
          "2014-02-28T00:00:00",
          "2014-03-31T00:00:00",
          "2014-04-30T00:00:00",
          "2014-05-31T00:00:00",
          "2014-06-30T00:00:00",
          "2014-07-31T00:00:00",
          "2014-08-31T00:00:00",
          "2014-09-30T00:00:00",
          "2014-10-31T00:00:00",
          "2014-11-30T00:00:00",
          "2014-12-31T00:00:00",
          "2015-01-31T00:00:00",
          "2015-02-28T00:00:00",
          "2015-03-31T00:00:00",
          "2015-04-30T00:00:00",
          "2015-05-31T00:00:00",
          "2015-06-30T00:00:00",
          "2015-07-31T00:00:00",
          "2015-08-31T00:00:00",
          "2015-09-30T00:00:00",
          "2015-10-31T00:00:00",
          "2015-11-30T00:00:00",
          "2015-12-31T00:00:00",
          "2016-01-31T00:00:00",
          "2016-02-29T00:00:00",
          "2016-03-31T00:00:00",
          "2016-04-30T00:00:00",
          "2016-05-31T00:00:00",
          "2016-06-30T00:00:00",
          "2016-07-31T00:00:00",
          "2016-08-31T00:00:00",
          "2016-09-30T00:00:00",
          "2016-10-31T00:00:00",
          "2016-11-30T00:00:00",
          "2016-12-31T00:00:00",
          "2017-01-31T00:00:00",
          "2017-02-28T00:00:00",
          "2017-03-31T00:00:00",
          "2017-04-30T00:00:00",
          "2017-05-31T00:00:00",
          "2017-06-30T00:00:00",
          "2017-07-31T00:00:00",
          "2017-08-31T00:00:00",
          "2017-09-30T00:00:00",
          "2017-10-31T00:00:00",
          "2017-11-30T00:00:00",
          "2017-12-31T00:00:00",
          "2018-01-31T00:00:00",
          "2018-02-28T00:00:00",
          "2018-03-31T00:00:00",
          "2018-04-30T00:00:00",
          "2018-05-31T00:00:00",
          "2018-06-30T00:00:00",
          "2018-07-31T00:00:00",
          "2018-08-31T00:00:00",
          "2018-09-30T00:00:00",
          "2018-10-31T00:00:00",
          "2018-11-30T00:00:00",
          "2018-12-31T00:00:00",
          "2019-01-31T00:00:00",
          "2019-02-28T00:00:00",
          "2019-03-31T00:00:00",
          "2019-04-30T00:00:00",
          "2019-05-31T00:00:00",
          "2019-06-30T00:00:00",
          "2019-07-31T00:00:00",
          "2019-08-31T00:00:00",
          "2019-09-30T00:00:00",
          "2019-10-31T00:00:00",
          "2019-11-30T00:00:00",
          "2019-12-31T00:00:00",
          "2020-01-31T00:00:00",
          "2020-02-29T00:00:00",
          "2020-03-31T00:00:00",
          "2020-04-30T00:00:00",
          "2020-05-31T00:00:00",
          "2020-06-30T00:00:00",
          "2020-07-31T00:00:00",
          "2020-08-31T00:00:00",
          "2020-09-30T00:00:00",
          "2020-10-31T00:00:00",
          "2020-11-30T00:00:00",
          "2020-12-31T00:00:00",
          "2021-01-31T00:00:00",
          "2021-02-28T00:00:00",
          "2021-03-31T00:00:00",
          "2021-04-30T00:00:00",
          "2021-05-31T00:00:00",
          "2021-06-30T00:00:00",
          "2021-07-31T00:00:00",
          "2021-08-31T00:00:00",
          "2021-09-30T00:00:00",
          "2021-10-31T00:00:00",
          "2021-11-30T00:00:00",
          "2021-12-31T00:00:00",
          "2022-01-31T00:00:00",
          "2022-02-28T00:00:00",
          "2022-03-31T00:00:00",
          "2022-04-30T00:00:00",
          "2022-05-31T00:00:00",
          "2022-06-30T00:00:00",
          "2022-07-31T00:00:00",
          "2022-08-31T00:00:00",
          "2022-09-30T00:00:00",
          "2022-10-31T00:00:00",
          "2022-11-30T00:00:00",
          "2022-12-31T00:00:00",
          "2023-01-31T00:00:00",
          "2023-02-28T00:00:00",
          "2023-03-31T00:00:00",
          "2023-04-30T00:00:00",
          "2023-05-31T00:00:00",
          "2023-06-30T00:00:00"
         ],
         "xaxis": "x",
         "y": [
          2.86,
          2.71,
          2.72,
          2.71,
          2.56,
          2.6,
          2.54,
          2.42,
          2.53,
          2.3,
          2.33,
          2.21,
          1.88,
          1.98,
          2.04,
          1.94,
          2.2,
          2.36,
          2.32,
          2.17,
          2.17,
          2.07,
          2.26,
          2.24,
          2.09,
          1.78,
          1.89,
          1.81,
          1.81,
          1.64,
          1.5,
          1.56,
          1.63,
          1.76,
          2.14,
          2.49,
          2.43,
          2.42,
          2.48,
          2.3,
          2.3,
          2.19,
          2.32,
          2.21,
          2.2,
          2.36,
          2.35,
          2.4,
          2.58,
          2.86,
          2.84,
          2.87,
          2.98,
          2.91,
          2.89,
          2.89,
          3,
          3.15,
          3.12,
          2.83,
          2.71,
          2.68,
          2.57,
          2.53,
          2.4,
          2.07,
          2.06,
          1.63,
          1.7,
          1.71,
          1.81,
          1.86,
          1.76,
          1.5,
          0.87,
          0.66,
          0.67,
          0.73,
          0.62,
          0.65,
          0.68,
          0.79,
          0.87,
          0.93,
          1.08,
          1.26,
          1.61,
          1.64,
          1.62,
          1.52,
          1.32,
          1.28,
          1.37,
          1.58,
          1.56,
          1.47,
          1.76,
          1.93,
          2.13,
          2.75,
          2.9,
          3.14,
          2.9,
          2.9,
          3.52,
          3.98,
          3.89,
          3.62,
          3.53,
          3.75,
          3.66,
          3.46,
          3.57,
          null
         ],
         "yaxis": "y2"
        }
       ],
       "layout": {
        "template": {
         "data": {
          "candlestick": [
           {
            "decreasing": {
             "line": {
              "color": "#000033"
             }
            },
            "increasing": {
             "line": {
              "color": "#000032"
             }
            },
            "type": "candlestick"
           }
          ],
          "contour": [
           {
            "colorscale": [
             [
              0,
              "#000011"
             ],
             [
              0.1111111111111111,
              "#000012"
             ],
             [
              0.2222222222222222,
              "#000013"
             ],
             [
              0.3333333333333333,
              "#000014"
             ],
             [
              0.4444444444444444,
              "#000015"
             ],
             [
              0.5555555555555556,
              "#000016"
             ],
             [
              0.6666666666666666,
              "#000017"
             ],
             [
              0.7777777777777778,
              "#000018"
             ],
             [
              0.8888888888888888,
              "#000019"
             ],
             [
              1,
              "#000020"
             ]
            ],
            "type": "contour"
           }
          ],
          "contourcarpet": [
           {
            "colorscale": [
             [
              0,
              "#000011"
             ],
             [
              0.1111111111111111,
              "#000012"
             ],
             [
              0.2222222222222222,
              "#000013"
             ],
             [
              0.3333333333333333,
              "#000014"
             ],
             [
              0.4444444444444444,
              "#000015"
             ],
             [
              0.5555555555555556,
              "#000016"
             ],
             [
              0.6666666666666666,
              "#000017"
             ],
             [
              0.7777777777777778,
              "#000018"
             ],
             [
              0.8888888888888888,
              "#000019"
             ],
             [
              1,
              "#000020"
             ]
            ],
            "type": "contourcarpet"
           }
          ],
          "heatmap": [
           {
            "colorscale": [
             [
              0,
              "#000011"
             ],
             [
              0.1111111111111111,
              "#000012"
             ],
             [
              0.2222222222222222,
              "#000013"
             ],
             [
              0.3333333333333333,
              "#000014"
             ],
             [
              0.4444444444444444,
              "#000015"
             ],
             [
              0.5555555555555556,
              "#000016"
             ],
             [
              0.6666666666666666,
              "#000017"
             ],
             [
              0.7777777777777778,
              "#000018"
             ],
             [
              0.8888888888888888,
              "#000019"
             ],
             [
              1,
              "#000020"
             ]
            ],
            "type": "heatmap"
           }
          ],
          "histogram2d": [
           {
            "colorscale": [
             [
              0,
              "#000011"
             ],
             [
              0.1111111111111111,
              "#000012"
             ],
             [
              0.2222222222222222,
              "#000013"
             ],
             [
              0.3333333333333333,
              "#000014"
             ],
             [
              0.4444444444444444,
              "#000015"
             ],
             [
              0.5555555555555556,
              "#000016"
             ],
             [
              0.6666666666666666,
              "#000017"
             ],
             [
              0.7777777777777778,
              "#000018"
             ],
             [
              0.8888888888888888,
              "#000019"
             ],
             [
              1,
              "#000020"
             ]
            ],
            "type": "histogram2d"
           }
          ],
          "icicle": [
           {
            "textfont": {
             "color": "white"
            },
            "type": "icicle"
           }
          ],
          "sankey": [
           {
            "textfont": {
             "color": "#000036"
            },
            "type": "sankey"
           }
          ],
          "scatter": [
           {
            "marker": {
             "line": {
              "width": 0
             }
            },
            "type": "scatter"
           }
          ],
          "table": [
           {
            "cells": {
             "fill": {
              "color": "#000038"
             },
             "font": {
              "color": "#000037"
             },
             "line": {
              "color": "#000039"
             }
            },
            "header": {
             "fill": {
              "color": "#000040"
             },
             "font": {
              "color": "#000036"
             },
             "line": {
              "color": "#000039"
             }
            },
            "type": "table"
           }
          ],
          "waterfall": [
           {
            "connector": {
             "line": {
              "color": "#000036",
              "width": 2
             }
            },
            "decreasing": {
             "marker": {
              "color": "#000033"
             }
            },
            "increasing": {
             "marker": {
              "color": "#000032"
             }
            },
            "totals": {
             "marker": {
              "color": "#000034"
             }
            },
            "type": "waterfall"
           }
          ]
         },
         "layout": {
          "coloraxis": {
           "colorscale": [
            [
             0,
             "#000011"
            ],
            [
             0.1111111111111111,
             "#000012"
            ],
            [
             0.2222222222222222,
             "#000013"
            ],
            [
             0.3333333333333333,
             "#000014"
            ],
            [
             0.4444444444444444,
             "#000015"
            ],
            [
             0.5555555555555556,
             "#000016"
            ],
            [
             0.6666666666666666,
             "#000017"
            ],
            [
             0.7777777777777778,
             "#000018"
            ],
            [
             0.8888888888888888,
             "#000019"
            ],
            [
             1,
             "#000020"
            ]
           ]
          },
          "colorscale": {
           "diverging": [
            [
             0,
             "#000021"
            ],
            [
             0.1,
             "#000022"
            ],
            [
             0.2,
             "#000023"
            ],
            [
             0.3,
             "#000024"
            ],
            [
             0.4,
             "#000025"
            ],
            [
             0.5,
             "#000026"
            ],
            [
             0.6,
             "#000027"
            ],
            [
             0.7,
             "#000028"
            ],
            [
             0.8,
             "#000029"
            ],
            [
             0.9,
             "#000030"
            ],
            [
             1,
             "#000031"
            ]
           ],
           "sequential": [
            [
             0,
             "#000011"
            ],
            [
             0.1111111111111111,
             "#000012"
            ],
            [
             0.2222222222222222,
             "#000013"
            ],
            [
             0.3333333333333333,
             "#000014"
            ],
            [
             0.4444444444444444,
             "#000015"
            ],
            [
             0.5555555555555556,
             "#000016"
            ],
            [
             0.6666666666666666,
             "#000017"
            ],
            [
             0.7777777777777778,
             "#000018"
            ],
            [
             0.8888888888888888,
             "#000019"
            ],
            [
             1,
             "#000020"
            ]
           ],
           "sequentialminus": [
            [
             0,
             "#000011"
            ],
            [
             0.1111111111111111,
             "#000012"
            ],
            [
             0.2222222222222222,
             "#000013"
            ],
            [
             0.3333333333333333,
             "#000014"
            ],
            [
             0.4444444444444444,
             "#000015"
            ],
            [
             0.5555555555555556,
             "#000016"
            ],
            [
             0.6666666666666666,
             "#000017"
            ],
            [
             0.7777777777777778,
             "#000018"
            ],
            [
             0.8888888888888888,
             "#000019"
            ],
            [
             1,
             "#000020"
            ]
           ]
          },
          "colorway": [
           "#000001",
           "#000002",
           "#000003",
           "#000004",
           "#000005",
           "#000006",
           "#000007",
           "#000008",
           "#000009",
           "#000010"
          ]
         }
        },
        "title": {
         "text": "Weighted Portfolio Monthly Returns vs US Interest Rate"
        },
        "xaxis": {
         "anchor": "y",
         "domain": [
          0,
          0.94
         ]
        },
        "yaxis": {
         "anchor": "x",
         "domain": [
          0,
          1
         ],
         "title": {
          "text": "Returns %"
         }
        },
        "yaxis2": {
         "anchor": "x",
         "overlaying": "y",
         "side": "right",
         "title": {
          "text": "US Interest Rate"
         }
        }
       }
      },
      "text/html": [
       "<div>                            <div id=\"432c7de0-25a8-40c7-8aed-f337e1ce85ad\" class=\"plotly-graph-div\" style=\"height:525px; width:100%;\"></div>            <script type=\"text/javascript\">                require([\"plotly\"], function(Plotly) {                    window.PLOTLYENV=window.PLOTLYENV || {};                                    if (document.getElementById(\"432c7de0-25a8-40c7-8aed-f337e1ce85ad\")) {                    Plotly.newPlot(                        \"432c7de0-25a8-40c7-8aed-f337e1ce85ad\",                        [{\"mode\":\"lines\",\"name\":\"Portfolio Monthly Returns\",\"x\":[\"2014-01-31T00:00:00\",\"2014-02-28T00:00:00\",\"2014-03-31T00:00:00\",\"2014-04-30T00:00:00\",\"2014-05-31T00:00:00\",\"2014-06-30T00:00:00\",\"2014-07-31T00:00:00\",\"2014-08-31T00:00:00\",\"2014-09-30T00:00:00\",\"2014-10-31T00:00:00\",\"2014-11-30T00:00:00\",\"2014-12-31T00:00:00\",\"2015-01-31T00:00:00\",\"2015-02-28T00:00:00\",\"2015-03-31T00:00:00\",\"2015-04-30T00:00:00\",\"2015-05-31T00:00:00\",\"2015-06-30T00:00:00\",\"2015-07-31T00:00:00\",\"2015-08-31T00:00:00\",\"2015-09-30T00:00:00\",\"2015-10-31T00:00:00\",\"2015-11-30T00:00:00\",\"2015-12-31T00:00:00\",\"2016-01-31T00:00:00\",\"2016-02-29T00:00:00\",\"2016-03-31T00:00:00\",\"2016-04-30T00:00:00\",\"2016-05-31T00:00:00\",\"2016-06-30T00:00:00\",\"2016-07-31T00:00:00\",\"2016-08-31T00:00:00\",\"2016-09-30T00:00:00\",\"2016-10-31T00:00:00\",\"2016-11-30T00:00:00\",\"2016-12-31T00:00:00\",\"2017-01-31T00:00:00\",\"2017-02-28T00:00:00\",\"2017-03-31T00:00:00\",\"2017-04-30T00:00:00\",\"2017-05-31T00:00:00\",\"2017-06-30T00:00:00\",\"2017-07-31T00:00:00\",\"2017-08-31T00:00:00\",\"2017-09-30T00:00:00\",\"2017-10-31T00:00:00\",\"2017-11-30T00:00:00\",\"2017-12-31T00:00:00\",\"2018-01-31T00:00:00\",\"2018-02-28T00:00:00\",\"2018-03-31T00:00:00\",\"2018-04-30T00:00:00\",\"2018-05-31T00:00:00\",\"2018-06-30T00:00:00\",\"2018-07-31T00:00:00\",\"2018-08-31T00:00:00\",\"2018-09-30T00:00:00\",\"2018-10-31T00:00:00\",\"2018-11-30T00:00:00\",\"2018-12-31T00:00:00\",\"2019-01-31T00:00:00\",\"2019-02-28T00:00:00\",\"2019-03-31T00:00:00\",\"2019-04-30T00:00:00\",\"2019-05-31T00:00:00\",\"2019-06-30T00:00:00\",\"2019-07-31T00:00:00\",\"2019-08-31T00:00:00\",\"2019-09-30T00:00:00\",\"2019-10-31T00:00:00\",\"2019-11-30T00:00:00\",\"2019-12-31T00:00:00\",\"2020-01-31T00:00:00\",\"2020-02-29T00:00:00\",\"2020-03-31T00:00:00\",\"2020-04-30T00:00:00\",\"2020-05-31T00:00:00\",\"2020-06-30T00:00:00\",\"2020-07-31T00:00:00\",\"2020-08-31T00:00:00\",\"2020-09-30T00:00:00\",\"2020-10-31T00:00:00\",\"2020-11-30T00:00:00\",\"2020-12-31T00:00:00\",\"2021-01-31T00:00:00\",\"2021-02-28T00:00:00\",\"2021-03-31T00:00:00\",\"2021-04-30T00:00:00\",\"2021-05-31T00:00:00\",\"2021-06-30T00:00:00\",\"2021-07-31T00:00:00\",\"2021-08-31T00:00:00\",\"2021-09-30T00:00:00\",\"2021-10-31T00:00:00\",\"2021-11-30T00:00:00\",\"2021-12-31T00:00:00\",\"2022-01-31T00:00:00\",\"2022-02-28T00:00:00\",\"2022-03-31T00:00:00\",\"2022-04-30T00:00:00\",\"2022-05-31T00:00:00\",\"2022-06-30T00:00:00\",\"2022-07-31T00:00:00\",\"2022-08-31T00:00:00\",\"2022-09-30T00:00:00\",\"2022-10-31T00:00:00\",\"2022-11-30T00:00:00\",\"2022-12-31T00:00:00\",\"2023-01-31T00:00:00\",\"2023-02-28T00:00:00\",\"2023-03-31T00:00:00\",\"2023-04-30T00:00:00\",\"2023-05-31T00:00:00\",\"2023-06-30T00:00:00\"],\"y\":[-0.022767789393831284,0.08456361411625557,0.006972160934285432,0.0238037700888325,0.029015320604546257,0.005313067748732969,-0.01668649174974357,0.06911081439840405,-0.0448092788571246,0.02527740795476241,0.07475266708656281,-0.04662816275823467,-0.08023685185296192,0.11993894956089579,-0.03593923064358806,0.03816585783639881,0.011121753621671893,-0.029380841496837617,0.020328166535782843,-0.017444784581634787,0.029076147512591355,0.1517269691576313,0.0789678634563773,0.02571068400140497,-0.07636176492052071,0.06806102633417566,0.08191537966579343,-0.004261542015104203,0.16751536930471533,0.046005284986976314,0.07219273607403709,0.028033515818111754,0.05691119903809505,0.02535154135272699,0.14427822654087152,0.10035523226758425,0.028372659180651683,0.045061734748758964,0.02647241209072182,0.027182888755201695,0.25469188826146794,0.011177006562607783,0.08631762482631022,0.11650412270871735,0.027752058853328876,0.137265688388849,0.08250986324254805,0.04322965315468652,0.06322756663304063,0.01159526622882745,-0.07752028831699842,0.036248469874994305,0.02889777919203862,-0.03760534958906392,0.062226232651354074,0.07019799702941576,-0.012312236438861257,-0.10040487114078223,-0.14093683940566726,-0.12078950196837968,0.06085758369202132,0.07354085447092662,0.08715554843473639,0.06695237801500209,-0.03973928720594766,0.15610996066152416,0.014666560489148939,-0.002263375493744668,0.0031813530044841887,0.1021802051696723,0.026123223711324473,0.04775451642142814,0.06177383855811769,0.0006785634591912615,-0.09311740675240732,0.16142329233884634,0.12969036999210037,0.052372449165385415,0.12440232943298124,0.12514443410818088,-0.024318008829977145,-0.025574732712359216,0.13535787664504606,0.0787257617539987,0.013629279353991164,0.07874014879308655,0.05497180374821897,0.09279155469313016,-0.03212064691858785,0.09833723588528787,0.04758958014863657,0.10471499709788867,-0.059202191398693205,0.1965143518791388,0.09191027713683786,-0.037176517736400405,-0.12399230739347256,0.0140321056178907,0.09158496969401209,-0.17921299739432361,-0.02912317479882698,-0.1518650904427895,0.14756540247989314,-0.09506046189850703,-0.11867412741102268,0.08666941729632138,0.08601074291688104,-0.08553648977894213,0.20755265708321158,0.04970324924387848,0.14238126353982583,0.03917618072011453,0.11235989332109808,0.020959340471572663],\"type\":\"scatter\",\"xaxis\":\"x\",\"yaxis\":\"y\"},{\"mode\":\"lines\",\"name\":\"US Interest Rate\",\"x\":[\"2014-01-31T00:00:00\",\"2014-02-28T00:00:00\",\"2014-03-31T00:00:00\",\"2014-04-30T00:00:00\",\"2014-05-31T00:00:00\",\"2014-06-30T00:00:00\",\"2014-07-31T00:00:00\",\"2014-08-31T00:00:00\",\"2014-09-30T00:00:00\",\"2014-10-31T00:00:00\",\"2014-11-30T00:00:00\",\"2014-12-31T00:00:00\",\"2015-01-31T00:00:00\",\"2015-02-28T00:00:00\",\"2015-03-31T00:00:00\",\"2015-04-30T00:00:00\",\"2015-05-31T00:00:00\",\"2015-06-30T00:00:00\",\"2015-07-31T00:00:00\",\"2015-08-31T00:00:00\",\"2015-09-30T00:00:00\",\"2015-10-31T00:00:00\",\"2015-11-30T00:00:00\",\"2015-12-31T00:00:00\",\"2016-01-31T00:00:00\",\"2016-02-29T00:00:00\",\"2016-03-31T00:00:00\",\"2016-04-30T00:00:00\",\"2016-05-31T00:00:00\",\"2016-06-30T00:00:00\",\"2016-07-31T00:00:00\",\"2016-08-31T00:00:00\",\"2016-09-30T00:00:00\",\"2016-10-31T00:00:00\",\"2016-11-30T00:00:00\",\"2016-12-31T00:00:00\",\"2017-01-31T00:00:00\",\"2017-02-28T00:00:00\",\"2017-03-31T00:00:00\",\"2017-04-30T00:00:00\",\"2017-05-31T00:00:00\",\"2017-06-30T00:00:00\",\"2017-07-31T00:00:00\",\"2017-08-31T00:00:00\",\"2017-09-30T00:00:00\",\"2017-10-31T00:00:00\",\"2017-11-30T00:00:00\",\"2017-12-31T00:00:00\",\"2018-01-31T00:00:00\",\"2018-02-28T00:00:00\",\"2018-03-31T00:00:00\",\"2018-04-30T00:00:00\",\"2018-05-31T00:00:00\",\"2018-06-30T00:00:00\",\"2018-07-31T00:00:00\",\"2018-08-31T00:00:00\",\"2018-09-30T00:00:00\",\"2018-10-31T00:00:00\",\"2018-11-30T00:00:00\",\"2018-12-31T00:00:00\",\"2019-01-31T00:00:00\",\"2019-02-28T00:00:00\",\"2019-03-31T00:00:00\",\"2019-04-30T00:00:00\",\"2019-05-31T00:00:00\",\"2019-06-30T00:00:00\",\"2019-07-31T00:00:00\",\"2019-08-31T00:00:00\",\"2019-09-30T00:00:00\",\"2019-10-31T00:00:00\",\"2019-11-30T00:00:00\",\"2019-12-31T00:00:00\",\"2020-01-31T00:00:00\",\"2020-02-29T00:00:00\",\"2020-03-31T00:00:00\",\"2020-04-30T00:00:00\",\"2020-05-31T00:00:00\",\"2020-06-30T00:00:00\",\"2020-07-31T00:00:00\",\"2020-08-31T00:00:00\",\"2020-09-30T00:00:00\",\"2020-10-31T00:00:00\",\"2020-11-30T00:00:00\",\"2020-12-31T00:00:00\",\"2021-01-31T00:00:00\",\"2021-02-28T00:00:00\",\"2021-03-31T00:00:00\",\"2021-04-30T00:00:00\",\"2021-05-31T00:00:00\",\"2021-06-30T00:00:00\",\"2021-07-31T00:00:00\",\"2021-08-31T00:00:00\",\"2021-09-30T00:00:00\",\"2021-10-31T00:00:00\",\"2021-11-30T00:00:00\",\"2021-12-31T00:00:00\",\"2022-01-31T00:00:00\",\"2022-02-28T00:00:00\",\"2022-03-31T00:00:00\",\"2022-04-30T00:00:00\",\"2022-05-31T00:00:00\",\"2022-06-30T00:00:00\",\"2022-07-31T00:00:00\",\"2022-08-31T00:00:00\",\"2022-09-30T00:00:00\",\"2022-10-31T00:00:00\",\"2022-11-30T00:00:00\",\"2022-12-31T00:00:00\",\"2023-01-31T00:00:00\",\"2023-02-28T00:00:00\",\"2023-03-31T00:00:00\",\"2023-04-30T00:00:00\",\"2023-05-31T00:00:00\",\"2023-06-30T00:00:00\"],\"y\":[2.86,2.71,2.72,2.71,2.56,2.6,2.54,2.42,2.53,2.3,2.33,2.21,1.88,1.98,2.04,1.94,2.2,2.36,2.32,2.17,2.17,2.07,2.26,2.24,2.09,1.78,1.89,1.81,1.81,1.64,1.5,1.56,1.63,1.76,2.14,2.49,2.43,2.42,2.48,2.3,2.3,2.19,2.32,2.21,2.2,2.36,2.35,2.4,2.58,2.86,2.84,2.87,2.98,2.91,2.89,2.89,3.0,3.15,3.12,2.83,2.71,2.68,2.57,2.53,2.4,2.07,2.06,1.63,1.7,1.71,1.81,1.86,1.76,1.5,0.87,0.66,0.67,0.73,0.62,0.65,0.68,0.79,0.87,0.93,1.08,1.26,1.61,1.64,1.62,1.52,1.32,1.28,1.37,1.58,1.56,1.47,1.76,1.93,2.13,2.75,2.9,3.14,2.9,2.9,3.52,3.98,3.89,3.62,3.53,3.75,3.66,3.46,3.57,null],\"type\":\"scatter\",\"xaxis\":\"x\",\"yaxis\":\"y2\"}],                        {\"template\":{\"data\":{\"candlestick\":[{\"decreasing\":{\"line\":{\"color\":\"#000033\"}},\"increasing\":{\"line\":{\"color\":\"#000032\"}},\"type\":\"candlestick\"}],\"contourcarpet\":[{\"colorscale\":[[0.0,\"#000011\"],[0.1111111111111111,\"#000012\"],[0.2222222222222222,\"#000013\"],[0.3333333333333333,\"#000014\"],[0.4444444444444444,\"#000015\"],[0.5555555555555556,\"#000016\"],[0.6666666666666666,\"#000017\"],[0.7777777777777778,\"#000018\"],[0.8888888888888888,\"#000019\"],[1.0,\"#000020\"]],\"type\":\"contourcarpet\"}],\"contour\":[{\"colorscale\":[[0.0,\"#000011\"],[0.1111111111111111,\"#000012\"],[0.2222222222222222,\"#000013\"],[0.3333333333333333,\"#000014\"],[0.4444444444444444,\"#000015\"],[0.5555555555555556,\"#000016\"],[0.6666666666666666,\"#000017\"],[0.7777777777777778,\"#000018\"],[0.8888888888888888,\"#000019\"],[1.0,\"#000020\"]],\"type\":\"contour\"}],\"heatmap\":[{\"colorscale\":[[0.0,\"#000011\"],[0.1111111111111111,\"#000012\"],[0.2222222222222222,\"#000013\"],[0.3333333333333333,\"#000014\"],[0.4444444444444444,\"#000015\"],[0.5555555555555556,\"#000016\"],[0.6666666666666666,\"#000017\"],[0.7777777777777778,\"#000018\"],[0.8888888888888888,\"#000019\"],[1.0,\"#000020\"]],\"type\":\"heatmap\"}],\"histogram2d\":[{\"colorscale\":[[0.0,\"#000011\"],[0.1111111111111111,\"#000012\"],[0.2222222222222222,\"#000013\"],[0.3333333333333333,\"#000014\"],[0.4444444444444444,\"#000015\"],[0.5555555555555556,\"#000016\"],[0.6666666666666666,\"#000017\"],[0.7777777777777778,\"#000018\"],[0.8888888888888888,\"#000019\"],[1.0,\"#000020\"]],\"type\":\"histogram2d\"}],\"icicle\":[{\"textfont\":{\"color\":\"white\"},\"type\":\"icicle\"}],\"sankey\":[{\"textfont\":{\"color\":\"#000036\"},\"type\":\"sankey\"}],\"scatter\":[{\"marker\":{\"line\":{\"width\":0}},\"type\":\"scatter\"}],\"table\":[{\"cells\":{\"fill\":{\"color\":\"#000038\"},\"font\":{\"color\":\"#000037\"},\"line\":{\"color\":\"#000039\"}},\"header\":{\"fill\":{\"color\":\"#000040\"},\"font\":{\"color\":\"#000036\"},\"line\":{\"color\":\"#000039\"}},\"type\":\"table\"}],\"waterfall\":[{\"connector\":{\"line\":{\"color\":\"#000036\",\"width\":2}},\"decreasing\":{\"marker\":{\"color\":\"#000033\"}},\"increasing\":{\"marker\":{\"color\":\"#000032\"}},\"totals\":{\"marker\":{\"color\":\"#000034\"}},\"type\":\"waterfall\"}]},\"layout\":{\"coloraxis\":{\"colorscale\":[[0.0,\"#000011\"],[0.1111111111111111,\"#000012\"],[0.2222222222222222,\"#000013\"],[0.3333333333333333,\"#000014\"],[0.4444444444444444,\"#000015\"],[0.5555555555555556,\"#000016\"],[0.6666666666666666,\"#000017\"],[0.7777777777777778,\"#000018\"],[0.8888888888888888,\"#000019\"],[1.0,\"#000020\"]]},\"colorscale\":{\"diverging\":[[0.0,\"#000021\"],[0.1,\"#000022\"],[0.2,\"#000023\"],[0.3,\"#000024\"],[0.4,\"#000025\"],[0.5,\"#000026\"],[0.6,\"#000027\"],[0.7,\"#000028\"],[0.8,\"#000029\"],[0.9,\"#000030\"],[1.0,\"#000031\"]],\"sequential\":[[0.0,\"#000011\"],[0.1111111111111111,\"#000012\"],[0.2222222222222222,\"#000013\"],[0.3333333333333333,\"#000014\"],[0.4444444444444444,\"#000015\"],[0.5555555555555556,\"#000016\"],[0.6666666666666666,\"#000017\"],[0.7777777777777778,\"#000018\"],[0.8888888888888888,\"#000019\"],[1.0,\"#000020\"]],\"sequentialminus\":[[0.0,\"#000011\"],[0.1111111111111111,\"#000012\"],[0.2222222222222222,\"#000013\"],[0.3333333333333333,\"#000014\"],[0.4444444444444444,\"#000015\"],[0.5555555555555556,\"#000016\"],[0.6666666666666666,\"#000017\"],[0.7777777777777778,\"#000018\"],[0.8888888888888888,\"#000019\"],[1.0,\"#000020\"]]},\"colorway\":[\"#000001\",\"#000002\",\"#000003\",\"#000004\",\"#000005\",\"#000006\",\"#000007\",\"#000008\",\"#000009\",\"#000010\"]}},\"xaxis\":{\"anchor\":\"y\",\"domain\":[0.0,0.94]},\"yaxis\":{\"anchor\":\"x\",\"domain\":[0.0,1.0],\"title\":{\"text\":\"Returns %\"}},\"yaxis2\":{\"anchor\":\"x\",\"overlaying\":\"y\",\"side\":\"right\",\"title\":{\"text\":\"US Interest Rate\"}},\"title\":{\"text\":\"Weighted Portfolio Monthly Returns vs US Interest Rate\"}},                        {\"responsive\": true}                    ).then(function(){\n",
       "                            \n",
       "var gd = document.getElementById('432c7de0-25a8-40c7-8aed-f337e1ce85ad');\n",
       "var x = new MutationObserver(function (mutations, observer) {{\n",
       "        var display = window.getComputedStyle(gd).display;\n",
       "        if (!display || display === 'none') {{\n",
       "            console.log([gd, 'removed!']);\n",
       "            Plotly.purge(gd);\n",
       "            observer.disconnect();\n",
       "        }}\n",
       "}});\n",
       "\n",
       "// Listen for the removal of the full notebook cells\n",
       "var notebookContainer = gd.closest('#notebook-container');\n",
       "if (notebookContainer) {{\n",
       "    x.observe(notebookContainer, {childList: true});\n",
       "}}\n",
       "\n",
       "// Listen for the clearing of the current output cell\n",
       "var outputEl = gd.closest('.output');\n",
       "if (outputEl) {{\n",
       "    x.observe(outputEl, {childList: true});\n",
       "}}\n",
       "\n",
       "                        })                };                });            </script>        </div>"
      ]
     },
     "metadata": {},
     "output_type": "display_data"
    },
    {
     "data": {
      "application/vnd.plotly.v1+json": {
       "config": {
        "plotlyServerURL": "https://plot.ly"
       },
       "data": [
        {
         "mode": "lines",
         "name": "Portfolio Monthly Returns",
         "type": "scatter",
         "x": [
          "2014-01-31T00:00:00",
          "2014-02-28T00:00:00",
          "2014-03-31T00:00:00",
          "2014-04-30T00:00:00",
          "2014-05-31T00:00:00",
          "2014-06-30T00:00:00",
          "2014-07-31T00:00:00",
          "2014-08-31T00:00:00",
          "2014-09-30T00:00:00",
          "2014-10-31T00:00:00",
          "2014-11-30T00:00:00",
          "2014-12-31T00:00:00",
          "2015-01-31T00:00:00",
          "2015-02-28T00:00:00",
          "2015-03-31T00:00:00",
          "2015-04-30T00:00:00",
          "2015-05-31T00:00:00",
          "2015-06-30T00:00:00",
          "2015-07-31T00:00:00",
          "2015-08-31T00:00:00",
          "2015-09-30T00:00:00",
          "2015-10-31T00:00:00",
          "2015-11-30T00:00:00",
          "2015-12-31T00:00:00",
          "2016-01-31T00:00:00",
          "2016-02-29T00:00:00",
          "2016-03-31T00:00:00",
          "2016-04-30T00:00:00",
          "2016-05-31T00:00:00",
          "2016-06-30T00:00:00",
          "2016-07-31T00:00:00",
          "2016-08-31T00:00:00",
          "2016-09-30T00:00:00",
          "2016-10-31T00:00:00",
          "2016-11-30T00:00:00",
          "2016-12-31T00:00:00",
          "2017-01-31T00:00:00",
          "2017-02-28T00:00:00",
          "2017-03-31T00:00:00",
          "2017-04-30T00:00:00",
          "2017-05-31T00:00:00",
          "2017-06-30T00:00:00",
          "2017-07-31T00:00:00",
          "2017-08-31T00:00:00",
          "2017-09-30T00:00:00",
          "2017-10-31T00:00:00",
          "2017-11-30T00:00:00",
          "2017-12-31T00:00:00",
          "2018-01-31T00:00:00",
          "2018-02-28T00:00:00",
          "2018-03-31T00:00:00",
          "2018-04-30T00:00:00",
          "2018-05-31T00:00:00",
          "2018-06-30T00:00:00",
          "2018-07-31T00:00:00",
          "2018-08-31T00:00:00",
          "2018-09-30T00:00:00",
          "2018-10-31T00:00:00",
          "2018-11-30T00:00:00",
          "2018-12-31T00:00:00",
          "2019-01-31T00:00:00",
          "2019-02-28T00:00:00",
          "2019-03-31T00:00:00",
          "2019-04-30T00:00:00",
          "2019-05-31T00:00:00",
          "2019-06-30T00:00:00",
          "2019-07-31T00:00:00",
          "2019-08-31T00:00:00",
          "2019-09-30T00:00:00",
          "2019-10-31T00:00:00",
          "2019-11-30T00:00:00",
          "2019-12-31T00:00:00",
          "2020-01-31T00:00:00",
          "2020-02-29T00:00:00",
          "2020-03-31T00:00:00",
          "2020-04-30T00:00:00",
          "2020-05-31T00:00:00",
          "2020-06-30T00:00:00",
          "2020-07-31T00:00:00",
          "2020-08-31T00:00:00",
          "2020-09-30T00:00:00",
          "2020-10-31T00:00:00",
          "2020-11-30T00:00:00",
          "2020-12-31T00:00:00",
          "2021-01-31T00:00:00",
          "2021-02-28T00:00:00",
          "2021-03-31T00:00:00",
          "2021-04-30T00:00:00",
          "2021-05-31T00:00:00",
          "2021-06-30T00:00:00",
          "2021-07-31T00:00:00",
          "2021-08-31T00:00:00",
          "2021-09-30T00:00:00",
          "2021-10-31T00:00:00",
          "2021-11-30T00:00:00",
          "2021-12-31T00:00:00",
          "2022-01-31T00:00:00",
          "2022-02-28T00:00:00",
          "2022-03-31T00:00:00",
          "2022-04-30T00:00:00",
          "2022-05-31T00:00:00",
          "2022-06-30T00:00:00",
          "2022-07-31T00:00:00",
          "2022-08-31T00:00:00",
          "2022-09-30T00:00:00",
          "2022-10-31T00:00:00",
          "2022-11-30T00:00:00",
          "2022-12-31T00:00:00",
          "2023-01-31T00:00:00",
          "2023-02-28T00:00:00",
          "2023-03-31T00:00:00",
          "2023-04-30T00:00:00",
          "2023-05-31T00:00:00",
          "2023-06-30T00:00:00"
         ],
         "xaxis": "x",
         "y": [
          -0.022767789393831284,
          0.08456361411625557,
          0.006972160934285432,
          0.0238037700888325,
          0.029015320604546257,
          0.005313067748732969,
          -0.01668649174974357,
          0.06911081439840405,
          -0.0448092788571246,
          0.02527740795476241,
          0.07475266708656281,
          -0.04662816275823467,
          -0.08023685185296192,
          0.11993894956089579,
          -0.03593923064358806,
          0.03816585783639881,
          0.011121753621671893,
          -0.029380841496837617,
          0.020328166535782843,
          -0.017444784581634787,
          0.029076147512591355,
          0.1517269691576313,
          0.0789678634563773,
          0.02571068400140497,
          -0.07636176492052071,
          0.06806102633417566,
          0.08191537966579343,
          -0.004261542015104203,
          0.16751536930471533,
          0.046005284986976314,
          0.07219273607403709,
          0.028033515818111754,
          0.05691119903809505,
          0.02535154135272699,
          0.14427822654087152,
          0.10035523226758425,
          0.028372659180651683,
          0.045061734748758964,
          0.02647241209072182,
          0.027182888755201695,
          0.25469188826146794,
          0.011177006562607783,
          0.08631762482631022,
          0.11650412270871735,
          0.027752058853328876,
          0.137265688388849,
          0.08250986324254805,
          0.04322965315468652,
          0.06322756663304063,
          0.01159526622882745,
          -0.07752028831699842,
          0.036248469874994305,
          0.02889777919203862,
          -0.03760534958906392,
          0.062226232651354074,
          0.07019799702941576,
          -0.012312236438861257,
          -0.10040487114078223,
          -0.14093683940566726,
          -0.12078950196837968,
          0.06085758369202132,
          0.07354085447092662,
          0.08715554843473639,
          0.06695237801500209,
          -0.03973928720594766,
          0.15610996066152416,
          0.014666560489148939,
          -0.002263375493744668,
          0.0031813530044841887,
          0.1021802051696723,
          0.026123223711324473,
          0.04775451642142814,
          0.06177383855811769,
          0.0006785634591912615,
          -0.09311740675240732,
          0.16142329233884634,
          0.12969036999210037,
          0.052372449165385415,
          0.12440232943298124,
          0.12514443410818088,
          -0.024318008829977145,
          -0.025574732712359216,
          0.13535787664504606,
          0.0787257617539987,
          0.013629279353991164,
          0.07874014879308655,
          0.05497180374821897,
          0.09279155469313016,
          -0.03212064691858785,
          0.09833723588528787,
          0.04758958014863657,
          0.10471499709788867,
          -0.059202191398693205,
          0.1965143518791388,
          0.09191027713683786,
          -0.037176517736400405,
          -0.12399230739347256,
          0.0140321056178907,
          0.09158496969401209,
          -0.17921299739432361,
          -0.02912317479882698,
          -0.1518650904427895,
          0.14756540247989314,
          -0.09506046189850703,
          -0.11867412741102268,
          0.08666941729632138,
          0.08601074291688104,
          -0.08553648977894213,
          0.20755265708321158,
          0.04970324924387848,
          0.14238126353982583,
          0.03917618072011453,
          0.11235989332109808,
          0.020959340471572663
         ],
         "yaxis": "y"
        },
        {
         "mode": "lines",
         "name": "US Inflation Rate",
         "type": "scatter",
         "x": [
          "2014-01-31T00:00:00",
          "2014-02-28T00:00:00",
          "2014-03-31T00:00:00",
          "2014-04-30T00:00:00",
          "2014-05-31T00:00:00",
          "2014-06-30T00:00:00",
          "2014-07-31T00:00:00",
          "2014-08-31T00:00:00",
          "2014-09-30T00:00:00",
          "2014-10-31T00:00:00",
          "2014-11-30T00:00:00",
          "2014-12-31T00:00:00",
          "2015-01-31T00:00:00",
          "2015-02-28T00:00:00",
          "2015-03-31T00:00:00",
          "2015-04-30T00:00:00",
          "2015-05-31T00:00:00",
          "2015-06-30T00:00:00",
          "2015-07-31T00:00:00",
          "2015-08-31T00:00:00",
          "2015-09-30T00:00:00",
          "2015-10-31T00:00:00",
          "2015-11-30T00:00:00",
          "2015-12-31T00:00:00",
          "2016-01-31T00:00:00",
          "2016-02-29T00:00:00",
          "2016-03-31T00:00:00",
          "2016-04-30T00:00:00",
          "2016-05-31T00:00:00",
          "2016-06-30T00:00:00",
          "2016-07-31T00:00:00",
          "2016-08-31T00:00:00",
          "2016-09-30T00:00:00",
          "2016-10-31T00:00:00",
          "2016-11-30T00:00:00",
          "2016-12-31T00:00:00",
          "2017-01-31T00:00:00",
          "2017-02-28T00:00:00",
          "2017-03-31T00:00:00",
          "2017-04-30T00:00:00",
          "2017-05-31T00:00:00",
          "2017-06-30T00:00:00",
          "2017-07-31T00:00:00",
          "2017-08-31T00:00:00",
          "2017-09-30T00:00:00",
          "2017-10-31T00:00:00",
          "2017-11-30T00:00:00",
          "2017-12-31T00:00:00",
          "2018-01-31T00:00:00",
          "2018-02-28T00:00:00",
          "2018-03-31T00:00:00",
          "2018-04-30T00:00:00",
          "2018-05-31T00:00:00",
          "2018-06-30T00:00:00",
          "2018-07-31T00:00:00",
          "2018-08-31T00:00:00",
          "2018-09-30T00:00:00",
          "2018-10-31T00:00:00",
          "2018-11-30T00:00:00",
          "2018-12-31T00:00:00",
          "2019-01-31T00:00:00",
          "2019-02-28T00:00:00",
          "2019-03-31T00:00:00",
          "2019-04-30T00:00:00",
          "2019-05-31T00:00:00",
          "2019-06-30T00:00:00",
          "2019-07-31T00:00:00",
          "2019-08-31T00:00:00",
          "2019-09-30T00:00:00",
          "2019-10-31T00:00:00",
          "2019-11-30T00:00:00",
          "2019-12-31T00:00:00",
          "2020-01-31T00:00:00",
          "2020-02-29T00:00:00",
          "2020-03-31T00:00:00",
          "2020-04-30T00:00:00",
          "2020-05-31T00:00:00",
          "2020-06-30T00:00:00",
          "2020-07-31T00:00:00",
          "2020-08-31T00:00:00",
          "2020-09-30T00:00:00",
          "2020-10-31T00:00:00",
          "2020-11-30T00:00:00",
          "2020-12-31T00:00:00",
          "2021-01-31T00:00:00",
          "2021-02-28T00:00:00",
          "2021-03-31T00:00:00",
          "2021-04-30T00:00:00",
          "2021-05-31T00:00:00",
          "2021-06-30T00:00:00",
          "2021-07-31T00:00:00",
          "2021-08-31T00:00:00",
          "2021-09-30T00:00:00",
          "2021-10-31T00:00:00",
          "2021-11-30T00:00:00",
          "2021-12-31T00:00:00",
          "2022-01-31T00:00:00",
          "2022-02-28T00:00:00",
          "2022-03-31T00:00:00",
          "2022-04-30T00:00:00",
          "2022-05-31T00:00:00",
          "2022-06-30T00:00:00",
          "2022-07-31T00:00:00",
          "2022-08-31T00:00:00",
          "2022-09-30T00:00:00",
          "2022-10-31T00:00:00",
          "2022-11-30T00:00:00",
          "2022-12-31T00:00:00",
          "2023-01-31T00:00:00",
          "2023-02-28T00:00:00",
          "2023-03-31T00:00:00",
          "2023-04-30T00:00:00",
          "2023-05-31T00:00:00",
          "2023-06-30T00:00:00"
         ],
         "xaxis": "x",
         "y": [
          2.14,
          2.17,
          2.13,
          2.18,
          2.22,
          2.26,
          2.29,
          2.12,
          1.97,
          1.92,
          1.79,
          1.68,
          1.65,
          1.83,
          1.76,
          1.94,
          1.8,
          1.87,
          1.74,
          1.63,
          1.41,
          1.53,
          1.59,
          1.54,
          1.41,
          1.42,
          1.62,
          1.71,
          1.54,
          1.4,
          1.49,
          1.47,
          1.6,
          1.73,
          1.94,
          1.95,
          2.05,
          2.02,
          1.97,
          1.92,
          1.81,
          1.73,
          1.82,
          1.76,
          1.84,
          1.88,
          1.86,
          1.96,
          2.11,
          2.12,
          2.05,
          2.17,
          2.07,
          2.11,
          2.12,
          2.08,
          2.14,
          2.05,
          1.97,
          1.71,
          1.85,
          1.95,
          1.88,
          1.95,
          1.74,
          1.69,
          1.76,
          1.55,
          1.53,
          1.54,
          1.61,
          1.77,
          1.65,
          1.41,
          0.87,
          1.07,
          1.15,
          1.34,
          1.55,
          1.8,
          1.63,
          1.7,
          1.77,
          1.99,
          2.13,
          2.15,
          2.37,
          2.41,
          2.42,
          2.32,
          2.4,
          2.33,
          2.37,
          2.51,
          2.5,
          2.56,
          2.44,
          2.62,
          2.84,
          2.88,
          2.64,
          2.33,
          2.53,
          2.48,
          2.15,
          2.52,
          2.34,
          2.3,
          2.24,
          2.43,
          2.32,
          2.18,
          2.18,
          2.18
         ],
         "yaxis": "y2"
        }
       ],
       "layout": {
        "template": {
         "data": {
          "candlestick": [
           {
            "decreasing": {
             "line": {
              "color": "#000033"
             }
            },
            "increasing": {
             "line": {
              "color": "#000032"
             }
            },
            "type": "candlestick"
           }
          ],
          "contour": [
           {
            "colorscale": [
             [
              0,
              "#000011"
             ],
             [
              0.1111111111111111,
              "#000012"
             ],
             [
              0.2222222222222222,
              "#000013"
             ],
             [
              0.3333333333333333,
              "#000014"
             ],
             [
              0.4444444444444444,
              "#000015"
             ],
             [
              0.5555555555555556,
              "#000016"
             ],
             [
              0.6666666666666666,
              "#000017"
             ],
             [
              0.7777777777777778,
              "#000018"
             ],
             [
              0.8888888888888888,
              "#000019"
             ],
             [
              1,
              "#000020"
             ]
            ],
            "type": "contour"
           }
          ],
          "contourcarpet": [
           {
            "colorscale": [
             [
              0,
              "#000011"
             ],
             [
              0.1111111111111111,
              "#000012"
             ],
             [
              0.2222222222222222,
              "#000013"
             ],
             [
              0.3333333333333333,
              "#000014"
             ],
             [
              0.4444444444444444,
              "#000015"
             ],
             [
              0.5555555555555556,
              "#000016"
             ],
             [
              0.6666666666666666,
              "#000017"
             ],
             [
              0.7777777777777778,
              "#000018"
             ],
             [
              0.8888888888888888,
              "#000019"
             ],
             [
              1,
              "#000020"
             ]
            ],
            "type": "contourcarpet"
           }
          ],
          "heatmap": [
           {
            "colorscale": [
             [
              0,
              "#000011"
             ],
             [
              0.1111111111111111,
              "#000012"
             ],
             [
              0.2222222222222222,
              "#000013"
             ],
             [
              0.3333333333333333,
              "#000014"
             ],
             [
              0.4444444444444444,
              "#000015"
             ],
             [
              0.5555555555555556,
              "#000016"
             ],
             [
              0.6666666666666666,
              "#000017"
             ],
             [
              0.7777777777777778,
              "#000018"
             ],
             [
              0.8888888888888888,
              "#000019"
             ],
             [
              1,
              "#000020"
             ]
            ],
            "type": "heatmap"
           }
          ],
          "histogram2d": [
           {
            "colorscale": [
             [
              0,
              "#000011"
             ],
             [
              0.1111111111111111,
              "#000012"
             ],
             [
              0.2222222222222222,
              "#000013"
             ],
             [
              0.3333333333333333,
              "#000014"
             ],
             [
              0.4444444444444444,
              "#000015"
             ],
             [
              0.5555555555555556,
              "#000016"
             ],
             [
              0.6666666666666666,
              "#000017"
             ],
             [
              0.7777777777777778,
              "#000018"
             ],
             [
              0.8888888888888888,
              "#000019"
             ],
             [
              1,
              "#000020"
             ]
            ],
            "type": "histogram2d"
           }
          ],
          "icicle": [
           {
            "textfont": {
             "color": "white"
            },
            "type": "icicle"
           }
          ],
          "sankey": [
           {
            "textfont": {
             "color": "#000036"
            },
            "type": "sankey"
           }
          ],
          "scatter": [
           {
            "marker": {
             "line": {
              "width": 0
             }
            },
            "type": "scatter"
           }
          ],
          "table": [
           {
            "cells": {
             "fill": {
              "color": "#000038"
             },
             "font": {
              "color": "#000037"
             },
             "line": {
              "color": "#000039"
             }
            },
            "header": {
             "fill": {
              "color": "#000040"
             },
             "font": {
              "color": "#000036"
             },
             "line": {
              "color": "#000039"
             }
            },
            "type": "table"
           }
          ],
          "waterfall": [
           {
            "connector": {
             "line": {
              "color": "#000036",
              "width": 2
             }
            },
            "decreasing": {
             "marker": {
              "color": "#000033"
             }
            },
            "increasing": {
             "marker": {
              "color": "#000032"
             }
            },
            "totals": {
             "marker": {
              "color": "#000034"
             }
            },
            "type": "waterfall"
           }
          ]
         },
         "layout": {
          "coloraxis": {
           "colorscale": [
            [
             0,
             "#000011"
            ],
            [
             0.1111111111111111,
             "#000012"
            ],
            [
             0.2222222222222222,
             "#000013"
            ],
            [
             0.3333333333333333,
             "#000014"
            ],
            [
             0.4444444444444444,
             "#000015"
            ],
            [
             0.5555555555555556,
             "#000016"
            ],
            [
             0.6666666666666666,
             "#000017"
            ],
            [
             0.7777777777777778,
             "#000018"
            ],
            [
             0.8888888888888888,
             "#000019"
            ],
            [
             1,
             "#000020"
            ]
           ]
          },
          "colorscale": {
           "diverging": [
            [
             0,
             "#000021"
            ],
            [
             0.1,
             "#000022"
            ],
            [
             0.2,
             "#000023"
            ],
            [
             0.3,
             "#000024"
            ],
            [
             0.4,
             "#000025"
            ],
            [
             0.5,
             "#000026"
            ],
            [
             0.6,
             "#000027"
            ],
            [
             0.7,
             "#000028"
            ],
            [
             0.8,
             "#000029"
            ],
            [
             0.9,
             "#000030"
            ],
            [
             1,
             "#000031"
            ]
           ],
           "sequential": [
            [
             0,
             "#000011"
            ],
            [
             0.1111111111111111,
             "#000012"
            ],
            [
             0.2222222222222222,
             "#000013"
            ],
            [
             0.3333333333333333,
             "#000014"
            ],
            [
             0.4444444444444444,
             "#000015"
            ],
            [
             0.5555555555555556,
             "#000016"
            ],
            [
             0.6666666666666666,
             "#000017"
            ],
            [
             0.7777777777777778,
             "#000018"
            ],
            [
             0.8888888888888888,
             "#000019"
            ],
            [
             1,
             "#000020"
            ]
           ],
           "sequentialminus": [
            [
             0,
             "#000011"
            ],
            [
             0.1111111111111111,
             "#000012"
            ],
            [
             0.2222222222222222,
             "#000013"
            ],
            [
             0.3333333333333333,
             "#000014"
            ],
            [
             0.4444444444444444,
             "#000015"
            ],
            [
             0.5555555555555556,
             "#000016"
            ],
            [
             0.6666666666666666,
             "#000017"
            ],
            [
             0.7777777777777778,
             "#000018"
            ],
            [
             0.8888888888888888,
             "#000019"
            ],
            [
             1,
             "#000020"
            ]
           ]
          },
          "colorway": [
           "#000001",
           "#000002",
           "#000003",
           "#000004",
           "#000005",
           "#000006",
           "#000007",
           "#000008",
           "#000009",
           "#000010"
          ]
         }
        },
        "title": {
         "text": "Weighted Portfolio Monthly Returns vs US Inflation Rate"
        },
        "xaxis": {
         "anchor": "y",
         "domain": [
          0,
          0.94
         ]
        },
        "yaxis": {
         "anchor": "x",
         "domain": [
          0,
          1
         ],
         "title": {
          "text": "Returns %"
         }
        },
        "yaxis2": {
         "anchor": "x",
         "overlaying": "y",
         "side": "right",
         "title": {
          "text": "US Inflation Rate"
         }
        }
       }
      },
      "text/html": [
       "<div>                            <div id=\"f1c1831e-9e17-4a2a-b22a-ce02ffeb96c2\" class=\"plotly-graph-div\" style=\"height:525px; width:100%;\"></div>            <script type=\"text/javascript\">                require([\"plotly\"], function(Plotly) {                    window.PLOTLYENV=window.PLOTLYENV || {};                                    if (document.getElementById(\"f1c1831e-9e17-4a2a-b22a-ce02ffeb96c2\")) {                    Plotly.newPlot(                        \"f1c1831e-9e17-4a2a-b22a-ce02ffeb96c2\",                        [{\"mode\":\"lines\",\"name\":\"Portfolio Monthly Returns\",\"x\":[\"2014-01-31T00:00:00\",\"2014-02-28T00:00:00\",\"2014-03-31T00:00:00\",\"2014-04-30T00:00:00\",\"2014-05-31T00:00:00\",\"2014-06-30T00:00:00\",\"2014-07-31T00:00:00\",\"2014-08-31T00:00:00\",\"2014-09-30T00:00:00\",\"2014-10-31T00:00:00\",\"2014-11-30T00:00:00\",\"2014-12-31T00:00:00\",\"2015-01-31T00:00:00\",\"2015-02-28T00:00:00\",\"2015-03-31T00:00:00\",\"2015-04-30T00:00:00\",\"2015-05-31T00:00:00\",\"2015-06-30T00:00:00\",\"2015-07-31T00:00:00\",\"2015-08-31T00:00:00\",\"2015-09-30T00:00:00\",\"2015-10-31T00:00:00\",\"2015-11-30T00:00:00\",\"2015-12-31T00:00:00\",\"2016-01-31T00:00:00\",\"2016-02-29T00:00:00\",\"2016-03-31T00:00:00\",\"2016-04-30T00:00:00\",\"2016-05-31T00:00:00\",\"2016-06-30T00:00:00\",\"2016-07-31T00:00:00\",\"2016-08-31T00:00:00\",\"2016-09-30T00:00:00\",\"2016-10-31T00:00:00\",\"2016-11-30T00:00:00\",\"2016-12-31T00:00:00\",\"2017-01-31T00:00:00\",\"2017-02-28T00:00:00\",\"2017-03-31T00:00:00\",\"2017-04-30T00:00:00\",\"2017-05-31T00:00:00\",\"2017-06-30T00:00:00\",\"2017-07-31T00:00:00\",\"2017-08-31T00:00:00\",\"2017-09-30T00:00:00\",\"2017-10-31T00:00:00\",\"2017-11-30T00:00:00\",\"2017-12-31T00:00:00\",\"2018-01-31T00:00:00\",\"2018-02-28T00:00:00\",\"2018-03-31T00:00:00\",\"2018-04-30T00:00:00\",\"2018-05-31T00:00:00\",\"2018-06-30T00:00:00\",\"2018-07-31T00:00:00\",\"2018-08-31T00:00:00\",\"2018-09-30T00:00:00\",\"2018-10-31T00:00:00\",\"2018-11-30T00:00:00\",\"2018-12-31T00:00:00\",\"2019-01-31T00:00:00\",\"2019-02-28T00:00:00\",\"2019-03-31T00:00:00\",\"2019-04-30T00:00:00\",\"2019-05-31T00:00:00\",\"2019-06-30T00:00:00\",\"2019-07-31T00:00:00\",\"2019-08-31T00:00:00\",\"2019-09-30T00:00:00\",\"2019-10-31T00:00:00\",\"2019-11-30T00:00:00\",\"2019-12-31T00:00:00\",\"2020-01-31T00:00:00\",\"2020-02-29T00:00:00\",\"2020-03-31T00:00:00\",\"2020-04-30T00:00:00\",\"2020-05-31T00:00:00\",\"2020-06-30T00:00:00\",\"2020-07-31T00:00:00\",\"2020-08-31T00:00:00\",\"2020-09-30T00:00:00\",\"2020-10-31T00:00:00\",\"2020-11-30T00:00:00\",\"2020-12-31T00:00:00\",\"2021-01-31T00:00:00\",\"2021-02-28T00:00:00\",\"2021-03-31T00:00:00\",\"2021-04-30T00:00:00\",\"2021-05-31T00:00:00\",\"2021-06-30T00:00:00\",\"2021-07-31T00:00:00\",\"2021-08-31T00:00:00\",\"2021-09-30T00:00:00\",\"2021-10-31T00:00:00\",\"2021-11-30T00:00:00\",\"2021-12-31T00:00:00\",\"2022-01-31T00:00:00\",\"2022-02-28T00:00:00\",\"2022-03-31T00:00:00\",\"2022-04-30T00:00:00\",\"2022-05-31T00:00:00\",\"2022-06-30T00:00:00\",\"2022-07-31T00:00:00\",\"2022-08-31T00:00:00\",\"2022-09-30T00:00:00\",\"2022-10-31T00:00:00\",\"2022-11-30T00:00:00\",\"2022-12-31T00:00:00\",\"2023-01-31T00:00:00\",\"2023-02-28T00:00:00\",\"2023-03-31T00:00:00\",\"2023-04-30T00:00:00\",\"2023-05-31T00:00:00\",\"2023-06-30T00:00:00\"],\"y\":[-0.022767789393831284,0.08456361411625557,0.006972160934285432,0.0238037700888325,0.029015320604546257,0.005313067748732969,-0.01668649174974357,0.06911081439840405,-0.0448092788571246,0.02527740795476241,0.07475266708656281,-0.04662816275823467,-0.08023685185296192,0.11993894956089579,-0.03593923064358806,0.03816585783639881,0.011121753621671893,-0.029380841496837617,0.020328166535782843,-0.017444784581634787,0.029076147512591355,0.1517269691576313,0.0789678634563773,0.02571068400140497,-0.07636176492052071,0.06806102633417566,0.08191537966579343,-0.004261542015104203,0.16751536930471533,0.046005284986976314,0.07219273607403709,0.028033515818111754,0.05691119903809505,0.02535154135272699,0.14427822654087152,0.10035523226758425,0.028372659180651683,0.045061734748758964,0.02647241209072182,0.027182888755201695,0.25469188826146794,0.011177006562607783,0.08631762482631022,0.11650412270871735,0.027752058853328876,0.137265688388849,0.08250986324254805,0.04322965315468652,0.06322756663304063,0.01159526622882745,-0.07752028831699842,0.036248469874994305,0.02889777919203862,-0.03760534958906392,0.062226232651354074,0.07019799702941576,-0.012312236438861257,-0.10040487114078223,-0.14093683940566726,-0.12078950196837968,0.06085758369202132,0.07354085447092662,0.08715554843473639,0.06695237801500209,-0.03973928720594766,0.15610996066152416,0.014666560489148939,-0.002263375493744668,0.0031813530044841887,0.1021802051696723,0.026123223711324473,0.04775451642142814,0.06177383855811769,0.0006785634591912615,-0.09311740675240732,0.16142329233884634,0.12969036999210037,0.052372449165385415,0.12440232943298124,0.12514443410818088,-0.024318008829977145,-0.025574732712359216,0.13535787664504606,0.0787257617539987,0.013629279353991164,0.07874014879308655,0.05497180374821897,0.09279155469313016,-0.03212064691858785,0.09833723588528787,0.04758958014863657,0.10471499709788867,-0.059202191398693205,0.1965143518791388,0.09191027713683786,-0.037176517736400405,-0.12399230739347256,0.0140321056178907,0.09158496969401209,-0.17921299739432361,-0.02912317479882698,-0.1518650904427895,0.14756540247989314,-0.09506046189850703,-0.11867412741102268,0.08666941729632138,0.08601074291688104,-0.08553648977894213,0.20755265708321158,0.04970324924387848,0.14238126353982583,0.03917618072011453,0.11235989332109808,0.020959340471572663],\"type\":\"scatter\",\"xaxis\":\"x\",\"yaxis\":\"y\"},{\"mode\":\"lines\",\"name\":\"US Inflation Rate\",\"x\":[\"2014-01-31T00:00:00\",\"2014-02-28T00:00:00\",\"2014-03-31T00:00:00\",\"2014-04-30T00:00:00\",\"2014-05-31T00:00:00\",\"2014-06-30T00:00:00\",\"2014-07-31T00:00:00\",\"2014-08-31T00:00:00\",\"2014-09-30T00:00:00\",\"2014-10-31T00:00:00\",\"2014-11-30T00:00:00\",\"2014-12-31T00:00:00\",\"2015-01-31T00:00:00\",\"2015-02-28T00:00:00\",\"2015-03-31T00:00:00\",\"2015-04-30T00:00:00\",\"2015-05-31T00:00:00\",\"2015-06-30T00:00:00\",\"2015-07-31T00:00:00\",\"2015-08-31T00:00:00\",\"2015-09-30T00:00:00\",\"2015-10-31T00:00:00\",\"2015-11-30T00:00:00\",\"2015-12-31T00:00:00\",\"2016-01-31T00:00:00\",\"2016-02-29T00:00:00\",\"2016-03-31T00:00:00\",\"2016-04-30T00:00:00\",\"2016-05-31T00:00:00\",\"2016-06-30T00:00:00\",\"2016-07-31T00:00:00\",\"2016-08-31T00:00:00\",\"2016-09-30T00:00:00\",\"2016-10-31T00:00:00\",\"2016-11-30T00:00:00\",\"2016-12-31T00:00:00\",\"2017-01-31T00:00:00\",\"2017-02-28T00:00:00\",\"2017-03-31T00:00:00\",\"2017-04-30T00:00:00\",\"2017-05-31T00:00:00\",\"2017-06-30T00:00:00\",\"2017-07-31T00:00:00\",\"2017-08-31T00:00:00\",\"2017-09-30T00:00:00\",\"2017-10-31T00:00:00\",\"2017-11-30T00:00:00\",\"2017-12-31T00:00:00\",\"2018-01-31T00:00:00\",\"2018-02-28T00:00:00\",\"2018-03-31T00:00:00\",\"2018-04-30T00:00:00\",\"2018-05-31T00:00:00\",\"2018-06-30T00:00:00\",\"2018-07-31T00:00:00\",\"2018-08-31T00:00:00\",\"2018-09-30T00:00:00\",\"2018-10-31T00:00:00\",\"2018-11-30T00:00:00\",\"2018-12-31T00:00:00\",\"2019-01-31T00:00:00\",\"2019-02-28T00:00:00\",\"2019-03-31T00:00:00\",\"2019-04-30T00:00:00\",\"2019-05-31T00:00:00\",\"2019-06-30T00:00:00\",\"2019-07-31T00:00:00\",\"2019-08-31T00:00:00\",\"2019-09-30T00:00:00\",\"2019-10-31T00:00:00\",\"2019-11-30T00:00:00\",\"2019-12-31T00:00:00\",\"2020-01-31T00:00:00\",\"2020-02-29T00:00:00\",\"2020-03-31T00:00:00\",\"2020-04-30T00:00:00\",\"2020-05-31T00:00:00\",\"2020-06-30T00:00:00\",\"2020-07-31T00:00:00\",\"2020-08-31T00:00:00\",\"2020-09-30T00:00:00\",\"2020-10-31T00:00:00\",\"2020-11-30T00:00:00\",\"2020-12-31T00:00:00\",\"2021-01-31T00:00:00\",\"2021-02-28T00:00:00\",\"2021-03-31T00:00:00\",\"2021-04-30T00:00:00\",\"2021-05-31T00:00:00\",\"2021-06-30T00:00:00\",\"2021-07-31T00:00:00\",\"2021-08-31T00:00:00\",\"2021-09-30T00:00:00\",\"2021-10-31T00:00:00\",\"2021-11-30T00:00:00\",\"2021-12-31T00:00:00\",\"2022-01-31T00:00:00\",\"2022-02-28T00:00:00\",\"2022-03-31T00:00:00\",\"2022-04-30T00:00:00\",\"2022-05-31T00:00:00\",\"2022-06-30T00:00:00\",\"2022-07-31T00:00:00\",\"2022-08-31T00:00:00\",\"2022-09-30T00:00:00\",\"2022-10-31T00:00:00\",\"2022-11-30T00:00:00\",\"2022-12-31T00:00:00\",\"2023-01-31T00:00:00\",\"2023-02-28T00:00:00\",\"2023-03-31T00:00:00\",\"2023-04-30T00:00:00\",\"2023-05-31T00:00:00\",\"2023-06-30T00:00:00\"],\"y\":[2.14,2.17,2.13,2.18,2.22,2.26,2.29,2.12,1.97,1.92,1.79,1.68,1.65,1.83,1.76,1.94,1.8,1.87,1.74,1.63,1.41,1.53,1.59,1.54,1.41,1.42,1.62,1.71,1.54,1.4,1.49,1.47,1.6,1.73,1.94,1.95,2.05,2.02,1.97,1.92,1.81,1.73,1.82,1.76,1.84,1.88,1.86,1.96,2.11,2.12,2.05,2.17,2.07,2.11,2.12,2.08,2.14,2.05,1.97,1.71,1.85,1.95,1.88,1.95,1.74,1.69,1.76,1.55,1.53,1.54,1.61,1.77,1.65,1.41,0.87,1.07,1.15,1.34,1.55,1.8,1.63,1.7,1.77,1.99,2.13,2.15,2.37,2.41,2.42,2.32,2.4,2.33,2.37,2.51,2.5,2.56,2.44,2.62,2.84,2.88,2.64,2.33,2.53,2.48,2.15,2.52,2.34,2.3,2.24,2.43,2.32,2.18,2.18,2.18],\"type\":\"scatter\",\"xaxis\":\"x\",\"yaxis\":\"y2\"}],                        {\"template\":{\"data\":{\"candlestick\":[{\"decreasing\":{\"line\":{\"color\":\"#000033\"}},\"increasing\":{\"line\":{\"color\":\"#000032\"}},\"type\":\"candlestick\"}],\"contourcarpet\":[{\"colorscale\":[[0.0,\"#000011\"],[0.1111111111111111,\"#000012\"],[0.2222222222222222,\"#000013\"],[0.3333333333333333,\"#000014\"],[0.4444444444444444,\"#000015\"],[0.5555555555555556,\"#000016\"],[0.6666666666666666,\"#000017\"],[0.7777777777777778,\"#000018\"],[0.8888888888888888,\"#000019\"],[1.0,\"#000020\"]],\"type\":\"contourcarpet\"}],\"contour\":[{\"colorscale\":[[0.0,\"#000011\"],[0.1111111111111111,\"#000012\"],[0.2222222222222222,\"#000013\"],[0.3333333333333333,\"#000014\"],[0.4444444444444444,\"#000015\"],[0.5555555555555556,\"#000016\"],[0.6666666666666666,\"#000017\"],[0.7777777777777778,\"#000018\"],[0.8888888888888888,\"#000019\"],[1.0,\"#000020\"]],\"type\":\"contour\"}],\"heatmap\":[{\"colorscale\":[[0.0,\"#000011\"],[0.1111111111111111,\"#000012\"],[0.2222222222222222,\"#000013\"],[0.3333333333333333,\"#000014\"],[0.4444444444444444,\"#000015\"],[0.5555555555555556,\"#000016\"],[0.6666666666666666,\"#000017\"],[0.7777777777777778,\"#000018\"],[0.8888888888888888,\"#000019\"],[1.0,\"#000020\"]],\"type\":\"heatmap\"}],\"histogram2d\":[{\"colorscale\":[[0.0,\"#000011\"],[0.1111111111111111,\"#000012\"],[0.2222222222222222,\"#000013\"],[0.3333333333333333,\"#000014\"],[0.4444444444444444,\"#000015\"],[0.5555555555555556,\"#000016\"],[0.6666666666666666,\"#000017\"],[0.7777777777777778,\"#000018\"],[0.8888888888888888,\"#000019\"],[1.0,\"#000020\"]],\"type\":\"histogram2d\"}],\"icicle\":[{\"textfont\":{\"color\":\"white\"},\"type\":\"icicle\"}],\"sankey\":[{\"textfont\":{\"color\":\"#000036\"},\"type\":\"sankey\"}],\"scatter\":[{\"marker\":{\"line\":{\"width\":0}},\"type\":\"scatter\"}],\"table\":[{\"cells\":{\"fill\":{\"color\":\"#000038\"},\"font\":{\"color\":\"#000037\"},\"line\":{\"color\":\"#000039\"}},\"header\":{\"fill\":{\"color\":\"#000040\"},\"font\":{\"color\":\"#000036\"},\"line\":{\"color\":\"#000039\"}},\"type\":\"table\"}],\"waterfall\":[{\"connector\":{\"line\":{\"color\":\"#000036\",\"width\":2}},\"decreasing\":{\"marker\":{\"color\":\"#000033\"}},\"increasing\":{\"marker\":{\"color\":\"#000032\"}},\"totals\":{\"marker\":{\"color\":\"#000034\"}},\"type\":\"waterfall\"}]},\"layout\":{\"coloraxis\":{\"colorscale\":[[0.0,\"#000011\"],[0.1111111111111111,\"#000012\"],[0.2222222222222222,\"#000013\"],[0.3333333333333333,\"#000014\"],[0.4444444444444444,\"#000015\"],[0.5555555555555556,\"#000016\"],[0.6666666666666666,\"#000017\"],[0.7777777777777778,\"#000018\"],[0.8888888888888888,\"#000019\"],[1.0,\"#000020\"]]},\"colorscale\":{\"diverging\":[[0.0,\"#000021\"],[0.1,\"#000022\"],[0.2,\"#000023\"],[0.3,\"#000024\"],[0.4,\"#000025\"],[0.5,\"#000026\"],[0.6,\"#000027\"],[0.7,\"#000028\"],[0.8,\"#000029\"],[0.9,\"#000030\"],[1.0,\"#000031\"]],\"sequential\":[[0.0,\"#000011\"],[0.1111111111111111,\"#000012\"],[0.2222222222222222,\"#000013\"],[0.3333333333333333,\"#000014\"],[0.4444444444444444,\"#000015\"],[0.5555555555555556,\"#000016\"],[0.6666666666666666,\"#000017\"],[0.7777777777777778,\"#000018\"],[0.8888888888888888,\"#000019\"],[1.0,\"#000020\"]],\"sequentialminus\":[[0.0,\"#000011\"],[0.1111111111111111,\"#000012\"],[0.2222222222222222,\"#000013\"],[0.3333333333333333,\"#000014\"],[0.4444444444444444,\"#000015\"],[0.5555555555555556,\"#000016\"],[0.6666666666666666,\"#000017\"],[0.7777777777777778,\"#000018\"],[0.8888888888888888,\"#000019\"],[1.0,\"#000020\"]]},\"colorway\":[\"#000001\",\"#000002\",\"#000003\",\"#000004\",\"#000005\",\"#000006\",\"#000007\",\"#000008\",\"#000009\",\"#000010\"]}},\"xaxis\":{\"anchor\":\"y\",\"domain\":[0.0,0.94]},\"yaxis\":{\"anchor\":\"x\",\"domain\":[0.0,1.0],\"title\":{\"text\":\"Returns %\"}},\"yaxis2\":{\"anchor\":\"x\",\"overlaying\":\"y\",\"side\":\"right\",\"title\":{\"text\":\"US Inflation Rate\"}},\"title\":{\"text\":\"Weighted Portfolio Monthly Returns vs US Inflation Rate\"}},                        {\"responsive\": true}                    ).then(function(){\n",
       "                            \n",
       "var gd = document.getElementById('f1c1831e-9e17-4a2a-b22a-ce02ffeb96c2');\n",
       "var x = new MutationObserver(function (mutations, observer) {{\n",
       "        var display = window.getComputedStyle(gd).display;\n",
       "        if (!display || display === 'none') {{\n",
       "            console.log([gd, 'removed!']);\n",
       "            Plotly.purge(gd);\n",
       "            observer.disconnect();\n",
       "        }}\n",
       "}});\n",
       "\n",
       "// Listen for the removal of the full notebook cells\n",
       "var notebookContainer = gd.closest('#notebook-container');\n",
       "if (notebookContainer) {{\n",
       "    x.observe(notebookContainer, {childList: true});\n",
       "}}\n",
       "\n",
       "// Listen for the clearing of the current output cell\n",
       "var outputEl = gd.closest('.output');\n",
       "if (outputEl) {{\n",
       "    x.observe(outputEl, {childList: true});\n",
       "}}\n",
       "\n",
       "                        })                };                });            </script>        </div>"
      ]
     },
     "metadata": {},
     "output_type": "display_data"
    },
    {
     "data": {
      "application/vnd.plotly.v1+json": {
       "config": {
        "plotlyServerURL": "https://plot.ly"
       },
       "data": [
        {
         "mode": "lines",
         "name": "Portfolio Monthly Returns",
         "type": "scatter",
         "x": [
          "2014-01-31T00:00:00",
          "2014-02-28T00:00:00",
          "2014-03-31T00:00:00",
          "2014-04-30T00:00:00",
          "2014-05-31T00:00:00",
          "2014-06-30T00:00:00",
          "2014-07-31T00:00:00",
          "2014-08-31T00:00:00",
          "2014-09-30T00:00:00",
          "2014-10-31T00:00:00",
          "2014-11-30T00:00:00",
          "2014-12-31T00:00:00",
          "2015-01-31T00:00:00",
          "2015-02-28T00:00:00",
          "2015-03-31T00:00:00",
          "2015-04-30T00:00:00",
          "2015-05-31T00:00:00",
          "2015-06-30T00:00:00",
          "2015-07-31T00:00:00",
          "2015-08-31T00:00:00",
          "2015-09-30T00:00:00",
          "2015-10-31T00:00:00",
          "2015-11-30T00:00:00",
          "2015-12-31T00:00:00",
          "2016-01-31T00:00:00",
          "2016-02-29T00:00:00",
          "2016-03-31T00:00:00",
          "2016-04-30T00:00:00",
          "2016-05-31T00:00:00",
          "2016-06-30T00:00:00",
          "2016-07-31T00:00:00",
          "2016-08-31T00:00:00",
          "2016-09-30T00:00:00",
          "2016-10-31T00:00:00",
          "2016-11-30T00:00:00",
          "2016-12-31T00:00:00",
          "2017-01-31T00:00:00",
          "2017-02-28T00:00:00",
          "2017-03-31T00:00:00",
          "2017-04-30T00:00:00",
          "2017-05-31T00:00:00",
          "2017-06-30T00:00:00",
          "2017-07-31T00:00:00",
          "2017-08-31T00:00:00",
          "2017-09-30T00:00:00",
          "2017-10-31T00:00:00",
          "2017-11-30T00:00:00",
          "2017-12-31T00:00:00",
          "2018-01-31T00:00:00",
          "2018-02-28T00:00:00",
          "2018-03-31T00:00:00",
          "2018-04-30T00:00:00",
          "2018-05-31T00:00:00",
          "2018-06-30T00:00:00",
          "2018-07-31T00:00:00",
          "2018-08-31T00:00:00",
          "2018-09-30T00:00:00",
          "2018-10-31T00:00:00",
          "2018-11-30T00:00:00",
          "2018-12-31T00:00:00",
          "2019-01-31T00:00:00",
          "2019-02-28T00:00:00",
          "2019-03-31T00:00:00",
          "2019-04-30T00:00:00",
          "2019-05-31T00:00:00",
          "2019-06-30T00:00:00",
          "2019-07-31T00:00:00",
          "2019-08-31T00:00:00",
          "2019-09-30T00:00:00",
          "2019-10-31T00:00:00",
          "2019-11-30T00:00:00",
          "2019-12-31T00:00:00",
          "2020-01-31T00:00:00",
          "2020-02-29T00:00:00",
          "2020-03-31T00:00:00",
          "2020-04-30T00:00:00",
          "2020-05-31T00:00:00",
          "2020-06-30T00:00:00",
          "2020-07-31T00:00:00",
          "2020-08-31T00:00:00",
          "2020-09-30T00:00:00",
          "2020-10-31T00:00:00",
          "2020-11-30T00:00:00",
          "2020-12-31T00:00:00",
          "2021-01-31T00:00:00",
          "2021-02-28T00:00:00",
          "2021-03-31T00:00:00",
          "2021-04-30T00:00:00",
          "2021-05-31T00:00:00",
          "2021-06-30T00:00:00",
          "2021-07-31T00:00:00",
          "2021-08-31T00:00:00",
          "2021-09-30T00:00:00",
          "2021-10-31T00:00:00",
          "2021-11-30T00:00:00",
          "2021-12-31T00:00:00",
          "2022-01-31T00:00:00",
          "2022-02-28T00:00:00",
          "2022-03-31T00:00:00",
          "2022-04-30T00:00:00",
          "2022-05-31T00:00:00",
          "2022-06-30T00:00:00",
          "2022-07-31T00:00:00",
          "2022-08-31T00:00:00",
          "2022-09-30T00:00:00",
          "2022-10-31T00:00:00",
          "2022-11-30T00:00:00",
          "2022-12-31T00:00:00",
          "2023-01-31T00:00:00",
          "2023-02-28T00:00:00",
          "2023-03-31T00:00:00",
          "2023-04-30T00:00:00",
          "2023-05-31T00:00:00",
          "2023-06-30T00:00:00"
         ],
         "xaxis": "x",
         "y": [
          -0.022767789393831284,
          0.08456361411625557,
          0.006972160934285432,
          0.0238037700888325,
          0.029015320604546257,
          0.005313067748732969,
          -0.01668649174974357,
          0.06911081439840405,
          -0.0448092788571246,
          0.02527740795476241,
          0.07475266708656281,
          -0.04662816275823467,
          -0.08023685185296192,
          0.11993894956089579,
          -0.03593923064358806,
          0.03816585783639881,
          0.011121753621671893,
          -0.029380841496837617,
          0.020328166535782843,
          -0.017444784581634787,
          0.029076147512591355,
          0.1517269691576313,
          0.0789678634563773,
          0.02571068400140497,
          -0.07636176492052071,
          0.06806102633417566,
          0.08191537966579343,
          -0.004261542015104203,
          0.16751536930471533,
          0.046005284986976314,
          0.07219273607403709,
          0.028033515818111754,
          0.05691119903809505,
          0.02535154135272699,
          0.14427822654087152,
          0.10035523226758425,
          0.028372659180651683,
          0.045061734748758964,
          0.02647241209072182,
          0.027182888755201695,
          0.25469188826146794,
          0.011177006562607783,
          0.08631762482631022,
          0.11650412270871735,
          0.027752058853328876,
          0.137265688388849,
          0.08250986324254805,
          0.04322965315468652,
          0.06322756663304063,
          0.01159526622882745,
          -0.07752028831699842,
          0.036248469874994305,
          0.02889777919203862,
          -0.03760534958906392,
          0.062226232651354074,
          0.07019799702941576,
          -0.012312236438861257,
          -0.10040487114078223,
          -0.14093683940566726,
          -0.12078950196837968,
          0.06085758369202132,
          0.07354085447092662,
          0.08715554843473639,
          0.06695237801500209,
          -0.03973928720594766,
          0.15610996066152416,
          0.014666560489148939,
          -0.002263375493744668,
          0.0031813530044841887,
          0.1021802051696723,
          0.026123223711324473,
          0.04775451642142814,
          0.06177383855811769,
          0.0006785634591912615,
          -0.09311740675240732,
          0.16142329233884634,
          0.12969036999210037,
          0.052372449165385415,
          0.12440232943298124,
          0.12514443410818088,
          -0.024318008829977145,
          -0.025574732712359216,
          0.13535787664504606,
          0.0787257617539987,
          0.013629279353991164,
          0.07874014879308655,
          0.05497180374821897,
          0.09279155469313016,
          -0.03212064691858785,
          0.09833723588528787,
          0.04758958014863657,
          0.10471499709788867,
          -0.059202191398693205,
          0.1965143518791388,
          0.09191027713683786,
          -0.037176517736400405,
          -0.12399230739347256,
          0.0140321056178907,
          0.09158496969401209,
          -0.17921299739432361,
          -0.02912317479882698,
          -0.1518650904427895,
          0.14756540247989314,
          -0.09506046189850703,
          -0.11867412741102268,
          0.08666941729632138,
          0.08601074291688104,
          -0.08553648977894213,
          0.20755265708321158,
          0.04970324924387848,
          0.14238126353982583,
          0.03917618072011453,
          0.11235989332109808,
          0.020959340471572663
         ],
         "yaxis": "y"
        },
        {
         "mode": "lines",
         "name": "US M2 Money Supply",
         "type": "scatter",
         "x": [
          "2014-01-31T00:00:00",
          "2014-02-28T00:00:00",
          "2014-03-31T00:00:00",
          "2014-04-30T00:00:00",
          "2014-05-31T00:00:00",
          "2014-06-30T00:00:00",
          "2014-07-31T00:00:00",
          "2014-08-31T00:00:00",
          "2014-09-30T00:00:00",
          "2014-10-31T00:00:00",
          "2014-11-30T00:00:00",
          "2014-12-31T00:00:00",
          "2015-01-31T00:00:00",
          "2015-02-28T00:00:00",
          "2015-03-31T00:00:00",
          "2015-04-30T00:00:00",
          "2015-05-31T00:00:00",
          "2015-06-30T00:00:00",
          "2015-07-31T00:00:00",
          "2015-08-31T00:00:00",
          "2015-09-30T00:00:00",
          "2015-10-31T00:00:00",
          "2015-11-30T00:00:00",
          "2015-12-31T00:00:00",
          "2016-01-31T00:00:00",
          "2016-02-29T00:00:00",
          "2016-03-31T00:00:00",
          "2016-04-30T00:00:00",
          "2016-05-31T00:00:00",
          "2016-06-30T00:00:00",
          "2016-07-31T00:00:00",
          "2016-08-31T00:00:00",
          "2016-09-30T00:00:00",
          "2016-10-31T00:00:00",
          "2016-11-30T00:00:00",
          "2016-12-31T00:00:00",
          "2017-01-31T00:00:00",
          "2017-02-28T00:00:00",
          "2017-03-31T00:00:00",
          "2017-04-30T00:00:00",
          "2017-05-31T00:00:00",
          "2017-06-30T00:00:00",
          "2017-07-31T00:00:00",
          "2017-08-31T00:00:00",
          "2017-09-30T00:00:00",
          "2017-10-31T00:00:00",
          "2017-11-30T00:00:00",
          "2017-12-31T00:00:00",
          "2018-01-31T00:00:00",
          "2018-02-28T00:00:00",
          "2018-03-31T00:00:00",
          "2018-04-30T00:00:00",
          "2018-05-31T00:00:00",
          "2018-06-30T00:00:00",
          "2018-07-31T00:00:00",
          "2018-08-31T00:00:00",
          "2018-09-30T00:00:00",
          "2018-10-31T00:00:00",
          "2018-11-30T00:00:00",
          "2018-12-31T00:00:00",
          "2019-01-31T00:00:00",
          "2019-02-28T00:00:00",
          "2019-03-31T00:00:00",
          "2019-04-30T00:00:00",
          "2019-05-31T00:00:00",
          "2019-06-30T00:00:00",
          "2019-07-31T00:00:00",
          "2019-08-31T00:00:00",
          "2019-09-30T00:00:00",
          "2019-10-31T00:00:00",
          "2019-11-30T00:00:00",
          "2019-12-31T00:00:00",
          "2020-01-31T00:00:00",
          "2020-02-29T00:00:00",
          "2020-03-31T00:00:00",
          "2020-04-30T00:00:00",
          "2020-05-31T00:00:00",
          "2020-06-30T00:00:00",
          "2020-07-31T00:00:00",
          "2020-08-31T00:00:00",
          "2020-09-30T00:00:00",
          "2020-10-31T00:00:00",
          "2020-11-30T00:00:00",
          "2020-12-31T00:00:00",
          "2021-01-31T00:00:00",
          "2021-02-28T00:00:00",
          "2021-03-31T00:00:00",
          "2021-04-30T00:00:00",
          "2021-05-31T00:00:00",
          "2021-06-30T00:00:00",
          "2021-07-31T00:00:00",
          "2021-08-31T00:00:00",
          "2021-09-30T00:00:00",
          "2021-10-31T00:00:00",
          "2021-11-30T00:00:00",
          "2021-12-31T00:00:00",
          "2022-01-31T00:00:00",
          "2022-02-28T00:00:00",
          "2022-03-31T00:00:00",
          "2022-04-30T00:00:00",
          "2022-05-31T00:00:00",
          "2022-06-30T00:00:00",
          "2022-07-31T00:00:00",
          "2022-08-31T00:00:00",
          "2022-09-30T00:00:00",
          "2022-10-31T00:00:00",
          "2022-11-30T00:00:00",
          "2022-12-31T00:00:00",
          "2023-01-31T00:00:00",
          "2023-02-28T00:00:00",
          "2023-03-31T00:00:00",
          "2023-04-30T00:00:00",
          "2023-05-31T00:00:00",
          "2023-06-30T00:00:00"
         ],
         "xaxis": "x",
         "y": [
          11114.3,
          11174.9,
          11223.4,
          11295.1,
          11346.6,
          11404,
          11468.7,
          11477.8,
          11525.2,
          11602.6,
          11605.7,
          11704.4,
          11768.5,
          11887.3,
          11891.8,
          11925.2,
          11979.5,
          12041.1,
          12069.4,
          12139.7,
          12169.9,
          12228.9,
          12292.5,
          12367,
          12502.9,
          12566.9,
          12652.6,
          12727.1,
          12767.8,
          12854.8,
          12913.4,
          12997.6,
          13052,
          13134.3,
          13195.8,
          13209.3,
          13295.1,
          13381.3,
          13437.6,
          13498.3,
          13559.7,
          13587.5,
          13647.5,
          13709.1,
          13734.2,
          13786.8,
          13823.5,
          13839,
          13876.2,
          13920.9,
          13976.8,
          13995.8,
          14075.2,
          14124.5,
          14152.1,
          14219.6,
          14227.1,
          14239.1,
          14248.5,
          14405.1,
          14461.8,
          14462.1,
          14510.2,
          14577.1,
          14685.7,
          14786.9,
          14891.5,
          14928.3,
          15074.8,
          15176.2,
          15271.6,
          15323.3,
          15437.2,
          15424.7,
          16521.8,
          17393.8,
          17925.5,
          18216.2,
          18250.9,
          18406,
          18572.5,
          18741.7,
          18871.8,
          18938,
          19376.4,
          19370.8,
          null,
          null,
          null,
          null,
          null,
          null,
          null,
          null,
          null,
          null,
          null,
          null,
          null,
          null,
          null,
          null,
          null,
          null,
          null,
          null,
          null,
          null,
          null,
          null,
          null,
          null,
          null,
          null
         ],
         "yaxis": "y2"
        }
       ],
       "layout": {
        "template": {
         "data": {
          "candlestick": [
           {
            "decreasing": {
             "line": {
              "color": "#000033"
             }
            },
            "increasing": {
             "line": {
              "color": "#000032"
             }
            },
            "type": "candlestick"
           }
          ],
          "contour": [
           {
            "colorscale": [
             [
              0,
              "#000011"
             ],
             [
              0.1111111111111111,
              "#000012"
             ],
             [
              0.2222222222222222,
              "#000013"
             ],
             [
              0.3333333333333333,
              "#000014"
             ],
             [
              0.4444444444444444,
              "#000015"
             ],
             [
              0.5555555555555556,
              "#000016"
             ],
             [
              0.6666666666666666,
              "#000017"
             ],
             [
              0.7777777777777778,
              "#000018"
             ],
             [
              0.8888888888888888,
              "#000019"
             ],
             [
              1,
              "#000020"
             ]
            ],
            "type": "contour"
           }
          ],
          "contourcarpet": [
           {
            "colorscale": [
             [
              0,
              "#000011"
             ],
             [
              0.1111111111111111,
              "#000012"
             ],
             [
              0.2222222222222222,
              "#000013"
             ],
             [
              0.3333333333333333,
              "#000014"
             ],
             [
              0.4444444444444444,
              "#000015"
             ],
             [
              0.5555555555555556,
              "#000016"
             ],
             [
              0.6666666666666666,
              "#000017"
             ],
             [
              0.7777777777777778,
              "#000018"
             ],
             [
              0.8888888888888888,
              "#000019"
             ],
             [
              1,
              "#000020"
             ]
            ],
            "type": "contourcarpet"
           }
          ],
          "heatmap": [
           {
            "colorscale": [
             [
              0,
              "#000011"
             ],
             [
              0.1111111111111111,
              "#000012"
             ],
             [
              0.2222222222222222,
              "#000013"
             ],
             [
              0.3333333333333333,
              "#000014"
             ],
             [
              0.4444444444444444,
              "#000015"
             ],
             [
              0.5555555555555556,
              "#000016"
             ],
             [
              0.6666666666666666,
              "#000017"
             ],
             [
              0.7777777777777778,
              "#000018"
             ],
             [
              0.8888888888888888,
              "#000019"
             ],
             [
              1,
              "#000020"
             ]
            ],
            "type": "heatmap"
           }
          ],
          "histogram2d": [
           {
            "colorscale": [
             [
              0,
              "#000011"
             ],
             [
              0.1111111111111111,
              "#000012"
             ],
             [
              0.2222222222222222,
              "#000013"
             ],
             [
              0.3333333333333333,
              "#000014"
             ],
             [
              0.4444444444444444,
              "#000015"
             ],
             [
              0.5555555555555556,
              "#000016"
             ],
             [
              0.6666666666666666,
              "#000017"
             ],
             [
              0.7777777777777778,
              "#000018"
             ],
             [
              0.8888888888888888,
              "#000019"
             ],
             [
              1,
              "#000020"
             ]
            ],
            "type": "histogram2d"
           }
          ],
          "icicle": [
           {
            "textfont": {
             "color": "white"
            },
            "type": "icicle"
           }
          ],
          "sankey": [
           {
            "textfont": {
             "color": "#000036"
            },
            "type": "sankey"
           }
          ],
          "scatter": [
           {
            "marker": {
             "line": {
              "width": 0
             }
            },
            "type": "scatter"
           }
          ],
          "table": [
           {
            "cells": {
             "fill": {
              "color": "#000038"
             },
             "font": {
              "color": "#000037"
             },
             "line": {
              "color": "#000039"
             }
            },
            "header": {
             "fill": {
              "color": "#000040"
             },
             "font": {
              "color": "#000036"
             },
             "line": {
              "color": "#000039"
             }
            },
            "type": "table"
           }
          ],
          "waterfall": [
           {
            "connector": {
             "line": {
              "color": "#000036",
              "width": 2
             }
            },
            "decreasing": {
             "marker": {
              "color": "#000033"
             }
            },
            "increasing": {
             "marker": {
              "color": "#000032"
             }
            },
            "totals": {
             "marker": {
              "color": "#000034"
             }
            },
            "type": "waterfall"
           }
          ]
         },
         "layout": {
          "coloraxis": {
           "colorscale": [
            [
             0,
             "#000011"
            ],
            [
             0.1111111111111111,
             "#000012"
            ],
            [
             0.2222222222222222,
             "#000013"
            ],
            [
             0.3333333333333333,
             "#000014"
            ],
            [
             0.4444444444444444,
             "#000015"
            ],
            [
             0.5555555555555556,
             "#000016"
            ],
            [
             0.6666666666666666,
             "#000017"
            ],
            [
             0.7777777777777778,
             "#000018"
            ],
            [
             0.8888888888888888,
             "#000019"
            ],
            [
             1,
             "#000020"
            ]
           ]
          },
          "colorscale": {
           "diverging": [
            [
             0,
             "#000021"
            ],
            [
             0.1,
             "#000022"
            ],
            [
             0.2,
             "#000023"
            ],
            [
             0.3,
             "#000024"
            ],
            [
             0.4,
             "#000025"
            ],
            [
             0.5,
             "#000026"
            ],
            [
             0.6,
             "#000027"
            ],
            [
             0.7,
             "#000028"
            ],
            [
             0.8,
             "#000029"
            ],
            [
             0.9,
             "#000030"
            ],
            [
             1,
             "#000031"
            ]
           ],
           "sequential": [
            [
             0,
             "#000011"
            ],
            [
             0.1111111111111111,
             "#000012"
            ],
            [
             0.2222222222222222,
             "#000013"
            ],
            [
             0.3333333333333333,
             "#000014"
            ],
            [
             0.4444444444444444,
             "#000015"
            ],
            [
             0.5555555555555556,
             "#000016"
            ],
            [
             0.6666666666666666,
             "#000017"
            ],
            [
             0.7777777777777778,
             "#000018"
            ],
            [
             0.8888888888888888,
             "#000019"
            ],
            [
             1,
             "#000020"
            ]
           ],
           "sequentialminus": [
            [
             0,
             "#000011"
            ],
            [
             0.1111111111111111,
             "#000012"
            ],
            [
             0.2222222222222222,
             "#000013"
            ],
            [
             0.3333333333333333,
             "#000014"
            ],
            [
             0.4444444444444444,
             "#000015"
            ],
            [
             0.5555555555555556,
             "#000016"
            ],
            [
             0.6666666666666666,
             "#000017"
            ],
            [
             0.7777777777777778,
             "#000018"
            ],
            [
             0.8888888888888888,
             "#000019"
            ],
            [
             1,
             "#000020"
            ]
           ]
          },
          "colorway": [
           "#000001",
           "#000002",
           "#000003",
           "#000004",
           "#000005",
           "#000006",
           "#000007",
           "#000008",
           "#000009",
           "#000010"
          ]
         }
        },
        "title": {
         "text": "Weighted Portfolio Monthly Returns vs US M2 Money Supply"
        },
        "xaxis": {
         "anchor": "y",
         "domain": [
          0,
          0.94
         ]
        },
        "yaxis": {
         "anchor": "x",
         "domain": [
          0,
          1
         ],
         "title": {
          "text": "Returns %"
         }
        },
        "yaxis2": {
         "anchor": "x",
         "overlaying": "y",
         "side": "right",
         "title": {
          "text": "US M2 Money Supply"
         }
        }
       }
      },
      "text/html": [
       "<div>                            <div id=\"0ccf41c9-5fad-4fac-b512-135366da2138\" class=\"plotly-graph-div\" style=\"height:525px; width:100%;\"></div>            <script type=\"text/javascript\">                require([\"plotly\"], function(Plotly) {                    window.PLOTLYENV=window.PLOTLYENV || {};                                    if (document.getElementById(\"0ccf41c9-5fad-4fac-b512-135366da2138\")) {                    Plotly.newPlot(                        \"0ccf41c9-5fad-4fac-b512-135366da2138\",                        [{\"mode\":\"lines\",\"name\":\"Portfolio Monthly Returns\",\"x\":[\"2014-01-31T00:00:00\",\"2014-02-28T00:00:00\",\"2014-03-31T00:00:00\",\"2014-04-30T00:00:00\",\"2014-05-31T00:00:00\",\"2014-06-30T00:00:00\",\"2014-07-31T00:00:00\",\"2014-08-31T00:00:00\",\"2014-09-30T00:00:00\",\"2014-10-31T00:00:00\",\"2014-11-30T00:00:00\",\"2014-12-31T00:00:00\",\"2015-01-31T00:00:00\",\"2015-02-28T00:00:00\",\"2015-03-31T00:00:00\",\"2015-04-30T00:00:00\",\"2015-05-31T00:00:00\",\"2015-06-30T00:00:00\",\"2015-07-31T00:00:00\",\"2015-08-31T00:00:00\",\"2015-09-30T00:00:00\",\"2015-10-31T00:00:00\",\"2015-11-30T00:00:00\",\"2015-12-31T00:00:00\",\"2016-01-31T00:00:00\",\"2016-02-29T00:00:00\",\"2016-03-31T00:00:00\",\"2016-04-30T00:00:00\",\"2016-05-31T00:00:00\",\"2016-06-30T00:00:00\",\"2016-07-31T00:00:00\",\"2016-08-31T00:00:00\",\"2016-09-30T00:00:00\",\"2016-10-31T00:00:00\",\"2016-11-30T00:00:00\",\"2016-12-31T00:00:00\",\"2017-01-31T00:00:00\",\"2017-02-28T00:00:00\",\"2017-03-31T00:00:00\",\"2017-04-30T00:00:00\",\"2017-05-31T00:00:00\",\"2017-06-30T00:00:00\",\"2017-07-31T00:00:00\",\"2017-08-31T00:00:00\",\"2017-09-30T00:00:00\",\"2017-10-31T00:00:00\",\"2017-11-30T00:00:00\",\"2017-12-31T00:00:00\",\"2018-01-31T00:00:00\",\"2018-02-28T00:00:00\",\"2018-03-31T00:00:00\",\"2018-04-30T00:00:00\",\"2018-05-31T00:00:00\",\"2018-06-30T00:00:00\",\"2018-07-31T00:00:00\",\"2018-08-31T00:00:00\",\"2018-09-30T00:00:00\",\"2018-10-31T00:00:00\",\"2018-11-30T00:00:00\",\"2018-12-31T00:00:00\",\"2019-01-31T00:00:00\",\"2019-02-28T00:00:00\",\"2019-03-31T00:00:00\",\"2019-04-30T00:00:00\",\"2019-05-31T00:00:00\",\"2019-06-30T00:00:00\",\"2019-07-31T00:00:00\",\"2019-08-31T00:00:00\",\"2019-09-30T00:00:00\",\"2019-10-31T00:00:00\",\"2019-11-30T00:00:00\",\"2019-12-31T00:00:00\",\"2020-01-31T00:00:00\",\"2020-02-29T00:00:00\",\"2020-03-31T00:00:00\",\"2020-04-30T00:00:00\",\"2020-05-31T00:00:00\",\"2020-06-30T00:00:00\",\"2020-07-31T00:00:00\",\"2020-08-31T00:00:00\",\"2020-09-30T00:00:00\",\"2020-10-31T00:00:00\",\"2020-11-30T00:00:00\",\"2020-12-31T00:00:00\",\"2021-01-31T00:00:00\",\"2021-02-28T00:00:00\",\"2021-03-31T00:00:00\",\"2021-04-30T00:00:00\",\"2021-05-31T00:00:00\",\"2021-06-30T00:00:00\",\"2021-07-31T00:00:00\",\"2021-08-31T00:00:00\",\"2021-09-30T00:00:00\",\"2021-10-31T00:00:00\",\"2021-11-30T00:00:00\",\"2021-12-31T00:00:00\",\"2022-01-31T00:00:00\",\"2022-02-28T00:00:00\",\"2022-03-31T00:00:00\",\"2022-04-30T00:00:00\",\"2022-05-31T00:00:00\",\"2022-06-30T00:00:00\",\"2022-07-31T00:00:00\",\"2022-08-31T00:00:00\",\"2022-09-30T00:00:00\",\"2022-10-31T00:00:00\",\"2022-11-30T00:00:00\",\"2022-12-31T00:00:00\",\"2023-01-31T00:00:00\",\"2023-02-28T00:00:00\",\"2023-03-31T00:00:00\",\"2023-04-30T00:00:00\",\"2023-05-31T00:00:00\",\"2023-06-30T00:00:00\"],\"y\":[-0.022767789393831284,0.08456361411625557,0.006972160934285432,0.0238037700888325,0.029015320604546257,0.005313067748732969,-0.01668649174974357,0.06911081439840405,-0.0448092788571246,0.02527740795476241,0.07475266708656281,-0.04662816275823467,-0.08023685185296192,0.11993894956089579,-0.03593923064358806,0.03816585783639881,0.011121753621671893,-0.029380841496837617,0.020328166535782843,-0.017444784581634787,0.029076147512591355,0.1517269691576313,0.0789678634563773,0.02571068400140497,-0.07636176492052071,0.06806102633417566,0.08191537966579343,-0.004261542015104203,0.16751536930471533,0.046005284986976314,0.07219273607403709,0.028033515818111754,0.05691119903809505,0.02535154135272699,0.14427822654087152,0.10035523226758425,0.028372659180651683,0.045061734748758964,0.02647241209072182,0.027182888755201695,0.25469188826146794,0.011177006562607783,0.08631762482631022,0.11650412270871735,0.027752058853328876,0.137265688388849,0.08250986324254805,0.04322965315468652,0.06322756663304063,0.01159526622882745,-0.07752028831699842,0.036248469874994305,0.02889777919203862,-0.03760534958906392,0.062226232651354074,0.07019799702941576,-0.012312236438861257,-0.10040487114078223,-0.14093683940566726,-0.12078950196837968,0.06085758369202132,0.07354085447092662,0.08715554843473639,0.06695237801500209,-0.03973928720594766,0.15610996066152416,0.014666560489148939,-0.002263375493744668,0.0031813530044841887,0.1021802051696723,0.026123223711324473,0.04775451642142814,0.06177383855811769,0.0006785634591912615,-0.09311740675240732,0.16142329233884634,0.12969036999210037,0.052372449165385415,0.12440232943298124,0.12514443410818088,-0.024318008829977145,-0.025574732712359216,0.13535787664504606,0.0787257617539987,0.013629279353991164,0.07874014879308655,0.05497180374821897,0.09279155469313016,-0.03212064691858785,0.09833723588528787,0.04758958014863657,0.10471499709788867,-0.059202191398693205,0.1965143518791388,0.09191027713683786,-0.037176517736400405,-0.12399230739347256,0.0140321056178907,0.09158496969401209,-0.17921299739432361,-0.02912317479882698,-0.1518650904427895,0.14756540247989314,-0.09506046189850703,-0.11867412741102268,0.08666941729632138,0.08601074291688104,-0.08553648977894213,0.20755265708321158,0.04970324924387848,0.14238126353982583,0.03917618072011453,0.11235989332109808,0.020959340471572663],\"type\":\"scatter\",\"xaxis\":\"x\",\"yaxis\":\"y\"},{\"mode\":\"lines\",\"name\":\"US M2 Money Supply\",\"x\":[\"2014-01-31T00:00:00\",\"2014-02-28T00:00:00\",\"2014-03-31T00:00:00\",\"2014-04-30T00:00:00\",\"2014-05-31T00:00:00\",\"2014-06-30T00:00:00\",\"2014-07-31T00:00:00\",\"2014-08-31T00:00:00\",\"2014-09-30T00:00:00\",\"2014-10-31T00:00:00\",\"2014-11-30T00:00:00\",\"2014-12-31T00:00:00\",\"2015-01-31T00:00:00\",\"2015-02-28T00:00:00\",\"2015-03-31T00:00:00\",\"2015-04-30T00:00:00\",\"2015-05-31T00:00:00\",\"2015-06-30T00:00:00\",\"2015-07-31T00:00:00\",\"2015-08-31T00:00:00\",\"2015-09-30T00:00:00\",\"2015-10-31T00:00:00\",\"2015-11-30T00:00:00\",\"2015-12-31T00:00:00\",\"2016-01-31T00:00:00\",\"2016-02-29T00:00:00\",\"2016-03-31T00:00:00\",\"2016-04-30T00:00:00\",\"2016-05-31T00:00:00\",\"2016-06-30T00:00:00\",\"2016-07-31T00:00:00\",\"2016-08-31T00:00:00\",\"2016-09-30T00:00:00\",\"2016-10-31T00:00:00\",\"2016-11-30T00:00:00\",\"2016-12-31T00:00:00\",\"2017-01-31T00:00:00\",\"2017-02-28T00:00:00\",\"2017-03-31T00:00:00\",\"2017-04-30T00:00:00\",\"2017-05-31T00:00:00\",\"2017-06-30T00:00:00\",\"2017-07-31T00:00:00\",\"2017-08-31T00:00:00\",\"2017-09-30T00:00:00\",\"2017-10-31T00:00:00\",\"2017-11-30T00:00:00\",\"2017-12-31T00:00:00\",\"2018-01-31T00:00:00\",\"2018-02-28T00:00:00\",\"2018-03-31T00:00:00\",\"2018-04-30T00:00:00\",\"2018-05-31T00:00:00\",\"2018-06-30T00:00:00\",\"2018-07-31T00:00:00\",\"2018-08-31T00:00:00\",\"2018-09-30T00:00:00\",\"2018-10-31T00:00:00\",\"2018-11-30T00:00:00\",\"2018-12-31T00:00:00\",\"2019-01-31T00:00:00\",\"2019-02-28T00:00:00\",\"2019-03-31T00:00:00\",\"2019-04-30T00:00:00\",\"2019-05-31T00:00:00\",\"2019-06-30T00:00:00\",\"2019-07-31T00:00:00\",\"2019-08-31T00:00:00\",\"2019-09-30T00:00:00\",\"2019-10-31T00:00:00\",\"2019-11-30T00:00:00\",\"2019-12-31T00:00:00\",\"2020-01-31T00:00:00\",\"2020-02-29T00:00:00\",\"2020-03-31T00:00:00\",\"2020-04-30T00:00:00\",\"2020-05-31T00:00:00\",\"2020-06-30T00:00:00\",\"2020-07-31T00:00:00\",\"2020-08-31T00:00:00\",\"2020-09-30T00:00:00\",\"2020-10-31T00:00:00\",\"2020-11-30T00:00:00\",\"2020-12-31T00:00:00\",\"2021-01-31T00:00:00\",\"2021-02-28T00:00:00\",\"2021-03-31T00:00:00\",\"2021-04-30T00:00:00\",\"2021-05-31T00:00:00\",\"2021-06-30T00:00:00\",\"2021-07-31T00:00:00\",\"2021-08-31T00:00:00\",\"2021-09-30T00:00:00\",\"2021-10-31T00:00:00\",\"2021-11-30T00:00:00\",\"2021-12-31T00:00:00\",\"2022-01-31T00:00:00\",\"2022-02-28T00:00:00\",\"2022-03-31T00:00:00\",\"2022-04-30T00:00:00\",\"2022-05-31T00:00:00\",\"2022-06-30T00:00:00\",\"2022-07-31T00:00:00\",\"2022-08-31T00:00:00\",\"2022-09-30T00:00:00\",\"2022-10-31T00:00:00\",\"2022-11-30T00:00:00\",\"2022-12-31T00:00:00\",\"2023-01-31T00:00:00\",\"2023-02-28T00:00:00\",\"2023-03-31T00:00:00\",\"2023-04-30T00:00:00\",\"2023-05-31T00:00:00\",\"2023-06-30T00:00:00\"],\"y\":[11114.3,11174.9,11223.4,11295.1,11346.6,11404.0,11468.7,11477.8,11525.2,11602.6,11605.7,11704.4,11768.5,11887.3,11891.8,11925.2,11979.5,12041.1,12069.4,12139.7,12169.9,12228.9,12292.5,12367.0,12502.9,12566.9,12652.6,12727.1,12767.8,12854.8,12913.4,12997.6,13052.0,13134.3,13195.8,13209.3,13295.1,13381.3,13437.6,13498.3,13559.7,13587.5,13647.5,13709.1,13734.2,13786.8,13823.5,13839.0,13876.2,13920.9,13976.8,13995.8,14075.2,14124.5,14152.1,14219.6,14227.1,14239.1,14248.5,14405.1,14461.8,14462.1,14510.2,14577.1,14685.7,14786.9,14891.5,14928.3,15074.8,15176.2,15271.6,15323.3,15437.2,15424.7,16521.8,17393.8,17925.5,18216.2,18250.9,18406.0,18572.5,18741.7,18871.8,18938.0,19376.4,19370.8,null,null,null,null,null,null,null,null,null,null,null,null,null,null,null,null,null,null,null,null,null,null,null,null,null,null,null,null],\"type\":\"scatter\",\"xaxis\":\"x\",\"yaxis\":\"y2\"}],                        {\"template\":{\"data\":{\"candlestick\":[{\"decreasing\":{\"line\":{\"color\":\"#000033\"}},\"increasing\":{\"line\":{\"color\":\"#000032\"}},\"type\":\"candlestick\"}],\"contourcarpet\":[{\"colorscale\":[[0.0,\"#000011\"],[0.1111111111111111,\"#000012\"],[0.2222222222222222,\"#000013\"],[0.3333333333333333,\"#000014\"],[0.4444444444444444,\"#000015\"],[0.5555555555555556,\"#000016\"],[0.6666666666666666,\"#000017\"],[0.7777777777777778,\"#000018\"],[0.8888888888888888,\"#000019\"],[1.0,\"#000020\"]],\"type\":\"contourcarpet\"}],\"contour\":[{\"colorscale\":[[0.0,\"#000011\"],[0.1111111111111111,\"#000012\"],[0.2222222222222222,\"#000013\"],[0.3333333333333333,\"#000014\"],[0.4444444444444444,\"#000015\"],[0.5555555555555556,\"#000016\"],[0.6666666666666666,\"#000017\"],[0.7777777777777778,\"#000018\"],[0.8888888888888888,\"#000019\"],[1.0,\"#000020\"]],\"type\":\"contour\"}],\"heatmap\":[{\"colorscale\":[[0.0,\"#000011\"],[0.1111111111111111,\"#000012\"],[0.2222222222222222,\"#000013\"],[0.3333333333333333,\"#000014\"],[0.4444444444444444,\"#000015\"],[0.5555555555555556,\"#000016\"],[0.6666666666666666,\"#000017\"],[0.7777777777777778,\"#000018\"],[0.8888888888888888,\"#000019\"],[1.0,\"#000020\"]],\"type\":\"heatmap\"}],\"histogram2d\":[{\"colorscale\":[[0.0,\"#000011\"],[0.1111111111111111,\"#000012\"],[0.2222222222222222,\"#000013\"],[0.3333333333333333,\"#000014\"],[0.4444444444444444,\"#000015\"],[0.5555555555555556,\"#000016\"],[0.6666666666666666,\"#000017\"],[0.7777777777777778,\"#000018\"],[0.8888888888888888,\"#000019\"],[1.0,\"#000020\"]],\"type\":\"histogram2d\"}],\"icicle\":[{\"textfont\":{\"color\":\"white\"},\"type\":\"icicle\"}],\"sankey\":[{\"textfont\":{\"color\":\"#000036\"},\"type\":\"sankey\"}],\"scatter\":[{\"marker\":{\"line\":{\"width\":0}},\"type\":\"scatter\"}],\"table\":[{\"cells\":{\"fill\":{\"color\":\"#000038\"},\"font\":{\"color\":\"#000037\"},\"line\":{\"color\":\"#000039\"}},\"header\":{\"fill\":{\"color\":\"#000040\"},\"font\":{\"color\":\"#000036\"},\"line\":{\"color\":\"#000039\"}},\"type\":\"table\"}],\"waterfall\":[{\"connector\":{\"line\":{\"color\":\"#000036\",\"width\":2}},\"decreasing\":{\"marker\":{\"color\":\"#000033\"}},\"increasing\":{\"marker\":{\"color\":\"#000032\"}},\"totals\":{\"marker\":{\"color\":\"#000034\"}},\"type\":\"waterfall\"}]},\"layout\":{\"coloraxis\":{\"colorscale\":[[0.0,\"#000011\"],[0.1111111111111111,\"#000012\"],[0.2222222222222222,\"#000013\"],[0.3333333333333333,\"#000014\"],[0.4444444444444444,\"#000015\"],[0.5555555555555556,\"#000016\"],[0.6666666666666666,\"#000017\"],[0.7777777777777778,\"#000018\"],[0.8888888888888888,\"#000019\"],[1.0,\"#000020\"]]},\"colorscale\":{\"diverging\":[[0.0,\"#000021\"],[0.1,\"#000022\"],[0.2,\"#000023\"],[0.3,\"#000024\"],[0.4,\"#000025\"],[0.5,\"#000026\"],[0.6,\"#000027\"],[0.7,\"#000028\"],[0.8,\"#000029\"],[0.9,\"#000030\"],[1.0,\"#000031\"]],\"sequential\":[[0.0,\"#000011\"],[0.1111111111111111,\"#000012\"],[0.2222222222222222,\"#000013\"],[0.3333333333333333,\"#000014\"],[0.4444444444444444,\"#000015\"],[0.5555555555555556,\"#000016\"],[0.6666666666666666,\"#000017\"],[0.7777777777777778,\"#000018\"],[0.8888888888888888,\"#000019\"],[1.0,\"#000020\"]],\"sequentialminus\":[[0.0,\"#000011\"],[0.1111111111111111,\"#000012\"],[0.2222222222222222,\"#000013\"],[0.3333333333333333,\"#000014\"],[0.4444444444444444,\"#000015\"],[0.5555555555555556,\"#000016\"],[0.6666666666666666,\"#000017\"],[0.7777777777777778,\"#000018\"],[0.8888888888888888,\"#000019\"],[1.0,\"#000020\"]]},\"colorway\":[\"#000001\",\"#000002\",\"#000003\",\"#000004\",\"#000005\",\"#000006\",\"#000007\",\"#000008\",\"#000009\",\"#000010\"]}},\"xaxis\":{\"anchor\":\"y\",\"domain\":[0.0,0.94]},\"yaxis\":{\"anchor\":\"x\",\"domain\":[0.0,1.0],\"title\":{\"text\":\"Returns %\"}},\"yaxis2\":{\"anchor\":\"x\",\"overlaying\":\"y\",\"side\":\"right\",\"title\":{\"text\":\"US M2 Money Supply\"}},\"title\":{\"text\":\"Weighted Portfolio Monthly Returns vs US M2 Money Supply\"}},                        {\"responsive\": true}                    ).then(function(){\n",
       "                            \n",
       "var gd = document.getElementById('0ccf41c9-5fad-4fac-b512-135366da2138');\n",
       "var x = new MutationObserver(function (mutations, observer) {{\n",
       "        var display = window.getComputedStyle(gd).display;\n",
       "        if (!display || display === 'none') {{\n",
       "            console.log([gd, 'removed!']);\n",
       "            Plotly.purge(gd);\n",
       "            observer.disconnect();\n",
       "        }}\n",
       "}});\n",
       "\n",
       "// Listen for the removal of the full notebook cells\n",
       "var notebookContainer = gd.closest('#notebook-container');\n",
       "if (notebookContainer) {{\n",
       "    x.observe(notebookContainer, {childList: true});\n",
       "}}\n",
       "\n",
       "// Listen for the clearing of the current output cell\n",
       "var outputEl = gd.closest('.output');\n",
       "if (outputEl) {{\n",
       "    x.observe(outputEl, {childList: true});\n",
       "}}\n",
       "\n",
       "                        })                };                });            </script>        </div>"
      ]
     },
     "metadata": {},
     "output_type": "display_data"
    },
    {
     "data": {
      "application/vnd.plotly.v1+json": {
       "config": {
        "plotlyServerURL": "https://plot.ly"
       },
       "data": [
        {
         "mode": "lines",
         "name": "Portfolio Monthly Returns",
         "type": "scatter",
         "x": [
          "2014-01-31T00:00:00",
          "2014-02-28T00:00:00",
          "2014-03-31T00:00:00",
          "2014-04-30T00:00:00",
          "2014-05-31T00:00:00",
          "2014-06-30T00:00:00",
          "2014-07-31T00:00:00",
          "2014-08-31T00:00:00",
          "2014-09-30T00:00:00",
          "2014-10-31T00:00:00",
          "2014-11-30T00:00:00",
          "2014-12-31T00:00:00",
          "2015-01-31T00:00:00",
          "2015-02-28T00:00:00",
          "2015-03-31T00:00:00",
          "2015-04-30T00:00:00",
          "2015-05-31T00:00:00",
          "2015-06-30T00:00:00",
          "2015-07-31T00:00:00",
          "2015-08-31T00:00:00",
          "2015-09-30T00:00:00",
          "2015-10-31T00:00:00",
          "2015-11-30T00:00:00",
          "2015-12-31T00:00:00",
          "2016-01-31T00:00:00",
          "2016-02-29T00:00:00",
          "2016-03-31T00:00:00",
          "2016-04-30T00:00:00",
          "2016-05-31T00:00:00",
          "2016-06-30T00:00:00",
          "2016-07-31T00:00:00",
          "2016-08-31T00:00:00",
          "2016-09-30T00:00:00",
          "2016-10-31T00:00:00",
          "2016-11-30T00:00:00",
          "2016-12-31T00:00:00",
          "2017-01-31T00:00:00",
          "2017-02-28T00:00:00",
          "2017-03-31T00:00:00",
          "2017-04-30T00:00:00",
          "2017-05-31T00:00:00",
          "2017-06-30T00:00:00",
          "2017-07-31T00:00:00",
          "2017-08-31T00:00:00",
          "2017-09-30T00:00:00",
          "2017-10-31T00:00:00",
          "2017-11-30T00:00:00",
          "2017-12-31T00:00:00",
          "2018-01-31T00:00:00",
          "2018-02-28T00:00:00",
          "2018-03-31T00:00:00",
          "2018-04-30T00:00:00",
          "2018-05-31T00:00:00",
          "2018-06-30T00:00:00",
          "2018-07-31T00:00:00",
          "2018-08-31T00:00:00",
          "2018-09-30T00:00:00",
          "2018-10-31T00:00:00",
          "2018-11-30T00:00:00",
          "2018-12-31T00:00:00",
          "2019-01-31T00:00:00",
          "2019-02-28T00:00:00",
          "2019-03-31T00:00:00",
          "2019-04-30T00:00:00",
          "2019-05-31T00:00:00",
          "2019-06-30T00:00:00",
          "2019-07-31T00:00:00",
          "2019-08-31T00:00:00",
          "2019-09-30T00:00:00",
          "2019-10-31T00:00:00",
          "2019-11-30T00:00:00",
          "2019-12-31T00:00:00",
          "2020-01-31T00:00:00",
          "2020-02-29T00:00:00",
          "2020-03-31T00:00:00",
          "2020-04-30T00:00:00",
          "2020-05-31T00:00:00",
          "2020-06-30T00:00:00",
          "2020-07-31T00:00:00",
          "2020-08-31T00:00:00",
          "2020-09-30T00:00:00",
          "2020-10-31T00:00:00",
          "2020-11-30T00:00:00",
          "2020-12-31T00:00:00",
          "2021-01-31T00:00:00",
          "2021-02-28T00:00:00",
          "2021-03-31T00:00:00",
          "2021-04-30T00:00:00",
          "2021-05-31T00:00:00",
          "2021-06-30T00:00:00",
          "2021-07-31T00:00:00",
          "2021-08-31T00:00:00",
          "2021-09-30T00:00:00",
          "2021-10-31T00:00:00",
          "2021-11-30T00:00:00",
          "2021-12-31T00:00:00",
          "2022-01-31T00:00:00",
          "2022-02-28T00:00:00",
          "2022-03-31T00:00:00",
          "2022-04-30T00:00:00",
          "2022-05-31T00:00:00",
          "2022-06-30T00:00:00",
          "2022-07-31T00:00:00",
          "2022-08-31T00:00:00",
          "2022-09-30T00:00:00",
          "2022-10-31T00:00:00",
          "2022-11-30T00:00:00",
          "2022-12-31T00:00:00",
          "2023-01-31T00:00:00",
          "2023-02-28T00:00:00",
          "2023-03-31T00:00:00",
          "2023-04-30T00:00:00",
          "2023-05-31T00:00:00",
          "2023-06-30T00:00:00"
         ],
         "xaxis": "x",
         "y": [
          -0.022767789393831284,
          0.08456361411625557,
          0.006972160934285432,
          0.0238037700888325,
          0.029015320604546257,
          0.005313067748732969,
          -0.01668649174974357,
          0.06911081439840405,
          -0.0448092788571246,
          0.02527740795476241,
          0.07475266708656281,
          -0.04662816275823467,
          -0.08023685185296192,
          0.11993894956089579,
          -0.03593923064358806,
          0.03816585783639881,
          0.011121753621671893,
          -0.029380841496837617,
          0.020328166535782843,
          -0.017444784581634787,
          0.029076147512591355,
          0.1517269691576313,
          0.0789678634563773,
          0.02571068400140497,
          -0.07636176492052071,
          0.06806102633417566,
          0.08191537966579343,
          -0.004261542015104203,
          0.16751536930471533,
          0.046005284986976314,
          0.07219273607403709,
          0.028033515818111754,
          0.05691119903809505,
          0.02535154135272699,
          0.14427822654087152,
          0.10035523226758425,
          0.028372659180651683,
          0.045061734748758964,
          0.02647241209072182,
          0.027182888755201695,
          0.25469188826146794,
          0.011177006562607783,
          0.08631762482631022,
          0.11650412270871735,
          0.027752058853328876,
          0.137265688388849,
          0.08250986324254805,
          0.04322965315468652,
          0.06322756663304063,
          0.01159526622882745,
          -0.07752028831699842,
          0.036248469874994305,
          0.02889777919203862,
          -0.03760534958906392,
          0.062226232651354074,
          0.07019799702941576,
          -0.012312236438861257,
          -0.10040487114078223,
          -0.14093683940566726,
          -0.12078950196837968,
          0.06085758369202132,
          0.07354085447092662,
          0.08715554843473639,
          0.06695237801500209,
          -0.03973928720594766,
          0.15610996066152416,
          0.014666560489148939,
          -0.002263375493744668,
          0.0031813530044841887,
          0.1021802051696723,
          0.026123223711324473,
          0.04775451642142814,
          0.06177383855811769,
          0.0006785634591912615,
          -0.09311740675240732,
          0.16142329233884634,
          0.12969036999210037,
          0.052372449165385415,
          0.12440232943298124,
          0.12514443410818088,
          -0.024318008829977145,
          -0.025574732712359216,
          0.13535787664504606,
          0.0787257617539987,
          0.013629279353991164,
          0.07874014879308655,
          0.05497180374821897,
          0.09279155469313016,
          -0.03212064691858785,
          0.09833723588528787,
          0.04758958014863657,
          0.10471499709788867,
          -0.059202191398693205,
          0.1965143518791388,
          0.09191027713683786,
          -0.037176517736400405,
          -0.12399230739347256,
          0.0140321056178907,
          0.09158496969401209,
          -0.17921299739432361,
          -0.02912317479882698,
          -0.1518650904427895,
          0.14756540247989314,
          -0.09506046189850703,
          -0.11867412741102268,
          0.08666941729632138,
          0.08601074291688104,
          -0.08553648977894213,
          0.20755265708321158,
          0.04970324924387848,
          0.14238126353982583,
          0.03917618072011453,
          0.11235989332109808,
          0.020959340471572663
         ],
         "yaxis": "y"
        },
        {
         "mode": "lines",
         "name": "China M2 Money Supply",
         "type": "scatter",
         "x": [
          "2014-01-31T00:00:00",
          "2014-02-28T00:00:00",
          "2014-03-31T00:00:00",
          "2014-04-30T00:00:00",
          "2014-05-31T00:00:00",
          "2014-06-30T00:00:00",
          "2014-07-31T00:00:00",
          "2014-08-31T00:00:00",
          "2014-09-30T00:00:00",
          "2014-10-31T00:00:00",
          "2014-11-30T00:00:00",
          "2014-12-31T00:00:00",
          "2015-01-31T00:00:00",
          "2015-02-28T00:00:00",
          "2015-03-31T00:00:00",
          "2015-04-30T00:00:00",
          "2015-05-31T00:00:00",
          "2015-06-30T00:00:00",
          "2015-07-31T00:00:00",
          "2015-08-31T00:00:00",
          "2015-09-30T00:00:00",
          "2015-10-31T00:00:00",
          "2015-11-30T00:00:00",
          "2015-12-31T00:00:00",
          "2016-01-31T00:00:00",
          "2016-02-29T00:00:00",
          "2016-03-31T00:00:00",
          "2016-04-30T00:00:00",
          "2016-05-31T00:00:00",
          "2016-06-30T00:00:00",
          "2016-07-31T00:00:00",
          "2016-08-31T00:00:00",
          "2016-09-30T00:00:00",
          "2016-10-31T00:00:00",
          "2016-11-30T00:00:00",
          "2016-12-31T00:00:00",
          "2017-01-31T00:00:00",
          "2017-02-28T00:00:00",
          "2017-03-31T00:00:00",
          "2017-04-30T00:00:00",
          "2017-05-31T00:00:00",
          "2017-06-30T00:00:00",
          "2017-07-31T00:00:00",
          "2017-08-31T00:00:00",
          "2017-09-30T00:00:00",
          "2017-10-31T00:00:00",
          "2017-11-30T00:00:00",
          "2017-12-31T00:00:00",
          "2018-01-31T00:00:00",
          "2018-02-28T00:00:00",
          "2018-03-31T00:00:00",
          "2018-04-30T00:00:00",
          "2018-05-31T00:00:00",
          "2018-06-30T00:00:00",
          "2018-07-31T00:00:00",
          "2018-08-31T00:00:00",
          "2018-09-30T00:00:00",
          "2018-10-31T00:00:00",
          "2018-11-30T00:00:00",
          "2018-12-31T00:00:00",
          "2019-01-31T00:00:00",
          "2019-02-28T00:00:00",
          "2019-03-31T00:00:00",
          "2019-04-30T00:00:00",
          "2019-05-31T00:00:00",
          "2019-06-30T00:00:00",
          "2019-07-31T00:00:00",
          "2019-08-31T00:00:00",
          "2019-09-30T00:00:00",
          "2019-10-31T00:00:00",
          "2019-11-30T00:00:00",
          "2019-12-31T00:00:00",
          "2020-01-31T00:00:00",
          "2020-02-29T00:00:00",
          "2020-03-31T00:00:00",
          "2020-04-30T00:00:00",
          "2020-05-31T00:00:00",
          "2020-06-30T00:00:00",
          "2020-07-31T00:00:00",
          "2020-08-31T00:00:00",
          "2020-09-30T00:00:00",
          "2020-10-31T00:00:00",
          "2020-11-30T00:00:00",
          "2020-12-31T00:00:00",
          "2021-01-31T00:00:00",
          "2021-02-28T00:00:00",
          "2021-03-31T00:00:00",
          "2021-04-30T00:00:00",
          "2021-05-31T00:00:00",
          "2021-06-30T00:00:00",
          "2021-07-31T00:00:00",
          "2021-08-31T00:00:00",
          "2021-09-30T00:00:00",
          "2021-10-31T00:00:00",
          "2021-11-30T00:00:00",
          "2021-12-31T00:00:00",
          "2022-01-31T00:00:00",
          "2022-02-28T00:00:00",
          "2022-03-31T00:00:00",
          "2022-04-30T00:00:00",
          "2022-05-31T00:00:00",
          "2022-06-30T00:00:00",
          "2022-07-31T00:00:00",
          "2022-08-31T00:00:00",
          "2022-09-30T00:00:00",
          "2022-10-31T00:00:00",
          "2022-11-30T00:00:00",
          "2022-12-31T00:00:00",
          "2023-01-31T00:00:00",
          "2023-02-28T00:00:00",
          "2023-03-31T00:00:00",
          "2023-04-30T00:00:00",
          "2023-05-31T00:00:00",
          "2023-06-30T00:00:00"
         ],
         "xaxis": "x",
         "y": [
          112352120956304,
          113176083333495,
          116068738304199,
          116881267341323,
          118229395815816,
          120958719736328,
          119424923991663,
          119749908384625,
          120205141184955,
          119923631381594,
          120860594890828,
          122837480654446,
          124270956100000,
          125738447800000,
          127533277661997,
          128077914306519,
          130735763080841,
          133337536453853,
          135321092482599,
          135690797692855,
          135982405527006,
          136102070462698,
          137395601474437,
          139227810919881,
          141631955112113,
          142461867792204,
          144619802900000,
          144520958800000,
          146169510000000,
          149049182794442,
          149155871700000,
          151098290500000,
          151636050000000,
          151948540477789,
          153043206189849,
          155006666781086,
          157594558824035,
          158291307400000,
          159960957300000,
          159633186800000,
          160136041500000,
          163128253000000,
          162899663081962,
          164515660058768,
          165566206768995,
          165343415785166,
          167001339753416,
          169023533554568,
          172081445272825,
          172907011807809,
          173985947770954,
          173768372950626,
          174306379232330,
          177017837280000,
          177619610516409,
          178867042970175,
          180166558147986,
          179556159556340,
          181317506539151,
          182674421936410,
          186593532659733,
          186742744803641,
          188941213660000,
          188467032670746,
          189115369625331,
          192136019033428,
          191941081632526,
          193549242773720,
          null,
          null,
          null,
          null,
          null,
          null,
          null,
          null,
          null,
          null,
          null,
          null,
          null,
          null,
          null,
          null,
          null,
          null,
          null,
          null,
          null,
          null,
          null,
          null,
          null,
          null,
          null,
          null,
          null,
          null,
          null,
          null,
          null,
          null,
          null,
          null,
          null,
          null,
          null,
          null,
          null,
          null,
          null,
          null,
          null,
          null
         ],
         "yaxis": "y2"
        }
       ],
       "layout": {
        "template": {
         "data": {
          "candlestick": [
           {
            "decreasing": {
             "line": {
              "color": "#000033"
             }
            },
            "increasing": {
             "line": {
              "color": "#000032"
             }
            },
            "type": "candlestick"
           }
          ],
          "contour": [
           {
            "colorscale": [
             [
              0,
              "#000011"
             ],
             [
              0.1111111111111111,
              "#000012"
             ],
             [
              0.2222222222222222,
              "#000013"
             ],
             [
              0.3333333333333333,
              "#000014"
             ],
             [
              0.4444444444444444,
              "#000015"
             ],
             [
              0.5555555555555556,
              "#000016"
             ],
             [
              0.6666666666666666,
              "#000017"
             ],
             [
              0.7777777777777778,
              "#000018"
             ],
             [
              0.8888888888888888,
              "#000019"
             ],
             [
              1,
              "#000020"
             ]
            ],
            "type": "contour"
           }
          ],
          "contourcarpet": [
           {
            "colorscale": [
             [
              0,
              "#000011"
             ],
             [
              0.1111111111111111,
              "#000012"
             ],
             [
              0.2222222222222222,
              "#000013"
             ],
             [
              0.3333333333333333,
              "#000014"
             ],
             [
              0.4444444444444444,
              "#000015"
             ],
             [
              0.5555555555555556,
              "#000016"
             ],
             [
              0.6666666666666666,
              "#000017"
             ],
             [
              0.7777777777777778,
              "#000018"
             ],
             [
              0.8888888888888888,
              "#000019"
             ],
             [
              1,
              "#000020"
             ]
            ],
            "type": "contourcarpet"
           }
          ],
          "heatmap": [
           {
            "colorscale": [
             [
              0,
              "#000011"
             ],
             [
              0.1111111111111111,
              "#000012"
             ],
             [
              0.2222222222222222,
              "#000013"
             ],
             [
              0.3333333333333333,
              "#000014"
             ],
             [
              0.4444444444444444,
              "#000015"
             ],
             [
              0.5555555555555556,
              "#000016"
             ],
             [
              0.6666666666666666,
              "#000017"
             ],
             [
              0.7777777777777778,
              "#000018"
             ],
             [
              0.8888888888888888,
              "#000019"
             ],
             [
              1,
              "#000020"
             ]
            ],
            "type": "heatmap"
           }
          ],
          "histogram2d": [
           {
            "colorscale": [
             [
              0,
              "#000011"
             ],
             [
              0.1111111111111111,
              "#000012"
             ],
             [
              0.2222222222222222,
              "#000013"
             ],
             [
              0.3333333333333333,
              "#000014"
             ],
             [
              0.4444444444444444,
              "#000015"
             ],
             [
              0.5555555555555556,
              "#000016"
             ],
             [
              0.6666666666666666,
              "#000017"
             ],
             [
              0.7777777777777778,
              "#000018"
             ],
             [
              0.8888888888888888,
              "#000019"
             ],
             [
              1,
              "#000020"
             ]
            ],
            "type": "histogram2d"
           }
          ],
          "icicle": [
           {
            "textfont": {
             "color": "white"
            },
            "type": "icicle"
           }
          ],
          "sankey": [
           {
            "textfont": {
             "color": "#000036"
            },
            "type": "sankey"
           }
          ],
          "scatter": [
           {
            "marker": {
             "line": {
              "width": 0
             }
            },
            "type": "scatter"
           }
          ],
          "table": [
           {
            "cells": {
             "fill": {
              "color": "#000038"
             },
             "font": {
              "color": "#000037"
             },
             "line": {
              "color": "#000039"
             }
            },
            "header": {
             "fill": {
              "color": "#000040"
             },
             "font": {
              "color": "#000036"
             },
             "line": {
              "color": "#000039"
             }
            },
            "type": "table"
           }
          ],
          "waterfall": [
           {
            "connector": {
             "line": {
              "color": "#000036",
              "width": 2
             }
            },
            "decreasing": {
             "marker": {
              "color": "#000033"
             }
            },
            "increasing": {
             "marker": {
              "color": "#000032"
             }
            },
            "totals": {
             "marker": {
              "color": "#000034"
             }
            },
            "type": "waterfall"
           }
          ]
         },
         "layout": {
          "coloraxis": {
           "colorscale": [
            [
             0,
             "#000011"
            ],
            [
             0.1111111111111111,
             "#000012"
            ],
            [
             0.2222222222222222,
             "#000013"
            ],
            [
             0.3333333333333333,
             "#000014"
            ],
            [
             0.4444444444444444,
             "#000015"
            ],
            [
             0.5555555555555556,
             "#000016"
            ],
            [
             0.6666666666666666,
             "#000017"
            ],
            [
             0.7777777777777778,
             "#000018"
            ],
            [
             0.8888888888888888,
             "#000019"
            ],
            [
             1,
             "#000020"
            ]
           ]
          },
          "colorscale": {
           "diverging": [
            [
             0,
             "#000021"
            ],
            [
             0.1,
             "#000022"
            ],
            [
             0.2,
             "#000023"
            ],
            [
             0.3,
             "#000024"
            ],
            [
             0.4,
             "#000025"
            ],
            [
             0.5,
             "#000026"
            ],
            [
             0.6,
             "#000027"
            ],
            [
             0.7,
             "#000028"
            ],
            [
             0.8,
             "#000029"
            ],
            [
             0.9,
             "#000030"
            ],
            [
             1,
             "#000031"
            ]
           ],
           "sequential": [
            [
             0,
             "#000011"
            ],
            [
             0.1111111111111111,
             "#000012"
            ],
            [
             0.2222222222222222,
             "#000013"
            ],
            [
             0.3333333333333333,
             "#000014"
            ],
            [
             0.4444444444444444,
             "#000015"
            ],
            [
             0.5555555555555556,
             "#000016"
            ],
            [
             0.6666666666666666,
             "#000017"
            ],
            [
             0.7777777777777778,
             "#000018"
            ],
            [
             0.8888888888888888,
             "#000019"
            ],
            [
             1,
             "#000020"
            ]
           ],
           "sequentialminus": [
            [
             0,
             "#000011"
            ],
            [
             0.1111111111111111,
             "#000012"
            ],
            [
             0.2222222222222222,
             "#000013"
            ],
            [
             0.3333333333333333,
             "#000014"
            ],
            [
             0.4444444444444444,
             "#000015"
            ],
            [
             0.5555555555555556,
             "#000016"
            ],
            [
             0.6666666666666666,
             "#000017"
            ],
            [
             0.7777777777777778,
             "#000018"
            ],
            [
             0.8888888888888888,
             "#000019"
            ],
            [
             1,
             "#000020"
            ]
           ]
          },
          "colorway": [
           "#000001",
           "#000002",
           "#000003",
           "#000004",
           "#000005",
           "#000006",
           "#000007",
           "#000008",
           "#000009",
           "#000010"
          ]
         }
        },
        "title": {
         "text": "Weighted Portfolio Monthly Returns vs China M2 Money Supply"
        },
        "xaxis": {
         "anchor": "y",
         "domain": [
          0,
          0.94
         ]
        },
        "yaxis": {
         "anchor": "x",
         "domain": [
          0,
          1
         ],
         "title": {
          "text": "Returns %"
         }
        },
        "yaxis2": {
         "anchor": "x",
         "overlaying": "y",
         "side": "right",
         "title": {
          "text": "China M2 Money Supply"
         }
        }
       }
      },
      "text/html": [
       "<div>                            <div id=\"31e29041-c382-403b-b12f-1a052ce5dbdd\" class=\"plotly-graph-div\" style=\"height:525px; width:100%;\"></div>            <script type=\"text/javascript\">                require([\"plotly\"], function(Plotly) {                    window.PLOTLYENV=window.PLOTLYENV || {};                                    if (document.getElementById(\"31e29041-c382-403b-b12f-1a052ce5dbdd\")) {                    Plotly.newPlot(                        \"31e29041-c382-403b-b12f-1a052ce5dbdd\",                        [{\"mode\":\"lines\",\"name\":\"Portfolio Monthly Returns\",\"x\":[\"2014-01-31T00:00:00\",\"2014-02-28T00:00:00\",\"2014-03-31T00:00:00\",\"2014-04-30T00:00:00\",\"2014-05-31T00:00:00\",\"2014-06-30T00:00:00\",\"2014-07-31T00:00:00\",\"2014-08-31T00:00:00\",\"2014-09-30T00:00:00\",\"2014-10-31T00:00:00\",\"2014-11-30T00:00:00\",\"2014-12-31T00:00:00\",\"2015-01-31T00:00:00\",\"2015-02-28T00:00:00\",\"2015-03-31T00:00:00\",\"2015-04-30T00:00:00\",\"2015-05-31T00:00:00\",\"2015-06-30T00:00:00\",\"2015-07-31T00:00:00\",\"2015-08-31T00:00:00\",\"2015-09-30T00:00:00\",\"2015-10-31T00:00:00\",\"2015-11-30T00:00:00\",\"2015-12-31T00:00:00\",\"2016-01-31T00:00:00\",\"2016-02-29T00:00:00\",\"2016-03-31T00:00:00\",\"2016-04-30T00:00:00\",\"2016-05-31T00:00:00\",\"2016-06-30T00:00:00\",\"2016-07-31T00:00:00\",\"2016-08-31T00:00:00\",\"2016-09-30T00:00:00\",\"2016-10-31T00:00:00\",\"2016-11-30T00:00:00\",\"2016-12-31T00:00:00\",\"2017-01-31T00:00:00\",\"2017-02-28T00:00:00\",\"2017-03-31T00:00:00\",\"2017-04-30T00:00:00\",\"2017-05-31T00:00:00\",\"2017-06-30T00:00:00\",\"2017-07-31T00:00:00\",\"2017-08-31T00:00:00\",\"2017-09-30T00:00:00\",\"2017-10-31T00:00:00\",\"2017-11-30T00:00:00\",\"2017-12-31T00:00:00\",\"2018-01-31T00:00:00\",\"2018-02-28T00:00:00\",\"2018-03-31T00:00:00\",\"2018-04-30T00:00:00\",\"2018-05-31T00:00:00\",\"2018-06-30T00:00:00\",\"2018-07-31T00:00:00\",\"2018-08-31T00:00:00\",\"2018-09-30T00:00:00\",\"2018-10-31T00:00:00\",\"2018-11-30T00:00:00\",\"2018-12-31T00:00:00\",\"2019-01-31T00:00:00\",\"2019-02-28T00:00:00\",\"2019-03-31T00:00:00\",\"2019-04-30T00:00:00\",\"2019-05-31T00:00:00\",\"2019-06-30T00:00:00\",\"2019-07-31T00:00:00\",\"2019-08-31T00:00:00\",\"2019-09-30T00:00:00\",\"2019-10-31T00:00:00\",\"2019-11-30T00:00:00\",\"2019-12-31T00:00:00\",\"2020-01-31T00:00:00\",\"2020-02-29T00:00:00\",\"2020-03-31T00:00:00\",\"2020-04-30T00:00:00\",\"2020-05-31T00:00:00\",\"2020-06-30T00:00:00\",\"2020-07-31T00:00:00\",\"2020-08-31T00:00:00\",\"2020-09-30T00:00:00\",\"2020-10-31T00:00:00\",\"2020-11-30T00:00:00\",\"2020-12-31T00:00:00\",\"2021-01-31T00:00:00\",\"2021-02-28T00:00:00\",\"2021-03-31T00:00:00\",\"2021-04-30T00:00:00\",\"2021-05-31T00:00:00\",\"2021-06-30T00:00:00\",\"2021-07-31T00:00:00\",\"2021-08-31T00:00:00\",\"2021-09-30T00:00:00\",\"2021-10-31T00:00:00\",\"2021-11-30T00:00:00\",\"2021-12-31T00:00:00\",\"2022-01-31T00:00:00\",\"2022-02-28T00:00:00\",\"2022-03-31T00:00:00\",\"2022-04-30T00:00:00\",\"2022-05-31T00:00:00\",\"2022-06-30T00:00:00\",\"2022-07-31T00:00:00\",\"2022-08-31T00:00:00\",\"2022-09-30T00:00:00\",\"2022-10-31T00:00:00\",\"2022-11-30T00:00:00\",\"2022-12-31T00:00:00\",\"2023-01-31T00:00:00\",\"2023-02-28T00:00:00\",\"2023-03-31T00:00:00\",\"2023-04-30T00:00:00\",\"2023-05-31T00:00:00\",\"2023-06-30T00:00:00\"],\"y\":[-0.022767789393831284,0.08456361411625557,0.006972160934285432,0.0238037700888325,0.029015320604546257,0.005313067748732969,-0.01668649174974357,0.06911081439840405,-0.0448092788571246,0.02527740795476241,0.07475266708656281,-0.04662816275823467,-0.08023685185296192,0.11993894956089579,-0.03593923064358806,0.03816585783639881,0.011121753621671893,-0.029380841496837617,0.020328166535782843,-0.017444784581634787,0.029076147512591355,0.1517269691576313,0.0789678634563773,0.02571068400140497,-0.07636176492052071,0.06806102633417566,0.08191537966579343,-0.004261542015104203,0.16751536930471533,0.046005284986976314,0.07219273607403709,0.028033515818111754,0.05691119903809505,0.02535154135272699,0.14427822654087152,0.10035523226758425,0.028372659180651683,0.045061734748758964,0.02647241209072182,0.027182888755201695,0.25469188826146794,0.011177006562607783,0.08631762482631022,0.11650412270871735,0.027752058853328876,0.137265688388849,0.08250986324254805,0.04322965315468652,0.06322756663304063,0.01159526622882745,-0.07752028831699842,0.036248469874994305,0.02889777919203862,-0.03760534958906392,0.062226232651354074,0.07019799702941576,-0.012312236438861257,-0.10040487114078223,-0.14093683940566726,-0.12078950196837968,0.06085758369202132,0.07354085447092662,0.08715554843473639,0.06695237801500209,-0.03973928720594766,0.15610996066152416,0.014666560489148939,-0.002263375493744668,0.0031813530044841887,0.1021802051696723,0.026123223711324473,0.04775451642142814,0.06177383855811769,0.0006785634591912615,-0.09311740675240732,0.16142329233884634,0.12969036999210037,0.052372449165385415,0.12440232943298124,0.12514443410818088,-0.024318008829977145,-0.025574732712359216,0.13535787664504606,0.0787257617539987,0.013629279353991164,0.07874014879308655,0.05497180374821897,0.09279155469313016,-0.03212064691858785,0.09833723588528787,0.04758958014863657,0.10471499709788867,-0.059202191398693205,0.1965143518791388,0.09191027713683786,-0.037176517736400405,-0.12399230739347256,0.0140321056178907,0.09158496969401209,-0.17921299739432361,-0.02912317479882698,-0.1518650904427895,0.14756540247989314,-0.09506046189850703,-0.11867412741102268,0.08666941729632138,0.08601074291688104,-0.08553648977894213,0.20755265708321158,0.04970324924387848,0.14238126353982583,0.03917618072011453,0.11235989332109808,0.020959340471572663],\"type\":\"scatter\",\"xaxis\":\"x\",\"yaxis\":\"y\"},{\"mode\":\"lines\",\"name\":\"China M2 Money Supply\",\"x\":[\"2014-01-31T00:00:00\",\"2014-02-28T00:00:00\",\"2014-03-31T00:00:00\",\"2014-04-30T00:00:00\",\"2014-05-31T00:00:00\",\"2014-06-30T00:00:00\",\"2014-07-31T00:00:00\",\"2014-08-31T00:00:00\",\"2014-09-30T00:00:00\",\"2014-10-31T00:00:00\",\"2014-11-30T00:00:00\",\"2014-12-31T00:00:00\",\"2015-01-31T00:00:00\",\"2015-02-28T00:00:00\",\"2015-03-31T00:00:00\",\"2015-04-30T00:00:00\",\"2015-05-31T00:00:00\",\"2015-06-30T00:00:00\",\"2015-07-31T00:00:00\",\"2015-08-31T00:00:00\",\"2015-09-30T00:00:00\",\"2015-10-31T00:00:00\",\"2015-11-30T00:00:00\",\"2015-12-31T00:00:00\",\"2016-01-31T00:00:00\",\"2016-02-29T00:00:00\",\"2016-03-31T00:00:00\",\"2016-04-30T00:00:00\",\"2016-05-31T00:00:00\",\"2016-06-30T00:00:00\",\"2016-07-31T00:00:00\",\"2016-08-31T00:00:00\",\"2016-09-30T00:00:00\",\"2016-10-31T00:00:00\",\"2016-11-30T00:00:00\",\"2016-12-31T00:00:00\",\"2017-01-31T00:00:00\",\"2017-02-28T00:00:00\",\"2017-03-31T00:00:00\",\"2017-04-30T00:00:00\",\"2017-05-31T00:00:00\",\"2017-06-30T00:00:00\",\"2017-07-31T00:00:00\",\"2017-08-31T00:00:00\",\"2017-09-30T00:00:00\",\"2017-10-31T00:00:00\",\"2017-11-30T00:00:00\",\"2017-12-31T00:00:00\",\"2018-01-31T00:00:00\",\"2018-02-28T00:00:00\",\"2018-03-31T00:00:00\",\"2018-04-30T00:00:00\",\"2018-05-31T00:00:00\",\"2018-06-30T00:00:00\",\"2018-07-31T00:00:00\",\"2018-08-31T00:00:00\",\"2018-09-30T00:00:00\",\"2018-10-31T00:00:00\",\"2018-11-30T00:00:00\",\"2018-12-31T00:00:00\",\"2019-01-31T00:00:00\",\"2019-02-28T00:00:00\",\"2019-03-31T00:00:00\",\"2019-04-30T00:00:00\",\"2019-05-31T00:00:00\",\"2019-06-30T00:00:00\",\"2019-07-31T00:00:00\",\"2019-08-31T00:00:00\",\"2019-09-30T00:00:00\",\"2019-10-31T00:00:00\",\"2019-11-30T00:00:00\",\"2019-12-31T00:00:00\",\"2020-01-31T00:00:00\",\"2020-02-29T00:00:00\",\"2020-03-31T00:00:00\",\"2020-04-30T00:00:00\",\"2020-05-31T00:00:00\",\"2020-06-30T00:00:00\",\"2020-07-31T00:00:00\",\"2020-08-31T00:00:00\",\"2020-09-30T00:00:00\",\"2020-10-31T00:00:00\",\"2020-11-30T00:00:00\",\"2020-12-31T00:00:00\",\"2021-01-31T00:00:00\",\"2021-02-28T00:00:00\",\"2021-03-31T00:00:00\",\"2021-04-30T00:00:00\",\"2021-05-31T00:00:00\",\"2021-06-30T00:00:00\",\"2021-07-31T00:00:00\",\"2021-08-31T00:00:00\",\"2021-09-30T00:00:00\",\"2021-10-31T00:00:00\",\"2021-11-30T00:00:00\",\"2021-12-31T00:00:00\",\"2022-01-31T00:00:00\",\"2022-02-28T00:00:00\",\"2022-03-31T00:00:00\",\"2022-04-30T00:00:00\",\"2022-05-31T00:00:00\",\"2022-06-30T00:00:00\",\"2022-07-31T00:00:00\",\"2022-08-31T00:00:00\",\"2022-09-30T00:00:00\",\"2022-10-31T00:00:00\",\"2022-11-30T00:00:00\",\"2022-12-31T00:00:00\",\"2023-01-31T00:00:00\",\"2023-02-28T00:00:00\",\"2023-03-31T00:00:00\",\"2023-04-30T00:00:00\",\"2023-05-31T00:00:00\",\"2023-06-30T00:00:00\"],\"y\":[112352120956304.0,113176083333495.0,116068738304199.0,116881267341323.0,118229395815816.0,120958719736328.0,119424923991663.0,119749908384625.0,120205141184955.0,119923631381594.0,120860594890828.0,122837480654446.0,124270956100000.0,125738447800000.0,127533277661997.0,128077914306519.0,130735763080841.0,133337536453853.0,135321092482599.0,135690797692855.0,135982405527006.0,136102070462698.0,137395601474437.0,139227810919881.0,141631955112113.0,142461867792204.0,144619802900000.0,144520958800000.0,146169510000000.0,149049182794442.0,149155871700000.0,151098290500000.0,151636050000000.0,151948540477789.0,153043206189849.0,155006666781086.0,157594558824035.0,158291307400000.0,159960957300000.0,159633186800000.0,160136041500000.0,163128253000000.0,162899663081962.0,164515660058768.0,165566206768995.0,165343415785166.0,167001339753416.0,169023533554568.0,172081445272825.0,172907011807809.0,173985947770954.0,173768372950626.0,174306379232330.0,177017837280000.0,177619610516409.0,178867042970175.0,180166558147986.0,179556159556340.0,181317506539151.0,182674421936410.0,186593532659733.0,186742744803641.0,188941213660000.0,188467032670746.0,189115369625331.0,192136019033428.0,191941081632526.0,193549242773720.0,null,null,null,null,null,null,null,null,null,null,null,null,null,null,null,null,null,null,null,null,null,null,null,null,null,null,null,null,null,null,null,null,null,null,null,null,null,null,null,null,null,null,null,null,null,null],\"type\":\"scatter\",\"xaxis\":\"x\",\"yaxis\":\"y2\"}],                        {\"template\":{\"data\":{\"candlestick\":[{\"decreasing\":{\"line\":{\"color\":\"#000033\"}},\"increasing\":{\"line\":{\"color\":\"#000032\"}},\"type\":\"candlestick\"}],\"contourcarpet\":[{\"colorscale\":[[0.0,\"#000011\"],[0.1111111111111111,\"#000012\"],[0.2222222222222222,\"#000013\"],[0.3333333333333333,\"#000014\"],[0.4444444444444444,\"#000015\"],[0.5555555555555556,\"#000016\"],[0.6666666666666666,\"#000017\"],[0.7777777777777778,\"#000018\"],[0.8888888888888888,\"#000019\"],[1.0,\"#000020\"]],\"type\":\"contourcarpet\"}],\"contour\":[{\"colorscale\":[[0.0,\"#000011\"],[0.1111111111111111,\"#000012\"],[0.2222222222222222,\"#000013\"],[0.3333333333333333,\"#000014\"],[0.4444444444444444,\"#000015\"],[0.5555555555555556,\"#000016\"],[0.6666666666666666,\"#000017\"],[0.7777777777777778,\"#000018\"],[0.8888888888888888,\"#000019\"],[1.0,\"#000020\"]],\"type\":\"contour\"}],\"heatmap\":[{\"colorscale\":[[0.0,\"#000011\"],[0.1111111111111111,\"#000012\"],[0.2222222222222222,\"#000013\"],[0.3333333333333333,\"#000014\"],[0.4444444444444444,\"#000015\"],[0.5555555555555556,\"#000016\"],[0.6666666666666666,\"#000017\"],[0.7777777777777778,\"#000018\"],[0.8888888888888888,\"#000019\"],[1.0,\"#000020\"]],\"type\":\"heatmap\"}],\"histogram2d\":[{\"colorscale\":[[0.0,\"#000011\"],[0.1111111111111111,\"#000012\"],[0.2222222222222222,\"#000013\"],[0.3333333333333333,\"#000014\"],[0.4444444444444444,\"#000015\"],[0.5555555555555556,\"#000016\"],[0.6666666666666666,\"#000017\"],[0.7777777777777778,\"#000018\"],[0.8888888888888888,\"#000019\"],[1.0,\"#000020\"]],\"type\":\"histogram2d\"}],\"icicle\":[{\"textfont\":{\"color\":\"white\"},\"type\":\"icicle\"}],\"sankey\":[{\"textfont\":{\"color\":\"#000036\"},\"type\":\"sankey\"}],\"scatter\":[{\"marker\":{\"line\":{\"width\":0}},\"type\":\"scatter\"}],\"table\":[{\"cells\":{\"fill\":{\"color\":\"#000038\"},\"font\":{\"color\":\"#000037\"},\"line\":{\"color\":\"#000039\"}},\"header\":{\"fill\":{\"color\":\"#000040\"},\"font\":{\"color\":\"#000036\"},\"line\":{\"color\":\"#000039\"}},\"type\":\"table\"}],\"waterfall\":[{\"connector\":{\"line\":{\"color\":\"#000036\",\"width\":2}},\"decreasing\":{\"marker\":{\"color\":\"#000033\"}},\"increasing\":{\"marker\":{\"color\":\"#000032\"}},\"totals\":{\"marker\":{\"color\":\"#000034\"}},\"type\":\"waterfall\"}]},\"layout\":{\"coloraxis\":{\"colorscale\":[[0.0,\"#000011\"],[0.1111111111111111,\"#000012\"],[0.2222222222222222,\"#000013\"],[0.3333333333333333,\"#000014\"],[0.4444444444444444,\"#000015\"],[0.5555555555555556,\"#000016\"],[0.6666666666666666,\"#000017\"],[0.7777777777777778,\"#000018\"],[0.8888888888888888,\"#000019\"],[1.0,\"#000020\"]]},\"colorscale\":{\"diverging\":[[0.0,\"#000021\"],[0.1,\"#000022\"],[0.2,\"#000023\"],[0.3,\"#000024\"],[0.4,\"#000025\"],[0.5,\"#000026\"],[0.6,\"#000027\"],[0.7,\"#000028\"],[0.8,\"#000029\"],[0.9,\"#000030\"],[1.0,\"#000031\"]],\"sequential\":[[0.0,\"#000011\"],[0.1111111111111111,\"#000012\"],[0.2222222222222222,\"#000013\"],[0.3333333333333333,\"#000014\"],[0.4444444444444444,\"#000015\"],[0.5555555555555556,\"#000016\"],[0.6666666666666666,\"#000017\"],[0.7777777777777778,\"#000018\"],[0.8888888888888888,\"#000019\"],[1.0,\"#000020\"]],\"sequentialminus\":[[0.0,\"#000011\"],[0.1111111111111111,\"#000012\"],[0.2222222222222222,\"#000013\"],[0.3333333333333333,\"#000014\"],[0.4444444444444444,\"#000015\"],[0.5555555555555556,\"#000016\"],[0.6666666666666666,\"#000017\"],[0.7777777777777778,\"#000018\"],[0.8888888888888888,\"#000019\"],[1.0,\"#000020\"]]},\"colorway\":[\"#000001\",\"#000002\",\"#000003\",\"#000004\",\"#000005\",\"#000006\",\"#000007\",\"#000008\",\"#000009\",\"#000010\"]}},\"xaxis\":{\"anchor\":\"y\",\"domain\":[0.0,0.94]},\"yaxis\":{\"anchor\":\"x\",\"domain\":[0.0,1.0],\"title\":{\"text\":\"Returns %\"}},\"yaxis2\":{\"anchor\":\"x\",\"overlaying\":\"y\",\"side\":\"right\",\"title\":{\"text\":\"China M2 Money Supply\"}},\"title\":{\"text\":\"Weighted Portfolio Monthly Returns vs China M2 Money Supply\"}},                        {\"responsive\": true}                    ).then(function(){\n",
       "                            \n",
       "var gd = document.getElementById('31e29041-c382-403b-b12f-1a052ce5dbdd');\n",
       "var x = new MutationObserver(function (mutations, observer) {{\n",
       "        var display = window.getComputedStyle(gd).display;\n",
       "        if (!display || display === 'none') {{\n",
       "            console.log([gd, 'removed!']);\n",
       "            Plotly.purge(gd);\n",
       "            observer.disconnect();\n",
       "        }}\n",
       "}});\n",
       "\n",
       "// Listen for the removal of the full notebook cells\n",
       "var notebookContainer = gd.closest('#notebook-container');\n",
       "if (notebookContainer) {{\n",
       "    x.observe(notebookContainer, {childList: true});\n",
       "}}\n",
       "\n",
       "// Listen for the clearing of the current output cell\n",
       "var outputEl = gd.closest('.output');\n",
       "if (outputEl) {{\n",
       "    x.observe(outputEl, {childList: true});\n",
       "}}\n",
       "\n",
       "                        })                };                });            </script>        </div>"
      ]
     },
     "metadata": {},
     "output_type": "display_data"
    }
   ],
   "source": [
    "# plot the combined macro and portfolio data\n",
    "macro_vs_portfolio_returns_plots = plot.plot_macro_vs_portfolio_performance(combined_data)\n",
    "\n",
    "for macro_vs_portfolio_returns_plot in macro_vs_portfolio_returns_plots:\n",
    "    macro_vs_portfolio_returns_plot.show()"
   ]
  },
  {
   "cell_type": "code",
   "execution_count": 7,
   "metadata": {},
   "outputs": [],
   "source": [
    "# calculate the correlation between the macro factors and the portfolio returns (monthly basis)\n",
    "# model data will have less data points than combined_data because we need to drop any rows with NaNs for the linear regression\n",
    "# If the correlation is positive, it means that when the interest rate or inflation increases, our portfolio returns also tend to increase.\n",
    "#\n",
    "# Past performance is not indicative of future results, and this analysis assumes that the relationships between these variables and portfolio \n",
    "# returns will remain constant in the future, which may not be the case.\n",
    "#\n",
    "# The model also assumes a linear relationship between the predictors and the response variable. There could be a non-linear relationship \n",
    "# between them which cannot be captured by this model\n",
    "\n",
    "# hypothesis that these factors may impact **cumulative** performance\n",
    "cumulative_macro_factors = ['cumulative_inflation', 'US M2 Money Supply', 'China M2 Money Supply']\n",
    "y_cumulative = 'weighted_portfolio_cumulative_returns'\n",
    "cumulative_models, cumulative_model_data = calculate.calculate_linear_regression_models_from_macro_data_per_factor(combined_data, cumulative_macro_factors, y_cumulative)\n",
    "cumulative_performance_predictions = calculate.predict_portfolio_returns_from_user_macro_input(user_macro_input, cumulative_models)\n",
    "\n",
    "# hypothesis that these factors may impact **month to month** performance\n",
    "rate_macro_factors = ['US Interest Rate', 'US Inflation Rate', 'US M2 Money Supply', 'China M2 Money Supply']\n",
    "y_rate = 'weighted_portfolio_returns_monthly'\n",
    "rate_models, rate_model_data = calculate.calculate_linear_regression_models_from_macro_data_per_factor(combined_data, rate_macro_factors, y_rate)\n",
    "rate_performance_predictions = calculate.predict_portfolio_returns_from_user_macro_input(user_macro_input, rate_models)"
   ]
  },
  {
   "cell_type": "code",
   "execution_count": 8,
   "metadata": {},
   "outputs": [
    {
     "name": "stdout",
     "output_type": "stream",
     "text": [
      "Cumulative Returns = -6.9022 + (0.1618 * cumulative_inflation)\n",
      "None\n"
     ]
    },
    {
     "data": {
      "application/vnd.plotly.v1+json": {
       "config": {
        "plotlyServerURL": "https://plot.ly"
       },
       "data": [
        {
         "mode": "markers",
         "name": "Data",
         "type": "scatter",
         "x": [
          2.14,
          4.3100000000000005,
          6.44,
          8.620000000000001,
          10.840000000000002,
          13.100000000000001,
          15.39,
          17.51,
          19.48,
          21.4,
          23.189999999999998,
          24.869999999999997,
          26.519999999999996,
          28.349999999999994,
          30.109999999999996,
          32.05,
          33.849999999999994,
          35.71999999999999,
          37.459999999999994,
          39.089999999999996,
          40.49999999999999,
          42.029999999999994,
          43.62,
          45.16,
          46.56999999999999,
          47.989999999999995,
          49.60999999999999,
          51.31999999999999,
          52.85999999999999,
          54.25999999999999,
          55.74999999999999,
          57.21999999999999,
          58.81999999999999,
          60.54999999999999,
          62.48999999999999,
          64.43999999999998,
          66.48999999999998,
          68.50999999999998,
          70.47999999999998,
          72.39999999999998,
          74.20999999999998,
          75.93999999999998,
          77.75999999999998,
          79.51999999999998,
          81.35999999999999,
          83.23999999999998,
          85.09999999999998,
          87.05999999999997,
          89.16999999999997,
          91.28999999999998,
          93.33999999999997,
          95.50999999999998,
          97.57999999999997,
          99.68999999999997,
          101.80999999999997,
          103.88999999999997,
          106.02999999999997,
          108.07999999999997,
          110.04999999999997,
          111.75999999999996,
          113.60999999999996,
          115.55999999999996,
          117.43999999999996,
          119.38999999999996,
          121.12999999999995,
          122.81999999999995,
          124.57999999999996,
          126.12999999999995
         ],
         "y": [
          -0.022767789393831284,
          0.05987049816584422,
          0.0672600858485577,
          0.09266489955708446,
          0.12436892193106752,
          0.13034277018785723,
          0.11148131487873525,
          0.18829669373861369,
          0.135049975823881,
          0.1637410971118245,
          0.2507338479191761,
          0.19241442649116758,
          0.0967388468054613,
          0.2282805520339366,
          0.18413709397935518,
          0.2293307019669777,
          0.2430030151538114,
          0.20648254058548599,
          0.23100811859302217,
          0.20953344714592337,
          0.24470202007655129,
          0.4335568850871476,
          0.546761809445659,
          0.5865301135537577,
          0.46537987398323866,
          0.5651151321759829,
          0.693322132448857,
          0.6861059690363203,
          0.9685546331263244,
          1.0591185500357336,
          1.2077719520636174,
          1.2696635620045762,
          1.3988328367313305,
          1.4596469465900044,
          1.8145204459606799,
          2.0969722990369286,
          2.1848416385694227,
          2.328356127703441,
          2.4164657427006855,
          2.5093351509204758,
          3.403134347050755,
          3.4523482085437847,
          3.836664330804961,
          4.400155665501939,
          4.550021103348086,
          5.3118485706718,
          5.832638333045603,
          6.12801091831458,
          6.578697703613356,
          6.666574721154556,
          6.072259638366844,
          6.328618228816322,
          6.540399020175405,
          6.256839678980674,
          6.7084054731585026,
          7.249520097664815,
          7.147950055715228,
          6.329856180309611,
          5.296809416958678,
          4.536220943494436,
          4.87314197290067,
          5.305057852016849,
          5.854578627022118,
          6.313508966392057,
          6.02287533309333,
          7.119216125073319,
          7.2382970994961795,
          7.219650739730993
         ]
        },
        {
         "mode": "lines",
         "name": "Fitted line",
         "type": "scatter",
         "x": [
          2.14,
          4.3100000000000005,
          6.44,
          8.620000000000001,
          10.840000000000002,
          13.100000000000001,
          15.39,
          17.51,
          19.48,
          21.4,
          23.189999999999998,
          24.869999999999997,
          26.519999999999996,
          28.349999999999994,
          30.109999999999996,
          32.05,
          33.849999999999994,
          35.71999999999999,
          37.459999999999994,
          39.089999999999996,
          40.49999999999999,
          42.029999999999994,
          43.62,
          45.16,
          46.56999999999999,
          47.989999999999995,
          49.60999999999999,
          51.31999999999999,
          52.85999999999999,
          54.25999999999999,
          55.74999999999999,
          57.21999999999999,
          58.81999999999999,
          60.54999999999999,
          62.48999999999999,
          64.43999999999998,
          66.48999999999998,
          68.50999999999998,
          70.47999999999998,
          72.39999999999998,
          74.20999999999998,
          75.93999999999998,
          77.75999999999998,
          79.51999999999998,
          81.35999999999999,
          83.23999999999998,
          85.09999999999998,
          87.05999999999997,
          89.16999999999997,
          91.28999999999998,
          93.33999999999997,
          95.50999999999998,
          97.57999999999997,
          99.68999999999997,
          101.80999999999997,
          103.88999999999997,
          106.02999999999997,
          108.07999999999997,
          110.04999999999997,
          111.75999999999996,
          113.60999999999996,
          115.55999999999996,
          117.43999999999996,
          119.38999999999996,
          121.12999999999995,
          122.81999999999995,
          124.57999999999996,
          126.12999999999995
         ],
         "y": [
          -6.555923297329622,
          -6.204783474431169,
          -5.860116274996281,
          -5.507358296231937,
          -5.148127694004026,
          -4.7824244683125485,
          -4.411866775023398,
          -4.068817731454402,
          -3.7500410258737786,
          -3.439355099622613,
          -3.1497051996280363,
          -2.877855014158266,
          -2.6108592962861703,
          -2.314736772828028,
          -2.029941340431126,
          -1.7160191024481763,
          -1.4247510465877085,
          -1.1221558996660006,
          -0.8405967790008813,
          -0.5768373728605676,
          -0.3486773957698679,
          -0.10109954828847023,
          0.15618723438827775,
          0.40538323773556684,
          0.6335432148262665,
          0.8633213477828576,
          1.125462598057279,
          1.4021672511247232,
          1.6513632544720132,
          1.8779050756968214,
          2.1190102997146543,
          2.3568792120007025,
          2.615784150543341,
          2.895725115342568,
          3.2096473533255168,
          3.525187747174357,
          3.8569096996821113,
          4.183777184592193,
          4.502553890172816,
          4.813239816423982,
          5.106126028150342,
          5.386066992949571,
          5.680571360541821,
          5.965366792938724,
          6.263107472262758,
          6.567320775050357,
          6.868297766106174,
          7.185456315820906,
          7.52688720352401,
          7.8699362470930065,
          8.201658199600761,
          8.552798022499216,
          8.887756286738753,
          9.229187174441856,
          9.572236218010852,
          9.908812638116283,
          10.255097993417062,
          10.586819945924818,
          10.905596651505439,
          11.182301304572883,
          11.481660139762807,
          11.79720053361165,
          12.101413836399248,
          12.41695423024809,
          12.698513350913208,
          12.97198169224887,
          13.256777124645774,
          13.507591283858952
         ]
        }
       ],
       "layout": {
        "template": {
         "data": {
          "candlestick": [
           {
            "decreasing": {
             "line": {
              "color": "#000033"
             }
            },
            "increasing": {
             "line": {
              "color": "#000032"
             }
            },
            "type": "candlestick"
           }
          ],
          "contour": [
           {
            "colorscale": [
             [
              0,
              "#000011"
             ],
             [
              0.1111111111111111,
              "#000012"
             ],
             [
              0.2222222222222222,
              "#000013"
             ],
             [
              0.3333333333333333,
              "#000014"
             ],
             [
              0.4444444444444444,
              "#000015"
             ],
             [
              0.5555555555555556,
              "#000016"
             ],
             [
              0.6666666666666666,
              "#000017"
             ],
             [
              0.7777777777777778,
              "#000018"
             ],
             [
              0.8888888888888888,
              "#000019"
             ],
             [
              1,
              "#000020"
             ]
            ],
            "type": "contour"
           }
          ],
          "contourcarpet": [
           {
            "colorscale": [
             [
              0,
              "#000011"
             ],
             [
              0.1111111111111111,
              "#000012"
             ],
             [
              0.2222222222222222,
              "#000013"
             ],
             [
              0.3333333333333333,
              "#000014"
             ],
             [
              0.4444444444444444,
              "#000015"
             ],
             [
              0.5555555555555556,
              "#000016"
             ],
             [
              0.6666666666666666,
              "#000017"
             ],
             [
              0.7777777777777778,
              "#000018"
             ],
             [
              0.8888888888888888,
              "#000019"
             ],
             [
              1,
              "#000020"
             ]
            ],
            "type": "contourcarpet"
           }
          ],
          "heatmap": [
           {
            "colorscale": [
             [
              0,
              "#000011"
             ],
             [
              0.1111111111111111,
              "#000012"
             ],
             [
              0.2222222222222222,
              "#000013"
             ],
             [
              0.3333333333333333,
              "#000014"
             ],
             [
              0.4444444444444444,
              "#000015"
             ],
             [
              0.5555555555555556,
              "#000016"
             ],
             [
              0.6666666666666666,
              "#000017"
             ],
             [
              0.7777777777777778,
              "#000018"
             ],
             [
              0.8888888888888888,
              "#000019"
             ],
             [
              1,
              "#000020"
             ]
            ],
            "type": "heatmap"
           }
          ],
          "histogram2d": [
           {
            "colorscale": [
             [
              0,
              "#000011"
             ],
             [
              0.1111111111111111,
              "#000012"
             ],
             [
              0.2222222222222222,
              "#000013"
             ],
             [
              0.3333333333333333,
              "#000014"
             ],
             [
              0.4444444444444444,
              "#000015"
             ],
             [
              0.5555555555555556,
              "#000016"
             ],
             [
              0.6666666666666666,
              "#000017"
             ],
             [
              0.7777777777777778,
              "#000018"
             ],
             [
              0.8888888888888888,
              "#000019"
             ],
             [
              1,
              "#000020"
             ]
            ],
            "type": "histogram2d"
           }
          ],
          "icicle": [
           {
            "textfont": {
             "color": "white"
            },
            "type": "icicle"
           }
          ],
          "sankey": [
           {
            "textfont": {
             "color": "#000036"
            },
            "type": "sankey"
           }
          ],
          "scatter": [
           {
            "marker": {
             "line": {
              "width": 0
             }
            },
            "type": "scatter"
           }
          ],
          "table": [
           {
            "cells": {
             "fill": {
              "color": "#000038"
             },
             "font": {
              "color": "#000037"
             },
             "line": {
              "color": "#000039"
             }
            },
            "header": {
             "fill": {
              "color": "#000040"
             },
             "font": {
              "color": "#000036"
             },
             "line": {
              "color": "#000039"
             }
            },
            "type": "table"
           }
          ],
          "waterfall": [
           {
            "connector": {
             "line": {
              "color": "#000036",
              "width": 2
             }
            },
            "decreasing": {
             "marker": {
              "color": "#000033"
             }
            },
            "increasing": {
             "marker": {
              "color": "#000032"
             }
            },
            "totals": {
             "marker": {
              "color": "#000034"
             }
            },
            "type": "waterfall"
           }
          ]
         },
         "layout": {
          "coloraxis": {
           "colorscale": [
            [
             0,
             "#000011"
            ],
            [
             0.1111111111111111,
             "#000012"
            ],
            [
             0.2222222222222222,
             "#000013"
            ],
            [
             0.3333333333333333,
             "#000014"
            ],
            [
             0.4444444444444444,
             "#000015"
            ],
            [
             0.5555555555555556,
             "#000016"
            ],
            [
             0.6666666666666666,
             "#000017"
            ],
            [
             0.7777777777777778,
             "#000018"
            ],
            [
             0.8888888888888888,
             "#000019"
            ],
            [
             1,
             "#000020"
            ]
           ]
          },
          "colorscale": {
           "diverging": [
            [
             0,
             "#000021"
            ],
            [
             0.1,
             "#000022"
            ],
            [
             0.2,
             "#000023"
            ],
            [
             0.3,
             "#000024"
            ],
            [
             0.4,
             "#000025"
            ],
            [
             0.5,
             "#000026"
            ],
            [
             0.6,
             "#000027"
            ],
            [
             0.7,
             "#000028"
            ],
            [
             0.8,
             "#000029"
            ],
            [
             0.9,
             "#000030"
            ],
            [
             1,
             "#000031"
            ]
           ],
           "sequential": [
            [
             0,
             "#000011"
            ],
            [
             0.1111111111111111,
             "#000012"
            ],
            [
             0.2222222222222222,
             "#000013"
            ],
            [
             0.3333333333333333,
             "#000014"
            ],
            [
             0.4444444444444444,
             "#000015"
            ],
            [
             0.5555555555555556,
             "#000016"
            ],
            [
             0.6666666666666666,
             "#000017"
            ],
            [
             0.7777777777777778,
             "#000018"
            ],
            [
             0.8888888888888888,
             "#000019"
            ],
            [
             1,
             "#000020"
            ]
           ],
           "sequentialminus": [
            [
             0,
             "#000011"
            ],
            [
             0.1111111111111111,
             "#000012"
            ],
            [
             0.2222222222222222,
             "#000013"
            ],
            [
             0.3333333333333333,
             "#000014"
            ],
            [
             0.4444444444444444,
             "#000015"
            ],
            [
             0.5555555555555556,
             "#000016"
            ],
            [
             0.6666666666666666,
             "#000017"
            ],
            [
             0.7777777777777778,
             "#000018"
            ],
            [
             0.8888888888888888,
             "#000019"
            ],
            [
             1,
             "#000020"
            ]
           ]
          },
          "colorway": [
           "#000001",
           "#000002",
           "#000003",
           "#000004",
           "#000005",
           "#000006",
           "#000007",
           "#000008",
           "#000009",
           "#000010"
          ]
         }
        },
        "title": {
         "text": "Portfolio Returns vs cumulative_inflation"
        },
        "xaxis": {
         "title": {
          "text": "cumulative_inflation"
         }
        },
        "yaxis": {
         "title": {
          "text": "Portfolio Returns"
         }
        }
       }
      },
      "text/html": [
       "<div>                            <div id=\"09b39ea2-2f8c-43b2-bf49-ef0b8903494f\" class=\"plotly-graph-div\" style=\"height:525px; width:100%;\"></div>            <script type=\"text/javascript\">                require([\"plotly\"], function(Plotly) {                    window.PLOTLYENV=window.PLOTLYENV || {};                                    if (document.getElementById(\"09b39ea2-2f8c-43b2-bf49-ef0b8903494f\")) {                    Plotly.newPlot(                        \"09b39ea2-2f8c-43b2-bf49-ef0b8903494f\",                        [{\"mode\":\"markers\",\"name\":\"Data\",\"x\":[2.14,4.3100000000000005,6.44,8.620000000000001,10.840000000000002,13.100000000000001,15.39,17.51,19.48,21.4,23.189999999999998,24.869999999999997,26.519999999999996,28.349999999999994,30.109999999999996,32.05,33.849999999999994,35.71999999999999,37.459999999999994,39.089999999999996,40.49999999999999,42.029999999999994,43.62,45.16,46.56999999999999,47.989999999999995,49.60999999999999,51.31999999999999,52.85999999999999,54.25999999999999,55.74999999999999,57.21999999999999,58.81999999999999,60.54999999999999,62.48999999999999,64.43999999999998,66.48999999999998,68.50999999999998,70.47999999999998,72.39999999999998,74.20999999999998,75.93999999999998,77.75999999999998,79.51999999999998,81.35999999999999,83.23999999999998,85.09999999999998,87.05999999999997,89.16999999999997,91.28999999999998,93.33999999999997,95.50999999999998,97.57999999999997,99.68999999999997,101.80999999999997,103.88999999999997,106.02999999999997,108.07999999999997,110.04999999999997,111.75999999999996,113.60999999999996,115.55999999999996,117.43999999999996,119.38999999999996,121.12999999999995,122.81999999999995,124.57999999999996,126.12999999999995],\"y\":[-0.022767789393831284,0.05987049816584422,0.0672600858485577,0.09266489955708446,0.12436892193106752,0.13034277018785723,0.11148131487873525,0.18829669373861369,0.135049975823881,0.1637410971118245,0.2507338479191761,0.19241442649116758,0.0967388468054613,0.2282805520339366,0.18413709397935518,0.2293307019669777,0.2430030151538114,0.20648254058548599,0.23100811859302217,0.20953344714592337,0.24470202007655129,0.4335568850871476,0.546761809445659,0.5865301135537577,0.46537987398323866,0.5651151321759829,0.693322132448857,0.6861059690363203,0.9685546331263244,1.0591185500357336,1.2077719520636174,1.2696635620045762,1.3988328367313305,1.4596469465900044,1.8145204459606799,2.0969722990369286,2.1848416385694227,2.328356127703441,2.4164657427006855,2.5093351509204758,3.403134347050755,3.4523482085437847,3.836664330804961,4.400155665501939,4.550021103348086,5.3118485706718,5.832638333045603,6.12801091831458,6.578697703613356,6.666574721154556,6.072259638366844,6.328618228816322,6.540399020175405,6.256839678980674,6.7084054731585026,7.249520097664815,7.147950055715228,6.329856180309611,5.296809416958678,4.536220943494436,4.87314197290067,5.305057852016849,5.854578627022118,6.313508966392057,6.02287533309333,7.119216125073319,7.2382970994961795,7.219650739730993],\"type\":\"scatter\"},{\"mode\":\"lines\",\"name\":\"Fitted line\",\"x\":[2.14,4.3100000000000005,6.44,8.620000000000001,10.840000000000002,13.100000000000001,15.39,17.51,19.48,21.4,23.189999999999998,24.869999999999997,26.519999999999996,28.349999999999994,30.109999999999996,32.05,33.849999999999994,35.71999999999999,37.459999999999994,39.089999999999996,40.49999999999999,42.029999999999994,43.62,45.16,46.56999999999999,47.989999999999995,49.60999999999999,51.31999999999999,52.85999999999999,54.25999999999999,55.74999999999999,57.21999999999999,58.81999999999999,60.54999999999999,62.48999999999999,64.43999999999998,66.48999999999998,68.50999999999998,70.47999999999998,72.39999999999998,74.20999999999998,75.93999999999998,77.75999999999998,79.51999999999998,81.35999999999999,83.23999999999998,85.09999999999998,87.05999999999997,89.16999999999997,91.28999999999998,93.33999999999997,95.50999999999998,97.57999999999997,99.68999999999997,101.80999999999997,103.88999999999997,106.02999999999997,108.07999999999997,110.04999999999997,111.75999999999996,113.60999999999996,115.55999999999996,117.43999999999996,119.38999999999996,121.12999999999995,122.81999999999995,124.57999999999996,126.12999999999995],\"y\":[-6.555923297329622,-6.204783474431169,-5.860116274996281,-5.507358296231937,-5.148127694004026,-4.7824244683125485,-4.411866775023398,-4.068817731454402,-3.7500410258737786,-3.439355099622613,-3.1497051996280363,-2.877855014158266,-2.6108592962861703,-2.314736772828028,-2.029941340431126,-1.7160191024481763,-1.4247510465877085,-1.1221558996660006,-0.8405967790008813,-0.5768373728605676,-0.3486773957698679,-0.10109954828847023,0.15618723438827775,0.40538323773556684,0.6335432148262665,0.8633213477828576,1.125462598057279,1.4021672511247232,1.6513632544720132,1.8779050756968214,2.1190102997146543,2.3568792120007025,2.615784150543341,2.895725115342568,3.2096473533255168,3.525187747174357,3.8569096996821113,4.183777184592193,4.502553890172816,4.813239816423982,5.106126028150342,5.386066992949571,5.680571360541821,5.965366792938724,6.263107472262758,6.567320775050357,6.868297766106174,7.185456315820906,7.52688720352401,7.8699362470930065,8.201658199600761,8.552798022499216,8.887756286738753,9.229187174441856,9.572236218010852,9.908812638116283,10.255097993417062,10.586819945924818,10.905596651505439,11.182301304572883,11.481660139762807,11.79720053361165,12.101413836399248,12.41695423024809,12.698513350913208,12.97198169224887,13.256777124645774,13.507591283858952],\"type\":\"scatter\"}],                        {\"title\":{\"text\":\"Portfolio Returns vs cumulative_inflation\"},\"xaxis\":{\"title\":{\"text\":\"cumulative_inflation\"}},\"yaxis\":{\"title\":{\"text\":\"Portfolio Returns\"}},\"template\":{\"data\":{\"candlestick\":[{\"decreasing\":{\"line\":{\"color\":\"#000033\"}},\"increasing\":{\"line\":{\"color\":\"#000032\"}},\"type\":\"candlestick\"}],\"contourcarpet\":[{\"colorscale\":[[0.0,\"#000011\"],[0.1111111111111111,\"#000012\"],[0.2222222222222222,\"#000013\"],[0.3333333333333333,\"#000014\"],[0.4444444444444444,\"#000015\"],[0.5555555555555556,\"#000016\"],[0.6666666666666666,\"#000017\"],[0.7777777777777778,\"#000018\"],[0.8888888888888888,\"#000019\"],[1.0,\"#000020\"]],\"type\":\"contourcarpet\"}],\"contour\":[{\"colorscale\":[[0.0,\"#000011\"],[0.1111111111111111,\"#000012\"],[0.2222222222222222,\"#000013\"],[0.3333333333333333,\"#000014\"],[0.4444444444444444,\"#000015\"],[0.5555555555555556,\"#000016\"],[0.6666666666666666,\"#000017\"],[0.7777777777777778,\"#000018\"],[0.8888888888888888,\"#000019\"],[1.0,\"#000020\"]],\"type\":\"contour\"}],\"heatmap\":[{\"colorscale\":[[0.0,\"#000011\"],[0.1111111111111111,\"#000012\"],[0.2222222222222222,\"#000013\"],[0.3333333333333333,\"#000014\"],[0.4444444444444444,\"#000015\"],[0.5555555555555556,\"#000016\"],[0.6666666666666666,\"#000017\"],[0.7777777777777778,\"#000018\"],[0.8888888888888888,\"#000019\"],[1.0,\"#000020\"]],\"type\":\"heatmap\"}],\"histogram2d\":[{\"colorscale\":[[0.0,\"#000011\"],[0.1111111111111111,\"#000012\"],[0.2222222222222222,\"#000013\"],[0.3333333333333333,\"#000014\"],[0.4444444444444444,\"#000015\"],[0.5555555555555556,\"#000016\"],[0.6666666666666666,\"#000017\"],[0.7777777777777778,\"#000018\"],[0.8888888888888888,\"#000019\"],[1.0,\"#000020\"]],\"type\":\"histogram2d\"}],\"icicle\":[{\"textfont\":{\"color\":\"white\"},\"type\":\"icicle\"}],\"sankey\":[{\"textfont\":{\"color\":\"#000036\"},\"type\":\"sankey\"}],\"scatter\":[{\"marker\":{\"line\":{\"width\":0}},\"type\":\"scatter\"}],\"table\":[{\"cells\":{\"fill\":{\"color\":\"#000038\"},\"font\":{\"color\":\"#000037\"},\"line\":{\"color\":\"#000039\"}},\"header\":{\"fill\":{\"color\":\"#000040\"},\"font\":{\"color\":\"#000036\"},\"line\":{\"color\":\"#000039\"}},\"type\":\"table\"}],\"waterfall\":[{\"connector\":{\"line\":{\"color\":\"#000036\",\"width\":2}},\"decreasing\":{\"marker\":{\"color\":\"#000033\"}},\"increasing\":{\"marker\":{\"color\":\"#000032\"}},\"totals\":{\"marker\":{\"color\":\"#000034\"}},\"type\":\"waterfall\"}]},\"layout\":{\"coloraxis\":{\"colorscale\":[[0.0,\"#000011\"],[0.1111111111111111,\"#000012\"],[0.2222222222222222,\"#000013\"],[0.3333333333333333,\"#000014\"],[0.4444444444444444,\"#000015\"],[0.5555555555555556,\"#000016\"],[0.6666666666666666,\"#000017\"],[0.7777777777777778,\"#000018\"],[0.8888888888888888,\"#000019\"],[1.0,\"#000020\"]]},\"colorscale\":{\"diverging\":[[0.0,\"#000021\"],[0.1,\"#000022\"],[0.2,\"#000023\"],[0.3,\"#000024\"],[0.4,\"#000025\"],[0.5,\"#000026\"],[0.6,\"#000027\"],[0.7,\"#000028\"],[0.8,\"#000029\"],[0.9,\"#000030\"],[1.0,\"#000031\"]],\"sequential\":[[0.0,\"#000011\"],[0.1111111111111111,\"#000012\"],[0.2222222222222222,\"#000013\"],[0.3333333333333333,\"#000014\"],[0.4444444444444444,\"#000015\"],[0.5555555555555556,\"#000016\"],[0.6666666666666666,\"#000017\"],[0.7777777777777778,\"#000018\"],[0.8888888888888888,\"#000019\"],[1.0,\"#000020\"]],\"sequentialminus\":[[0.0,\"#000011\"],[0.1111111111111111,\"#000012\"],[0.2222222222222222,\"#000013\"],[0.3333333333333333,\"#000014\"],[0.4444444444444444,\"#000015\"],[0.5555555555555556,\"#000016\"],[0.6666666666666666,\"#000017\"],[0.7777777777777778,\"#000018\"],[0.8888888888888888,\"#000019\"],[1.0,\"#000020\"]]},\"colorway\":[\"#000001\",\"#000002\",\"#000003\",\"#000004\",\"#000005\",\"#000006\",\"#000007\",\"#000008\",\"#000009\",\"#000010\"]}}},                        {\"responsive\": true}                    ).then(function(){\n",
       "                            \n",
       "var gd = document.getElementById('09b39ea2-2f8c-43b2-bf49-ef0b8903494f');\n",
       "var x = new MutationObserver(function (mutations, observer) {{\n",
       "        var display = window.getComputedStyle(gd).display;\n",
       "        if (!display || display === 'none') {{\n",
       "            console.log([gd, 'removed!']);\n",
       "            Plotly.purge(gd);\n",
       "            observer.disconnect();\n",
       "        }}\n",
       "}});\n",
       "\n",
       "// Listen for the removal of the full notebook cells\n",
       "var notebookContainer = gd.closest('#notebook-container');\n",
       "if (notebookContainer) {{\n",
       "    x.observe(notebookContainer, {childList: true});\n",
       "}}\n",
       "\n",
       "// Listen for the clearing of the current output cell\n",
       "var outputEl = gd.closest('.output');\n",
       "if (outputEl) {{\n",
       "    x.observe(outputEl, {childList: true});\n",
       "}}\n",
       "\n",
       "                        })                };                });            </script>        </div>"
      ]
     },
     "metadata": {},
     "output_type": "display_data"
    },
    {
     "name": "stdout",
     "output_type": "stream",
     "text": [
      "Cumulative Returns = -26.4141 + (0.0022 * US M2 Money Supply)\n",
      "None\n"
     ]
    },
    {
     "data": {
      "application/vnd.plotly.v1+json": {
       "config": {
        "plotlyServerURL": "https://plot.ly"
       },
       "data": [
        {
         "mode": "markers",
         "name": "Data",
         "type": "scatter",
         "x": [
          11114.3,
          11174.9,
          11223.4,
          11295.1,
          11346.6,
          11404,
          11468.7,
          11477.8,
          11525.2,
          11602.6,
          11605.7,
          11704.4,
          11768.5,
          11887.3,
          11891.8,
          11925.2,
          11979.5,
          12041.1,
          12069.4,
          12139.7,
          12169.9,
          12228.9,
          12292.5,
          12367,
          12502.9,
          12566.9,
          12652.6,
          12727.1,
          12767.8,
          12854.8,
          12913.4,
          12997.6,
          13052,
          13134.3,
          13195.8,
          13209.3,
          13295.1,
          13381.3,
          13437.6,
          13498.3,
          13559.7,
          13587.5,
          13647.5,
          13709.1,
          13734.2,
          13786.8,
          13823.5,
          13839,
          13876.2,
          13920.9,
          13976.8,
          13995.8,
          14075.2,
          14124.5,
          14152.1,
          14219.6,
          14227.1,
          14239.1,
          14248.5,
          14405.1,
          14461.8,
          14462.1,
          14510.2,
          14577.1,
          14685.7,
          14786.9,
          14891.5,
          14928.3
         ],
         "y": [
          -0.022767789393831284,
          0.05987049816584422,
          0.0672600858485577,
          0.09266489955708446,
          0.12436892193106752,
          0.13034277018785723,
          0.11148131487873525,
          0.18829669373861369,
          0.135049975823881,
          0.1637410971118245,
          0.2507338479191761,
          0.19241442649116758,
          0.0967388468054613,
          0.2282805520339366,
          0.18413709397935518,
          0.2293307019669777,
          0.2430030151538114,
          0.20648254058548599,
          0.23100811859302217,
          0.20953344714592337,
          0.24470202007655129,
          0.4335568850871476,
          0.546761809445659,
          0.5865301135537577,
          0.46537987398323866,
          0.5651151321759829,
          0.693322132448857,
          0.6861059690363203,
          0.9685546331263244,
          1.0591185500357336,
          1.2077719520636174,
          1.2696635620045762,
          1.3988328367313305,
          1.4596469465900044,
          1.8145204459606799,
          2.0969722990369286,
          2.1848416385694227,
          2.328356127703441,
          2.4164657427006855,
          2.5093351509204758,
          3.403134347050755,
          3.4523482085437847,
          3.836664330804961,
          4.400155665501939,
          4.550021103348086,
          5.3118485706718,
          5.832638333045603,
          6.12801091831458,
          6.578697703613356,
          6.666574721154556,
          6.072259638366844,
          6.328618228816322,
          6.540399020175405,
          6.256839678980674,
          6.7084054731585026,
          7.249520097664815,
          7.147950055715228,
          6.329856180309611,
          5.296809416958678,
          4.536220943494436,
          4.87314197290067,
          5.305057852016849,
          5.854578627022118,
          6.313508966392057,
          6.02287533309333,
          7.119216125073319,
          7.2382970994961795,
          7.219650739730993
         ]
        },
        {
         "mode": "lines",
         "name": "Fitted line",
         "type": "scatter",
         "x": [
          11114.3,
          11174.9,
          11223.4,
          11295.1,
          11346.6,
          11404,
          11468.7,
          11477.8,
          11525.2,
          11602.6,
          11605.7,
          11704.4,
          11768.5,
          11887.3,
          11891.8,
          11925.2,
          11979.5,
          12041.1,
          12069.4,
          12139.7,
          12169.9,
          12228.9,
          12292.5,
          12367,
          12502.9,
          12566.9,
          12652.6,
          12727.1,
          12767.8,
          12854.8,
          12913.4,
          12997.6,
          13052,
          13134.3,
          13195.8,
          13209.3,
          13295.1,
          13381.3,
          13437.6,
          13498.3,
          13559.7,
          13587.5,
          13647.5,
          13709.1,
          13734.2,
          13786.8,
          13823.5,
          13839,
          13876.2,
          13920.9,
          13976.8,
          13995.8,
          14075.2,
          14124.5,
          14152.1,
          14219.6,
          14227.1,
          14239.1,
          14248.5,
          14405.1,
          14461.8,
          14462.1,
          14510.2,
          14577.1,
          14685.7,
          14786.9,
          14891.5,
          14928.3
         ],
         "y": [
          -1.4977613468528936,
          -1.3619065316368015,
          -1.2531778428912475,
          -1.0924387298385412,
          -0.9769845551912013,
          -0.8483035916036812,
          -0.7032572789884775,
          -0.6828566384197288,
          -0.5765939611714934,
          -0.40307642490539664,
          -0.396126756140216,
          -0.1748582699714305,
          -0.03115705453658535,
          0.2351721871741681,
          0.24526041602684856,
          0.3201374924000788,
          0.4418687872224183,
          0.5799654310724414,
          0.643409181412629,
          0.8010097343778355,
          0.8687129591224867,
          1.0009808485242928,
          1.1435611496421743,
          1.3105773828698801,
          1.6152418942208193,
          1.7587189267922732,
          1.9508436407199845,
          2.117859873947687,
          2.2091022993485936,
          2.40414139050041,
          2.535512548448647,
          2.724274519425464,
          2.846229997111198,
          3.030732493683548,
          3.168604954670176,
          3.1988696412282174,
          3.39121853801932,
          3.5844641662639916,
          3.710679118354193,
          3.8467581164336764,
          3.984406394556917,
          4.046729230580141,
          4.181238948615878,
          4.319335592465897,
          4.375605491177517,
          4.493525677322175,
          4.575800788187369,
          4.610549132013265,
          4.693945157195426,
          4.794154897132046,
          4.919473117768671,
          4.9620678618133205,
          5.140069055347283,
          5.250591206999978,
          5.312465677296416,
          5.463789110086619,
          5.480602824841085,
          5.507504768448232,
          5.528577957607165,
          5.879648321680435,
          6.006760005224201,
          6.0074325538143825,
          6.115264511106368,
          6.2652428467162125,
          6.508705436360891,
          6.735578494114499,
          6.970073769223468,
          7.0525730629520496
         ]
        },
        {
         "marker": {
          "color": "red"
         },
         "mode": "markers",
         "name": "Prediction",
         "type": "scatter",
         "x": [
          0.1
         ],
         "y": [
          -26.413893150065824
         ]
        }
       ],
       "layout": {
        "template": {
         "data": {
          "candlestick": [
           {
            "decreasing": {
             "line": {
              "color": "#000033"
             }
            },
            "increasing": {
             "line": {
              "color": "#000032"
             }
            },
            "type": "candlestick"
           }
          ],
          "contour": [
           {
            "colorscale": [
             [
              0,
              "#000011"
             ],
             [
              0.1111111111111111,
              "#000012"
             ],
             [
              0.2222222222222222,
              "#000013"
             ],
             [
              0.3333333333333333,
              "#000014"
             ],
             [
              0.4444444444444444,
              "#000015"
             ],
             [
              0.5555555555555556,
              "#000016"
             ],
             [
              0.6666666666666666,
              "#000017"
             ],
             [
              0.7777777777777778,
              "#000018"
             ],
             [
              0.8888888888888888,
              "#000019"
             ],
             [
              1,
              "#000020"
             ]
            ],
            "type": "contour"
           }
          ],
          "contourcarpet": [
           {
            "colorscale": [
             [
              0,
              "#000011"
             ],
             [
              0.1111111111111111,
              "#000012"
             ],
             [
              0.2222222222222222,
              "#000013"
             ],
             [
              0.3333333333333333,
              "#000014"
             ],
             [
              0.4444444444444444,
              "#000015"
             ],
             [
              0.5555555555555556,
              "#000016"
             ],
             [
              0.6666666666666666,
              "#000017"
             ],
             [
              0.7777777777777778,
              "#000018"
             ],
             [
              0.8888888888888888,
              "#000019"
             ],
             [
              1,
              "#000020"
             ]
            ],
            "type": "contourcarpet"
           }
          ],
          "heatmap": [
           {
            "colorscale": [
             [
              0,
              "#000011"
             ],
             [
              0.1111111111111111,
              "#000012"
             ],
             [
              0.2222222222222222,
              "#000013"
             ],
             [
              0.3333333333333333,
              "#000014"
             ],
             [
              0.4444444444444444,
              "#000015"
             ],
             [
              0.5555555555555556,
              "#000016"
             ],
             [
              0.6666666666666666,
              "#000017"
             ],
             [
              0.7777777777777778,
              "#000018"
             ],
             [
              0.8888888888888888,
              "#000019"
             ],
             [
              1,
              "#000020"
             ]
            ],
            "type": "heatmap"
           }
          ],
          "histogram2d": [
           {
            "colorscale": [
             [
              0,
              "#000011"
             ],
             [
              0.1111111111111111,
              "#000012"
             ],
             [
              0.2222222222222222,
              "#000013"
             ],
             [
              0.3333333333333333,
              "#000014"
             ],
             [
              0.4444444444444444,
              "#000015"
             ],
             [
              0.5555555555555556,
              "#000016"
             ],
             [
              0.6666666666666666,
              "#000017"
             ],
             [
              0.7777777777777778,
              "#000018"
             ],
             [
              0.8888888888888888,
              "#000019"
             ],
             [
              1,
              "#000020"
             ]
            ],
            "type": "histogram2d"
           }
          ],
          "icicle": [
           {
            "textfont": {
             "color": "white"
            },
            "type": "icicle"
           }
          ],
          "sankey": [
           {
            "textfont": {
             "color": "#000036"
            },
            "type": "sankey"
           }
          ],
          "scatter": [
           {
            "marker": {
             "line": {
              "width": 0
             }
            },
            "type": "scatter"
           }
          ],
          "table": [
           {
            "cells": {
             "fill": {
              "color": "#000038"
             },
             "font": {
              "color": "#000037"
             },
             "line": {
              "color": "#000039"
             }
            },
            "header": {
             "fill": {
              "color": "#000040"
             },
             "font": {
              "color": "#000036"
             },
             "line": {
              "color": "#000039"
             }
            },
            "type": "table"
           }
          ],
          "waterfall": [
           {
            "connector": {
             "line": {
              "color": "#000036",
              "width": 2
             }
            },
            "decreasing": {
             "marker": {
              "color": "#000033"
             }
            },
            "increasing": {
             "marker": {
              "color": "#000032"
             }
            },
            "totals": {
             "marker": {
              "color": "#000034"
             }
            },
            "type": "waterfall"
           }
          ]
         },
         "layout": {
          "coloraxis": {
           "colorscale": [
            [
             0,
             "#000011"
            ],
            [
             0.1111111111111111,
             "#000012"
            ],
            [
             0.2222222222222222,
             "#000013"
            ],
            [
             0.3333333333333333,
             "#000014"
            ],
            [
             0.4444444444444444,
             "#000015"
            ],
            [
             0.5555555555555556,
             "#000016"
            ],
            [
             0.6666666666666666,
             "#000017"
            ],
            [
             0.7777777777777778,
             "#000018"
            ],
            [
             0.8888888888888888,
             "#000019"
            ],
            [
             1,
             "#000020"
            ]
           ]
          },
          "colorscale": {
           "diverging": [
            [
             0,
             "#000021"
            ],
            [
             0.1,
             "#000022"
            ],
            [
             0.2,
             "#000023"
            ],
            [
             0.3,
             "#000024"
            ],
            [
             0.4,
             "#000025"
            ],
            [
             0.5,
             "#000026"
            ],
            [
             0.6,
             "#000027"
            ],
            [
             0.7,
             "#000028"
            ],
            [
             0.8,
             "#000029"
            ],
            [
             0.9,
             "#000030"
            ],
            [
             1,
             "#000031"
            ]
           ],
           "sequential": [
            [
             0,
             "#000011"
            ],
            [
             0.1111111111111111,
             "#000012"
            ],
            [
             0.2222222222222222,
             "#000013"
            ],
            [
             0.3333333333333333,
             "#000014"
            ],
            [
             0.4444444444444444,
             "#000015"
            ],
            [
             0.5555555555555556,
             "#000016"
            ],
            [
             0.6666666666666666,
             "#000017"
            ],
            [
             0.7777777777777778,
             "#000018"
            ],
            [
             0.8888888888888888,
             "#000019"
            ],
            [
             1,
             "#000020"
            ]
           ],
           "sequentialminus": [
            [
             0,
             "#000011"
            ],
            [
             0.1111111111111111,
             "#000012"
            ],
            [
             0.2222222222222222,
             "#000013"
            ],
            [
             0.3333333333333333,
             "#000014"
            ],
            [
             0.4444444444444444,
             "#000015"
            ],
            [
             0.5555555555555556,
             "#000016"
            ],
            [
             0.6666666666666666,
             "#000017"
            ],
            [
             0.7777777777777778,
             "#000018"
            ],
            [
             0.8888888888888888,
             "#000019"
            ],
            [
             1,
             "#000020"
            ]
           ]
          },
          "colorway": [
           "#000001",
           "#000002",
           "#000003",
           "#000004",
           "#000005",
           "#000006",
           "#000007",
           "#000008",
           "#000009",
           "#000010"
          ]
         }
        },
        "title": {
         "text": "Portfolio Returns vs US M2 Money Supply"
        },
        "xaxis": {
         "title": {
          "text": "US M2 Money Supply"
         }
        },
        "yaxis": {
         "title": {
          "text": "Portfolio Returns"
         }
        }
       }
      },
      "text/html": [
       "<div>                            <div id=\"474d1b20-a3fa-4e8e-b807-4ecfd3dbd4b3\" class=\"plotly-graph-div\" style=\"height:525px; width:100%;\"></div>            <script type=\"text/javascript\">                require([\"plotly\"], function(Plotly) {                    window.PLOTLYENV=window.PLOTLYENV || {};                                    if (document.getElementById(\"474d1b20-a3fa-4e8e-b807-4ecfd3dbd4b3\")) {                    Plotly.newPlot(                        \"474d1b20-a3fa-4e8e-b807-4ecfd3dbd4b3\",                        [{\"mode\":\"markers\",\"name\":\"Data\",\"x\":[11114.3,11174.9,11223.4,11295.1,11346.6,11404.0,11468.7,11477.8,11525.2,11602.6,11605.7,11704.4,11768.5,11887.3,11891.8,11925.2,11979.5,12041.1,12069.4,12139.7,12169.9,12228.9,12292.5,12367.0,12502.9,12566.9,12652.6,12727.1,12767.8,12854.8,12913.4,12997.6,13052.0,13134.3,13195.8,13209.3,13295.1,13381.3,13437.6,13498.3,13559.7,13587.5,13647.5,13709.1,13734.2,13786.8,13823.5,13839.0,13876.2,13920.9,13976.8,13995.8,14075.2,14124.5,14152.1,14219.6,14227.1,14239.1,14248.5,14405.1,14461.8,14462.1,14510.2,14577.1,14685.7,14786.9,14891.5,14928.3],\"y\":[-0.022767789393831284,0.05987049816584422,0.0672600858485577,0.09266489955708446,0.12436892193106752,0.13034277018785723,0.11148131487873525,0.18829669373861369,0.135049975823881,0.1637410971118245,0.2507338479191761,0.19241442649116758,0.0967388468054613,0.2282805520339366,0.18413709397935518,0.2293307019669777,0.2430030151538114,0.20648254058548599,0.23100811859302217,0.20953344714592337,0.24470202007655129,0.4335568850871476,0.546761809445659,0.5865301135537577,0.46537987398323866,0.5651151321759829,0.693322132448857,0.6861059690363203,0.9685546331263244,1.0591185500357336,1.2077719520636174,1.2696635620045762,1.3988328367313305,1.4596469465900044,1.8145204459606799,2.0969722990369286,2.1848416385694227,2.328356127703441,2.4164657427006855,2.5093351509204758,3.403134347050755,3.4523482085437847,3.836664330804961,4.400155665501939,4.550021103348086,5.3118485706718,5.832638333045603,6.12801091831458,6.578697703613356,6.666574721154556,6.072259638366844,6.328618228816322,6.540399020175405,6.256839678980674,6.7084054731585026,7.249520097664815,7.147950055715228,6.329856180309611,5.296809416958678,4.536220943494436,4.87314197290067,5.305057852016849,5.854578627022118,6.313508966392057,6.02287533309333,7.119216125073319,7.2382970994961795,7.219650739730993],\"type\":\"scatter\"},{\"mode\":\"lines\",\"name\":\"Fitted line\",\"x\":[11114.3,11174.9,11223.4,11295.1,11346.6,11404.0,11468.7,11477.8,11525.2,11602.6,11605.7,11704.4,11768.5,11887.3,11891.8,11925.2,11979.5,12041.1,12069.4,12139.7,12169.9,12228.9,12292.5,12367.0,12502.9,12566.9,12652.6,12727.1,12767.8,12854.8,12913.4,12997.6,13052.0,13134.3,13195.8,13209.3,13295.1,13381.3,13437.6,13498.3,13559.7,13587.5,13647.5,13709.1,13734.2,13786.8,13823.5,13839.0,13876.2,13920.9,13976.8,13995.8,14075.2,14124.5,14152.1,14219.6,14227.1,14239.1,14248.5,14405.1,14461.8,14462.1,14510.2,14577.1,14685.7,14786.9,14891.5,14928.3],\"y\":[-1.4977613468528936,-1.3619065316368015,-1.2531778428912475,-1.0924387298385412,-0.9769845551912013,-0.8483035916036812,-0.7032572789884775,-0.6828566384197288,-0.5765939611714934,-0.40307642490539664,-0.396126756140216,-0.1748582699714305,-0.03115705453658535,0.2351721871741681,0.24526041602684856,0.3201374924000788,0.4418687872224183,0.5799654310724414,0.643409181412629,0.8010097343778355,0.8687129591224867,1.0009808485242928,1.1435611496421743,1.3105773828698801,1.6152418942208193,1.7587189267922732,1.9508436407199845,2.117859873947687,2.2091022993485936,2.40414139050041,2.535512548448647,2.724274519425464,2.846229997111198,3.030732493683548,3.168604954670176,3.1988696412282174,3.39121853801932,3.5844641662639916,3.710679118354193,3.8467581164336764,3.984406394556917,4.046729230580141,4.181238948615878,4.319335592465897,4.375605491177517,4.493525677322175,4.575800788187369,4.610549132013265,4.693945157195426,4.794154897132046,4.919473117768671,4.9620678618133205,5.140069055347283,5.250591206999978,5.312465677296416,5.463789110086619,5.480602824841085,5.507504768448232,5.528577957607165,5.879648321680435,6.006760005224201,6.0074325538143825,6.115264511106368,6.2652428467162125,6.508705436360891,6.735578494114499,6.970073769223468,7.0525730629520496],\"type\":\"scatter\"},{\"marker\":{\"color\":\"red\"},\"mode\":\"markers\",\"name\":\"Prediction\",\"x\":[0.1],\"y\":[-26.413893150065824],\"type\":\"scatter\"}],                        {\"title\":{\"text\":\"Portfolio Returns vs US M2 Money Supply\"},\"xaxis\":{\"title\":{\"text\":\"US M2 Money Supply\"}},\"yaxis\":{\"title\":{\"text\":\"Portfolio Returns\"}},\"template\":{\"data\":{\"candlestick\":[{\"decreasing\":{\"line\":{\"color\":\"#000033\"}},\"increasing\":{\"line\":{\"color\":\"#000032\"}},\"type\":\"candlestick\"}],\"contourcarpet\":[{\"colorscale\":[[0.0,\"#000011\"],[0.1111111111111111,\"#000012\"],[0.2222222222222222,\"#000013\"],[0.3333333333333333,\"#000014\"],[0.4444444444444444,\"#000015\"],[0.5555555555555556,\"#000016\"],[0.6666666666666666,\"#000017\"],[0.7777777777777778,\"#000018\"],[0.8888888888888888,\"#000019\"],[1.0,\"#000020\"]],\"type\":\"contourcarpet\"}],\"contour\":[{\"colorscale\":[[0.0,\"#000011\"],[0.1111111111111111,\"#000012\"],[0.2222222222222222,\"#000013\"],[0.3333333333333333,\"#000014\"],[0.4444444444444444,\"#000015\"],[0.5555555555555556,\"#000016\"],[0.6666666666666666,\"#000017\"],[0.7777777777777778,\"#000018\"],[0.8888888888888888,\"#000019\"],[1.0,\"#000020\"]],\"type\":\"contour\"}],\"heatmap\":[{\"colorscale\":[[0.0,\"#000011\"],[0.1111111111111111,\"#000012\"],[0.2222222222222222,\"#000013\"],[0.3333333333333333,\"#000014\"],[0.4444444444444444,\"#000015\"],[0.5555555555555556,\"#000016\"],[0.6666666666666666,\"#000017\"],[0.7777777777777778,\"#000018\"],[0.8888888888888888,\"#000019\"],[1.0,\"#000020\"]],\"type\":\"heatmap\"}],\"histogram2d\":[{\"colorscale\":[[0.0,\"#000011\"],[0.1111111111111111,\"#000012\"],[0.2222222222222222,\"#000013\"],[0.3333333333333333,\"#000014\"],[0.4444444444444444,\"#000015\"],[0.5555555555555556,\"#000016\"],[0.6666666666666666,\"#000017\"],[0.7777777777777778,\"#000018\"],[0.8888888888888888,\"#000019\"],[1.0,\"#000020\"]],\"type\":\"histogram2d\"}],\"icicle\":[{\"textfont\":{\"color\":\"white\"},\"type\":\"icicle\"}],\"sankey\":[{\"textfont\":{\"color\":\"#000036\"},\"type\":\"sankey\"}],\"scatter\":[{\"marker\":{\"line\":{\"width\":0}},\"type\":\"scatter\"}],\"table\":[{\"cells\":{\"fill\":{\"color\":\"#000038\"},\"font\":{\"color\":\"#000037\"},\"line\":{\"color\":\"#000039\"}},\"header\":{\"fill\":{\"color\":\"#000040\"},\"font\":{\"color\":\"#000036\"},\"line\":{\"color\":\"#000039\"}},\"type\":\"table\"}],\"waterfall\":[{\"connector\":{\"line\":{\"color\":\"#000036\",\"width\":2}},\"decreasing\":{\"marker\":{\"color\":\"#000033\"}},\"increasing\":{\"marker\":{\"color\":\"#000032\"}},\"totals\":{\"marker\":{\"color\":\"#000034\"}},\"type\":\"waterfall\"}]},\"layout\":{\"coloraxis\":{\"colorscale\":[[0.0,\"#000011\"],[0.1111111111111111,\"#000012\"],[0.2222222222222222,\"#000013\"],[0.3333333333333333,\"#000014\"],[0.4444444444444444,\"#000015\"],[0.5555555555555556,\"#000016\"],[0.6666666666666666,\"#000017\"],[0.7777777777777778,\"#000018\"],[0.8888888888888888,\"#000019\"],[1.0,\"#000020\"]]},\"colorscale\":{\"diverging\":[[0.0,\"#000021\"],[0.1,\"#000022\"],[0.2,\"#000023\"],[0.3,\"#000024\"],[0.4,\"#000025\"],[0.5,\"#000026\"],[0.6,\"#000027\"],[0.7,\"#000028\"],[0.8,\"#000029\"],[0.9,\"#000030\"],[1.0,\"#000031\"]],\"sequential\":[[0.0,\"#000011\"],[0.1111111111111111,\"#000012\"],[0.2222222222222222,\"#000013\"],[0.3333333333333333,\"#000014\"],[0.4444444444444444,\"#000015\"],[0.5555555555555556,\"#000016\"],[0.6666666666666666,\"#000017\"],[0.7777777777777778,\"#000018\"],[0.8888888888888888,\"#000019\"],[1.0,\"#000020\"]],\"sequentialminus\":[[0.0,\"#000011\"],[0.1111111111111111,\"#000012\"],[0.2222222222222222,\"#000013\"],[0.3333333333333333,\"#000014\"],[0.4444444444444444,\"#000015\"],[0.5555555555555556,\"#000016\"],[0.6666666666666666,\"#000017\"],[0.7777777777777778,\"#000018\"],[0.8888888888888888,\"#000019\"],[1.0,\"#000020\"]]},\"colorway\":[\"#000001\",\"#000002\",\"#000003\",\"#000004\",\"#000005\",\"#000006\",\"#000007\",\"#000008\",\"#000009\",\"#000010\"]}}},                        {\"responsive\": true}                    ).then(function(){\n",
       "                            \n",
       "var gd = document.getElementById('474d1b20-a3fa-4e8e-b807-4ecfd3dbd4b3');\n",
       "var x = new MutationObserver(function (mutations, observer) {{\n",
       "        var display = window.getComputedStyle(gd).display;\n",
       "        if (!display || display === 'none') {{\n",
       "            console.log([gd, 'removed!']);\n",
       "            Plotly.purge(gd);\n",
       "            observer.disconnect();\n",
       "        }}\n",
       "}});\n",
       "\n",
       "// Listen for the removal of the full notebook cells\n",
       "var notebookContainer = gd.closest('#notebook-container');\n",
       "if (notebookContainer) {{\n",
       "    x.observe(notebookContainer, {childList: true});\n",
       "}}\n",
       "\n",
       "// Listen for the clearing of the current output cell\n",
       "var outputEl = gd.closest('.output');\n",
       "if (outputEl) {{\n",
       "    x.observe(outputEl, {childList: true});\n",
       "}}\n",
       "\n",
       "                        })                };                });            </script>        </div>"
      ]
     },
     "metadata": {},
     "output_type": "display_data"
    },
    {
     "name": "stdout",
     "output_type": "stream",
     "text": [
      "Cumulative Returns = -12.9062 + (0.0000 * China M2 Money Supply)\n",
      "None\n"
     ]
    },
    {
     "data": {
      "application/vnd.plotly.v1+json": {
       "config": {
        "plotlyServerURL": "https://plot.ly"
       },
       "data": [
        {
         "mode": "markers",
         "name": "Data",
         "type": "scatter",
         "x": [
          112352120956304,
          113176083333495,
          116068738304199,
          116881267341323,
          118229395815816,
          120958719736328,
          119424923991663,
          119749908384625,
          120205141184955,
          119923631381594,
          120860594890828,
          122837480654446,
          124270956100000,
          125738447800000,
          127533277661997,
          128077914306519,
          130735763080841,
          133337536453853,
          135321092482599,
          135690797692855,
          135982405527006,
          136102070462698,
          137395601474437,
          139227810919881,
          141631955112113,
          142461867792204,
          144619802900000,
          144520958800000,
          146169510000000,
          149049182794442,
          149155871700000,
          151098290500000,
          151636050000000,
          151948540477789,
          153043206189849,
          155006666781086,
          157594558824035,
          158291307400000,
          159960957300000,
          159633186800000,
          160136041500000,
          163128253000000,
          162899663081962,
          164515660058768,
          165566206768995,
          165343415785166,
          167001339753416,
          169023533554568,
          172081445272825,
          172907011807809,
          173985947770954,
          173768372950626,
          174306379232330,
          177017837280000,
          177619610516409,
          178867042970175,
          180166558147986,
          179556159556340,
          181317506539151,
          182674421936410,
          186593532659733,
          186742744803641,
          188941213660000,
          188467032670746,
          189115369625331,
          192136019033428,
          191941081632526,
          193549242773720
         ],
         "y": [
          -0.022767789393831284,
          0.05987049816584422,
          0.0672600858485577,
          0.09266489955708446,
          0.12436892193106752,
          0.13034277018785723,
          0.11148131487873525,
          0.18829669373861369,
          0.135049975823881,
          0.1637410971118245,
          0.2507338479191761,
          0.19241442649116758,
          0.0967388468054613,
          0.2282805520339366,
          0.18413709397935518,
          0.2293307019669777,
          0.2430030151538114,
          0.20648254058548599,
          0.23100811859302217,
          0.20953344714592337,
          0.24470202007655129,
          0.4335568850871476,
          0.546761809445659,
          0.5865301135537577,
          0.46537987398323866,
          0.5651151321759829,
          0.693322132448857,
          0.6861059690363203,
          0.9685546331263244,
          1.0591185500357336,
          1.2077719520636174,
          1.2696635620045762,
          1.3988328367313305,
          1.4596469465900044,
          1.8145204459606799,
          2.0969722990369286,
          2.1848416385694227,
          2.328356127703441,
          2.4164657427006855,
          2.5093351509204758,
          3.403134347050755,
          3.4523482085437847,
          3.836664330804961,
          4.400155665501939,
          4.550021103348086,
          5.3118485706718,
          5.832638333045603,
          6.12801091831458,
          6.578697703613356,
          6.666574721154556,
          6.072259638366844,
          6.328618228816322,
          6.540399020175405,
          6.256839678980674,
          6.7084054731585026,
          7.249520097664815,
          7.147950055715228,
          6.329856180309611,
          5.296809416958678,
          4.536220943494436,
          4.87314197290067,
          5.305057852016849,
          5.854578627022118,
          6.313508966392057,
          6.02287533309333,
          7.119216125073319,
          7.2382970994961795,
          7.219650739730993
         ]
        },
        {
         "mode": "lines",
         "name": "Fitted line",
         "type": "scatter",
         "x": [
          112352120956304,
          113176083333495,
          116068738304199,
          116881267341323,
          118229395815816,
          120958719736328,
          119424923991663,
          119749908384625,
          120205141184955,
          119923631381594,
          120860594890828,
          122837480654446,
          124270956100000,
          125738447800000,
          127533277661997,
          128077914306519,
          130735763080841,
          133337536453853,
          135321092482599,
          135690797692855,
          135982405527006,
          136102070462698,
          137395601474437,
          139227810919881,
          141631955112113,
          142461867792204,
          144619802900000,
          144520958800000,
          146169510000000,
          149049182794442,
          149155871700000,
          151098290500000,
          151636050000000,
          151948540477789,
          153043206189849,
          155006666781086,
          157594558824035,
          158291307400000,
          159960957300000,
          159633186800000,
          160136041500000,
          163128253000000,
          162899663081962,
          164515660058768,
          165566206768995,
          165343415785166,
          167001339753416,
          169023533554568,
          172081445272825,
          172907011807809,
          173985947770954,
          173768372950626,
          174306379232330,
          177017837280000,
          177619610516409,
          178867042970175,
          180166558147986,
          179556159556340,
          181317506539151,
          182674421936410,
          186593532659733,
          186742744803641,
          188941213660000,
          188467032670746,
          189115369625331,
          192136019033428,
          191941081632526,
          193549242773720
         ],
         "y": [
          -1.3494002296048944,
          -1.2646457786047804,
          -0.9671013873055454,
          -0.8835229929887252,
          -0.7448517479219259,
          -0.46410792164058456,
          -0.6218772808782802,
          -0.5884487232504423,
          -0.5416225487341393,
          -0.5705792213875096,
          -0.4742012434232805,
          -0.2708547409329807,
          -0.12340453231513138,
          0.027544657628151725,
          0.21216451868389719,
          0.2681869549975229,
          0.5415787019325489,
          0.8092024186950795,
          1.0132350382637778,
          1.0512636703888898,
          1.0812590470892882,
          1.0935680264908907,
          1.226623265160054,
          1.415088066423463,
          1.6623832424876728,
          1.747749753782692,
          1.9697193611555832,
          1.9595520553877392,
          2.1291253948621804,
          2.425334413027482,
          2.4363086514984147,
          2.636109811798404,
          2.69142485099713,
          2.7235682590227004,
          2.836167807281914,
          3.038133369153769,
          3.3043292239881197,
          3.3759982038781295,
          3.5477417986758937,
          3.5140266563944706,
          3.5657513166594477,
          3.873536295657267,
          3.850023070364724,
          4.016247816030855,
          4.124309193758815,
          4.10139245866883,
          4.271929900205901,
          4.479936879865292,
          4.794479917341391,
          4.879399375284571,
          4.9903809294817165,
          4.96800073961041,
          5.023341163278644,
          5.302247269433099,
          5.364146892146799,
          5.492460339101857,
          5.62613112130088,
          5.5633442769517885,
          5.74452002074943,
          5.884095106617249,
          6.287222830599358,
          6.3025710961143275,
          6.528710087553208,
          6.4799348636699,
          6.546624125425112,
          6.857334285663086,
          6.837282626934247,
          7.002701362564231
         ]
        },
        {
         "marker": {
          "color": "red"
         },
         "mode": "markers",
         "name": "Prediction",
         "type": "scatter",
         "x": [
          0.15
         ],
         "y": [
          -12.90616858936036
         ]
        }
       ],
       "layout": {
        "template": {
         "data": {
          "candlestick": [
           {
            "decreasing": {
             "line": {
              "color": "#000033"
             }
            },
            "increasing": {
             "line": {
              "color": "#000032"
             }
            },
            "type": "candlestick"
           }
          ],
          "contour": [
           {
            "colorscale": [
             [
              0,
              "#000011"
             ],
             [
              0.1111111111111111,
              "#000012"
             ],
             [
              0.2222222222222222,
              "#000013"
             ],
             [
              0.3333333333333333,
              "#000014"
             ],
             [
              0.4444444444444444,
              "#000015"
             ],
             [
              0.5555555555555556,
              "#000016"
             ],
             [
              0.6666666666666666,
              "#000017"
             ],
             [
              0.7777777777777778,
              "#000018"
             ],
             [
              0.8888888888888888,
              "#000019"
             ],
             [
              1,
              "#000020"
             ]
            ],
            "type": "contour"
           }
          ],
          "contourcarpet": [
           {
            "colorscale": [
             [
              0,
              "#000011"
             ],
             [
              0.1111111111111111,
              "#000012"
             ],
             [
              0.2222222222222222,
              "#000013"
             ],
             [
              0.3333333333333333,
              "#000014"
             ],
             [
              0.4444444444444444,
              "#000015"
             ],
             [
              0.5555555555555556,
              "#000016"
             ],
             [
              0.6666666666666666,
              "#000017"
             ],
             [
              0.7777777777777778,
              "#000018"
             ],
             [
              0.8888888888888888,
              "#000019"
             ],
             [
              1,
              "#000020"
             ]
            ],
            "type": "contourcarpet"
           }
          ],
          "heatmap": [
           {
            "colorscale": [
             [
              0,
              "#000011"
             ],
             [
              0.1111111111111111,
              "#000012"
             ],
             [
              0.2222222222222222,
              "#000013"
             ],
             [
              0.3333333333333333,
              "#000014"
             ],
             [
              0.4444444444444444,
              "#000015"
             ],
             [
              0.5555555555555556,
              "#000016"
             ],
             [
              0.6666666666666666,
              "#000017"
             ],
             [
              0.7777777777777778,
              "#000018"
             ],
             [
              0.8888888888888888,
              "#000019"
             ],
             [
              1,
              "#000020"
             ]
            ],
            "type": "heatmap"
           }
          ],
          "histogram2d": [
           {
            "colorscale": [
             [
              0,
              "#000011"
             ],
             [
              0.1111111111111111,
              "#000012"
             ],
             [
              0.2222222222222222,
              "#000013"
             ],
             [
              0.3333333333333333,
              "#000014"
             ],
             [
              0.4444444444444444,
              "#000015"
             ],
             [
              0.5555555555555556,
              "#000016"
             ],
             [
              0.6666666666666666,
              "#000017"
             ],
             [
              0.7777777777777778,
              "#000018"
             ],
             [
              0.8888888888888888,
              "#000019"
             ],
             [
              1,
              "#000020"
             ]
            ],
            "type": "histogram2d"
           }
          ],
          "icicle": [
           {
            "textfont": {
             "color": "white"
            },
            "type": "icicle"
           }
          ],
          "sankey": [
           {
            "textfont": {
             "color": "#000036"
            },
            "type": "sankey"
           }
          ],
          "scatter": [
           {
            "marker": {
             "line": {
              "width": 0
             }
            },
            "type": "scatter"
           }
          ],
          "table": [
           {
            "cells": {
             "fill": {
              "color": "#000038"
             },
             "font": {
              "color": "#000037"
             },
             "line": {
              "color": "#000039"
             }
            },
            "header": {
             "fill": {
              "color": "#000040"
             },
             "font": {
              "color": "#000036"
             },
             "line": {
              "color": "#000039"
             }
            },
            "type": "table"
           }
          ],
          "waterfall": [
           {
            "connector": {
             "line": {
              "color": "#000036",
              "width": 2
             }
            },
            "decreasing": {
             "marker": {
              "color": "#000033"
             }
            },
            "increasing": {
             "marker": {
              "color": "#000032"
             }
            },
            "totals": {
             "marker": {
              "color": "#000034"
             }
            },
            "type": "waterfall"
           }
          ]
         },
         "layout": {
          "coloraxis": {
           "colorscale": [
            [
             0,
             "#000011"
            ],
            [
             0.1111111111111111,
             "#000012"
            ],
            [
             0.2222222222222222,
             "#000013"
            ],
            [
             0.3333333333333333,
             "#000014"
            ],
            [
             0.4444444444444444,
             "#000015"
            ],
            [
             0.5555555555555556,
             "#000016"
            ],
            [
             0.6666666666666666,
             "#000017"
            ],
            [
             0.7777777777777778,
             "#000018"
            ],
            [
             0.8888888888888888,
             "#000019"
            ],
            [
             1,
             "#000020"
            ]
           ]
          },
          "colorscale": {
           "diverging": [
            [
             0,
             "#000021"
            ],
            [
             0.1,
             "#000022"
            ],
            [
             0.2,
             "#000023"
            ],
            [
             0.3,
             "#000024"
            ],
            [
             0.4,
             "#000025"
            ],
            [
             0.5,
             "#000026"
            ],
            [
             0.6,
             "#000027"
            ],
            [
             0.7,
             "#000028"
            ],
            [
             0.8,
             "#000029"
            ],
            [
             0.9,
             "#000030"
            ],
            [
             1,
             "#000031"
            ]
           ],
           "sequential": [
            [
             0,
             "#000011"
            ],
            [
             0.1111111111111111,
             "#000012"
            ],
            [
             0.2222222222222222,
             "#000013"
            ],
            [
             0.3333333333333333,
             "#000014"
            ],
            [
             0.4444444444444444,
             "#000015"
            ],
            [
             0.5555555555555556,
             "#000016"
            ],
            [
             0.6666666666666666,
             "#000017"
            ],
            [
             0.7777777777777778,
             "#000018"
            ],
            [
             0.8888888888888888,
             "#000019"
            ],
            [
             1,
             "#000020"
            ]
           ],
           "sequentialminus": [
            [
             0,
             "#000011"
            ],
            [
             0.1111111111111111,
             "#000012"
            ],
            [
             0.2222222222222222,
             "#000013"
            ],
            [
             0.3333333333333333,
             "#000014"
            ],
            [
             0.4444444444444444,
             "#000015"
            ],
            [
             0.5555555555555556,
             "#000016"
            ],
            [
             0.6666666666666666,
             "#000017"
            ],
            [
             0.7777777777777778,
             "#000018"
            ],
            [
             0.8888888888888888,
             "#000019"
            ],
            [
             1,
             "#000020"
            ]
           ]
          },
          "colorway": [
           "#000001",
           "#000002",
           "#000003",
           "#000004",
           "#000005",
           "#000006",
           "#000007",
           "#000008",
           "#000009",
           "#000010"
          ]
         }
        },
        "title": {
         "text": "Portfolio Returns vs China M2 Money Supply"
        },
        "xaxis": {
         "title": {
          "text": "China M2 Money Supply"
         }
        },
        "yaxis": {
         "title": {
          "text": "Portfolio Returns"
         }
        }
       }
      },
      "text/html": [
       "<div>                            <div id=\"0be267c4-8b9d-452d-9b2c-81cdb71bb0c3\" class=\"plotly-graph-div\" style=\"height:525px; width:100%;\"></div>            <script type=\"text/javascript\">                require([\"plotly\"], function(Plotly) {                    window.PLOTLYENV=window.PLOTLYENV || {};                                    if (document.getElementById(\"0be267c4-8b9d-452d-9b2c-81cdb71bb0c3\")) {                    Plotly.newPlot(                        \"0be267c4-8b9d-452d-9b2c-81cdb71bb0c3\",                        [{\"mode\":\"markers\",\"name\":\"Data\",\"x\":[112352120956304.0,113176083333495.0,116068738304199.0,116881267341323.0,118229395815816.0,120958719736328.0,119424923991663.0,119749908384625.0,120205141184955.0,119923631381594.0,120860594890828.0,122837480654446.0,124270956100000.0,125738447800000.0,127533277661997.0,128077914306519.0,130735763080841.0,133337536453853.0,135321092482599.0,135690797692855.0,135982405527006.0,136102070462698.0,137395601474437.0,139227810919881.0,141631955112113.0,142461867792204.0,144619802900000.0,144520958800000.0,146169510000000.0,149049182794442.0,149155871700000.0,151098290500000.0,151636050000000.0,151948540477789.0,153043206189849.0,155006666781086.0,157594558824035.0,158291307400000.0,159960957300000.0,159633186800000.0,160136041500000.0,163128253000000.0,162899663081962.0,164515660058768.0,165566206768995.0,165343415785166.0,167001339753416.0,169023533554568.0,172081445272825.0,172907011807809.0,173985947770954.0,173768372950626.0,174306379232330.0,177017837280000.0,177619610516409.0,178867042970175.0,180166558147986.0,179556159556340.0,181317506539151.0,182674421936410.0,186593532659733.0,186742744803641.0,188941213660000.0,188467032670746.0,189115369625331.0,192136019033428.0,191941081632526.0,193549242773720.0],\"y\":[-0.022767789393831284,0.05987049816584422,0.0672600858485577,0.09266489955708446,0.12436892193106752,0.13034277018785723,0.11148131487873525,0.18829669373861369,0.135049975823881,0.1637410971118245,0.2507338479191761,0.19241442649116758,0.0967388468054613,0.2282805520339366,0.18413709397935518,0.2293307019669777,0.2430030151538114,0.20648254058548599,0.23100811859302217,0.20953344714592337,0.24470202007655129,0.4335568850871476,0.546761809445659,0.5865301135537577,0.46537987398323866,0.5651151321759829,0.693322132448857,0.6861059690363203,0.9685546331263244,1.0591185500357336,1.2077719520636174,1.2696635620045762,1.3988328367313305,1.4596469465900044,1.8145204459606799,2.0969722990369286,2.1848416385694227,2.328356127703441,2.4164657427006855,2.5093351509204758,3.403134347050755,3.4523482085437847,3.836664330804961,4.400155665501939,4.550021103348086,5.3118485706718,5.832638333045603,6.12801091831458,6.578697703613356,6.666574721154556,6.072259638366844,6.328618228816322,6.540399020175405,6.256839678980674,6.7084054731585026,7.249520097664815,7.147950055715228,6.329856180309611,5.296809416958678,4.536220943494436,4.87314197290067,5.305057852016849,5.854578627022118,6.313508966392057,6.02287533309333,7.119216125073319,7.2382970994961795,7.219650739730993],\"type\":\"scatter\"},{\"mode\":\"lines\",\"name\":\"Fitted line\",\"x\":[112352120956304.0,113176083333495.0,116068738304199.0,116881267341323.0,118229395815816.0,120958719736328.0,119424923991663.0,119749908384625.0,120205141184955.0,119923631381594.0,120860594890828.0,122837480654446.0,124270956100000.0,125738447800000.0,127533277661997.0,128077914306519.0,130735763080841.0,133337536453853.0,135321092482599.0,135690797692855.0,135982405527006.0,136102070462698.0,137395601474437.0,139227810919881.0,141631955112113.0,142461867792204.0,144619802900000.0,144520958800000.0,146169510000000.0,149049182794442.0,149155871700000.0,151098290500000.0,151636050000000.0,151948540477789.0,153043206189849.0,155006666781086.0,157594558824035.0,158291307400000.0,159960957300000.0,159633186800000.0,160136041500000.0,163128253000000.0,162899663081962.0,164515660058768.0,165566206768995.0,165343415785166.0,167001339753416.0,169023533554568.0,172081445272825.0,172907011807809.0,173985947770954.0,173768372950626.0,174306379232330.0,177017837280000.0,177619610516409.0,178867042970175.0,180166558147986.0,179556159556340.0,181317506539151.0,182674421936410.0,186593532659733.0,186742744803641.0,188941213660000.0,188467032670746.0,189115369625331.0,192136019033428.0,191941081632526.0,193549242773720.0],\"y\":[-1.3494002296048944,-1.2646457786047804,-0.9671013873055454,-0.8835229929887252,-0.7448517479219259,-0.46410792164058456,-0.6218772808782802,-0.5884487232504423,-0.5416225487341393,-0.5705792213875096,-0.4742012434232805,-0.2708547409329807,-0.12340453231513138,0.027544657628151725,0.21216451868389719,0.2681869549975229,0.5415787019325489,0.8092024186950795,1.0132350382637778,1.0512636703888898,1.0812590470892882,1.0935680264908907,1.226623265160054,1.415088066423463,1.6623832424876728,1.747749753782692,1.9697193611555832,1.9595520553877392,2.1291253948621804,2.425334413027482,2.4363086514984147,2.636109811798404,2.69142485099713,2.7235682590227004,2.836167807281914,3.038133369153769,3.3043292239881197,3.3759982038781295,3.5477417986758937,3.5140266563944706,3.5657513166594477,3.873536295657267,3.850023070364724,4.016247816030855,4.124309193758815,4.10139245866883,4.271929900205901,4.479936879865292,4.794479917341391,4.879399375284571,4.9903809294817165,4.96800073961041,5.023341163278644,5.302247269433099,5.364146892146799,5.492460339101857,5.62613112130088,5.5633442769517885,5.74452002074943,5.884095106617249,6.287222830599358,6.3025710961143275,6.528710087553208,6.4799348636699,6.546624125425112,6.857334285663086,6.837282626934247,7.002701362564231],\"type\":\"scatter\"},{\"marker\":{\"color\":\"red\"},\"mode\":\"markers\",\"name\":\"Prediction\",\"x\":[0.15],\"y\":[-12.90616858936036],\"type\":\"scatter\"}],                        {\"title\":{\"text\":\"Portfolio Returns vs China M2 Money Supply\"},\"xaxis\":{\"title\":{\"text\":\"China M2 Money Supply\"}},\"yaxis\":{\"title\":{\"text\":\"Portfolio Returns\"}},\"template\":{\"data\":{\"candlestick\":[{\"decreasing\":{\"line\":{\"color\":\"#000033\"}},\"increasing\":{\"line\":{\"color\":\"#000032\"}},\"type\":\"candlestick\"}],\"contourcarpet\":[{\"colorscale\":[[0.0,\"#000011\"],[0.1111111111111111,\"#000012\"],[0.2222222222222222,\"#000013\"],[0.3333333333333333,\"#000014\"],[0.4444444444444444,\"#000015\"],[0.5555555555555556,\"#000016\"],[0.6666666666666666,\"#000017\"],[0.7777777777777778,\"#000018\"],[0.8888888888888888,\"#000019\"],[1.0,\"#000020\"]],\"type\":\"contourcarpet\"}],\"contour\":[{\"colorscale\":[[0.0,\"#000011\"],[0.1111111111111111,\"#000012\"],[0.2222222222222222,\"#000013\"],[0.3333333333333333,\"#000014\"],[0.4444444444444444,\"#000015\"],[0.5555555555555556,\"#000016\"],[0.6666666666666666,\"#000017\"],[0.7777777777777778,\"#000018\"],[0.8888888888888888,\"#000019\"],[1.0,\"#000020\"]],\"type\":\"contour\"}],\"heatmap\":[{\"colorscale\":[[0.0,\"#000011\"],[0.1111111111111111,\"#000012\"],[0.2222222222222222,\"#000013\"],[0.3333333333333333,\"#000014\"],[0.4444444444444444,\"#000015\"],[0.5555555555555556,\"#000016\"],[0.6666666666666666,\"#000017\"],[0.7777777777777778,\"#000018\"],[0.8888888888888888,\"#000019\"],[1.0,\"#000020\"]],\"type\":\"heatmap\"}],\"histogram2d\":[{\"colorscale\":[[0.0,\"#000011\"],[0.1111111111111111,\"#000012\"],[0.2222222222222222,\"#000013\"],[0.3333333333333333,\"#000014\"],[0.4444444444444444,\"#000015\"],[0.5555555555555556,\"#000016\"],[0.6666666666666666,\"#000017\"],[0.7777777777777778,\"#000018\"],[0.8888888888888888,\"#000019\"],[1.0,\"#000020\"]],\"type\":\"histogram2d\"}],\"icicle\":[{\"textfont\":{\"color\":\"white\"},\"type\":\"icicle\"}],\"sankey\":[{\"textfont\":{\"color\":\"#000036\"},\"type\":\"sankey\"}],\"scatter\":[{\"marker\":{\"line\":{\"width\":0}},\"type\":\"scatter\"}],\"table\":[{\"cells\":{\"fill\":{\"color\":\"#000038\"},\"font\":{\"color\":\"#000037\"},\"line\":{\"color\":\"#000039\"}},\"header\":{\"fill\":{\"color\":\"#000040\"},\"font\":{\"color\":\"#000036\"},\"line\":{\"color\":\"#000039\"}},\"type\":\"table\"}],\"waterfall\":[{\"connector\":{\"line\":{\"color\":\"#000036\",\"width\":2}},\"decreasing\":{\"marker\":{\"color\":\"#000033\"}},\"increasing\":{\"marker\":{\"color\":\"#000032\"}},\"totals\":{\"marker\":{\"color\":\"#000034\"}},\"type\":\"waterfall\"}]},\"layout\":{\"coloraxis\":{\"colorscale\":[[0.0,\"#000011\"],[0.1111111111111111,\"#000012\"],[0.2222222222222222,\"#000013\"],[0.3333333333333333,\"#000014\"],[0.4444444444444444,\"#000015\"],[0.5555555555555556,\"#000016\"],[0.6666666666666666,\"#000017\"],[0.7777777777777778,\"#000018\"],[0.8888888888888888,\"#000019\"],[1.0,\"#000020\"]]},\"colorscale\":{\"diverging\":[[0.0,\"#000021\"],[0.1,\"#000022\"],[0.2,\"#000023\"],[0.3,\"#000024\"],[0.4,\"#000025\"],[0.5,\"#000026\"],[0.6,\"#000027\"],[0.7,\"#000028\"],[0.8,\"#000029\"],[0.9,\"#000030\"],[1.0,\"#000031\"]],\"sequential\":[[0.0,\"#000011\"],[0.1111111111111111,\"#000012\"],[0.2222222222222222,\"#000013\"],[0.3333333333333333,\"#000014\"],[0.4444444444444444,\"#000015\"],[0.5555555555555556,\"#000016\"],[0.6666666666666666,\"#000017\"],[0.7777777777777778,\"#000018\"],[0.8888888888888888,\"#000019\"],[1.0,\"#000020\"]],\"sequentialminus\":[[0.0,\"#000011\"],[0.1111111111111111,\"#000012\"],[0.2222222222222222,\"#000013\"],[0.3333333333333333,\"#000014\"],[0.4444444444444444,\"#000015\"],[0.5555555555555556,\"#000016\"],[0.6666666666666666,\"#000017\"],[0.7777777777777778,\"#000018\"],[0.8888888888888888,\"#000019\"],[1.0,\"#000020\"]]},\"colorway\":[\"#000001\",\"#000002\",\"#000003\",\"#000004\",\"#000005\",\"#000006\",\"#000007\",\"#000008\",\"#000009\",\"#000010\"]}}},                        {\"responsive\": true}                    ).then(function(){\n",
       "                            \n",
       "var gd = document.getElementById('0be267c4-8b9d-452d-9b2c-81cdb71bb0c3');\n",
       "var x = new MutationObserver(function (mutations, observer) {{\n",
       "        var display = window.getComputedStyle(gd).display;\n",
       "        if (!display || display === 'none') {{\n",
       "            console.log([gd, 'removed!']);\n",
       "            Plotly.purge(gd);\n",
       "            observer.disconnect();\n",
       "        }}\n",
       "}});\n",
       "\n",
       "// Listen for the removal of the full notebook cells\n",
       "var notebookContainer = gd.closest('#notebook-container');\n",
       "if (notebookContainer) {{\n",
       "    x.observe(notebookContainer, {childList: true});\n",
       "}}\n",
       "\n",
       "// Listen for the clearing of the current output cell\n",
       "var outputEl = gd.closest('.output');\n",
       "if (outputEl) {{\n",
       "    x.observe(outputEl, {childList: true});\n",
       "}}\n",
       "\n",
       "                        })                };                });            </script>        </div>"
      ]
     },
     "metadata": {},
     "output_type": "display_data"
    },
    {
     "name": "stdout",
     "output_type": "stream",
     "text": [
      "Cumulative Returns = 1.7199 + (0.0736 * all_factors)\n",
      "None\n"
     ]
    },
    {
     "data": {
      "application/vnd.plotly.v1+json": {
       "config": {
        "plotlyServerURL": "https://plot.ly"
       },
       "data": [
        {
         "mode": "markers",
         "name": "Data",
         "type": "scatter",
         "x": [
          [
           2.14,
           11114.3,
           112352120956304
          ],
          [
           4.3100000000000005,
           11174.9,
           113176083333495
          ],
          [
           6.44,
           11223.4,
           116068738304199
          ],
          [
           8.620000000000001,
           11295.1,
           116881267341323
          ],
          [
           10.840000000000002,
           11346.6,
           118229395815816
          ],
          [
           13.100000000000001,
           11404,
           120958719736328
          ],
          [
           15.39,
           11468.7,
           119424923991663
          ],
          [
           17.51,
           11477.8,
           119749908384625
          ],
          [
           19.48,
           11525.2,
           120205141184955
          ],
          [
           21.4,
           11602.6,
           119923631381594
          ],
          [
           23.189999999999998,
           11605.7,
           120860594890828
          ],
          [
           24.869999999999997,
           11704.4,
           122837480654446
          ],
          [
           26.519999999999996,
           11768.5,
           124270956100000
          ],
          [
           28.349999999999994,
           11887.3,
           125738447800000
          ],
          [
           30.109999999999996,
           11891.8,
           127533277661997
          ],
          [
           32.05,
           11925.2,
           128077914306519
          ],
          [
           33.849999999999994,
           11979.5,
           130735763080841
          ],
          [
           35.71999999999999,
           12041.1,
           133337536453853
          ],
          [
           37.459999999999994,
           12069.4,
           135321092482599
          ],
          [
           39.089999999999996,
           12139.7,
           135690797692855
          ],
          [
           40.49999999999999,
           12169.9,
           135982405527006
          ],
          [
           42.029999999999994,
           12228.9,
           136102070462698
          ],
          [
           43.62,
           12292.5,
           137395601474437
          ],
          [
           45.16,
           12367,
           139227810919881
          ],
          [
           46.56999999999999,
           12502.9,
           141631955112113
          ],
          [
           47.989999999999995,
           12566.9,
           142461867792204
          ],
          [
           49.60999999999999,
           12652.6,
           144619802900000
          ],
          [
           51.31999999999999,
           12727.1,
           144520958800000
          ],
          [
           52.85999999999999,
           12767.8,
           146169510000000
          ],
          [
           54.25999999999999,
           12854.8,
           149049182794442
          ],
          [
           55.74999999999999,
           12913.4,
           149155871700000
          ],
          [
           57.21999999999999,
           12997.6,
           151098290500000
          ],
          [
           58.81999999999999,
           13052,
           151636050000000
          ],
          [
           60.54999999999999,
           13134.3,
           151948540477789
          ],
          [
           62.48999999999999,
           13195.8,
           153043206189849
          ],
          [
           64.43999999999998,
           13209.3,
           155006666781086
          ],
          [
           66.48999999999998,
           13295.1,
           157594558824035
          ],
          [
           68.50999999999998,
           13381.3,
           158291307400000
          ],
          [
           70.47999999999998,
           13437.6,
           159960957300000
          ],
          [
           72.39999999999998,
           13498.3,
           159633186800000
          ],
          [
           74.20999999999998,
           13559.7,
           160136041500000
          ],
          [
           75.93999999999998,
           13587.5,
           163128253000000
          ],
          [
           77.75999999999998,
           13647.5,
           162899663081962
          ],
          [
           79.51999999999998,
           13709.1,
           164515660058768
          ],
          [
           81.35999999999999,
           13734.2,
           165566206768995
          ],
          [
           83.23999999999998,
           13786.8,
           165343415785166
          ],
          [
           85.09999999999998,
           13823.5,
           167001339753416
          ],
          [
           87.05999999999997,
           13839,
           169023533554568
          ],
          [
           89.16999999999997,
           13876.2,
           172081445272825
          ],
          [
           91.28999999999998,
           13920.9,
           172907011807809
          ],
          [
           93.33999999999997,
           13976.8,
           173985947770954
          ],
          [
           95.50999999999998,
           13995.8,
           173768372950626
          ],
          [
           97.57999999999997,
           14075.2,
           174306379232330
          ],
          [
           99.68999999999997,
           14124.5,
           177017837280000
          ],
          [
           101.80999999999997,
           14152.1,
           177619610516409
          ],
          [
           103.88999999999997,
           14219.6,
           178867042970175
          ],
          [
           106.02999999999997,
           14227.1,
           180166558147986
          ],
          [
           108.07999999999997,
           14239.1,
           179556159556340
          ],
          [
           110.04999999999997,
           14248.5,
           181317506539151
          ],
          [
           111.75999999999996,
           14405.1,
           182674421936410
          ],
          [
           113.60999999999996,
           14461.8,
           186593532659733
          ],
          [
           115.55999999999996,
           14462.1,
           186742744803641
          ],
          [
           117.43999999999996,
           14510.2,
           188941213660000
          ],
          [
           119.38999999999996,
           14577.1,
           188467032670746
          ],
          [
           121.12999999999995,
           14685.7,
           189115369625331
          ],
          [
           122.81999999999995,
           14786.9,
           192136019033428
          ],
          [
           124.57999999999996,
           14891.5,
           191941081632526
          ],
          [
           126.12999999999995,
           14928.3,
           193549242773720
          ]
         ],
         "y": [
          -0.022767789393831284,
          0.05987049816584422,
          0.0672600858485577,
          0.09266489955708446,
          0.12436892193106752,
          0.13034277018785723,
          0.11148131487873525,
          0.18829669373861369,
          0.135049975823881,
          0.1637410971118245,
          0.2507338479191761,
          0.19241442649116758,
          0.0967388468054613,
          0.2282805520339366,
          0.18413709397935518,
          0.2293307019669777,
          0.2430030151538114,
          0.20648254058548599,
          0.23100811859302217,
          0.20953344714592337,
          0.24470202007655129,
          0.4335568850871476,
          0.546761809445659,
          0.5865301135537577,
          0.46537987398323866,
          0.5651151321759829,
          0.693322132448857,
          0.6861059690363203,
          0.9685546331263244,
          1.0591185500357336,
          1.2077719520636174,
          1.2696635620045762,
          1.3988328367313305,
          1.4596469465900044,
          1.8145204459606799,
          2.0969722990369286,
          2.1848416385694227,
          2.328356127703441,
          2.4164657427006855,
          2.5093351509204758,
          3.403134347050755,
          3.4523482085437847,
          3.836664330804961,
          4.400155665501939,
          4.550021103348086,
          5.3118485706718,
          5.832638333045603,
          6.12801091831458,
          6.578697703613356,
          6.666574721154556,
          6.072259638366844,
          6.328618228816322,
          6.540399020175405,
          6.256839678980674,
          6.7084054731585026,
          7.249520097664815,
          7.147950055715228,
          6.329856180309611,
          5.296809416958678,
          4.536220943494436,
          4.87314197290067,
          5.305057852016849,
          5.854578627022118,
          6.313508966392057,
          6.02287533309333,
          7.119216125073319,
          7.2382970994961795,
          7.219650739730993
         ]
        },
        {
         "mode": "lines",
         "name": "Fitted line",
         "type": "scatter",
         "x": [
          [
           2.14,
           11114.3,
           112352120956304
          ],
          [
           4.3100000000000005,
           11174.9,
           113176083333495
          ],
          [
           6.44,
           11223.4,
           116068738304199
          ],
          [
           8.620000000000001,
           11295.1,
           116881267341323
          ],
          [
           10.840000000000002,
           11346.6,
           118229395815816
          ],
          [
           13.100000000000001,
           11404,
           120958719736328
          ],
          [
           15.39,
           11468.7,
           119424923991663
          ],
          [
           17.51,
           11477.8,
           119749908384625
          ],
          [
           19.48,
           11525.2,
           120205141184955
          ],
          [
           21.4,
           11602.6,
           119923631381594
          ],
          [
           23.189999999999998,
           11605.7,
           120860594890828
          ],
          [
           24.869999999999997,
           11704.4,
           122837480654446
          ],
          [
           26.519999999999996,
           11768.5,
           124270956100000
          ],
          [
           28.349999999999994,
           11887.3,
           125738447800000
          ],
          [
           30.109999999999996,
           11891.8,
           127533277661997
          ],
          [
           32.05,
           11925.2,
           128077914306519
          ],
          [
           33.849999999999994,
           11979.5,
           130735763080841
          ],
          [
           35.71999999999999,
           12041.1,
           133337536453853
          ],
          [
           37.459999999999994,
           12069.4,
           135321092482599
          ],
          [
           39.089999999999996,
           12139.7,
           135690797692855
          ],
          [
           40.49999999999999,
           12169.9,
           135982405527006
          ],
          [
           42.029999999999994,
           12228.9,
           136102070462698
          ],
          [
           43.62,
           12292.5,
           137395601474437
          ],
          [
           45.16,
           12367,
           139227810919881
          ],
          [
           46.56999999999999,
           12502.9,
           141631955112113
          ],
          [
           47.989999999999995,
           12566.9,
           142461867792204
          ],
          [
           49.60999999999999,
           12652.6,
           144619802900000
          ],
          [
           51.31999999999999,
           12727.1,
           144520958800000
          ],
          [
           52.85999999999999,
           12767.8,
           146169510000000
          ],
          [
           54.25999999999999,
           12854.8,
           149049182794442
          ],
          [
           55.74999999999999,
           12913.4,
           149155871700000
          ],
          [
           57.21999999999999,
           12997.6,
           151098290500000
          ],
          [
           58.81999999999999,
           13052,
           151636050000000
          ],
          [
           60.54999999999999,
           13134.3,
           151948540477789
          ],
          [
           62.48999999999999,
           13195.8,
           153043206189849
          ],
          [
           64.43999999999998,
           13209.3,
           155006666781086
          ],
          [
           66.48999999999998,
           13295.1,
           157594558824035
          ],
          [
           68.50999999999998,
           13381.3,
           158291307400000
          ],
          [
           70.47999999999998,
           13437.6,
           159960957300000
          ],
          [
           72.39999999999998,
           13498.3,
           159633186800000
          ],
          [
           74.20999999999998,
           13559.7,
           160136041500000
          ],
          [
           75.93999999999998,
           13587.5,
           163128253000000
          ],
          [
           77.75999999999998,
           13647.5,
           162899663081962
          ],
          [
           79.51999999999998,
           13709.1,
           164515660058768
          ],
          [
           81.35999999999999,
           13734.2,
           165566206768995
          ],
          [
           83.23999999999998,
           13786.8,
           165343415785166
          ],
          [
           85.09999999999998,
           13823.5,
           167001339753416
          ],
          [
           87.05999999999997,
           13839,
           169023533554568
          ],
          [
           89.16999999999997,
           13876.2,
           172081445272825
          ],
          [
           91.28999999999998,
           13920.9,
           172907011807809
          ],
          [
           93.33999999999997,
           13976.8,
           173985947770954
          ],
          [
           95.50999999999998,
           13995.8,
           173768372950626
          ],
          [
           97.57999999999997,
           14075.2,
           174306379232330
          ],
          [
           99.68999999999997,
           14124.5,
           177017837280000
          ],
          [
           101.80999999999997,
           14152.1,
           177619610516409
          ],
          [
           103.88999999999997,
           14219.6,
           178867042970175
          ],
          [
           106.02999999999997,
           14227.1,
           180166558147986
          ],
          [
           108.07999999999997,
           14239.1,
           179556159556340
          ],
          [
           110.04999999999997,
           14248.5,
           181317506539151
          ],
          [
           111.75999999999996,
           14405.1,
           182674421936410
          ],
          [
           113.60999999999996,
           14461.8,
           186593532659733
          ],
          [
           115.55999999999996,
           14462.1,
           186742744803641
          ],
          [
           117.43999999999996,
           14510.2,
           188941213660000
          ],
          [
           119.38999999999996,
           14577.1,
           188467032670746
          ],
          [
           121.12999999999995,
           14685.7,
           189115369625331
          ],
          [
           122.81999999999995,
           14786.9,
           192136019033428
          ],
          [
           124.57999999999996,
           14891.5,
           191941081632526
          ],
          [
           126.12999999999995,
           14928.3,
           193549242773720
          ]
         ],
         "y": [
          [
           1.877415095040581,
           819.7436665658598,
           8269230105699.301
          ],
          [
           2.0371292969321733,
           824.2038880564729,
           8329874572732.37
          ],
          [
           2.1938994582359026,
           827.7735372692574,
           8542776913743.309
          ],
          [
           2.354349670274461,
           833.0507300230026,
           8602579875346.075
          ],
          [
           2.5177439229008827,
           836.8411822798769,
           8701803499010.121
          ],
          [
           2.6840822161151676,
           841.0658805234609,
           8902684508995.47
          ],
          [
           2.8526285397703504,
           845.8278661743301,
           8789795585850.819
          ],
          [
           3.008662690927114,
           846.497635408069,
           8813714766933.377
          ],
          [
           3.153656689879389,
           849.9863235046872,
           8847220362960.834
          ],
          [
           3.294970638096834,
           855.6830420422029,
           8826500955786.428
          ],
          [
           3.4267164544037243,
           855.9112051877624,
           8895462420799.725
          ],
          [
           3.550366159093989,
           863.1756253383154,
           9040963218941.246
          ],
          [
           3.6718078333433564,
           867.8934503803666,
           9146468466276.662
          ],
          [
           3.8064976902381096,
           876.637250926321,
           9254477344455.48
          ],
          [
           3.936035476104102,
           876.9684554924557,
           9386578643506.193
          ],
          [
           4.078821444615479,
           879.4267293833218,
           9426664453183.957
          ],
          [
           4.211303271069335,
           883.4232644813463,
           9622284819884.135
          ],
          [
           4.3489371685519504,
           887.9570869866561,
           9813777980148.377
          ],
          [
           4.477002934124011,
           890.0399957025695,
           9959769716571.613
          ],
          [
           4.596972588079447,
           895.2141470357395,
           9986980395185.07
          ],
          [
           4.700750018801633,
           897.4368976795764,
           10008443027672.059
          ],
          [
           4.813359571287411,
           901.779357546675,
           10017250488362.592
          ],
          [
           4.930385184654984,
           906.4603820813779,
           10112455683368.084
          ],
          [
           5.043730747287727,
           911.9436576762736,
           10247308157689.432
          ],
          [
           5.147508178009913,
           921.9460355735397,
           10424255609714.611
          ],
          [
           5.252021618879066,
           926.6565005141211,
           10485338025078.873
          ],
          [
           5.371255262687535,
           932.9641074736187,
           10644164238662.047
          ],
          [
           5.497112997818698,
           938.4473830685143,
           10636889212605.275
          ],
          [
           5.610458560451441,
           941.4429443666654,
           10758224253704.55
          ],
          [
           5.713499981026662,
           947.8462326452684,
           10970171093369.637
          ],
          [
           5.823165492924575,
           952.1592521064883,
           10978023505075.572
          ],
          [
           5.931358984528558,
           958.356457543941,
           11120987499721.299
          ],
          [
           6.049120608043097,
           962.3603527434352,
           11160567144584.027
          ],
          [
           6.17645036346819,
           968.4177162529643,
           11183566760832.318
          ],
          [
           6.3192363319795675,
           972.9441786568043,
           11264135267993.496
          ],
          [
           6.462758310637911,
           973.9377923552082,
           11408647959825.299
          ],
          [
           6.613640390765912,
           980.2527594161754,
           11599119440111.566
          ],
          [
           6.762314440453018,
           986.5971668830211,
           11650400842290.992
          ],
          [
           6.907308439405293,
           990.740904010439,
           11773288769119.047
          ],
          [
           7.048622387622737,
           995.2084856025217,
           11749164527731.44
          ],
          [
           7.18184022422356,
           999.7275879048922,
           11786175143896.387
          ],
          [
           7.3091699796486544,
           1001.7736961134573,
           12006404946483.182
          ],
          [
           7.443123826396441,
           1006.1897569952524,
           11989580496566.176
          ],
          [
           7.572661612262433,
           1010.7235795005622,
           12108519513805.713
          ],
          [
           7.708087479304153,
           1012.5709649694465,
           12185840817664.58
          ],
          [
           7.846457386933734,
           1016.4423783424869,
           12169443175189.516
          ],
          [
           7.983355274269385,
           1019.1435355818517,
           12291468061542.506
          ],
          [
           8.127613263074695,
           1020.2843513096487,
           12440303577220.441
          ],
          [
           8.28291140408449,
           1023.0223090563618,
           12665368982536.738
          ],
          [
           8.438945555241254,
           1026.312274413299,
           12726131517211.105
          ],
          [
           8.589827635369257,
           1030.4265711348382,
           12805542298891.217
          ],
          [
           8.74954183726085,
           1031.8249904140735,
           12789528571342.648
          ],
          [
           8.901895937682783,
           1037.6689109809824,
           12829126379589.2
          ],
          [
           9.05719407869258,
           1041.2974410055242,
           13028692443204.938
          ],
          [
           9.213228229849344,
           1043.32882901115,
           13072983564021.889
          ],
          [
           9.366318340418243,
           1048.2968975031695,
           13164795858384.518
          ],
          [
           9.523824511868938,
           1048.848905113394,
           13260441494085.023
          ],
          [
           9.674706591996939,
           1049.732117289753,
           13215515538370.51
          ],
          [
           9.819700590949214,
           1050.4239668279008,
           13345152463538.17
          ],
          [
           9.945558326080377,
           1061.9498857293863,
           13445022813633.854
          ],
          [
           10.081720203269061,
           1066.1230632626828,
           13733473339578.7
          ],
          [
           10.225242181927404,
           1066.1451435670917,
           13744455504775.38
          ],
          [
           10.363612089556987,
           1069.6853523739976,
           13906265043382.248
          ],
          [
           10.507134068215331,
           1074.6092602571991,
           13871364841423.322
          ],
          [
           10.63519983378739,
           1082.6023304532484,
           13919083099146.072
          ],
          [
           10.75958554862462,
           1090.0507531405428,
           14141405960624.654
          ],
          [
           10.889123334490613,
           1097.7494192778058,
           14127058370115.953
          ],
          [
           11.003204907270321,
           1100.4579366186401,
           14245420661903.451
          ]
         ]
        }
       ],
       "layout": {
        "template": {
         "data": {
          "candlestick": [
           {
            "decreasing": {
             "line": {
              "color": "#000033"
             }
            },
            "increasing": {
             "line": {
              "color": "#000032"
             }
            },
            "type": "candlestick"
           }
          ],
          "contour": [
           {
            "colorscale": [
             [
              0,
              "#000011"
             ],
             [
              0.1111111111111111,
              "#000012"
             ],
             [
              0.2222222222222222,
              "#000013"
             ],
             [
              0.3333333333333333,
              "#000014"
             ],
             [
              0.4444444444444444,
              "#000015"
             ],
             [
              0.5555555555555556,
              "#000016"
             ],
             [
              0.6666666666666666,
              "#000017"
             ],
             [
              0.7777777777777778,
              "#000018"
             ],
             [
              0.8888888888888888,
              "#000019"
             ],
             [
              1,
              "#000020"
             ]
            ],
            "type": "contour"
           }
          ],
          "contourcarpet": [
           {
            "colorscale": [
             [
              0,
              "#000011"
             ],
             [
              0.1111111111111111,
              "#000012"
             ],
             [
              0.2222222222222222,
              "#000013"
             ],
             [
              0.3333333333333333,
              "#000014"
             ],
             [
              0.4444444444444444,
              "#000015"
             ],
             [
              0.5555555555555556,
              "#000016"
             ],
             [
              0.6666666666666666,
              "#000017"
             ],
             [
              0.7777777777777778,
              "#000018"
             ],
             [
              0.8888888888888888,
              "#000019"
             ],
             [
              1,
              "#000020"
             ]
            ],
            "type": "contourcarpet"
           }
          ],
          "heatmap": [
           {
            "colorscale": [
             [
              0,
              "#000011"
             ],
             [
              0.1111111111111111,
              "#000012"
             ],
             [
              0.2222222222222222,
              "#000013"
             ],
             [
              0.3333333333333333,
              "#000014"
             ],
             [
              0.4444444444444444,
              "#000015"
             ],
             [
              0.5555555555555556,
              "#000016"
             ],
             [
              0.6666666666666666,
              "#000017"
             ],
             [
              0.7777777777777778,
              "#000018"
             ],
             [
              0.8888888888888888,
              "#000019"
             ],
             [
              1,
              "#000020"
             ]
            ],
            "type": "heatmap"
           }
          ],
          "histogram2d": [
           {
            "colorscale": [
             [
              0,
              "#000011"
             ],
             [
              0.1111111111111111,
              "#000012"
             ],
             [
              0.2222222222222222,
              "#000013"
             ],
             [
              0.3333333333333333,
              "#000014"
             ],
             [
              0.4444444444444444,
              "#000015"
             ],
             [
              0.5555555555555556,
              "#000016"
             ],
             [
              0.6666666666666666,
              "#000017"
             ],
             [
              0.7777777777777778,
              "#000018"
             ],
             [
              0.8888888888888888,
              "#000019"
             ],
             [
              1,
              "#000020"
             ]
            ],
            "type": "histogram2d"
           }
          ],
          "icicle": [
           {
            "textfont": {
             "color": "white"
            },
            "type": "icicle"
           }
          ],
          "sankey": [
           {
            "textfont": {
             "color": "#000036"
            },
            "type": "sankey"
           }
          ],
          "scatter": [
           {
            "marker": {
             "line": {
              "width": 0
             }
            },
            "type": "scatter"
           }
          ],
          "table": [
           {
            "cells": {
             "fill": {
              "color": "#000038"
             },
             "font": {
              "color": "#000037"
             },
             "line": {
              "color": "#000039"
             }
            },
            "header": {
             "fill": {
              "color": "#000040"
             },
             "font": {
              "color": "#000036"
             },
             "line": {
              "color": "#000039"
             }
            },
            "type": "table"
           }
          ],
          "waterfall": [
           {
            "connector": {
             "line": {
              "color": "#000036",
              "width": 2
             }
            },
            "decreasing": {
             "marker": {
              "color": "#000033"
             }
            },
            "increasing": {
             "marker": {
              "color": "#000032"
             }
            },
            "totals": {
             "marker": {
              "color": "#000034"
             }
            },
            "type": "waterfall"
           }
          ]
         },
         "layout": {
          "coloraxis": {
           "colorscale": [
            [
             0,
             "#000011"
            ],
            [
             0.1111111111111111,
             "#000012"
            ],
            [
             0.2222222222222222,
             "#000013"
            ],
            [
             0.3333333333333333,
             "#000014"
            ],
            [
             0.4444444444444444,
             "#000015"
            ],
            [
             0.5555555555555556,
             "#000016"
            ],
            [
             0.6666666666666666,
             "#000017"
            ],
            [
             0.7777777777777778,
             "#000018"
            ],
            [
             0.8888888888888888,
             "#000019"
            ],
            [
             1,
             "#000020"
            ]
           ]
          },
          "colorscale": {
           "diverging": [
            [
             0,
             "#000021"
            ],
            [
             0.1,
             "#000022"
            ],
            [
             0.2,
             "#000023"
            ],
            [
             0.3,
             "#000024"
            ],
            [
             0.4,
             "#000025"
            ],
            [
             0.5,
             "#000026"
            ],
            [
             0.6,
             "#000027"
            ],
            [
             0.7,
             "#000028"
            ],
            [
             0.8,
             "#000029"
            ],
            [
             0.9,
             "#000030"
            ],
            [
             1,
             "#000031"
            ]
           ],
           "sequential": [
            [
             0,
             "#000011"
            ],
            [
             0.1111111111111111,
             "#000012"
            ],
            [
             0.2222222222222222,
             "#000013"
            ],
            [
             0.3333333333333333,
             "#000014"
            ],
            [
             0.4444444444444444,
             "#000015"
            ],
            [
             0.5555555555555556,
             "#000016"
            ],
            [
             0.6666666666666666,
             "#000017"
            ],
            [
             0.7777777777777778,
             "#000018"
            ],
            [
             0.8888888888888888,
             "#000019"
            ],
            [
             1,
             "#000020"
            ]
           ],
           "sequentialminus": [
            [
             0,
             "#000011"
            ],
            [
             0.1111111111111111,
             "#000012"
            ],
            [
             0.2222222222222222,
             "#000013"
            ],
            [
             0.3333333333333333,
             "#000014"
            ],
            [
             0.4444444444444444,
             "#000015"
            ],
            [
             0.5555555555555556,
             "#000016"
            ],
            [
             0.6666666666666666,
             "#000017"
            ],
            [
             0.7777777777777778,
             "#000018"
            ],
            [
             0.8888888888888888,
             "#000019"
            ],
            [
             1,
             "#000020"
            ]
           ]
          },
          "colorway": [
           "#000001",
           "#000002",
           "#000003",
           "#000004",
           "#000005",
           "#000006",
           "#000007",
           "#000008",
           "#000009",
           "#000010"
          ]
         }
        },
        "title": {
         "text": "Portfolio Returns vs all_factors"
        },
        "xaxis": {
         "title": {
          "text": "all_factors"
         }
        },
        "yaxis": {
         "title": {
          "text": "Portfolio Returns"
         }
        }
       }
      },
      "text/html": [
       "<div>                            <div id=\"8064bf1b-46c8-49e8-8cf5-a2b07ff4f93b\" class=\"plotly-graph-div\" style=\"height:525px; width:100%;\"></div>            <script type=\"text/javascript\">                require([\"plotly\"], function(Plotly) {                    window.PLOTLYENV=window.PLOTLYENV || {};                                    if (document.getElementById(\"8064bf1b-46c8-49e8-8cf5-a2b07ff4f93b\")) {                    Plotly.newPlot(                        \"8064bf1b-46c8-49e8-8cf5-a2b07ff4f93b\",                        [{\"mode\":\"markers\",\"name\":\"Data\",\"x\":[[2.14,11114.3,112352120956304.0],[4.3100000000000005,11174.9,113176083333495.0],[6.44,11223.4,116068738304199.0],[8.620000000000001,11295.1,116881267341323.0],[10.840000000000002,11346.6,118229395815816.0],[13.100000000000001,11404.0,120958719736328.0],[15.39,11468.7,119424923991663.0],[17.51,11477.8,119749908384625.0],[19.48,11525.2,120205141184955.0],[21.4,11602.6,119923631381594.0],[23.189999999999998,11605.7,120860594890828.0],[24.869999999999997,11704.4,122837480654446.0],[26.519999999999996,11768.5,124270956100000.0],[28.349999999999994,11887.3,125738447800000.0],[30.109999999999996,11891.8,127533277661997.0],[32.05,11925.2,128077914306519.0],[33.849999999999994,11979.5,130735763080841.0],[35.71999999999999,12041.1,133337536453853.0],[37.459999999999994,12069.4,135321092482599.0],[39.089999999999996,12139.7,135690797692855.0],[40.49999999999999,12169.9,135982405527006.0],[42.029999999999994,12228.9,136102070462698.0],[43.62,12292.5,137395601474437.0],[45.16,12367.0,139227810919881.0],[46.56999999999999,12502.9,141631955112113.0],[47.989999999999995,12566.9,142461867792204.0],[49.60999999999999,12652.6,144619802900000.0],[51.31999999999999,12727.1,144520958800000.0],[52.85999999999999,12767.8,146169510000000.0],[54.25999999999999,12854.8,149049182794442.0],[55.74999999999999,12913.4,149155871700000.0],[57.21999999999999,12997.6,151098290500000.0],[58.81999999999999,13052.0,151636050000000.0],[60.54999999999999,13134.3,151948540477789.0],[62.48999999999999,13195.8,153043206189849.0],[64.43999999999998,13209.3,155006666781086.0],[66.48999999999998,13295.1,157594558824035.0],[68.50999999999998,13381.3,158291307400000.0],[70.47999999999998,13437.6,159960957300000.0],[72.39999999999998,13498.3,159633186800000.0],[74.20999999999998,13559.7,160136041500000.0],[75.93999999999998,13587.5,163128253000000.0],[77.75999999999998,13647.5,162899663081962.0],[79.51999999999998,13709.1,164515660058768.0],[81.35999999999999,13734.2,165566206768995.0],[83.23999999999998,13786.8,165343415785166.0],[85.09999999999998,13823.5,167001339753416.0],[87.05999999999997,13839.0,169023533554568.0],[89.16999999999997,13876.2,172081445272825.0],[91.28999999999998,13920.9,172907011807809.0],[93.33999999999997,13976.8,173985947770954.0],[95.50999999999998,13995.8,173768372950626.0],[97.57999999999997,14075.2,174306379232330.0],[99.68999999999997,14124.5,177017837280000.0],[101.80999999999997,14152.1,177619610516409.0],[103.88999999999997,14219.6,178867042970175.0],[106.02999999999997,14227.1,180166558147986.0],[108.07999999999997,14239.1,179556159556340.0],[110.04999999999997,14248.5,181317506539151.0],[111.75999999999996,14405.1,182674421936410.0],[113.60999999999996,14461.8,186593532659733.0],[115.55999999999996,14462.1,186742744803641.0],[117.43999999999996,14510.2,188941213660000.0],[119.38999999999996,14577.1,188467032670746.0],[121.12999999999995,14685.7,189115369625331.0],[122.81999999999995,14786.9,192136019033428.0],[124.57999999999996,14891.5,191941081632526.0],[126.12999999999995,14928.3,193549242773720.0]],\"y\":[-0.022767789393831284,0.05987049816584422,0.0672600858485577,0.09266489955708446,0.12436892193106752,0.13034277018785723,0.11148131487873525,0.18829669373861369,0.135049975823881,0.1637410971118245,0.2507338479191761,0.19241442649116758,0.0967388468054613,0.2282805520339366,0.18413709397935518,0.2293307019669777,0.2430030151538114,0.20648254058548599,0.23100811859302217,0.20953344714592337,0.24470202007655129,0.4335568850871476,0.546761809445659,0.5865301135537577,0.46537987398323866,0.5651151321759829,0.693322132448857,0.6861059690363203,0.9685546331263244,1.0591185500357336,1.2077719520636174,1.2696635620045762,1.3988328367313305,1.4596469465900044,1.8145204459606799,2.0969722990369286,2.1848416385694227,2.328356127703441,2.4164657427006855,2.5093351509204758,3.403134347050755,3.4523482085437847,3.836664330804961,4.400155665501939,4.550021103348086,5.3118485706718,5.832638333045603,6.12801091831458,6.578697703613356,6.666574721154556,6.072259638366844,6.328618228816322,6.540399020175405,6.256839678980674,6.7084054731585026,7.249520097664815,7.147950055715228,6.329856180309611,5.296809416958678,4.536220943494436,4.87314197290067,5.305057852016849,5.854578627022118,6.313508966392057,6.02287533309333,7.119216125073319,7.2382970994961795,7.219650739730993],\"type\":\"scatter\"},{\"mode\":\"lines\",\"name\":\"Fitted line\",\"x\":[[2.14,11114.3,112352120956304.0],[4.3100000000000005,11174.9,113176083333495.0],[6.44,11223.4,116068738304199.0],[8.620000000000001,11295.1,116881267341323.0],[10.840000000000002,11346.6,118229395815816.0],[13.100000000000001,11404.0,120958719736328.0],[15.39,11468.7,119424923991663.0],[17.51,11477.8,119749908384625.0],[19.48,11525.2,120205141184955.0],[21.4,11602.6,119923631381594.0],[23.189999999999998,11605.7,120860594890828.0],[24.869999999999997,11704.4,122837480654446.0],[26.519999999999996,11768.5,124270956100000.0],[28.349999999999994,11887.3,125738447800000.0],[30.109999999999996,11891.8,127533277661997.0],[32.05,11925.2,128077914306519.0],[33.849999999999994,11979.5,130735763080841.0],[35.71999999999999,12041.1,133337536453853.0],[37.459999999999994,12069.4,135321092482599.0],[39.089999999999996,12139.7,135690797692855.0],[40.49999999999999,12169.9,135982405527006.0],[42.029999999999994,12228.9,136102070462698.0],[43.62,12292.5,137395601474437.0],[45.16,12367.0,139227810919881.0],[46.56999999999999,12502.9,141631955112113.0],[47.989999999999995,12566.9,142461867792204.0],[49.60999999999999,12652.6,144619802900000.0],[51.31999999999999,12727.1,144520958800000.0],[52.85999999999999,12767.8,146169510000000.0],[54.25999999999999,12854.8,149049182794442.0],[55.74999999999999,12913.4,149155871700000.0],[57.21999999999999,12997.6,151098290500000.0],[58.81999999999999,13052.0,151636050000000.0],[60.54999999999999,13134.3,151948540477789.0],[62.48999999999999,13195.8,153043206189849.0],[64.43999999999998,13209.3,155006666781086.0],[66.48999999999998,13295.1,157594558824035.0],[68.50999999999998,13381.3,158291307400000.0],[70.47999999999998,13437.6,159960957300000.0],[72.39999999999998,13498.3,159633186800000.0],[74.20999999999998,13559.7,160136041500000.0],[75.93999999999998,13587.5,163128253000000.0],[77.75999999999998,13647.5,162899663081962.0],[79.51999999999998,13709.1,164515660058768.0],[81.35999999999999,13734.2,165566206768995.0],[83.23999999999998,13786.8,165343415785166.0],[85.09999999999998,13823.5,167001339753416.0],[87.05999999999997,13839.0,169023533554568.0],[89.16999999999997,13876.2,172081445272825.0],[91.28999999999998,13920.9,172907011807809.0],[93.33999999999997,13976.8,173985947770954.0],[95.50999999999998,13995.8,173768372950626.0],[97.57999999999997,14075.2,174306379232330.0],[99.68999999999997,14124.5,177017837280000.0],[101.80999999999997,14152.1,177619610516409.0],[103.88999999999997,14219.6,178867042970175.0],[106.02999999999997,14227.1,180166558147986.0],[108.07999999999997,14239.1,179556159556340.0],[110.04999999999997,14248.5,181317506539151.0],[111.75999999999996,14405.1,182674421936410.0],[113.60999999999996,14461.8,186593532659733.0],[115.55999999999996,14462.1,186742744803641.0],[117.43999999999996,14510.2,188941213660000.0],[119.38999999999996,14577.1,188467032670746.0],[121.12999999999995,14685.7,189115369625331.0],[122.81999999999995,14786.9,192136019033428.0],[124.57999999999996,14891.5,191941081632526.0],[126.12999999999995,14928.3,193549242773720.0]],\"y\":[[1.877415095040581,819.7436665658598,8269230105699.301],[2.0371292969321733,824.2038880564729,8329874572732.37],[2.1938994582359026,827.7735372692574,8542776913743.309],[2.354349670274461,833.0507300230026,8602579875346.075],[2.5177439229008827,836.8411822798769,8701803499010.121],[2.6840822161151676,841.0658805234609,8902684508995.47],[2.8526285397703504,845.8278661743301,8789795585850.819],[3.008662690927114,846.497635408069,8813714766933.377],[3.153656689879389,849.9863235046872,8847220362960.834],[3.294970638096834,855.6830420422029,8826500955786.428],[3.4267164544037243,855.9112051877624,8895462420799.725],[3.550366159093989,863.1756253383154,9040963218941.246],[3.6718078333433564,867.8934503803666,9146468466276.662],[3.8064976902381096,876.637250926321,9254477344455.48],[3.936035476104102,876.9684554924557,9386578643506.193],[4.078821444615479,879.4267293833218,9426664453183.957],[4.211303271069335,883.4232644813463,9622284819884.135],[4.3489371685519504,887.9570869866561,9813777980148.377],[4.477002934124011,890.0399957025695,9959769716571.613],[4.596972588079447,895.2141470357395,9986980395185.07],[4.700750018801633,897.4368976795764,10008443027672.059],[4.813359571287411,901.779357546675,10017250488362.592],[4.930385184654984,906.4603820813779,10112455683368.084],[5.043730747287727,911.9436576762736,10247308157689.432],[5.147508178009913,921.9460355735397,10424255609714.611],[5.252021618879066,926.6565005141211,10485338025078.873],[5.371255262687535,932.9641074736187,10644164238662.047],[5.497112997818698,938.4473830685143,10636889212605.275],[5.610458560451441,941.4429443666654,10758224253704.55],[5.713499981026662,947.8462326452684,10970171093369.637],[5.823165492924575,952.1592521064883,10978023505075.572],[5.931358984528558,958.356457543941,11120987499721.299],[6.049120608043097,962.3603527434352,11160567144584.027],[6.17645036346819,968.4177162529643,11183566760832.318],[6.3192363319795675,972.9441786568043,11264135267993.496],[6.462758310637911,973.9377923552082,11408647959825.299],[6.613640390765912,980.2527594161754,11599119440111.566],[6.762314440453018,986.5971668830211,11650400842290.992],[6.907308439405293,990.740904010439,11773288769119.047],[7.048622387622737,995.2084856025217,11749164527731.44],[7.18184022422356,999.7275879048922,11786175143896.387],[7.3091699796486544,1001.7736961134573,12006404946483.182],[7.443123826396441,1006.1897569952524,11989580496566.176],[7.572661612262433,1010.7235795005622,12108519513805.713],[7.708087479304153,1012.5709649694465,12185840817664.58],[7.846457386933734,1016.4423783424869,12169443175189.516],[7.983355274269385,1019.1435355818517,12291468061542.506],[8.127613263074695,1020.2843513096487,12440303577220.441],[8.28291140408449,1023.0223090563618,12665368982536.738],[8.438945555241254,1026.312274413299,12726131517211.105],[8.589827635369257,1030.4265711348382,12805542298891.217],[8.74954183726085,1031.8249904140735,12789528571342.648],[8.901895937682783,1037.6689109809824,12829126379589.2],[9.05719407869258,1041.2974410055242,13028692443204.938],[9.213228229849344,1043.32882901115,13072983564021.889],[9.366318340418243,1048.2968975031695,13164795858384.518],[9.523824511868938,1048.848905113394,13260441494085.023],[9.674706591996939,1049.732117289753,13215515538370.51],[9.819700590949214,1050.4239668279008,13345152463538.17],[9.945558326080377,1061.9498857293863,13445022813633.854],[10.081720203269061,1066.1230632626828,13733473339578.7],[10.225242181927404,1066.1451435670917,13744455504775.38],[10.363612089556987,1069.6853523739976,13906265043382.248],[10.507134068215331,1074.6092602571991,13871364841423.322],[10.63519983378739,1082.6023304532484,13919083099146.072],[10.75958554862462,1090.0507531405428,14141405960624.654],[10.889123334490613,1097.7494192778058,14127058370115.953],[11.003204907270321,1100.4579366186401,14245420661903.451]],\"type\":\"scatter\"}],                        {\"title\":{\"text\":\"Portfolio Returns vs all_factors\"},\"xaxis\":{\"title\":{\"text\":\"all_factors\"}},\"yaxis\":{\"title\":{\"text\":\"Portfolio Returns\"}},\"template\":{\"data\":{\"candlestick\":[{\"decreasing\":{\"line\":{\"color\":\"#000033\"}},\"increasing\":{\"line\":{\"color\":\"#000032\"}},\"type\":\"candlestick\"}],\"contourcarpet\":[{\"colorscale\":[[0.0,\"#000011\"],[0.1111111111111111,\"#000012\"],[0.2222222222222222,\"#000013\"],[0.3333333333333333,\"#000014\"],[0.4444444444444444,\"#000015\"],[0.5555555555555556,\"#000016\"],[0.6666666666666666,\"#000017\"],[0.7777777777777778,\"#000018\"],[0.8888888888888888,\"#000019\"],[1.0,\"#000020\"]],\"type\":\"contourcarpet\"}],\"contour\":[{\"colorscale\":[[0.0,\"#000011\"],[0.1111111111111111,\"#000012\"],[0.2222222222222222,\"#000013\"],[0.3333333333333333,\"#000014\"],[0.4444444444444444,\"#000015\"],[0.5555555555555556,\"#000016\"],[0.6666666666666666,\"#000017\"],[0.7777777777777778,\"#000018\"],[0.8888888888888888,\"#000019\"],[1.0,\"#000020\"]],\"type\":\"contour\"}],\"heatmap\":[{\"colorscale\":[[0.0,\"#000011\"],[0.1111111111111111,\"#000012\"],[0.2222222222222222,\"#000013\"],[0.3333333333333333,\"#000014\"],[0.4444444444444444,\"#000015\"],[0.5555555555555556,\"#000016\"],[0.6666666666666666,\"#000017\"],[0.7777777777777778,\"#000018\"],[0.8888888888888888,\"#000019\"],[1.0,\"#000020\"]],\"type\":\"heatmap\"}],\"histogram2d\":[{\"colorscale\":[[0.0,\"#000011\"],[0.1111111111111111,\"#000012\"],[0.2222222222222222,\"#000013\"],[0.3333333333333333,\"#000014\"],[0.4444444444444444,\"#000015\"],[0.5555555555555556,\"#000016\"],[0.6666666666666666,\"#000017\"],[0.7777777777777778,\"#000018\"],[0.8888888888888888,\"#000019\"],[1.0,\"#000020\"]],\"type\":\"histogram2d\"}],\"icicle\":[{\"textfont\":{\"color\":\"white\"},\"type\":\"icicle\"}],\"sankey\":[{\"textfont\":{\"color\":\"#000036\"},\"type\":\"sankey\"}],\"scatter\":[{\"marker\":{\"line\":{\"width\":0}},\"type\":\"scatter\"}],\"table\":[{\"cells\":{\"fill\":{\"color\":\"#000038\"},\"font\":{\"color\":\"#000037\"},\"line\":{\"color\":\"#000039\"}},\"header\":{\"fill\":{\"color\":\"#000040\"},\"font\":{\"color\":\"#000036\"},\"line\":{\"color\":\"#000039\"}},\"type\":\"table\"}],\"waterfall\":[{\"connector\":{\"line\":{\"color\":\"#000036\",\"width\":2}},\"decreasing\":{\"marker\":{\"color\":\"#000033\"}},\"increasing\":{\"marker\":{\"color\":\"#000032\"}},\"totals\":{\"marker\":{\"color\":\"#000034\"}},\"type\":\"waterfall\"}]},\"layout\":{\"coloraxis\":{\"colorscale\":[[0.0,\"#000011\"],[0.1111111111111111,\"#000012\"],[0.2222222222222222,\"#000013\"],[0.3333333333333333,\"#000014\"],[0.4444444444444444,\"#000015\"],[0.5555555555555556,\"#000016\"],[0.6666666666666666,\"#000017\"],[0.7777777777777778,\"#000018\"],[0.8888888888888888,\"#000019\"],[1.0,\"#000020\"]]},\"colorscale\":{\"diverging\":[[0.0,\"#000021\"],[0.1,\"#000022\"],[0.2,\"#000023\"],[0.3,\"#000024\"],[0.4,\"#000025\"],[0.5,\"#000026\"],[0.6,\"#000027\"],[0.7,\"#000028\"],[0.8,\"#000029\"],[0.9,\"#000030\"],[1.0,\"#000031\"]],\"sequential\":[[0.0,\"#000011\"],[0.1111111111111111,\"#000012\"],[0.2222222222222222,\"#000013\"],[0.3333333333333333,\"#000014\"],[0.4444444444444444,\"#000015\"],[0.5555555555555556,\"#000016\"],[0.6666666666666666,\"#000017\"],[0.7777777777777778,\"#000018\"],[0.8888888888888888,\"#000019\"],[1.0,\"#000020\"]],\"sequentialminus\":[[0.0,\"#000011\"],[0.1111111111111111,\"#000012\"],[0.2222222222222222,\"#000013\"],[0.3333333333333333,\"#000014\"],[0.4444444444444444,\"#000015\"],[0.5555555555555556,\"#000016\"],[0.6666666666666666,\"#000017\"],[0.7777777777777778,\"#000018\"],[0.8888888888888888,\"#000019\"],[1.0,\"#000020\"]]},\"colorway\":[\"#000001\",\"#000002\",\"#000003\",\"#000004\",\"#000005\",\"#000006\",\"#000007\",\"#000008\",\"#000009\",\"#000010\"]}}},                        {\"responsive\": true}                    ).then(function(){\n",
       "                            \n",
       "var gd = document.getElementById('8064bf1b-46c8-49e8-8cf5-a2b07ff4f93b');\n",
       "var x = new MutationObserver(function (mutations, observer) {{\n",
       "        var display = window.getComputedStyle(gd).display;\n",
       "        if (!display || display === 'none') {{\n",
       "            console.log([gd, 'removed!']);\n",
       "            Plotly.purge(gd);\n",
       "            observer.disconnect();\n",
       "        }}\n",
       "}});\n",
       "\n",
       "// Listen for the removal of the full notebook cells\n",
       "var notebookContainer = gd.closest('#notebook-container');\n",
       "if (notebookContainer) {{\n",
       "    x.observe(notebookContainer, {childList: true});\n",
       "}}\n",
       "\n",
       "// Listen for the clearing of the current output cell\n",
       "var outputEl = gd.closest('.output');\n",
       "if (outputEl) {{\n",
       "    x.observe(outputEl, {childList: true});\n",
       "}}\n",
       "\n",
       "                        })                };                });            </script>        </div>"
      ]
     },
     "metadata": {},
     "output_type": "display_data"
    },
    {
     "name": "stdout",
     "output_type": "stream",
     "text": [
      "Monthly Returns = 0.0751 + (-0.0179 * US Interest Rate)\n",
      "None\n"
     ]
    },
    {
     "data": {
      "application/vnd.plotly.v1+json": {
       "config": {
        "plotlyServerURL": "https://plot.ly"
       },
       "data": [
        {
         "mode": "markers",
         "name": "Data",
         "type": "scatter",
         "x": [
          2.86,
          2.71,
          2.72,
          2.71,
          2.56,
          2.6,
          2.54,
          2.42,
          2.53,
          2.3,
          2.33,
          2.21,
          1.88,
          1.98,
          2.04,
          1.94,
          2.2,
          2.36,
          2.32,
          2.17,
          2.17,
          2.07,
          2.26,
          2.24,
          2.09,
          1.78,
          1.89,
          1.81,
          1.81,
          1.64,
          1.5,
          1.56,
          1.63,
          1.76,
          2.14,
          2.49,
          2.43,
          2.42,
          2.48,
          2.3,
          2.3,
          2.19,
          2.32,
          2.21,
          2.2,
          2.36,
          2.35,
          2.4,
          2.58,
          2.86,
          2.84,
          2.87,
          2.98,
          2.91,
          2.89,
          2.89,
          3,
          3.15,
          3.12,
          2.83,
          2.71,
          2.68,
          2.57,
          2.53,
          2.4,
          2.07,
          2.06,
          1.63
         ],
         "y": [
          -0.022767789393831284,
          0.08456361411625557,
          0.006972160934285432,
          0.0238037700888325,
          0.029015320604546257,
          0.005313067748732969,
          -0.01668649174974357,
          0.06911081439840405,
          -0.0448092788571246,
          0.02527740795476241,
          0.07475266708656281,
          -0.04662816275823467,
          -0.08023685185296192,
          0.11993894956089579,
          -0.03593923064358806,
          0.03816585783639881,
          0.011121753621671893,
          -0.029380841496837617,
          0.020328166535782843,
          -0.017444784581634787,
          0.029076147512591355,
          0.1517269691576313,
          0.0789678634563773,
          0.02571068400140497,
          -0.07636176492052071,
          0.06806102633417566,
          0.08191537966579343,
          -0.004261542015104203,
          0.16751536930471533,
          0.046005284986976314,
          0.07219273607403709,
          0.028033515818111754,
          0.05691119903809505,
          0.02535154135272699,
          0.14427822654087152,
          0.10035523226758425,
          0.028372659180651683,
          0.045061734748758964,
          0.02647241209072182,
          0.027182888755201695,
          0.25469188826146794,
          0.011177006562607783,
          0.08631762482631022,
          0.11650412270871735,
          0.027752058853328876,
          0.137265688388849,
          0.08250986324254805,
          0.04322965315468652,
          0.06322756663304063,
          0.01159526622882745,
          -0.07752028831699842,
          0.036248469874994305,
          0.02889777919203862,
          -0.03760534958906392,
          0.062226232651354074,
          0.07019799702941576,
          -0.012312236438861257,
          -0.10040487114078223,
          -0.14093683940566726,
          -0.12078950196837968,
          0.06085758369202132,
          0.07354085447092662,
          0.08715554843473639,
          0.06695237801500209,
          -0.03973928720594766,
          0.15610996066152416,
          0.014666560489148939,
          -0.002263375493744668
         ]
        },
        {
         "mode": "lines",
         "name": "Fitted line",
         "type": "scatter",
         "x": [
          2.86,
          2.71,
          2.72,
          2.71,
          2.56,
          2.6,
          2.54,
          2.42,
          2.53,
          2.3,
          2.33,
          2.21,
          1.88,
          1.98,
          2.04,
          1.94,
          2.2,
          2.36,
          2.32,
          2.17,
          2.17,
          2.07,
          2.26,
          2.24,
          2.09,
          1.78,
          1.89,
          1.81,
          1.81,
          1.64,
          1.5,
          1.56,
          1.63,
          1.76,
          2.14,
          2.49,
          2.43,
          2.42,
          2.48,
          2.3,
          2.3,
          2.19,
          2.32,
          2.21,
          2.2,
          2.36,
          2.35,
          2.4,
          2.58,
          2.86,
          2.84,
          2.87,
          2.98,
          2.91,
          2.89,
          2.89,
          3,
          3.15,
          3.12,
          2.83,
          2.71,
          2.68,
          2.57,
          2.53,
          2.4,
          2.07,
          2.06,
          1.63
         ],
         "y": [
          0.023963446940697575,
          0.02664388548106271,
          0.026465189578371698,
          0.02664388548106271,
          0.02932432402142785,
          0.02860954041066381,
          0.029681715826809868,
          0.03182606665910198,
          0.029860411729500887,
          0.0339704174913941,
          0.033434329783321066,
          0.03557868061561318,
          0.04147564540441649,
          0.039688686377506395,
          0.03861651096136034,
          0.040403469988270435,
          0.035757376518304185,
          0.032898242075248045,
          0.03361302568601208,
          0.03629346422637722,
          0.03629346422637722,
          0.03808042325328732,
          0.034685201102158135,
          0.03504259290754015,
          0.03772303144790529,
          0.04326260443132658,
          0.04129694950172549,
          0.04272651672325355,
          0.04272651672325355,
          0.04576434706900072,
          0.04826608970667485,
          0.04719391429052879,
          0.04594304297169173,
          0.043619996236708605,
          0.03682955193445024,
          0.030575195340264913,
          0.03164737075641097,
          0.03182606665910198,
          0.030753891242955925,
          0.0339704174913941,
          0.0339704174913941,
          0.0359360724209952,
          0.03361302568601208,
          0.03557868061561318,
          0.035757376518304185,
          0.032898242075248045,
          0.03307693797793905,
          0.032183458464484005,
          0.028966932216045835,
          0.023963446940697575,
          0.02432083874607959,
          0.023784751038006556,
          0.021819096108405454,
          0.023069967427242523,
          0.02342735923262454,
          0.02342735923262454,
          0.021461704303023438,
          0.018781265762658296,
          0.019317353470731324,
          0.024499534648770596,
          0.02664388548106271,
          0.027179973189135738,
          0.029145628118736847,
          0.029860411729500887,
          0.032183458464484005,
          0.03808042325328732,
          0.03825911915597832,
          0.04594304297169173
         ]
        },
        {
         "marker": {
          "color": "red"
         },
         "mode": "markers",
         "name": "Prediction",
         "type": "scatter",
         "x": [
          0.01
         ],
         "y": [
          0.07489177920763525
         ]
        }
       ],
       "layout": {
        "template": {
         "data": {
          "candlestick": [
           {
            "decreasing": {
             "line": {
              "color": "#000033"
             }
            },
            "increasing": {
             "line": {
              "color": "#000032"
             }
            },
            "type": "candlestick"
           }
          ],
          "contour": [
           {
            "colorscale": [
             [
              0,
              "#000011"
             ],
             [
              0.1111111111111111,
              "#000012"
             ],
             [
              0.2222222222222222,
              "#000013"
             ],
             [
              0.3333333333333333,
              "#000014"
             ],
             [
              0.4444444444444444,
              "#000015"
             ],
             [
              0.5555555555555556,
              "#000016"
             ],
             [
              0.6666666666666666,
              "#000017"
             ],
             [
              0.7777777777777778,
              "#000018"
             ],
             [
              0.8888888888888888,
              "#000019"
             ],
             [
              1,
              "#000020"
             ]
            ],
            "type": "contour"
           }
          ],
          "contourcarpet": [
           {
            "colorscale": [
             [
              0,
              "#000011"
             ],
             [
              0.1111111111111111,
              "#000012"
             ],
             [
              0.2222222222222222,
              "#000013"
             ],
             [
              0.3333333333333333,
              "#000014"
             ],
             [
              0.4444444444444444,
              "#000015"
             ],
             [
              0.5555555555555556,
              "#000016"
             ],
             [
              0.6666666666666666,
              "#000017"
             ],
             [
              0.7777777777777778,
              "#000018"
             ],
             [
              0.8888888888888888,
              "#000019"
             ],
             [
              1,
              "#000020"
             ]
            ],
            "type": "contourcarpet"
           }
          ],
          "heatmap": [
           {
            "colorscale": [
             [
              0,
              "#000011"
             ],
             [
              0.1111111111111111,
              "#000012"
             ],
             [
              0.2222222222222222,
              "#000013"
             ],
             [
              0.3333333333333333,
              "#000014"
             ],
             [
              0.4444444444444444,
              "#000015"
             ],
             [
              0.5555555555555556,
              "#000016"
             ],
             [
              0.6666666666666666,
              "#000017"
             ],
             [
              0.7777777777777778,
              "#000018"
             ],
             [
              0.8888888888888888,
              "#000019"
             ],
             [
              1,
              "#000020"
             ]
            ],
            "type": "heatmap"
           }
          ],
          "histogram2d": [
           {
            "colorscale": [
             [
              0,
              "#000011"
             ],
             [
              0.1111111111111111,
              "#000012"
             ],
             [
              0.2222222222222222,
              "#000013"
             ],
             [
              0.3333333333333333,
              "#000014"
             ],
             [
              0.4444444444444444,
              "#000015"
             ],
             [
              0.5555555555555556,
              "#000016"
             ],
             [
              0.6666666666666666,
              "#000017"
             ],
             [
              0.7777777777777778,
              "#000018"
             ],
             [
              0.8888888888888888,
              "#000019"
             ],
             [
              1,
              "#000020"
             ]
            ],
            "type": "histogram2d"
           }
          ],
          "icicle": [
           {
            "textfont": {
             "color": "white"
            },
            "type": "icicle"
           }
          ],
          "sankey": [
           {
            "textfont": {
             "color": "#000036"
            },
            "type": "sankey"
           }
          ],
          "scatter": [
           {
            "marker": {
             "line": {
              "width": 0
             }
            },
            "type": "scatter"
           }
          ],
          "table": [
           {
            "cells": {
             "fill": {
              "color": "#000038"
             },
             "font": {
              "color": "#000037"
             },
             "line": {
              "color": "#000039"
             }
            },
            "header": {
             "fill": {
              "color": "#000040"
             },
             "font": {
              "color": "#000036"
             },
             "line": {
              "color": "#000039"
             }
            },
            "type": "table"
           }
          ],
          "waterfall": [
           {
            "connector": {
             "line": {
              "color": "#000036",
              "width": 2
             }
            },
            "decreasing": {
             "marker": {
              "color": "#000033"
             }
            },
            "increasing": {
             "marker": {
              "color": "#000032"
             }
            },
            "totals": {
             "marker": {
              "color": "#000034"
             }
            },
            "type": "waterfall"
           }
          ]
         },
         "layout": {
          "coloraxis": {
           "colorscale": [
            [
             0,
             "#000011"
            ],
            [
             0.1111111111111111,
             "#000012"
            ],
            [
             0.2222222222222222,
             "#000013"
            ],
            [
             0.3333333333333333,
             "#000014"
            ],
            [
             0.4444444444444444,
             "#000015"
            ],
            [
             0.5555555555555556,
             "#000016"
            ],
            [
             0.6666666666666666,
             "#000017"
            ],
            [
             0.7777777777777778,
             "#000018"
            ],
            [
             0.8888888888888888,
             "#000019"
            ],
            [
             1,
             "#000020"
            ]
           ]
          },
          "colorscale": {
           "diverging": [
            [
             0,
             "#000021"
            ],
            [
             0.1,
             "#000022"
            ],
            [
             0.2,
             "#000023"
            ],
            [
             0.3,
             "#000024"
            ],
            [
             0.4,
             "#000025"
            ],
            [
             0.5,
             "#000026"
            ],
            [
             0.6,
             "#000027"
            ],
            [
             0.7,
             "#000028"
            ],
            [
             0.8,
             "#000029"
            ],
            [
             0.9,
             "#000030"
            ],
            [
             1,
             "#000031"
            ]
           ],
           "sequential": [
            [
             0,
             "#000011"
            ],
            [
             0.1111111111111111,
             "#000012"
            ],
            [
             0.2222222222222222,
             "#000013"
            ],
            [
             0.3333333333333333,
             "#000014"
            ],
            [
             0.4444444444444444,
             "#000015"
            ],
            [
             0.5555555555555556,
             "#000016"
            ],
            [
             0.6666666666666666,
             "#000017"
            ],
            [
             0.7777777777777778,
             "#000018"
            ],
            [
             0.8888888888888888,
             "#000019"
            ],
            [
             1,
             "#000020"
            ]
           ],
           "sequentialminus": [
            [
             0,
             "#000011"
            ],
            [
             0.1111111111111111,
             "#000012"
            ],
            [
             0.2222222222222222,
             "#000013"
            ],
            [
             0.3333333333333333,
             "#000014"
            ],
            [
             0.4444444444444444,
             "#000015"
            ],
            [
             0.5555555555555556,
             "#000016"
            ],
            [
             0.6666666666666666,
             "#000017"
            ],
            [
             0.7777777777777778,
             "#000018"
            ],
            [
             0.8888888888888888,
             "#000019"
            ],
            [
             1,
             "#000020"
            ]
           ]
          },
          "colorway": [
           "#000001",
           "#000002",
           "#000003",
           "#000004",
           "#000005",
           "#000006",
           "#000007",
           "#000008",
           "#000009",
           "#000010"
          ]
         }
        },
        "title": {
         "text": "Portfolio Returns vs US Interest Rate"
        },
        "xaxis": {
         "title": {
          "text": "US Interest Rate"
         }
        },
        "yaxis": {
         "title": {
          "text": "Portfolio Returns"
         }
        }
       }
      },
      "text/html": [
       "<div>                            <div id=\"05f0fbf2-c164-4970-91e7-38b30d49e4fd\" class=\"plotly-graph-div\" style=\"height:525px; width:100%;\"></div>            <script type=\"text/javascript\">                require([\"plotly\"], function(Plotly) {                    window.PLOTLYENV=window.PLOTLYENV || {};                                    if (document.getElementById(\"05f0fbf2-c164-4970-91e7-38b30d49e4fd\")) {                    Plotly.newPlot(                        \"05f0fbf2-c164-4970-91e7-38b30d49e4fd\",                        [{\"mode\":\"markers\",\"name\":\"Data\",\"x\":[2.86,2.71,2.72,2.71,2.56,2.6,2.54,2.42,2.53,2.3,2.33,2.21,1.88,1.98,2.04,1.94,2.2,2.36,2.32,2.17,2.17,2.07,2.26,2.24,2.09,1.78,1.89,1.81,1.81,1.64,1.5,1.56,1.63,1.76,2.14,2.49,2.43,2.42,2.48,2.3,2.3,2.19,2.32,2.21,2.2,2.36,2.35,2.4,2.58,2.86,2.84,2.87,2.98,2.91,2.89,2.89,3.0,3.15,3.12,2.83,2.71,2.68,2.57,2.53,2.4,2.07,2.06,1.63],\"y\":[-0.022767789393831284,0.08456361411625557,0.006972160934285432,0.0238037700888325,0.029015320604546257,0.005313067748732969,-0.01668649174974357,0.06911081439840405,-0.0448092788571246,0.02527740795476241,0.07475266708656281,-0.04662816275823467,-0.08023685185296192,0.11993894956089579,-0.03593923064358806,0.03816585783639881,0.011121753621671893,-0.029380841496837617,0.020328166535782843,-0.017444784581634787,0.029076147512591355,0.1517269691576313,0.0789678634563773,0.02571068400140497,-0.07636176492052071,0.06806102633417566,0.08191537966579343,-0.004261542015104203,0.16751536930471533,0.046005284986976314,0.07219273607403709,0.028033515818111754,0.05691119903809505,0.02535154135272699,0.14427822654087152,0.10035523226758425,0.028372659180651683,0.045061734748758964,0.02647241209072182,0.027182888755201695,0.25469188826146794,0.011177006562607783,0.08631762482631022,0.11650412270871735,0.027752058853328876,0.137265688388849,0.08250986324254805,0.04322965315468652,0.06322756663304063,0.01159526622882745,-0.07752028831699842,0.036248469874994305,0.02889777919203862,-0.03760534958906392,0.062226232651354074,0.07019799702941576,-0.012312236438861257,-0.10040487114078223,-0.14093683940566726,-0.12078950196837968,0.06085758369202132,0.07354085447092662,0.08715554843473639,0.06695237801500209,-0.03973928720594766,0.15610996066152416,0.014666560489148939,-0.002263375493744668],\"type\":\"scatter\"},{\"mode\":\"lines\",\"name\":\"Fitted line\",\"x\":[2.86,2.71,2.72,2.71,2.56,2.6,2.54,2.42,2.53,2.3,2.33,2.21,1.88,1.98,2.04,1.94,2.2,2.36,2.32,2.17,2.17,2.07,2.26,2.24,2.09,1.78,1.89,1.81,1.81,1.64,1.5,1.56,1.63,1.76,2.14,2.49,2.43,2.42,2.48,2.3,2.3,2.19,2.32,2.21,2.2,2.36,2.35,2.4,2.58,2.86,2.84,2.87,2.98,2.91,2.89,2.89,3.0,3.15,3.12,2.83,2.71,2.68,2.57,2.53,2.4,2.07,2.06,1.63],\"y\":[0.023963446940697575,0.02664388548106271,0.026465189578371698,0.02664388548106271,0.02932432402142785,0.02860954041066381,0.029681715826809868,0.03182606665910198,0.029860411729500887,0.0339704174913941,0.033434329783321066,0.03557868061561318,0.04147564540441649,0.039688686377506395,0.03861651096136034,0.040403469988270435,0.035757376518304185,0.032898242075248045,0.03361302568601208,0.03629346422637722,0.03629346422637722,0.03808042325328732,0.034685201102158135,0.03504259290754015,0.03772303144790529,0.04326260443132658,0.04129694950172549,0.04272651672325355,0.04272651672325355,0.04576434706900072,0.04826608970667485,0.04719391429052879,0.04594304297169173,0.043619996236708605,0.03682955193445024,0.030575195340264913,0.03164737075641097,0.03182606665910198,0.030753891242955925,0.0339704174913941,0.0339704174913941,0.0359360724209952,0.03361302568601208,0.03557868061561318,0.035757376518304185,0.032898242075248045,0.03307693797793905,0.032183458464484005,0.028966932216045835,0.023963446940697575,0.02432083874607959,0.023784751038006556,0.021819096108405454,0.023069967427242523,0.02342735923262454,0.02342735923262454,0.021461704303023438,0.018781265762658296,0.019317353470731324,0.024499534648770596,0.02664388548106271,0.027179973189135738,0.029145628118736847,0.029860411729500887,0.032183458464484005,0.03808042325328732,0.03825911915597832,0.04594304297169173],\"type\":\"scatter\"},{\"marker\":{\"color\":\"red\"},\"mode\":\"markers\",\"name\":\"Prediction\",\"x\":[0.01],\"y\":[0.07489177920763525],\"type\":\"scatter\"}],                        {\"title\":{\"text\":\"Portfolio Returns vs US Interest Rate\"},\"xaxis\":{\"title\":{\"text\":\"US Interest Rate\"}},\"yaxis\":{\"title\":{\"text\":\"Portfolio Returns\"}},\"template\":{\"data\":{\"candlestick\":[{\"decreasing\":{\"line\":{\"color\":\"#000033\"}},\"increasing\":{\"line\":{\"color\":\"#000032\"}},\"type\":\"candlestick\"}],\"contourcarpet\":[{\"colorscale\":[[0.0,\"#000011\"],[0.1111111111111111,\"#000012\"],[0.2222222222222222,\"#000013\"],[0.3333333333333333,\"#000014\"],[0.4444444444444444,\"#000015\"],[0.5555555555555556,\"#000016\"],[0.6666666666666666,\"#000017\"],[0.7777777777777778,\"#000018\"],[0.8888888888888888,\"#000019\"],[1.0,\"#000020\"]],\"type\":\"contourcarpet\"}],\"contour\":[{\"colorscale\":[[0.0,\"#000011\"],[0.1111111111111111,\"#000012\"],[0.2222222222222222,\"#000013\"],[0.3333333333333333,\"#000014\"],[0.4444444444444444,\"#000015\"],[0.5555555555555556,\"#000016\"],[0.6666666666666666,\"#000017\"],[0.7777777777777778,\"#000018\"],[0.8888888888888888,\"#000019\"],[1.0,\"#000020\"]],\"type\":\"contour\"}],\"heatmap\":[{\"colorscale\":[[0.0,\"#000011\"],[0.1111111111111111,\"#000012\"],[0.2222222222222222,\"#000013\"],[0.3333333333333333,\"#000014\"],[0.4444444444444444,\"#000015\"],[0.5555555555555556,\"#000016\"],[0.6666666666666666,\"#000017\"],[0.7777777777777778,\"#000018\"],[0.8888888888888888,\"#000019\"],[1.0,\"#000020\"]],\"type\":\"heatmap\"}],\"histogram2d\":[{\"colorscale\":[[0.0,\"#000011\"],[0.1111111111111111,\"#000012\"],[0.2222222222222222,\"#000013\"],[0.3333333333333333,\"#000014\"],[0.4444444444444444,\"#000015\"],[0.5555555555555556,\"#000016\"],[0.6666666666666666,\"#000017\"],[0.7777777777777778,\"#000018\"],[0.8888888888888888,\"#000019\"],[1.0,\"#000020\"]],\"type\":\"histogram2d\"}],\"icicle\":[{\"textfont\":{\"color\":\"white\"},\"type\":\"icicle\"}],\"sankey\":[{\"textfont\":{\"color\":\"#000036\"},\"type\":\"sankey\"}],\"scatter\":[{\"marker\":{\"line\":{\"width\":0}},\"type\":\"scatter\"}],\"table\":[{\"cells\":{\"fill\":{\"color\":\"#000038\"},\"font\":{\"color\":\"#000037\"},\"line\":{\"color\":\"#000039\"}},\"header\":{\"fill\":{\"color\":\"#000040\"},\"font\":{\"color\":\"#000036\"},\"line\":{\"color\":\"#000039\"}},\"type\":\"table\"}],\"waterfall\":[{\"connector\":{\"line\":{\"color\":\"#000036\",\"width\":2}},\"decreasing\":{\"marker\":{\"color\":\"#000033\"}},\"increasing\":{\"marker\":{\"color\":\"#000032\"}},\"totals\":{\"marker\":{\"color\":\"#000034\"}},\"type\":\"waterfall\"}]},\"layout\":{\"coloraxis\":{\"colorscale\":[[0.0,\"#000011\"],[0.1111111111111111,\"#000012\"],[0.2222222222222222,\"#000013\"],[0.3333333333333333,\"#000014\"],[0.4444444444444444,\"#000015\"],[0.5555555555555556,\"#000016\"],[0.6666666666666666,\"#000017\"],[0.7777777777777778,\"#000018\"],[0.8888888888888888,\"#000019\"],[1.0,\"#000020\"]]},\"colorscale\":{\"diverging\":[[0.0,\"#000021\"],[0.1,\"#000022\"],[0.2,\"#000023\"],[0.3,\"#000024\"],[0.4,\"#000025\"],[0.5,\"#000026\"],[0.6,\"#000027\"],[0.7,\"#000028\"],[0.8,\"#000029\"],[0.9,\"#000030\"],[1.0,\"#000031\"]],\"sequential\":[[0.0,\"#000011\"],[0.1111111111111111,\"#000012\"],[0.2222222222222222,\"#000013\"],[0.3333333333333333,\"#000014\"],[0.4444444444444444,\"#000015\"],[0.5555555555555556,\"#000016\"],[0.6666666666666666,\"#000017\"],[0.7777777777777778,\"#000018\"],[0.8888888888888888,\"#000019\"],[1.0,\"#000020\"]],\"sequentialminus\":[[0.0,\"#000011\"],[0.1111111111111111,\"#000012\"],[0.2222222222222222,\"#000013\"],[0.3333333333333333,\"#000014\"],[0.4444444444444444,\"#000015\"],[0.5555555555555556,\"#000016\"],[0.6666666666666666,\"#000017\"],[0.7777777777777778,\"#000018\"],[0.8888888888888888,\"#000019\"],[1.0,\"#000020\"]]},\"colorway\":[\"#000001\",\"#000002\",\"#000003\",\"#000004\",\"#000005\",\"#000006\",\"#000007\",\"#000008\",\"#000009\",\"#000010\"]}}},                        {\"responsive\": true}                    ).then(function(){\n",
       "                            \n",
       "var gd = document.getElementById('05f0fbf2-c164-4970-91e7-38b30d49e4fd');\n",
       "var x = new MutationObserver(function (mutations, observer) {{\n",
       "        var display = window.getComputedStyle(gd).display;\n",
       "        if (!display || display === 'none') {{\n",
       "            console.log([gd, 'removed!']);\n",
       "            Plotly.purge(gd);\n",
       "            observer.disconnect();\n",
       "        }}\n",
       "}});\n",
       "\n",
       "// Listen for the removal of the full notebook cells\n",
       "var notebookContainer = gd.closest('#notebook-container');\n",
       "if (notebookContainer) {{\n",
       "    x.observe(notebookContainer, {childList: true});\n",
       "}}\n",
       "\n",
       "// Listen for the clearing of the current output cell\n",
       "var outputEl = gd.closest('.output');\n",
       "if (outputEl) {{\n",
       "    x.observe(outputEl, {childList: true});\n",
       "}}\n",
       "\n",
       "                        })                };                });            </script>        </div>"
      ]
     },
     "metadata": {},
     "output_type": "display_data"
    },
    {
     "name": "stdout",
     "output_type": "stream",
     "text": [
      "Monthly Returns = 0.0828 + (-0.0242 * US Inflation Rate)\n",
      "None\n"
     ]
    },
    {
     "data": {
      "application/vnd.plotly.v1+json": {
       "config": {
        "plotlyServerURL": "https://plot.ly"
       },
       "data": [
        {
         "mode": "markers",
         "name": "Data",
         "type": "scatter",
         "x": [
          2.14,
          2.17,
          2.13,
          2.18,
          2.22,
          2.26,
          2.29,
          2.12,
          1.97,
          1.92,
          1.79,
          1.68,
          1.65,
          1.83,
          1.76,
          1.94,
          1.8,
          1.87,
          1.74,
          1.63,
          1.41,
          1.53,
          1.59,
          1.54,
          1.41,
          1.42,
          1.62,
          1.71,
          1.54,
          1.4,
          1.49,
          1.47,
          1.6,
          1.73,
          1.94,
          1.95,
          2.05,
          2.02,
          1.97,
          1.92,
          1.81,
          1.73,
          1.82,
          1.76,
          1.84,
          1.88,
          1.86,
          1.96,
          2.11,
          2.12,
          2.05,
          2.17,
          2.07,
          2.11,
          2.12,
          2.08,
          2.14,
          2.05,
          1.97,
          1.71,
          1.85,
          1.95,
          1.88,
          1.95,
          1.74,
          1.69,
          1.76,
          1.55
         ],
         "y": [
          -0.022767789393831284,
          0.08456361411625557,
          0.006972160934285432,
          0.0238037700888325,
          0.029015320604546257,
          0.005313067748732969,
          -0.01668649174974357,
          0.06911081439840405,
          -0.0448092788571246,
          0.02527740795476241,
          0.07475266708656281,
          -0.04662816275823467,
          -0.08023685185296192,
          0.11993894956089579,
          -0.03593923064358806,
          0.03816585783639881,
          0.011121753621671893,
          -0.029380841496837617,
          0.020328166535782843,
          -0.017444784581634787,
          0.029076147512591355,
          0.1517269691576313,
          0.0789678634563773,
          0.02571068400140497,
          -0.07636176492052071,
          0.06806102633417566,
          0.08191537966579343,
          -0.004261542015104203,
          0.16751536930471533,
          0.046005284986976314,
          0.07219273607403709,
          0.028033515818111754,
          0.05691119903809505,
          0.02535154135272699,
          0.14427822654087152,
          0.10035523226758425,
          0.028372659180651683,
          0.045061734748758964,
          0.02647241209072182,
          0.027182888755201695,
          0.25469188826146794,
          0.011177006562607783,
          0.08631762482631022,
          0.11650412270871735,
          0.027752058853328876,
          0.137265688388849,
          0.08250986324254805,
          0.04322965315468652,
          0.06322756663304063,
          0.01159526622882745,
          -0.07752028831699842,
          0.036248469874994305,
          0.02889777919203862,
          -0.03760534958906392,
          0.062226232651354074,
          0.07019799702941576,
          -0.012312236438861257,
          -0.10040487114078223,
          -0.14093683940566726,
          -0.12078950196837968,
          0.06085758369202132,
          0.07354085447092662,
          0.08715554843473639,
          0.06695237801500209,
          -0.03973928720594766,
          0.15610996066152416,
          0.014666560489148939,
          -0.002263375493744668
         ]
        },
        {
         "mode": "lines",
         "name": "Fitted line",
         "type": "scatter",
         "x": [
          2.14,
          2.17,
          2.13,
          2.18,
          2.22,
          2.26,
          2.29,
          2.12,
          1.97,
          1.92,
          1.79,
          1.68,
          1.65,
          1.83,
          1.76,
          1.94,
          1.8,
          1.87,
          1.74,
          1.63,
          1.41,
          1.53,
          1.59,
          1.54,
          1.41,
          1.42,
          1.62,
          1.71,
          1.54,
          1.4,
          1.49,
          1.47,
          1.6,
          1.73,
          1.94,
          1.95,
          2.05,
          2.02,
          1.97,
          1.92,
          1.81,
          1.73,
          1.82,
          1.76,
          1.84,
          1.88,
          1.86,
          1.96,
          2.11,
          2.12,
          2.05,
          2.17,
          2.07,
          2.11,
          2.12,
          2.08,
          2.14,
          2.05,
          1.97,
          1.71,
          1.85,
          1.95,
          1.88,
          1.95,
          1.74,
          1.69,
          1.76,
          1.55
         ],
         "y": [
          0.03115098339708701,
          0.03042637192777431,
          0.03139252055352458,
          0.03018483477133673,
          0.02921868614558646,
          0.028252537519836196,
          0.027527926050523482,
          0.031634057709962145,
          0.03525711505652568,
          0.03646480083871352,
          0.03960478387240191,
          0.04226169259321517,
          0.042986304062527875,
          0.038638635246651634,
          0.04032939534171462,
          0.035981726525838385,
          0.03936324671596434,
          0.03767248662090136,
          0.040812469654589754,
          0.04346937837540301,
          0.04878319581702952,
          0.045884749939778695,
          0.04443552700115328,
          0.045643212783341124,
          0.04878319581702952,
          0.04854165866059195,
          0.043710915531840575,
          0.04153708112390246,
          0.045643212783341124,
          0.049024732973467086,
          0.046850898565528966,
          0.04733397287840411,
          0.04419398984471571,
          0.041054006811027326,
          0.035981726525838385,
          0.035740189369400814,
          0.033324817805025136,
          0.034049429274337836,
          0.03525711505652568,
          0.03646480083871352,
          0.03912170955952677,
          0.041054006811027326,
          0.038880172403089205,
          0.04032939534171462,
          0.03839709809021407,
          0.0374309494644638,
          0.03791402377733893,
          0.03549865221296325,
          0.03187559486639972,
          0.031634057709962145,
          0.033324817805025136,
          0.03042637192777431,
          0.032841743492149994,
          0.03187559486639972,
          0.031634057709962145,
          0.03260020633571242,
          0.03115098339708701,
          0.033324817805025136,
          0.03525711505652568,
          0.04153708112390246,
          0.0381555609337765,
          0.035740189369400814,
          0.0374309494644638,
          0.035740189369400814,
          0.040812469654589754,
          0.0420201554367776,
          0.04032939534171462,
          0.04540167562690356
         ]
        },
        {
         "marker": {
          "color": "red"
         },
         "mode": "markers",
         "name": "Prediction",
         "type": "scatter",
         "x": [
          0.02
         ],
         "y": [
          0.08235686056185154
         ]
        }
       ],
       "layout": {
        "template": {
         "data": {
          "candlestick": [
           {
            "decreasing": {
             "line": {
              "color": "#000033"
             }
            },
            "increasing": {
             "line": {
              "color": "#000032"
             }
            },
            "type": "candlestick"
           }
          ],
          "contour": [
           {
            "colorscale": [
             [
              0,
              "#000011"
             ],
             [
              0.1111111111111111,
              "#000012"
             ],
             [
              0.2222222222222222,
              "#000013"
             ],
             [
              0.3333333333333333,
              "#000014"
             ],
             [
              0.4444444444444444,
              "#000015"
             ],
             [
              0.5555555555555556,
              "#000016"
             ],
             [
              0.6666666666666666,
              "#000017"
             ],
             [
              0.7777777777777778,
              "#000018"
             ],
             [
              0.8888888888888888,
              "#000019"
             ],
             [
              1,
              "#000020"
             ]
            ],
            "type": "contour"
           }
          ],
          "contourcarpet": [
           {
            "colorscale": [
             [
              0,
              "#000011"
             ],
             [
              0.1111111111111111,
              "#000012"
             ],
             [
              0.2222222222222222,
              "#000013"
             ],
             [
              0.3333333333333333,
              "#000014"
             ],
             [
              0.4444444444444444,
              "#000015"
             ],
             [
              0.5555555555555556,
              "#000016"
             ],
             [
              0.6666666666666666,
              "#000017"
             ],
             [
              0.7777777777777778,
              "#000018"
             ],
             [
              0.8888888888888888,
              "#000019"
             ],
             [
              1,
              "#000020"
             ]
            ],
            "type": "contourcarpet"
           }
          ],
          "heatmap": [
           {
            "colorscale": [
             [
              0,
              "#000011"
             ],
             [
              0.1111111111111111,
              "#000012"
             ],
             [
              0.2222222222222222,
              "#000013"
             ],
             [
              0.3333333333333333,
              "#000014"
             ],
             [
              0.4444444444444444,
              "#000015"
             ],
             [
              0.5555555555555556,
              "#000016"
             ],
             [
              0.6666666666666666,
              "#000017"
             ],
             [
              0.7777777777777778,
              "#000018"
             ],
             [
              0.8888888888888888,
              "#000019"
             ],
             [
              1,
              "#000020"
             ]
            ],
            "type": "heatmap"
           }
          ],
          "histogram2d": [
           {
            "colorscale": [
             [
              0,
              "#000011"
             ],
             [
              0.1111111111111111,
              "#000012"
             ],
             [
              0.2222222222222222,
              "#000013"
             ],
             [
              0.3333333333333333,
              "#000014"
             ],
             [
              0.4444444444444444,
              "#000015"
             ],
             [
              0.5555555555555556,
              "#000016"
             ],
             [
              0.6666666666666666,
              "#000017"
             ],
             [
              0.7777777777777778,
              "#000018"
             ],
             [
              0.8888888888888888,
              "#000019"
             ],
             [
              1,
              "#000020"
             ]
            ],
            "type": "histogram2d"
           }
          ],
          "icicle": [
           {
            "textfont": {
             "color": "white"
            },
            "type": "icicle"
           }
          ],
          "sankey": [
           {
            "textfont": {
             "color": "#000036"
            },
            "type": "sankey"
           }
          ],
          "scatter": [
           {
            "marker": {
             "line": {
              "width": 0
             }
            },
            "type": "scatter"
           }
          ],
          "table": [
           {
            "cells": {
             "fill": {
              "color": "#000038"
             },
             "font": {
              "color": "#000037"
             },
             "line": {
              "color": "#000039"
             }
            },
            "header": {
             "fill": {
              "color": "#000040"
             },
             "font": {
              "color": "#000036"
             },
             "line": {
              "color": "#000039"
             }
            },
            "type": "table"
           }
          ],
          "waterfall": [
           {
            "connector": {
             "line": {
              "color": "#000036",
              "width": 2
             }
            },
            "decreasing": {
             "marker": {
              "color": "#000033"
             }
            },
            "increasing": {
             "marker": {
              "color": "#000032"
             }
            },
            "totals": {
             "marker": {
              "color": "#000034"
             }
            },
            "type": "waterfall"
           }
          ]
         },
         "layout": {
          "coloraxis": {
           "colorscale": [
            [
             0,
             "#000011"
            ],
            [
             0.1111111111111111,
             "#000012"
            ],
            [
             0.2222222222222222,
             "#000013"
            ],
            [
             0.3333333333333333,
             "#000014"
            ],
            [
             0.4444444444444444,
             "#000015"
            ],
            [
             0.5555555555555556,
             "#000016"
            ],
            [
             0.6666666666666666,
             "#000017"
            ],
            [
             0.7777777777777778,
             "#000018"
            ],
            [
             0.8888888888888888,
             "#000019"
            ],
            [
             1,
             "#000020"
            ]
           ]
          },
          "colorscale": {
           "diverging": [
            [
             0,
             "#000021"
            ],
            [
             0.1,
             "#000022"
            ],
            [
             0.2,
             "#000023"
            ],
            [
             0.3,
             "#000024"
            ],
            [
             0.4,
             "#000025"
            ],
            [
             0.5,
             "#000026"
            ],
            [
             0.6,
             "#000027"
            ],
            [
             0.7,
             "#000028"
            ],
            [
             0.8,
             "#000029"
            ],
            [
             0.9,
             "#000030"
            ],
            [
             1,
             "#000031"
            ]
           ],
           "sequential": [
            [
             0,
             "#000011"
            ],
            [
             0.1111111111111111,
             "#000012"
            ],
            [
             0.2222222222222222,
             "#000013"
            ],
            [
             0.3333333333333333,
             "#000014"
            ],
            [
             0.4444444444444444,
             "#000015"
            ],
            [
             0.5555555555555556,
             "#000016"
            ],
            [
             0.6666666666666666,
             "#000017"
            ],
            [
             0.7777777777777778,
             "#000018"
            ],
            [
             0.8888888888888888,
             "#000019"
            ],
            [
             1,
             "#000020"
            ]
           ],
           "sequentialminus": [
            [
             0,
             "#000011"
            ],
            [
             0.1111111111111111,
             "#000012"
            ],
            [
             0.2222222222222222,
             "#000013"
            ],
            [
             0.3333333333333333,
             "#000014"
            ],
            [
             0.4444444444444444,
             "#000015"
            ],
            [
             0.5555555555555556,
             "#000016"
            ],
            [
             0.6666666666666666,
             "#000017"
            ],
            [
             0.7777777777777778,
             "#000018"
            ],
            [
             0.8888888888888888,
             "#000019"
            ],
            [
             1,
             "#000020"
            ]
           ]
          },
          "colorway": [
           "#000001",
           "#000002",
           "#000003",
           "#000004",
           "#000005",
           "#000006",
           "#000007",
           "#000008",
           "#000009",
           "#000010"
          ]
         }
        },
        "title": {
         "text": "Portfolio Returns vs US Inflation Rate"
        },
        "xaxis": {
         "title": {
          "text": "US Inflation Rate"
         }
        },
        "yaxis": {
         "title": {
          "text": "Portfolio Returns"
         }
        }
       }
      },
      "text/html": [
       "<div>                            <div id=\"57b8567e-3f49-4baa-932d-3518ed155952\" class=\"plotly-graph-div\" style=\"height:525px; width:100%;\"></div>            <script type=\"text/javascript\">                require([\"plotly\"], function(Plotly) {                    window.PLOTLYENV=window.PLOTLYENV || {};                                    if (document.getElementById(\"57b8567e-3f49-4baa-932d-3518ed155952\")) {                    Plotly.newPlot(                        \"57b8567e-3f49-4baa-932d-3518ed155952\",                        [{\"mode\":\"markers\",\"name\":\"Data\",\"x\":[2.14,2.17,2.13,2.18,2.22,2.26,2.29,2.12,1.97,1.92,1.79,1.68,1.65,1.83,1.76,1.94,1.8,1.87,1.74,1.63,1.41,1.53,1.59,1.54,1.41,1.42,1.62,1.71,1.54,1.4,1.49,1.47,1.6,1.73,1.94,1.95,2.05,2.02,1.97,1.92,1.81,1.73,1.82,1.76,1.84,1.88,1.86,1.96,2.11,2.12,2.05,2.17,2.07,2.11,2.12,2.08,2.14,2.05,1.97,1.71,1.85,1.95,1.88,1.95,1.74,1.69,1.76,1.55],\"y\":[-0.022767789393831284,0.08456361411625557,0.006972160934285432,0.0238037700888325,0.029015320604546257,0.005313067748732969,-0.01668649174974357,0.06911081439840405,-0.0448092788571246,0.02527740795476241,0.07475266708656281,-0.04662816275823467,-0.08023685185296192,0.11993894956089579,-0.03593923064358806,0.03816585783639881,0.011121753621671893,-0.029380841496837617,0.020328166535782843,-0.017444784581634787,0.029076147512591355,0.1517269691576313,0.0789678634563773,0.02571068400140497,-0.07636176492052071,0.06806102633417566,0.08191537966579343,-0.004261542015104203,0.16751536930471533,0.046005284986976314,0.07219273607403709,0.028033515818111754,0.05691119903809505,0.02535154135272699,0.14427822654087152,0.10035523226758425,0.028372659180651683,0.045061734748758964,0.02647241209072182,0.027182888755201695,0.25469188826146794,0.011177006562607783,0.08631762482631022,0.11650412270871735,0.027752058853328876,0.137265688388849,0.08250986324254805,0.04322965315468652,0.06322756663304063,0.01159526622882745,-0.07752028831699842,0.036248469874994305,0.02889777919203862,-0.03760534958906392,0.062226232651354074,0.07019799702941576,-0.012312236438861257,-0.10040487114078223,-0.14093683940566726,-0.12078950196837968,0.06085758369202132,0.07354085447092662,0.08715554843473639,0.06695237801500209,-0.03973928720594766,0.15610996066152416,0.014666560489148939,-0.002263375493744668],\"type\":\"scatter\"},{\"mode\":\"lines\",\"name\":\"Fitted line\",\"x\":[2.14,2.17,2.13,2.18,2.22,2.26,2.29,2.12,1.97,1.92,1.79,1.68,1.65,1.83,1.76,1.94,1.8,1.87,1.74,1.63,1.41,1.53,1.59,1.54,1.41,1.42,1.62,1.71,1.54,1.4,1.49,1.47,1.6,1.73,1.94,1.95,2.05,2.02,1.97,1.92,1.81,1.73,1.82,1.76,1.84,1.88,1.86,1.96,2.11,2.12,2.05,2.17,2.07,2.11,2.12,2.08,2.14,2.05,1.97,1.71,1.85,1.95,1.88,1.95,1.74,1.69,1.76,1.55],\"y\":[0.03115098339708701,0.03042637192777431,0.03139252055352458,0.03018483477133673,0.02921868614558646,0.028252537519836196,0.027527926050523482,0.031634057709962145,0.03525711505652568,0.03646480083871352,0.03960478387240191,0.04226169259321517,0.042986304062527875,0.038638635246651634,0.04032939534171462,0.035981726525838385,0.03936324671596434,0.03767248662090136,0.040812469654589754,0.04346937837540301,0.04878319581702952,0.045884749939778695,0.04443552700115328,0.045643212783341124,0.04878319581702952,0.04854165866059195,0.043710915531840575,0.04153708112390246,0.045643212783341124,0.049024732973467086,0.046850898565528966,0.04733397287840411,0.04419398984471571,0.041054006811027326,0.035981726525838385,0.035740189369400814,0.033324817805025136,0.034049429274337836,0.03525711505652568,0.03646480083871352,0.03912170955952677,0.041054006811027326,0.038880172403089205,0.04032939534171462,0.03839709809021407,0.0374309494644638,0.03791402377733893,0.03549865221296325,0.03187559486639972,0.031634057709962145,0.033324817805025136,0.03042637192777431,0.032841743492149994,0.03187559486639972,0.031634057709962145,0.03260020633571242,0.03115098339708701,0.033324817805025136,0.03525711505652568,0.04153708112390246,0.0381555609337765,0.035740189369400814,0.0374309494644638,0.035740189369400814,0.040812469654589754,0.0420201554367776,0.04032939534171462,0.04540167562690356],\"type\":\"scatter\"},{\"marker\":{\"color\":\"red\"},\"mode\":\"markers\",\"name\":\"Prediction\",\"x\":[0.02],\"y\":[0.08235686056185154],\"type\":\"scatter\"}],                        {\"title\":{\"text\":\"Portfolio Returns vs US Inflation Rate\"},\"xaxis\":{\"title\":{\"text\":\"US Inflation Rate\"}},\"yaxis\":{\"title\":{\"text\":\"Portfolio Returns\"}},\"template\":{\"data\":{\"candlestick\":[{\"decreasing\":{\"line\":{\"color\":\"#000033\"}},\"increasing\":{\"line\":{\"color\":\"#000032\"}},\"type\":\"candlestick\"}],\"contourcarpet\":[{\"colorscale\":[[0.0,\"#000011\"],[0.1111111111111111,\"#000012\"],[0.2222222222222222,\"#000013\"],[0.3333333333333333,\"#000014\"],[0.4444444444444444,\"#000015\"],[0.5555555555555556,\"#000016\"],[0.6666666666666666,\"#000017\"],[0.7777777777777778,\"#000018\"],[0.8888888888888888,\"#000019\"],[1.0,\"#000020\"]],\"type\":\"contourcarpet\"}],\"contour\":[{\"colorscale\":[[0.0,\"#000011\"],[0.1111111111111111,\"#000012\"],[0.2222222222222222,\"#000013\"],[0.3333333333333333,\"#000014\"],[0.4444444444444444,\"#000015\"],[0.5555555555555556,\"#000016\"],[0.6666666666666666,\"#000017\"],[0.7777777777777778,\"#000018\"],[0.8888888888888888,\"#000019\"],[1.0,\"#000020\"]],\"type\":\"contour\"}],\"heatmap\":[{\"colorscale\":[[0.0,\"#000011\"],[0.1111111111111111,\"#000012\"],[0.2222222222222222,\"#000013\"],[0.3333333333333333,\"#000014\"],[0.4444444444444444,\"#000015\"],[0.5555555555555556,\"#000016\"],[0.6666666666666666,\"#000017\"],[0.7777777777777778,\"#000018\"],[0.8888888888888888,\"#000019\"],[1.0,\"#000020\"]],\"type\":\"heatmap\"}],\"histogram2d\":[{\"colorscale\":[[0.0,\"#000011\"],[0.1111111111111111,\"#000012\"],[0.2222222222222222,\"#000013\"],[0.3333333333333333,\"#000014\"],[0.4444444444444444,\"#000015\"],[0.5555555555555556,\"#000016\"],[0.6666666666666666,\"#000017\"],[0.7777777777777778,\"#000018\"],[0.8888888888888888,\"#000019\"],[1.0,\"#000020\"]],\"type\":\"histogram2d\"}],\"icicle\":[{\"textfont\":{\"color\":\"white\"},\"type\":\"icicle\"}],\"sankey\":[{\"textfont\":{\"color\":\"#000036\"},\"type\":\"sankey\"}],\"scatter\":[{\"marker\":{\"line\":{\"width\":0}},\"type\":\"scatter\"}],\"table\":[{\"cells\":{\"fill\":{\"color\":\"#000038\"},\"font\":{\"color\":\"#000037\"},\"line\":{\"color\":\"#000039\"}},\"header\":{\"fill\":{\"color\":\"#000040\"},\"font\":{\"color\":\"#000036\"},\"line\":{\"color\":\"#000039\"}},\"type\":\"table\"}],\"waterfall\":[{\"connector\":{\"line\":{\"color\":\"#000036\",\"width\":2}},\"decreasing\":{\"marker\":{\"color\":\"#000033\"}},\"increasing\":{\"marker\":{\"color\":\"#000032\"}},\"totals\":{\"marker\":{\"color\":\"#000034\"}},\"type\":\"waterfall\"}]},\"layout\":{\"coloraxis\":{\"colorscale\":[[0.0,\"#000011\"],[0.1111111111111111,\"#000012\"],[0.2222222222222222,\"#000013\"],[0.3333333333333333,\"#000014\"],[0.4444444444444444,\"#000015\"],[0.5555555555555556,\"#000016\"],[0.6666666666666666,\"#000017\"],[0.7777777777777778,\"#000018\"],[0.8888888888888888,\"#000019\"],[1.0,\"#000020\"]]},\"colorscale\":{\"diverging\":[[0.0,\"#000021\"],[0.1,\"#000022\"],[0.2,\"#000023\"],[0.3,\"#000024\"],[0.4,\"#000025\"],[0.5,\"#000026\"],[0.6,\"#000027\"],[0.7,\"#000028\"],[0.8,\"#000029\"],[0.9,\"#000030\"],[1.0,\"#000031\"]],\"sequential\":[[0.0,\"#000011\"],[0.1111111111111111,\"#000012\"],[0.2222222222222222,\"#000013\"],[0.3333333333333333,\"#000014\"],[0.4444444444444444,\"#000015\"],[0.5555555555555556,\"#000016\"],[0.6666666666666666,\"#000017\"],[0.7777777777777778,\"#000018\"],[0.8888888888888888,\"#000019\"],[1.0,\"#000020\"]],\"sequentialminus\":[[0.0,\"#000011\"],[0.1111111111111111,\"#000012\"],[0.2222222222222222,\"#000013\"],[0.3333333333333333,\"#000014\"],[0.4444444444444444,\"#000015\"],[0.5555555555555556,\"#000016\"],[0.6666666666666666,\"#000017\"],[0.7777777777777778,\"#000018\"],[0.8888888888888888,\"#000019\"],[1.0,\"#000020\"]]},\"colorway\":[\"#000001\",\"#000002\",\"#000003\",\"#000004\",\"#000005\",\"#000006\",\"#000007\",\"#000008\",\"#000009\",\"#000010\"]}}},                        {\"responsive\": true}                    ).then(function(){\n",
       "                            \n",
       "var gd = document.getElementById('57b8567e-3f49-4baa-932d-3518ed155952');\n",
       "var x = new MutationObserver(function (mutations, observer) {{\n",
       "        var display = window.getComputedStyle(gd).display;\n",
       "        if (!display || display === 'none') {{\n",
       "            console.log([gd, 'removed!']);\n",
       "            Plotly.purge(gd);\n",
       "            observer.disconnect();\n",
       "        }}\n",
       "}});\n",
       "\n",
       "// Listen for the removal of the full notebook cells\n",
       "var notebookContainer = gd.closest('#notebook-container');\n",
       "if (notebookContainer) {{\n",
       "    x.observe(notebookContainer, {childList: true});\n",
       "}}\n",
       "\n",
       "// Listen for the clearing of the current output cell\n",
       "var outputEl = gd.closest('.output');\n",
       "if (outputEl) {{\n",
       "    x.observe(outputEl, {childList: true});\n",
       "}}\n",
       "\n",
       "                        })                };                });            </script>        </div>"
      ]
     },
     "metadata": {},
     "output_type": "display_data"
    },
    {
     "name": "stdout",
     "output_type": "stream",
     "text": [
      "Monthly Returns = -0.0327 + (0.0000 * US M2 Money Supply)\n",
      "None\n"
     ]
    },
    {
     "data": {
      "application/vnd.plotly.v1+json": {
       "config": {
        "plotlyServerURL": "https://plot.ly"
       },
       "data": [
        {
         "mode": "markers",
         "name": "Data",
         "type": "scatter",
         "x": [
          11114.3,
          11174.9,
          11223.4,
          11295.1,
          11346.6,
          11404,
          11468.7,
          11477.8,
          11525.2,
          11602.6,
          11605.7,
          11704.4,
          11768.5,
          11887.3,
          11891.8,
          11925.2,
          11979.5,
          12041.1,
          12069.4,
          12139.7,
          12169.9,
          12228.9,
          12292.5,
          12367,
          12502.9,
          12566.9,
          12652.6,
          12727.1,
          12767.8,
          12854.8,
          12913.4,
          12997.6,
          13052,
          13134.3,
          13195.8,
          13209.3,
          13295.1,
          13381.3,
          13437.6,
          13498.3,
          13559.7,
          13587.5,
          13647.5,
          13709.1,
          13734.2,
          13786.8,
          13823.5,
          13839,
          13876.2,
          13920.9,
          13976.8,
          13995.8,
          14075.2,
          14124.5,
          14152.1,
          14219.6,
          14227.1,
          14239.1,
          14248.5,
          14405.1,
          14461.8,
          14462.1,
          14510.2,
          14577.1,
          14685.7,
          14786.9,
          14891.5,
          14928.3
         ],
         "y": [
          -0.022767789393831284,
          0.08456361411625557,
          0.006972160934285432,
          0.0238037700888325,
          0.029015320604546257,
          0.005313067748732969,
          -0.01668649174974357,
          0.06911081439840405,
          -0.0448092788571246,
          0.02527740795476241,
          0.07475266708656281,
          -0.04662816275823467,
          -0.08023685185296192,
          0.11993894956089579,
          -0.03593923064358806,
          0.03816585783639881,
          0.011121753621671893,
          -0.029380841496837617,
          0.020328166535782843,
          -0.017444784581634787,
          0.029076147512591355,
          0.1517269691576313,
          0.0789678634563773,
          0.02571068400140497,
          -0.07636176492052071,
          0.06806102633417566,
          0.08191537966579343,
          -0.004261542015104203,
          0.16751536930471533,
          0.046005284986976314,
          0.07219273607403709,
          0.028033515818111754,
          0.05691119903809505,
          0.02535154135272699,
          0.14427822654087152,
          0.10035523226758425,
          0.028372659180651683,
          0.045061734748758964,
          0.02647241209072182,
          0.027182888755201695,
          0.25469188826146794,
          0.011177006562607783,
          0.08631762482631022,
          0.11650412270871735,
          0.027752058853328876,
          0.137265688388849,
          0.08250986324254805,
          0.04322965315468652,
          0.06322756663304063,
          0.01159526622882745,
          -0.07752028831699842,
          0.036248469874994305,
          0.02889777919203862,
          -0.03760534958906392,
          0.062226232651354074,
          0.07019799702941576,
          -0.012312236438861257,
          -0.10040487114078223,
          -0.14093683940566726,
          -0.12078950196837968,
          0.06085758369202132,
          0.07354085447092662,
          0.08715554843473639,
          0.06695237801500209,
          -0.03973928720594766,
          0.15610996066152416,
          0.014666560489148939,
          -0.002263375493744668
         ]
        },
        {
         "mode": "lines",
         "name": "Fitted line",
         "type": "scatter",
         "x": [
          11114.3,
          11174.9,
          11223.4,
          11295.1,
          11346.6,
          11404,
          11468.7,
          11477.8,
          11525.2,
          11602.6,
          11605.7,
          11704.4,
          11768.5,
          11887.3,
          11891.8,
          11925.2,
          11979.5,
          12041.1,
          12069.4,
          12139.7,
          12169.9,
          12228.9,
          12292.5,
          12367,
          12502.9,
          12566.9,
          12652.6,
          12727.1,
          12767.8,
          12854.8,
          12913.4,
          12997.6,
          13052,
          13134.3,
          13195.8,
          13209.3,
          13295.1,
          13381.3,
          13437.6,
          13498.3,
          13559.7,
          13587.5,
          13647.5,
          13709.1,
          13734.2,
          13786.8,
          13823.5,
          13839,
          13876.2,
          13920.9,
          13976.8,
          13995.8,
          14075.2,
          14124.5,
          14152.1,
          14219.6,
          14227.1,
          14239.1,
          14248.5,
          14405.1,
          14461.8,
          14462.1,
          14510.2,
          14577.1,
          14685.7,
          14786.9,
          14891.5,
          14928.3
         ],
         "y": [
          0.023924738270593778,
          0.024233529217844482,
          0.02448066388684876,
          0.02484601555216024,
          0.025108436901721487,
          0.02540092205637809,
          0.025730604800389988,
          0.025776974398079446,
          0.026018503950879505,
          0.02641290030924922,
          0.026428696545824748,
          0.026931628336148913,
          0.02725825374404941,
          0.027863606294105246,
          0.027886536314940695,
          0.028056728025141586,
          0.02833341694322266,
          0.028647303450659023,
          0.028791507803913062,
          0.029149725684964628,
          0.02930361160257141,
          0.029604249653525067,
          0.029928327281332733,
          0.030307946515164046,
          0.03100043314439458,
          0.03132654899627652,
          0.03176323850418717,
          0.032142857738018484,
          0.03235024703757464,
          0.032793560773726645,
          0.03309216060060604,
          0.033521206768238214,
          0.033798405242337855,
          0.03421776984561727,
          0.03453114679703507,
          0.034599936859541415,
          0.03503713592347064,
          0.035476373211474115,
          0.0357632532499265,
          0.03607255375319577,
          0.036385421148595005,
          0.03652707772175622,
          0.03683281133289553,
          0.03714669784033189,
          0.03727459640099184,
          0.037542622866757296,
          0.03772962992557085,
          0.0378086111084485,
          0.03799816594735488,
          0.03822593748765366,
          0.038510779302031777,
          0.03860759494555923,
          0.03901218242430026,
          0.039263393541453064,
          0.039404031002577146,
          0.039747981315108864,
          0.03978619801650129,
          0.03984734473872915,
          0.0398952430044743,
          0.04069320772954791,
          0.04098212599207455,
          0.04098365466013026,
          0.04122875110506027,
          0.041569644081480596,
          0.04212302191764276,
          0.042638692608431054,
          0.043171688203850596,
          0.043359204818682696
         ]
        },
        {
         "marker": {
          "color": "red"
         },
         "mode": "markers",
         "name": "Prediction",
         "type": "scatter",
         "x": [
          0.1
         ],
         "y": [
          -0.032708336744815214
         ]
        }
       ],
       "layout": {
        "template": {
         "data": {
          "candlestick": [
           {
            "decreasing": {
             "line": {
              "color": "#000033"
             }
            },
            "increasing": {
             "line": {
              "color": "#000032"
             }
            },
            "type": "candlestick"
           }
          ],
          "contour": [
           {
            "colorscale": [
             [
              0,
              "#000011"
             ],
             [
              0.1111111111111111,
              "#000012"
             ],
             [
              0.2222222222222222,
              "#000013"
             ],
             [
              0.3333333333333333,
              "#000014"
             ],
             [
              0.4444444444444444,
              "#000015"
             ],
             [
              0.5555555555555556,
              "#000016"
             ],
             [
              0.6666666666666666,
              "#000017"
             ],
             [
              0.7777777777777778,
              "#000018"
             ],
             [
              0.8888888888888888,
              "#000019"
             ],
             [
              1,
              "#000020"
             ]
            ],
            "type": "contour"
           }
          ],
          "contourcarpet": [
           {
            "colorscale": [
             [
              0,
              "#000011"
             ],
             [
              0.1111111111111111,
              "#000012"
             ],
             [
              0.2222222222222222,
              "#000013"
             ],
             [
              0.3333333333333333,
              "#000014"
             ],
             [
              0.4444444444444444,
              "#000015"
             ],
             [
              0.5555555555555556,
              "#000016"
             ],
             [
              0.6666666666666666,
              "#000017"
             ],
             [
              0.7777777777777778,
              "#000018"
             ],
             [
              0.8888888888888888,
              "#000019"
             ],
             [
              1,
              "#000020"
             ]
            ],
            "type": "contourcarpet"
           }
          ],
          "heatmap": [
           {
            "colorscale": [
             [
              0,
              "#000011"
             ],
             [
              0.1111111111111111,
              "#000012"
             ],
             [
              0.2222222222222222,
              "#000013"
             ],
             [
              0.3333333333333333,
              "#000014"
             ],
             [
              0.4444444444444444,
              "#000015"
             ],
             [
              0.5555555555555556,
              "#000016"
             ],
             [
              0.6666666666666666,
              "#000017"
             ],
             [
              0.7777777777777778,
              "#000018"
             ],
             [
              0.8888888888888888,
              "#000019"
             ],
             [
              1,
              "#000020"
             ]
            ],
            "type": "heatmap"
           }
          ],
          "histogram2d": [
           {
            "colorscale": [
             [
              0,
              "#000011"
             ],
             [
              0.1111111111111111,
              "#000012"
             ],
             [
              0.2222222222222222,
              "#000013"
             ],
             [
              0.3333333333333333,
              "#000014"
             ],
             [
              0.4444444444444444,
              "#000015"
             ],
             [
              0.5555555555555556,
              "#000016"
             ],
             [
              0.6666666666666666,
              "#000017"
             ],
             [
              0.7777777777777778,
              "#000018"
             ],
             [
              0.8888888888888888,
              "#000019"
             ],
             [
              1,
              "#000020"
             ]
            ],
            "type": "histogram2d"
           }
          ],
          "icicle": [
           {
            "textfont": {
             "color": "white"
            },
            "type": "icicle"
           }
          ],
          "sankey": [
           {
            "textfont": {
             "color": "#000036"
            },
            "type": "sankey"
           }
          ],
          "scatter": [
           {
            "marker": {
             "line": {
              "width": 0
             }
            },
            "type": "scatter"
           }
          ],
          "table": [
           {
            "cells": {
             "fill": {
              "color": "#000038"
             },
             "font": {
              "color": "#000037"
             },
             "line": {
              "color": "#000039"
             }
            },
            "header": {
             "fill": {
              "color": "#000040"
             },
             "font": {
              "color": "#000036"
             },
             "line": {
              "color": "#000039"
             }
            },
            "type": "table"
           }
          ],
          "waterfall": [
           {
            "connector": {
             "line": {
              "color": "#000036",
              "width": 2
             }
            },
            "decreasing": {
             "marker": {
              "color": "#000033"
             }
            },
            "increasing": {
             "marker": {
              "color": "#000032"
             }
            },
            "totals": {
             "marker": {
              "color": "#000034"
             }
            },
            "type": "waterfall"
           }
          ]
         },
         "layout": {
          "coloraxis": {
           "colorscale": [
            [
             0,
             "#000011"
            ],
            [
             0.1111111111111111,
             "#000012"
            ],
            [
             0.2222222222222222,
             "#000013"
            ],
            [
             0.3333333333333333,
             "#000014"
            ],
            [
             0.4444444444444444,
             "#000015"
            ],
            [
             0.5555555555555556,
             "#000016"
            ],
            [
             0.6666666666666666,
             "#000017"
            ],
            [
             0.7777777777777778,
             "#000018"
            ],
            [
             0.8888888888888888,
             "#000019"
            ],
            [
             1,
             "#000020"
            ]
           ]
          },
          "colorscale": {
           "diverging": [
            [
             0,
             "#000021"
            ],
            [
             0.1,
             "#000022"
            ],
            [
             0.2,
             "#000023"
            ],
            [
             0.3,
             "#000024"
            ],
            [
             0.4,
             "#000025"
            ],
            [
             0.5,
             "#000026"
            ],
            [
             0.6,
             "#000027"
            ],
            [
             0.7,
             "#000028"
            ],
            [
             0.8,
             "#000029"
            ],
            [
             0.9,
             "#000030"
            ],
            [
             1,
             "#000031"
            ]
           ],
           "sequential": [
            [
             0,
             "#000011"
            ],
            [
             0.1111111111111111,
             "#000012"
            ],
            [
             0.2222222222222222,
             "#000013"
            ],
            [
             0.3333333333333333,
             "#000014"
            ],
            [
             0.4444444444444444,
             "#000015"
            ],
            [
             0.5555555555555556,
             "#000016"
            ],
            [
             0.6666666666666666,
             "#000017"
            ],
            [
             0.7777777777777778,
             "#000018"
            ],
            [
             0.8888888888888888,
             "#000019"
            ],
            [
             1,
             "#000020"
            ]
           ],
           "sequentialminus": [
            [
             0,
             "#000011"
            ],
            [
             0.1111111111111111,
             "#000012"
            ],
            [
             0.2222222222222222,
             "#000013"
            ],
            [
             0.3333333333333333,
             "#000014"
            ],
            [
             0.4444444444444444,
             "#000015"
            ],
            [
             0.5555555555555556,
             "#000016"
            ],
            [
             0.6666666666666666,
             "#000017"
            ],
            [
             0.7777777777777778,
             "#000018"
            ],
            [
             0.8888888888888888,
             "#000019"
            ],
            [
             1,
             "#000020"
            ]
           ]
          },
          "colorway": [
           "#000001",
           "#000002",
           "#000003",
           "#000004",
           "#000005",
           "#000006",
           "#000007",
           "#000008",
           "#000009",
           "#000010"
          ]
         }
        },
        "title": {
         "text": "Portfolio Returns vs US M2 Money Supply"
        },
        "xaxis": {
         "title": {
          "text": "US M2 Money Supply"
         }
        },
        "yaxis": {
         "title": {
          "text": "Portfolio Returns"
         }
        }
       }
      },
      "text/html": [
       "<div>                            <div id=\"4b823ecb-c83f-4643-8761-182fe93f768e\" class=\"plotly-graph-div\" style=\"height:525px; width:100%;\"></div>            <script type=\"text/javascript\">                require([\"plotly\"], function(Plotly) {                    window.PLOTLYENV=window.PLOTLYENV || {};                                    if (document.getElementById(\"4b823ecb-c83f-4643-8761-182fe93f768e\")) {                    Plotly.newPlot(                        \"4b823ecb-c83f-4643-8761-182fe93f768e\",                        [{\"mode\":\"markers\",\"name\":\"Data\",\"x\":[11114.3,11174.9,11223.4,11295.1,11346.6,11404.0,11468.7,11477.8,11525.2,11602.6,11605.7,11704.4,11768.5,11887.3,11891.8,11925.2,11979.5,12041.1,12069.4,12139.7,12169.9,12228.9,12292.5,12367.0,12502.9,12566.9,12652.6,12727.1,12767.8,12854.8,12913.4,12997.6,13052.0,13134.3,13195.8,13209.3,13295.1,13381.3,13437.6,13498.3,13559.7,13587.5,13647.5,13709.1,13734.2,13786.8,13823.5,13839.0,13876.2,13920.9,13976.8,13995.8,14075.2,14124.5,14152.1,14219.6,14227.1,14239.1,14248.5,14405.1,14461.8,14462.1,14510.2,14577.1,14685.7,14786.9,14891.5,14928.3],\"y\":[-0.022767789393831284,0.08456361411625557,0.006972160934285432,0.0238037700888325,0.029015320604546257,0.005313067748732969,-0.01668649174974357,0.06911081439840405,-0.0448092788571246,0.02527740795476241,0.07475266708656281,-0.04662816275823467,-0.08023685185296192,0.11993894956089579,-0.03593923064358806,0.03816585783639881,0.011121753621671893,-0.029380841496837617,0.020328166535782843,-0.017444784581634787,0.029076147512591355,0.1517269691576313,0.0789678634563773,0.02571068400140497,-0.07636176492052071,0.06806102633417566,0.08191537966579343,-0.004261542015104203,0.16751536930471533,0.046005284986976314,0.07219273607403709,0.028033515818111754,0.05691119903809505,0.02535154135272699,0.14427822654087152,0.10035523226758425,0.028372659180651683,0.045061734748758964,0.02647241209072182,0.027182888755201695,0.25469188826146794,0.011177006562607783,0.08631762482631022,0.11650412270871735,0.027752058853328876,0.137265688388849,0.08250986324254805,0.04322965315468652,0.06322756663304063,0.01159526622882745,-0.07752028831699842,0.036248469874994305,0.02889777919203862,-0.03760534958906392,0.062226232651354074,0.07019799702941576,-0.012312236438861257,-0.10040487114078223,-0.14093683940566726,-0.12078950196837968,0.06085758369202132,0.07354085447092662,0.08715554843473639,0.06695237801500209,-0.03973928720594766,0.15610996066152416,0.014666560489148939,-0.002263375493744668],\"type\":\"scatter\"},{\"mode\":\"lines\",\"name\":\"Fitted line\",\"x\":[11114.3,11174.9,11223.4,11295.1,11346.6,11404.0,11468.7,11477.8,11525.2,11602.6,11605.7,11704.4,11768.5,11887.3,11891.8,11925.2,11979.5,12041.1,12069.4,12139.7,12169.9,12228.9,12292.5,12367.0,12502.9,12566.9,12652.6,12727.1,12767.8,12854.8,12913.4,12997.6,13052.0,13134.3,13195.8,13209.3,13295.1,13381.3,13437.6,13498.3,13559.7,13587.5,13647.5,13709.1,13734.2,13786.8,13823.5,13839.0,13876.2,13920.9,13976.8,13995.8,14075.2,14124.5,14152.1,14219.6,14227.1,14239.1,14248.5,14405.1,14461.8,14462.1,14510.2,14577.1,14685.7,14786.9,14891.5,14928.3],\"y\":[0.023924738270593778,0.024233529217844482,0.02448066388684876,0.02484601555216024,0.025108436901721487,0.02540092205637809,0.025730604800389988,0.025776974398079446,0.026018503950879505,0.02641290030924922,0.026428696545824748,0.026931628336148913,0.02725825374404941,0.027863606294105246,0.027886536314940695,0.028056728025141586,0.02833341694322266,0.028647303450659023,0.028791507803913062,0.029149725684964628,0.02930361160257141,0.029604249653525067,0.029928327281332733,0.030307946515164046,0.03100043314439458,0.03132654899627652,0.03176323850418717,0.032142857738018484,0.03235024703757464,0.032793560773726645,0.03309216060060604,0.033521206768238214,0.033798405242337855,0.03421776984561727,0.03453114679703507,0.034599936859541415,0.03503713592347064,0.035476373211474115,0.0357632532499265,0.03607255375319577,0.036385421148595005,0.03652707772175622,0.03683281133289553,0.03714669784033189,0.03727459640099184,0.037542622866757296,0.03772962992557085,0.0378086111084485,0.03799816594735488,0.03822593748765366,0.038510779302031777,0.03860759494555923,0.03901218242430026,0.039263393541453064,0.039404031002577146,0.039747981315108864,0.03978619801650129,0.03984734473872915,0.0398952430044743,0.04069320772954791,0.04098212599207455,0.04098365466013026,0.04122875110506027,0.041569644081480596,0.04212302191764276,0.042638692608431054,0.043171688203850596,0.043359204818682696],\"type\":\"scatter\"},{\"marker\":{\"color\":\"red\"},\"mode\":\"markers\",\"name\":\"Prediction\",\"x\":[0.1],\"y\":[-0.032708336744815214],\"type\":\"scatter\"}],                        {\"title\":{\"text\":\"Portfolio Returns vs US M2 Money Supply\"},\"xaxis\":{\"title\":{\"text\":\"US M2 Money Supply\"}},\"yaxis\":{\"title\":{\"text\":\"Portfolio Returns\"}},\"template\":{\"data\":{\"candlestick\":[{\"decreasing\":{\"line\":{\"color\":\"#000033\"}},\"increasing\":{\"line\":{\"color\":\"#000032\"}},\"type\":\"candlestick\"}],\"contourcarpet\":[{\"colorscale\":[[0.0,\"#000011\"],[0.1111111111111111,\"#000012\"],[0.2222222222222222,\"#000013\"],[0.3333333333333333,\"#000014\"],[0.4444444444444444,\"#000015\"],[0.5555555555555556,\"#000016\"],[0.6666666666666666,\"#000017\"],[0.7777777777777778,\"#000018\"],[0.8888888888888888,\"#000019\"],[1.0,\"#000020\"]],\"type\":\"contourcarpet\"}],\"contour\":[{\"colorscale\":[[0.0,\"#000011\"],[0.1111111111111111,\"#000012\"],[0.2222222222222222,\"#000013\"],[0.3333333333333333,\"#000014\"],[0.4444444444444444,\"#000015\"],[0.5555555555555556,\"#000016\"],[0.6666666666666666,\"#000017\"],[0.7777777777777778,\"#000018\"],[0.8888888888888888,\"#000019\"],[1.0,\"#000020\"]],\"type\":\"contour\"}],\"heatmap\":[{\"colorscale\":[[0.0,\"#000011\"],[0.1111111111111111,\"#000012\"],[0.2222222222222222,\"#000013\"],[0.3333333333333333,\"#000014\"],[0.4444444444444444,\"#000015\"],[0.5555555555555556,\"#000016\"],[0.6666666666666666,\"#000017\"],[0.7777777777777778,\"#000018\"],[0.8888888888888888,\"#000019\"],[1.0,\"#000020\"]],\"type\":\"heatmap\"}],\"histogram2d\":[{\"colorscale\":[[0.0,\"#000011\"],[0.1111111111111111,\"#000012\"],[0.2222222222222222,\"#000013\"],[0.3333333333333333,\"#000014\"],[0.4444444444444444,\"#000015\"],[0.5555555555555556,\"#000016\"],[0.6666666666666666,\"#000017\"],[0.7777777777777778,\"#000018\"],[0.8888888888888888,\"#000019\"],[1.0,\"#000020\"]],\"type\":\"histogram2d\"}],\"icicle\":[{\"textfont\":{\"color\":\"white\"},\"type\":\"icicle\"}],\"sankey\":[{\"textfont\":{\"color\":\"#000036\"},\"type\":\"sankey\"}],\"scatter\":[{\"marker\":{\"line\":{\"width\":0}},\"type\":\"scatter\"}],\"table\":[{\"cells\":{\"fill\":{\"color\":\"#000038\"},\"font\":{\"color\":\"#000037\"},\"line\":{\"color\":\"#000039\"}},\"header\":{\"fill\":{\"color\":\"#000040\"},\"font\":{\"color\":\"#000036\"},\"line\":{\"color\":\"#000039\"}},\"type\":\"table\"}],\"waterfall\":[{\"connector\":{\"line\":{\"color\":\"#000036\",\"width\":2}},\"decreasing\":{\"marker\":{\"color\":\"#000033\"}},\"increasing\":{\"marker\":{\"color\":\"#000032\"}},\"totals\":{\"marker\":{\"color\":\"#000034\"}},\"type\":\"waterfall\"}]},\"layout\":{\"coloraxis\":{\"colorscale\":[[0.0,\"#000011\"],[0.1111111111111111,\"#000012\"],[0.2222222222222222,\"#000013\"],[0.3333333333333333,\"#000014\"],[0.4444444444444444,\"#000015\"],[0.5555555555555556,\"#000016\"],[0.6666666666666666,\"#000017\"],[0.7777777777777778,\"#000018\"],[0.8888888888888888,\"#000019\"],[1.0,\"#000020\"]]},\"colorscale\":{\"diverging\":[[0.0,\"#000021\"],[0.1,\"#000022\"],[0.2,\"#000023\"],[0.3,\"#000024\"],[0.4,\"#000025\"],[0.5,\"#000026\"],[0.6,\"#000027\"],[0.7,\"#000028\"],[0.8,\"#000029\"],[0.9,\"#000030\"],[1.0,\"#000031\"]],\"sequential\":[[0.0,\"#000011\"],[0.1111111111111111,\"#000012\"],[0.2222222222222222,\"#000013\"],[0.3333333333333333,\"#000014\"],[0.4444444444444444,\"#000015\"],[0.5555555555555556,\"#000016\"],[0.6666666666666666,\"#000017\"],[0.7777777777777778,\"#000018\"],[0.8888888888888888,\"#000019\"],[1.0,\"#000020\"]],\"sequentialminus\":[[0.0,\"#000011\"],[0.1111111111111111,\"#000012\"],[0.2222222222222222,\"#000013\"],[0.3333333333333333,\"#000014\"],[0.4444444444444444,\"#000015\"],[0.5555555555555556,\"#000016\"],[0.6666666666666666,\"#000017\"],[0.7777777777777778,\"#000018\"],[0.8888888888888888,\"#000019\"],[1.0,\"#000020\"]]},\"colorway\":[\"#000001\",\"#000002\",\"#000003\",\"#000004\",\"#000005\",\"#000006\",\"#000007\",\"#000008\",\"#000009\",\"#000010\"]}}},                        {\"responsive\": true}                    ).then(function(){\n",
       "                            \n",
       "var gd = document.getElementById('4b823ecb-c83f-4643-8761-182fe93f768e');\n",
       "var x = new MutationObserver(function (mutations, observer) {{\n",
       "        var display = window.getComputedStyle(gd).display;\n",
       "        if (!display || display === 'none') {{\n",
       "            console.log([gd, 'removed!']);\n",
       "            Plotly.purge(gd);\n",
       "            observer.disconnect();\n",
       "        }}\n",
       "}});\n",
       "\n",
       "// Listen for the removal of the full notebook cells\n",
       "var notebookContainer = gd.closest('#notebook-container');\n",
       "if (notebookContainer) {{\n",
       "    x.observe(notebookContainer, {childList: true});\n",
       "}}\n",
       "\n",
       "// Listen for the clearing of the current output cell\n",
       "var outputEl = gd.closest('.output');\n",
       "if (outputEl) {{\n",
       "    x.observe(outputEl, {childList: true});\n",
       "}}\n",
       "\n",
       "                        })                };                });            </script>        </div>"
      ]
     },
     "metadata": {},
     "output_type": "display_data"
    },
    {
     "name": "stdout",
     "output_type": "stream",
     "text": [
      "Monthly Returns = 0.0208 + (0.0000 * China M2 Money Supply)\n",
      "None\n"
     ]
    },
    {
     "data": {
      "application/vnd.plotly.v1+json": {
       "config": {
        "plotlyServerURL": "https://plot.ly"
       },
       "data": [
        {
         "mode": "markers",
         "name": "Data",
         "type": "scatter",
         "x": [
          112352120956304,
          113176083333495,
          116068738304199,
          116881267341323,
          118229395815816,
          120958719736328,
          119424923991663,
          119749908384625,
          120205141184955,
          119923631381594,
          120860594890828,
          122837480654446,
          124270956100000,
          125738447800000,
          127533277661997,
          128077914306519,
          130735763080841,
          133337536453853,
          135321092482599,
          135690797692855,
          135982405527006,
          136102070462698,
          137395601474437,
          139227810919881,
          141631955112113,
          142461867792204,
          144619802900000,
          144520958800000,
          146169510000000,
          149049182794442,
          149155871700000,
          151098290500000,
          151636050000000,
          151948540477789,
          153043206189849,
          155006666781086,
          157594558824035,
          158291307400000,
          159960957300000,
          159633186800000,
          160136041500000,
          163128253000000,
          162899663081962,
          164515660058768,
          165566206768995,
          165343415785166,
          167001339753416,
          169023533554568,
          172081445272825,
          172907011807809,
          173985947770954,
          173768372950626,
          174306379232330,
          177017837280000,
          177619610516409,
          178867042970175,
          180166558147986,
          179556159556340,
          181317506539151,
          182674421936410,
          186593532659733,
          186742744803641,
          188941213660000,
          188467032670746,
          189115369625331,
          192136019033428,
          191941081632526,
          193549242773720
         ],
         "y": [
          -0.022767789393831284,
          0.08456361411625557,
          0.006972160934285432,
          0.0238037700888325,
          0.029015320604546257,
          0.005313067748732969,
          -0.01668649174974357,
          0.06911081439840405,
          -0.0448092788571246,
          0.02527740795476241,
          0.07475266708656281,
          -0.04662816275823467,
          -0.08023685185296192,
          0.11993894956089579,
          -0.03593923064358806,
          0.03816585783639881,
          0.011121753621671893,
          -0.029380841496837617,
          0.020328166535782843,
          -0.017444784581634787,
          0.029076147512591355,
          0.1517269691576313,
          0.0789678634563773,
          0.02571068400140497,
          -0.07636176492052071,
          0.06806102633417566,
          0.08191537966579343,
          -0.004261542015104203,
          0.16751536930471533,
          0.046005284986976314,
          0.07219273607403709,
          0.028033515818111754,
          0.05691119903809505,
          0.02535154135272699,
          0.14427822654087152,
          0.10035523226758425,
          0.028372659180651683,
          0.045061734748758964,
          0.02647241209072182,
          0.027182888755201695,
          0.25469188826146794,
          0.011177006562607783,
          0.08631762482631022,
          0.11650412270871735,
          0.027752058853328876,
          0.137265688388849,
          0.08250986324254805,
          0.04322965315468652,
          0.06322756663304063,
          0.01159526622882745,
          -0.07752028831699842,
          0.036248469874994305,
          0.02889777919203862,
          -0.03760534958906392,
          0.062226232651354074,
          0.07019799702941576,
          -0.012312236438861257,
          -0.10040487114078223,
          -0.14093683940566726,
          -0.12078950196837968,
          0.06085758369202132,
          0.07354085447092662,
          0.08715554843473639,
          0.06695237801500209,
          -0.03973928720594766,
          0.15610996066152416,
          0.014666560489148939,
          -0.002263375493744668
         ]
        },
        {
         "mode": "lines",
         "name": "Fitted line",
         "type": "scatter",
         "x": [
          112352120956304,
          113176083333495,
          116068738304199,
          116881267341323,
          118229395815816,
          120958719736328,
          119424923991663,
          119749908384625,
          120205141184955,
          119923631381594,
          120860594890828,
          122837480654446,
          124270956100000,
          125738447800000,
          127533277661997,
          128077914306519,
          130735763080841,
          133337536453853,
          135321092482599,
          135690797692855,
          135982405527006,
          136102070462698,
          137395601474437,
          139227810919881,
          141631955112113,
          142461867792204,
          144619802900000,
          144520958800000,
          146169510000000,
          149049182794442,
          149155871700000,
          151098290500000,
          151636050000000,
          151948540477789,
          153043206189849,
          155006666781086,
          157594558824035,
          158291307400000,
          159960957300000,
          159633186800000,
          160136041500000,
          163128253000000,
          162899663081962,
          164515660058768,
          165566206768995,
          165343415785166,
          167001339753416,
          169023533554568,
          172081445272825,
          172907011807809,
          173985947770954,
          173768372950626,
          174306379232330,
          177017837280000,
          177619610516409,
          178867042970175,
          180166558147986,
          179556159556340,
          181317506539151,
          182674421936410,
          186593532659733,
          186742744803641,
          188941213660000,
          188467032670746,
          189115369625331,
          192136019033428,
          191941081632526,
          193549242773720
         ],
         "y": [
          0.030342749013232403,
          0.03041276487274554,
          0.030658567023007843,
          0.03072761133921505,
          0.030842167994335094,
          0.031074091156695835,
          0.03094375750269282,
          0.030971372916007156,
          0.031010056133440378,
          0.030986134955253958,
          0.031065753038855188,
          0.03123373808250593,
          0.031355547060912925,
          0.031480246556360975,
          0.03163276147566588,
          0.031679041747489166,
          0.03190489133909855,
          0.03212597594685802,
          0.03229452779350735,
          0.03232594333962828,
          0.032350722593771475,
          0.032360891071796676,
          0.032470808330279474,
          0.032626499564105196,
          0.032830790714614394,
          0.03290131219863593,
          0.03308468183483339,
          0.03307628259864144,
          0.033216367549622955,
          0.03346106654486933,
          0.033470132390143265,
          0.033635188617928954,
          0.033680884507263385,
          0.03370743825534428,
          0.03380045701788867,
          0.03396730126311294,
          0.03418720631063707,
          0.03424641223042318,
          0.03438829003464169,
          0.034360437873043256,
          0.0344031677415486,
          0.03465742966638528,
          0.03463800533339324,
          0.03477532400282986,
          0.034864593771585566,
          0.034845662200610514,
          0.034986543598666806,
          0.03515837867391924,
          0.03541822344741358,
          0.03548837561956644,
          0.03558005775325411,
          0.03556156942359807,
          0.035607286283104916,
          0.035837691300368735,
          0.035888826730268844,
          0.03599482678300518,
          0.0361052525435053,
          0.03605338417763962,
          0.03620305390324384,
          0.03631835722346288,
          0.03665138202340105,
          0.036664061263126935,
          0.036850875237711064,
          0.03681058190582303,
          0.03686567406826393,
          0.03712235249248612,
          0.037105787768108855,
          0.037242440590680895
         ]
        },
        {
         "marker": {
          "color": "red"
         },
         "mode": "markers",
         "name": "Prediction",
         "type": "scatter",
         "x": [
          0.15
         ],
         "y": [
          0.020795674371672734
         ]
        }
       ],
       "layout": {
        "template": {
         "data": {
          "candlestick": [
           {
            "decreasing": {
             "line": {
              "color": "#000033"
             }
            },
            "increasing": {
             "line": {
              "color": "#000032"
             }
            },
            "type": "candlestick"
           }
          ],
          "contour": [
           {
            "colorscale": [
             [
              0,
              "#000011"
             ],
             [
              0.1111111111111111,
              "#000012"
             ],
             [
              0.2222222222222222,
              "#000013"
             ],
             [
              0.3333333333333333,
              "#000014"
             ],
             [
              0.4444444444444444,
              "#000015"
             ],
             [
              0.5555555555555556,
              "#000016"
             ],
             [
              0.6666666666666666,
              "#000017"
             ],
             [
              0.7777777777777778,
              "#000018"
             ],
             [
              0.8888888888888888,
              "#000019"
             ],
             [
              1,
              "#000020"
             ]
            ],
            "type": "contour"
           }
          ],
          "contourcarpet": [
           {
            "colorscale": [
             [
              0,
              "#000011"
             ],
             [
              0.1111111111111111,
              "#000012"
             ],
             [
              0.2222222222222222,
              "#000013"
             ],
             [
              0.3333333333333333,
              "#000014"
             ],
             [
              0.4444444444444444,
              "#000015"
             ],
             [
              0.5555555555555556,
              "#000016"
             ],
             [
              0.6666666666666666,
              "#000017"
             ],
             [
              0.7777777777777778,
              "#000018"
             ],
             [
              0.8888888888888888,
              "#000019"
             ],
             [
              1,
              "#000020"
             ]
            ],
            "type": "contourcarpet"
           }
          ],
          "heatmap": [
           {
            "colorscale": [
             [
              0,
              "#000011"
             ],
             [
              0.1111111111111111,
              "#000012"
             ],
             [
              0.2222222222222222,
              "#000013"
             ],
             [
              0.3333333333333333,
              "#000014"
             ],
             [
              0.4444444444444444,
              "#000015"
             ],
             [
              0.5555555555555556,
              "#000016"
             ],
             [
              0.6666666666666666,
              "#000017"
             ],
             [
              0.7777777777777778,
              "#000018"
             ],
             [
              0.8888888888888888,
              "#000019"
             ],
             [
              1,
              "#000020"
             ]
            ],
            "type": "heatmap"
           }
          ],
          "histogram2d": [
           {
            "colorscale": [
             [
              0,
              "#000011"
             ],
             [
              0.1111111111111111,
              "#000012"
             ],
             [
              0.2222222222222222,
              "#000013"
             ],
             [
              0.3333333333333333,
              "#000014"
             ],
             [
              0.4444444444444444,
              "#000015"
             ],
             [
              0.5555555555555556,
              "#000016"
             ],
             [
              0.6666666666666666,
              "#000017"
             ],
             [
              0.7777777777777778,
              "#000018"
             ],
             [
              0.8888888888888888,
              "#000019"
             ],
             [
              1,
              "#000020"
             ]
            ],
            "type": "histogram2d"
           }
          ],
          "icicle": [
           {
            "textfont": {
             "color": "white"
            },
            "type": "icicle"
           }
          ],
          "sankey": [
           {
            "textfont": {
             "color": "#000036"
            },
            "type": "sankey"
           }
          ],
          "scatter": [
           {
            "marker": {
             "line": {
              "width": 0
             }
            },
            "type": "scatter"
           }
          ],
          "table": [
           {
            "cells": {
             "fill": {
              "color": "#000038"
             },
             "font": {
              "color": "#000037"
             },
             "line": {
              "color": "#000039"
             }
            },
            "header": {
             "fill": {
              "color": "#000040"
             },
             "font": {
              "color": "#000036"
             },
             "line": {
              "color": "#000039"
             }
            },
            "type": "table"
           }
          ],
          "waterfall": [
           {
            "connector": {
             "line": {
              "color": "#000036",
              "width": 2
             }
            },
            "decreasing": {
             "marker": {
              "color": "#000033"
             }
            },
            "increasing": {
             "marker": {
              "color": "#000032"
             }
            },
            "totals": {
             "marker": {
              "color": "#000034"
             }
            },
            "type": "waterfall"
           }
          ]
         },
         "layout": {
          "coloraxis": {
           "colorscale": [
            [
             0,
             "#000011"
            ],
            [
             0.1111111111111111,
             "#000012"
            ],
            [
             0.2222222222222222,
             "#000013"
            ],
            [
             0.3333333333333333,
             "#000014"
            ],
            [
             0.4444444444444444,
             "#000015"
            ],
            [
             0.5555555555555556,
             "#000016"
            ],
            [
             0.6666666666666666,
             "#000017"
            ],
            [
             0.7777777777777778,
             "#000018"
            ],
            [
             0.8888888888888888,
             "#000019"
            ],
            [
             1,
             "#000020"
            ]
           ]
          },
          "colorscale": {
           "diverging": [
            [
             0,
             "#000021"
            ],
            [
             0.1,
             "#000022"
            ],
            [
             0.2,
             "#000023"
            ],
            [
             0.3,
             "#000024"
            ],
            [
             0.4,
             "#000025"
            ],
            [
             0.5,
             "#000026"
            ],
            [
             0.6,
             "#000027"
            ],
            [
             0.7,
             "#000028"
            ],
            [
             0.8,
             "#000029"
            ],
            [
             0.9,
             "#000030"
            ],
            [
             1,
             "#000031"
            ]
           ],
           "sequential": [
            [
             0,
             "#000011"
            ],
            [
             0.1111111111111111,
             "#000012"
            ],
            [
             0.2222222222222222,
             "#000013"
            ],
            [
             0.3333333333333333,
             "#000014"
            ],
            [
             0.4444444444444444,
             "#000015"
            ],
            [
             0.5555555555555556,
             "#000016"
            ],
            [
             0.6666666666666666,
             "#000017"
            ],
            [
             0.7777777777777778,
             "#000018"
            ],
            [
             0.8888888888888888,
             "#000019"
            ],
            [
             1,
             "#000020"
            ]
           ],
           "sequentialminus": [
            [
             0,
             "#000011"
            ],
            [
             0.1111111111111111,
             "#000012"
            ],
            [
             0.2222222222222222,
             "#000013"
            ],
            [
             0.3333333333333333,
             "#000014"
            ],
            [
             0.4444444444444444,
             "#000015"
            ],
            [
             0.5555555555555556,
             "#000016"
            ],
            [
             0.6666666666666666,
             "#000017"
            ],
            [
             0.7777777777777778,
             "#000018"
            ],
            [
             0.8888888888888888,
             "#000019"
            ],
            [
             1,
             "#000020"
            ]
           ]
          },
          "colorway": [
           "#000001",
           "#000002",
           "#000003",
           "#000004",
           "#000005",
           "#000006",
           "#000007",
           "#000008",
           "#000009",
           "#000010"
          ]
         }
        },
        "title": {
         "text": "Portfolio Returns vs China M2 Money Supply"
        },
        "xaxis": {
         "title": {
          "text": "China M2 Money Supply"
         }
        },
        "yaxis": {
         "title": {
          "text": "Portfolio Returns"
         }
        }
       }
      },
      "text/html": [
       "<div>                            <div id=\"7facb720-a867-43a5-8342-56e80a83cf69\" class=\"plotly-graph-div\" style=\"height:525px; width:100%;\"></div>            <script type=\"text/javascript\">                require([\"plotly\"], function(Plotly) {                    window.PLOTLYENV=window.PLOTLYENV || {};                                    if (document.getElementById(\"7facb720-a867-43a5-8342-56e80a83cf69\")) {                    Plotly.newPlot(                        \"7facb720-a867-43a5-8342-56e80a83cf69\",                        [{\"mode\":\"markers\",\"name\":\"Data\",\"x\":[112352120956304.0,113176083333495.0,116068738304199.0,116881267341323.0,118229395815816.0,120958719736328.0,119424923991663.0,119749908384625.0,120205141184955.0,119923631381594.0,120860594890828.0,122837480654446.0,124270956100000.0,125738447800000.0,127533277661997.0,128077914306519.0,130735763080841.0,133337536453853.0,135321092482599.0,135690797692855.0,135982405527006.0,136102070462698.0,137395601474437.0,139227810919881.0,141631955112113.0,142461867792204.0,144619802900000.0,144520958800000.0,146169510000000.0,149049182794442.0,149155871700000.0,151098290500000.0,151636050000000.0,151948540477789.0,153043206189849.0,155006666781086.0,157594558824035.0,158291307400000.0,159960957300000.0,159633186800000.0,160136041500000.0,163128253000000.0,162899663081962.0,164515660058768.0,165566206768995.0,165343415785166.0,167001339753416.0,169023533554568.0,172081445272825.0,172907011807809.0,173985947770954.0,173768372950626.0,174306379232330.0,177017837280000.0,177619610516409.0,178867042970175.0,180166558147986.0,179556159556340.0,181317506539151.0,182674421936410.0,186593532659733.0,186742744803641.0,188941213660000.0,188467032670746.0,189115369625331.0,192136019033428.0,191941081632526.0,193549242773720.0],\"y\":[-0.022767789393831284,0.08456361411625557,0.006972160934285432,0.0238037700888325,0.029015320604546257,0.005313067748732969,-0.01668649174974357,0.06911081439840405,-0.0448092788571246,0.02527740795476241,0.07475266708656281,-0.04662816275823467,-0.08023685185296192,0.11993894956089579,-0.03593923064358806,0.03816585783639881,0.011121753621671893,-0.029380841496837617,0.020328166535782843,-0.017444784581634787,0.029076147512591355,0.1517269691576313,0.0789678634563773,0.02571068400140497,-0.07636176492052071,0.06806102633417566,0.08191537966579343,-0.004261542015104203,0.16751536930471533,0.046005284986976314,0.07219273607403709,0.028033515818111754,0.05691119903809505,0.02535154135272699,0.14427822654087152,0.10035523226758425,0.028372659180651683,0.045061734748758964,0.02647241209072182,0.027182888755201695,0.25469188826146794,0.011177006562607783,0.08631762482631022,0.11650412270871735,0.027752058853328876,0.137265688388849,0.08250986324254805,0.04322965315468652,0.06322756663304063,0.01159526622882745,-0.07752028831699842,0.036248469874994305,0.02889777919203862,-0.03760534958906392,0.062226232651354074,0.07019799702941576,-0.012312236438861257,-0.10040487114078223,-0.14093683940566726,-0.12078950196837968,0.06085758369202132,0.07354085447092662,0.08715554843473639,0.06695237801500209,-0.03973928720594766,0.15610996066152416,0.014666560489148939,-0.002263375493744668],\"type\":\"scatter\"},{\"mode\":\"lines\",\"name\":\"Fitted line\",\"x\":[112352120956304.0,113176083333495.0,116068738304199.0,116881267341323.0,118229395815816.0,120958719736328.0,119424923991663.0,119749908384625.0,120205141184955.0,119923631381594.0,120860594890828.0,122837480654446.0,124270956100000.0,125738447800000.0,127533277661997.0,128077914306519.0,130735763080841.0,133337536453853.0,135321092482599.0,135690797692855.0,135982405527006.0,136102070462698.0,137395601474437.0,139227810919881.0,141631955112113.0,142461867792204.0,144619802900000.0,144520958800000.0,146169510000000.0,149049182794442.0,149155871700000.0,151098290500000.0,151636050000000.0,151948540477789.0,153043206189849.0,155006666781086.0,157594558824035.0,158291307400000.0,159960957300000.0,159633186800000.0,160136041500000.0,163128253000000.0,162899663081962.0,164515660058768.0,165566206768995.0,165343415785166.0,167001339753416.0,169023533554568.0,172081445272825.0,172907011807809.0,173985947770954.0,173768372950626.0,174306379232330.0,177017837280000.0,177619610516409.0,178867042970175.0,180166558147986.0,179556159556340.0,181317506539151.0,182674421936410.0,186593532659733.0,186742744803641.0,188941213660000.0,188467032670746.0,189115369625331.0,192136019033428.0,191941081632526.0,193549242773720.0],\"y\":[0.030342749013232403,0.03041276487274554,0.030658567023007843,0.03072761133921505,0.030842167994335094,0.031074091156695835,0.03094375750269282,0.030971372916007156,0.031010056133440378,0.030986134955253958,0.031065753038855188,0.03123373808250593,0.031355547060912925,0.031480246556360975,0.03163276147566588,0.031679041747489166,0.03190489133909855,0.03212597594685802,0.03229452779350735,0.03232594333962828,0.032350722593771475,0.032360891071796676,0.032470808330279474,0.032626499564105196,0.032830790714614394,0.03290131219863593,0.03308468183483339,0.03307628259864144,0.033216367549622955,0.03346106654486933,0.033470132390143265,0.033635188617928954,0.033680884507263385,0.03370743825534428,0.03380045701788867,0.03396730126311294,0.03418720631063707,0.03424641223042318,0.03438829003464169,0.034360437873043256,0.0344031677415486,0.03465742966638528,0.03463800533339324,0.03477532400282986,0.034864593771585566,0.034845662200610514,0.034986543598666806,0.03515837867391924,0.03541822344741358,0.03548837561956644,0.03558005775325411,0.03556156942359807,0.035607286283104916,0.035837691300368735,0.035888826730268844,0.03599482678300518,0.0361052525435053,0.03605338417763962,0.03620305390324384,0.03631835722346288,0.03665138202340105,0.036664061263126935,0.036850875237711064,0.03681058190582303,0.03686567406826393,0.03712235249248612,0.037105787768108855,0.037242440590680895],\"type\":\"scatter\"},{\"marker\":{\"color\":\"red\"},\"mode\":\"markers\",\"name\":\"Prediction\",\"x\":[0.15],\"y\":[0.020795674371672734],\"type\":\"scatter\"}],                        {\"title\":{\"text\":\"Portfolio Returns vs China M2 Money Supply\"},\"xaxis\":{\"title\":{\"text\":\"China M2 Money Supply\"}},\"yaxis\":{\"title\":{\"text\":\"Portfolio Returns\"}},\"template\":{\"data\":{\"candlestick\":[{\"decreasing\":{\"line\":{\"color\":\"#000033\"}},\"increasing\":{\"line\":{\"color\":\"#000032\"}},\"type\":\"candlestick\"}],\"contourcarpet\":[{\"colorscale\":[[0.0,\"#000011\"],[0.1111111111111111,\"#000012\"],[0.2222222222222222,\"#000013\"],[0.3333333333333333,\"#000014\"],[0.4444444444444444,\"#000015\"],[0.5555555555555556,\"#000016\"],[0.6666666666666666,\"#000017\"],[0.7777777777777778,\"#000018\"],[0.8888888888888888,\"#000019\"],[1.0,\"#000020\"]],\"type\":\"contourcarpet\"}],\"contour\":[{\"colorscale\":[[0.0,\"#000011\"],[0.1111111111111111,\"#000012\"],[0.2222222222222222,\"#000013\"],[0.3333333333333333,\"#000014\"],[0.4444444444444444,\"#000015\"],[0.5555555555555556,\"#000016\"],[0.6666666666666666,\"#000017\"],[0.7777777777777778,\"#000018\"],[0.8888888888888888,\"#000019\"],[1.0,\"#000020\"]],\"type\":\"contour\"}],\"heatmap\":[{\"colorscale\":[[0.0,\"#000011\"],[0.1111111111111111,\"#000012\"],[0.2222222222222222,\"#000013\"],[0.3333333333333333,\"#000014\"],[0.4444444444444444,\"#000015\"],[0.5555555555555556,\"#000016\"],[0.6666666666666666,\"#000017\"],[0.7777777777777778,\"#000018\"],[0.8888888888888888,\"#000019\"],[1.0,\"#000020\"]],\"type\":\"heatmap\"}],\"histogram2d\":[{\"colorscale\":[[0.0,\"#000011\"],[0.1111111111111111,\"#000012\"],[0.2222222222222222,\"#000013\"],[0.3333333333333333,\"#000014\"],[0.4444444444444444,\"#000015\"],[0.5555555555555556,\"#000016\"],[0.6666666666666666,\"#000017\"],[0.7777777777777778,\"#000018\"],[0.8888888888888888,\"#000019\"],[1.0,\"#000020\"]],\"type\":\"histogram2d\"}],\"icicle\":[{\"textfont\":{\"color\":\"white\"},\"type\":\"icicle\"}],\"sankey\":[{\"textfont\":{\"color\":\"#000036\"},\"type\":\"sankey\"}],\"scatter\":[{\"marker\":{\"line\":{\"width\":0}},\"type\":\"scatter\"}],\"table\":[{\"cells\":{\"fill\":{\"color\":\"#000038\"},\"font\":{\"color\":\"#000037\"},\"line\":{\"color\":\"#000039\"}},\"header\":{\"fill\":{\"color\":\"#000040\"},\"font\":{\"color\":\"#000036\"},\"line\":{\"color\":\"#000039\"}},\"type\":\"table\"}],\"waterfall\":[{\"connector\":{\"line\":{\"color\":\"#000036\",\"width\":2}},\"decreasing\":{\"marker\":{\"color\":\"#000033\"}},\"increasing\":{\"marker\":{\"color\":\"#000032\"}},\"totals\":{\"marker\":{\"color\":\"#000034\"}},\"type\":\"waterfall\"}]},\"layout\":{\"coloraxis\":{\"colorscale\":[[0.0,\"#000011\"],[0.1111111111111111,\"#000012\"],[0.2222222222222222,\"#000013\"],[0.3333333333333333,\"#000014\"],[0.4444444444444444,\"#000015\"],[0.5555555555555556,\"#000016\"],[0.6666666666666666,\"#000017\"],[0.7777777777777778,\"#000018\"],[0.8888888888888888,\"#000019\"],[1.0,\"#000020\"]]},\"colorscale\":{\"diverging\":[[0.0,\"#000021\"],[0.1,\"#000022\"],[0.2,\"#000023\"],[0.3,\"#000024\"],[0.4,\"#000025\"],[0.5,\"#000026\"],[0.6,\"#000027\"],[0.7,\"#000028\"],[0.8,\"#000029\"],[0.9,\"#000030\"],[1.0,\"#000031\"]],\"sequential\":[[0.0,\"#000011\"],[0.1111111111111111,\"#000012\"],[0.2222222222222222,\"#000013\"],[0.3333333333333333,\"#000014\"],[0.4444444444444444,\"#000015\"],[0.5555555555555556,\"#000016\"],[0.6666666666666666,\"#000017\"],[0.7777777777777778,\"#000018\"],[0.8888888888888888,\"#000019\"],[1.0,\"#000020\"]],\"sequentialminus\":[[0.0,\"#000011\"],[0.1111111111111111,\"#000012\"],[0.2222222222222222,\"#000013\"],[0.3333333333333333,\"#000014\"],[0.4444444444444444,\"#000015\"],[0.5555555555555556,\"#000016\"],[0.6666666666666666,\"#000017\"],[0.7777777777777778,\"#000018\"],[0.8888888888888888,\"#000019\"],[1.0,\"#000020\"]]},\"colorway\":[\"#000001\",\"#000002\",\"#000003\",\"#000004\",\"#000005\",\"#000006\",\"#000007\",\"#000008\",\"#000009\",\"#000010\"]}}},                        {\"responsive\": true}                    ).then(function(){\n",
       "                            \n",
       "var gd = document.getElementById('7facb720-a867-43a5-8342-56e80a83cf69');\n",
       "var x = new MutationObserver(function (mutations, observer) {{\n",
       "        var display = window.getComputedStyle(gd).display;\n",
       "        if (!display || display === 'none') {{\n",
       "            console.log([gd, 'removed!']);\n",
       "            Plotly.purge(gd);\n",
       "            observer.disconnect();\n",
       "        }}\n",
       "}});\n",
       "\n",
       "// Listen for the removal of the full notebook cells\n",
       "var notebookContainer = gd.closest('#notebook-container');\n",
       "if (notebookContainer) {{\n",
       "    x.observe(notebookContainer, {childList: true});\n",
       "}}\n",
       "\n",
       "// Listen for the clearing of the current output cell\n",
       "var outputEl = gd.closest('.output');\n",
       "if (outputEl) {{\n",
       "    x.observe(outputEl, {childList: true});\n",
       "}}\n",
       "\n",
       "                        })                };                });            </script>        </div>"
      ]
     },
     "metadata": {},
     "output_type": "display_data"
    },
    {
     "name": "stdout",
     "output_type": "stream",
     "text": [
      "Monthly Returns = -0.8529 + (-0.0857 * all_factors)\n",
      "None\n"
     ]
    },
    {
     "data": {
      "application/vnd.plotly.v1+json": {
       "config": {
        "plotlyServerURL": "https://plot.ly"
       },
       "data": [
        {
         "mode": "markers",
         "name": "Data",
         "type": "scatter",
         "x": [
          [
           2.86,
           2.14,
           11114.3,
           112352120956304
          ],
          [
           2.71,
           2.17,
           11174.9,
           113176083333495
          ],
          [
           2.72,
           2.13,
           11223.4,
           116068738304199
          ],
          [
           2.71,
           2.18,
           11295.1,
           116881267341323
          ],
          [
           2.56,
           2.22,
           11346.6,
           118229395815816
          ],
          [
           2.6,
           2.26,
           11404,
           120958719736328
          ],
          [
           2.54,
           2.29,
           11468.7,
           119424923991663
          ],
          [
           2.42,
           2.12,
           11477.8,
           119749908384625
          ],
          [
           2.53,
           1.97,
           11525.2,
           120205141184955
          ],
          [
           2.3,
           1.92,
           11602.6,
           119923631381594
          ],
          [
           2.33,
           1.79,
           11605.7,
           120860594890828
          ],
          [
           2.21,
           1.68,
           11704.4,
           122837480654446
          ],
          [
           1.88,
           1.65,
           11768.5,
           124270956100000
          ],
          [
           1.98,
           1.83,
           11887.3,
           125738447800000
          ],
          [
           2.04,
           1.76,
           11891.8,
           127533277661997
          ],
          [
           1.94,
           1.94,
           11925.2,
           128077914306519
          ],
          [
           2.2,
           1.8,
           11979.5,
           130735763080841
          ],
          [
           2.36,
           1.87,
           12041.1,
           133337536453853
          ],
          [
           2.32,
           1.74,
           12069.4,
           135321092482599
          ],
          [
           2.17,
           1.63,
           12139.7,
           135690797692855
          ],
          [
           2.17,
           1.41,
           12169.9,
           135982405527006
          ],
          [
           2.07,
           1.53,
           12228.9,
           136102070462698
          ],
          [
           2.26,
           1.59,
           12292.5,
           137395601474437
          ],
          [
           2.24,
           1.54,
           12367,
           139227810919881
          ],
          [
           2.09,
           1.41,
           12502.9,
           141631955112113
          ],
          [
           1.78,
           1.42,
           12566.9,
           142461867792204
          ],
          [
           1.89,
           1.62,
           12652.6,
           144619802900000
          ],
          [
           1.81,
           1.71,
           12727.1,
           144520958800000
          ],
          [
           1.81,
           1.54,
           12767.8,
           146169510000000
          ],
          [
           1.64,
           1.4,
           12854.8,
           149049182794442
          ],
          [
           1.5,
           1.49,
           12913.4,
           149155871700000
          ],
          [
           1.56,
           1.47,
           12997.6,
           151098290500000
          ],
          [
           1.63,
           1.6,
           13052,
           151636050000000
          ],
          [
           1.76,
           1.73,
           13134.3,
           151948540477789
          ],
          [
           2.14,
           1.94,
           13195.8,
           153043206189849
          ],
          [
           2.49,
           1.95,
           13209.3,
           155006666781086
          ],
          [
           2.43,
           2.05,
           13295.1,
           157594558824035
          ],
          [
           2.42,
           2.02,
           13381.3,
           158291307400000
          ],
          [
           2.48,
           1.97,
           13437.6,
           159960957300000
          ],
          [
           2.3,
           1.92,
           13498.3,
           159633186800000
          ],
          [
           2.3,
           1.81,
           13559.7,
           160136041500000
          ],
          [
           2.19,
           1.73,
           13587.5,
           163128253000000
          ],
          [
           2.32,
           1.82,
           13647.5,
           162899663081962
          ],
          [
           2.21,
           1.76,
           13709.1,
           164515660058768
          ],
          [
           2.2,
           1.84,
           13734.2,
           165566206768995
          ],
          [
           2.36,
           1.88,
           13786.8,
           165343415785166
          ],
          [
           2.35,
           1.86,
           13823.5,
           167001339753416
          ],
          [
           2.4,
           1.96,
           13839,
           169023533554568
          ],
          [
           2.58,
           2.11,
           13876.2,
           172081445272825
          ],
          [
           2.86,
           2.12,
           13920.9,
           172907011807809
          ],
          [
           2.84,
           2.05,
           13976.8,
           173985947770954
          ],
          [
           2.87,
           2.17,
           13995.8,
           173768372950626
          ],
          [
           2.98,
           2.07,
           14075.2,
           174306379232330
          ],
          [
           2.91,
           2.11,
           14124.5,
           177017837280000
          ],
          [
           2.89,
           2.12,
           14152.1,
           177619610516409
          ],
          [
           2.89,
           2.08,
           14219.6,
           178867042970175
          ],
          [
           3,
           2.14,
           14227.1,
           180166558147986
          ],
          [
           3.15,
           2.05,
           14239.1,
           179556159556340
          ],
          [
           3.12,
           1.97,
           14248.5,
           181317506539151
          ],
          [
           2.83,
           1.71,
           14405.1,
           182674421936410
          ],
          [
           2.71,
           1.85,
           14461.8,
           186593532659733
          ],
          [
           2.68,
           1.95,
           14462.1,
           186742744803641
          ],
          [
           2.57,
           1.88,
           14510.2,
           188941213660000
          ],
          [
           2.53,
           1.95,
           14577.1,
           188467032670746
          ],
          [
           2.4,
           1.74,
           14685.7,
           189115369625331
          ],
          [
           2.07,
           1.69,
           14786.9,
           192136019033428
          ],
          [
           2.06,
           1.76,
           14891.5,
           191941081632526
          ],
          [
           1.63,
           1.55,
           14928.3,
           193549242773720
          ]
         ],
         "y": [
          -0.022767789393831284,
          0.08456361411625557,
          0.006972160934285432,
          0.0238037700888325,
          0.029015320604546257,
          0.005313067748732969,
          -0.01668649174974357,
          0.06911081439840405,
          -0.0448092788571246,
          0.02527740795476241,
          0.07475266708656281,
          -0.04662816275823467,
          -0.08023685185296192,
          0.11993894956089579,
          -0.03593923064358806,
          0.03816585783639881,
          0.011121753621671893,
          -0.029380841496837617,
          0.020328166535782843,
          -0.017444784581634787,
          0.029076147512591355,
          0.1517269691576313,
          0.0789678634563773,
          0.02571068400140497,
          -0.07636176492052071,
          0.06806102633417566,
          0.08191537966579343,
          -0.004261542015104203,
          0.16751536930471533,
          0.046005284986976314,
          0.07219273607403709,
          0.028033515818111754,
          0.05691119903809505,
          0.02535154135272699,
          0.14427822654087152,
          0.10035523226758425,
          0.028372659180651683,
          0.045061734748758964,
          0.02647241209072182,
          0.027182888755201695,
          0.25469188826146794,
          0.011177006562607783,
          0.08631762482631022,
          0.11650412270871735,
          0.027752058853328876,
          0.137265688388849,
          0.08250986324254805,
          0.04322965315468652,
          0.06322756663304063,
          0.01159526622882745,
          -0.07752028831699842,
          0.036248469874994305,
          0.02889777919203862,
          -0.03760534958906392,
          0.062226232651354074,
          0.07019799702941576,
          -0.012312236438861257,
          -0.10040487114078223,
          -0.14093683940566726,
          -0.12078950196837968,
          0.06085758369202132,
          0.07354085447092662,
          0.08715554843473639,
          0.06695237801500209,
          -0.03973928720594766,
          0.15610996066152416,
          0.014666560489148939,
          -0.002263375493744668
         ]
        },
        {
         "mode": "lines",
         "name": "Fitted line",
         "type": "scatter",
         "x": [
          [
           2.86,
           2.14,
           11114.3,
           112352120956304
          ],
          [
           2.71,
           2.17,
           11174.9,
           113176083333495
          ],
          [
           2.72,
           2.13,
           11223.4,
           116068738304199
          ],
          [
           2.71,
           2.18,
           11295.1,
           116881267341323
          ],
          [
           2.56,
           2.22,
           11346.6,
           118229395815816
          ],
          [
           2.6,
           2.26,
           11404,
           120958719736328
          ],
          [
           2.54,
           2.29,
           11468.7,
           119424923991663
          ],
          [
           2.42,
           2.12,
           11477.8,
           119749908384625
          ],
          [
           2.53,
           1.97,
           11525.2,
           120205141184955
          ],
          [
           2.3,
           1.92,
           11602.6,
           119923631381594
          ],
          [
           2.33,
           1.79,
           11605.7,
           120860594890828
          ],
          [
           2.21,
           1.68,
           11704.4,
           122837480654446
          ],
          [
           1.88,
           1.65,
           11768.5,
           124270956100000
          ],
          [
           1.98,
           1.83,
           11887.3,
           125738447800000
          ],
          [
           2.04,
           1.76,
           11891.8,
           127533277661997
          ],
          [
           1.94,
           1.94,
           11925.2,
           128077914306519
          ],
          [
           2.2,
           1.8,
           11979.5,
           130735763080841
          ],
          [
           2.36,
           1.87,
           12041.1,
           133337536453853
          ],
          [
           2.32,
           1.74,
           12069.4,
           135321092482599
          ],
          [
           2.17,
           1.63,
           12139.7,
           135690797692855
          ],
          [
           2.17,
           1.41,
           12169.9,
           135982405527006
          ],
          [
           2.07,
           1.53,
           12228.9,
           136102070462698
          ],
          [
           2.26,
           1.59,
           12292.5,
           137395601474437
          ],
          [
           2.24,
           1.54,
           12367,
           139227810919881
          ],
          [
           2.09,
           1.41,
           12502.9,
           141631955112113
          ],
          [
           1.78,
           1.42,
           12566.9,
           142461867792204
          ],
          [
           1.89,
           1.62,
           12652.6,
           144619802900000
          ],
          [
           1.81,
           1.71,
           12727.1,
           144520958800000
          ],
          [
           1.81,
           1.54,
           12767.8,
           146169510000000
          ],
          [
           1.64,
           1.4,
           12854.8,
           149049182794442
          ],
          [
           1.5,
           1.49,
           12913.4,
           149155871700000
          ],
          [
           1.56,
           1.47,
           12997.6,
           151098290500000
          ],
          [
           1.63,
           1.6,
           13052,
           151636050000000
          ],
          [
           1.76,
           1.73,
           13134.3,
           151948540477789
          ],
          [
           2.14,
           1.94,
           13195.8,
           153043206189849
          ],
          [
           2.49,
           1.95,
           13209.3,
           155006666781086
          ],
          [
           2.43,
           2.05,
           13295.1,
           157594558824035
          ],
          [
           2.42,
           2.02,
           13381.3,
           158291307400000
          ],
          [
           2.48,
           1.97,
           13437.6,
           159960957300000
          ],
          [
           2.3,
           1.92,
           13498.3,
           159633186800000
          ],
          [
           2.3,
           1.81,
           13559.7,
           160136041500000
          ],
          [
           2.19,
           1.73,
           13587.5,
           163128253000000
          ],
          [
           2.32,
           1.82,
           13647.5,
           162899663081962
          ],
          [
           2.21,
           1.76,
           13709.1,
           164515660058768
          ],
          [
           2.2,
           1.84,
           13734.2,
           165566206768995
          ],
          [
           2.36,
           1.88,
           13786.8,
           165343415785166
          ],
          [
           2.35,
           1.86,
           13823.5,
           167001339753416
          ],
          [
           2.4,
           1.96,
           13839,
           169023533554568
          ],
          [
           2.58,
           2.11,
           13876.2,
           172081445272825
          ],
          [
           2.86,
           2.12,
           13920.9,
           172907011807809
          ],
          [
           2.84,
           2.05,
           13976.8,
           173985947770954
          ],
          [
           2.87,
           2.17,
           13995.8,
           173768372950626
          ],
          [
           2.98,
           2.07,
           14075.2,
           174306379232330
          ],
          [
           2.91,
           2.11,
           14124.5,
           177017837280000
          ],
          [
           2.89,
           2.12,
           14152.1,
           177619610516409
          ],
          [
           2.89,
           2.08,
           14219.6,
           178867042970175
          ],
          [
           3,
           2.14,
           14227.1,
           180166558147986
          ],
          [
           3.15,
           2.05,
           14239.1,
           179556159556340
          ],
          [
           3.12,
           1.97,
           14248.5,
           181317506539151
          ],
          [
           2.83,
           1.71,
           14405.1,
           182674421936410
          ],
          [
           2.71,
           1.85,
           14461.8,
           186593532659733
          ],
          [
           2.68,
           1.95,
           14462.1,
           186742744803641
          ],
          [
           2.57,
           1.88,
           14510.2,
           188941213660000
          ],
          [
           2.53,
           1.95,
           14577.1,
           188467032670746
          ],
          [
           2.4,
           1.74,
           14685.7,
           189115369625331
          ],
          [
           2.07,
           1.69,
           14786.9,
           192136019033428
          ],
          [
           2.06,
           1.76,
           14891.5,
           191941081632526
          ],
          [
           1.63,
           1.55,
           14928.3,
           193549242773720
          ]
         ],
         "y": [
          [
           -1.0980709110004796,
           -1.0363505766409942,
           -953.6005598212234,
           -9631125654751.451
          ],
          [
           -1.08521250800892,
           -1.0389222572393062,
           -958.7953546298135,
           -9701757923390.152
          ],
          [
           -1.0860697348750241,
           -1.0354933497748902,
           -962.9529049304177,
           -9949724078915.818
          ],
          [
           -1.08521250800892,
           -1.03977948410541,
           -969.0992215603832,
           -10019376250927.045
          ],
          [
           -1.0723541050173606,
           -1.043208391569826,
           -973.5139399208186,
           -10134941445656.56
          ],
          [
           -1.0757830124817767,
           -1.0466372990342419,
           -978.4344221322553,
           -10368906424752.87
          ],
          [
           -1.0706396512851528,
           -1.0492089796325537,
           -983.9806799559481,
           -10237425332808.592
          ],
          [
           -1.0603529288919051,
           -1.0346361229087864,
           -984.7607564041025,
           -10265283868079.744
          ],
          [
           -1.0697824244190488,
           -1.0217777199172269,
           -988.8240117494354,
           -10304307646757.205
          ],
          [
           -1.0500662064986577,
           -1.017491585586707,
           -995.4589476930801,
           -10280175870105.936
          ],
          [
           -1.0526378870969695,
           -1.0063476363273556,
           -995.7246880215723,
           -10360494899373.379
          ],
          [
           -1.042351164703722,
           -0.9969181408002119,
           -1004.1855171900183,
           -10529958858152.559
          ],
          [
           -1.0140626781222912,
           -0.9943464602019,
           -1009.6803414017448,
           -10652840224535.482
          ],
          [
           -1.022634946783331,
           -1.0097765437917714,
           -1019.8641965710599,
           -10778637555637.941
          ],
          [
           -1.0277783079799545,
           -1.0037759557290435,
           -1020.2499486608066,
           -10932495193416.89
          ],
          [
           -1.0192060393189148,
           -1.0192060393189148,
           -1023.113086393594,
           -10979182909811.79
          ],
          [
           -1.041493937837618,
           -1.0072048631934594,
           -1027.7678282765385,
           -11207020847350.818
          ],
          [
           -1.0552095676952815,
           -1.0132054512561872,
           -1033.048345771739,
           -11430051850836.8
          ],
          [
           -1.0517806602308655,
           -1.0020615019968357,
           -1035.474297802813,
           -11600087602663.156
          ],
          [
           -1.0389222572393062,
           -0.9926320064696921,
           -1041.5006026715241,
           -11631779726540.162
          ],
          [
           -1.0389222572393062,
           -0.9737730154154048,
           -1044.0894278071578,
           -11656777133520.225
          ],
          [
           -1.0303499885782665,
           -0.9840597378086524,
           -1049.1470663171713,
           -11667035133300.803
          ],
          [
           -1.0466372990342419,
           -0.9892030990052763,
           -1054.5990291855926,
           -11777920086840.936
          ],
          [
           -1.0449228453020338,
           -0.9849169646747564,
           -1060.9853693380671,
           -11934982002937.34
          ],
          [
           -1.0320644423104743,
           -0.9737730154154048,
           -1072.63508244842,
           -12141071702094.248
          ],
          [
           -1.0054904094612516,
           -0.9746302422815087,
           -1078.1213343914853,
           -12212214046683.682
          ],
          [
           -1.014919904988395,
           -0.9917747796035881,
           -1085.4677686339962,
           -12397198041654.852
          ],
          [
           -1.0080620900595634,
           -0.9994898213985237,
           -1091.8541087864708,
           -12388724859847.264
          ],
          [
           -1.0080620900595634,
           -0.9849169646747564,
           -1095.3430221315139,
           -12530043097726.057
          ],
          [
           -0.993489233335796,
           -0.9729157885493008,
           -1102.8008958666182,
           -12776896386224.494
          ],
          [
           -0.9814880572103405,
           -0.9806308303442366,
           -1107.8242453019877,
           -12786042045840.447
          ],
          [
           -0.9866314184069643,
           -0.9789163766120286,
           -1115.042095514583,
           -12952551403898.99
          ],
          [
           -0.9926320064696921,
           -0.9900603258713802,
           -1119.7054096661886,
           -12998649592989.254
          ],
          [
           -1.0037759557290435,
           -1.0012042751307317,
           -1126.7603867742241,
           -13025437116285.492
          ],
          [
           -1.0363505766409942,
           -1.0192060393189148,
           -1132.0323320007635,
           -13119274802063.559
          ],
          [
           -1.066353516954633,
           -1.0200632661850189,
           -1133.189588270004,
           -13287587918998.031
          ],
          [
           -1.0612101557580091,
           -1.0286355348460585,
           -1140.544594781176,
           -13509428977577.287
          ],
          [
           -1.0603529288919051,
           -1.0260638542477467,
           -1147.933890366992,
           -13569156137400.975
          ],
          [
           -1.065496290088529,
           -1.0217777199172269,
           -1152.7600776231575,
           -13712283012527.754
          ],
          [
           -1.0500662064986577,
           -1.017491585586707,
           -1157.9634447004084,
           -13684185644676.121
          ],
          [
           -1.0500662064986577,
           -1.0080620900595634,
           -1163.226817658287,
           -13727291700534.787
          ],
          [
           -1.040636710971514,
           -1.0012042751307317,
           -1165.6099083460558,
           -13983792109221.31
          ],
          [
           -1.0517806602308655,
           -1.0089193169256674,
           -1170.7532695426796,
           -13964196767315.043
          ],
          [
           -1.042351164703722,
           -1.0037759557290435,
           -1176.03378703788,
           -14102724369721.133
          ],
          [
           -1.041493937837618,
           -1.0106337706578752,
           -1178.185426471801,
           -14192780056131.504
          ],
          [
           -1.0552095676952815,
           -1.0140626781222912,
           -1182.694439787508,
           -14173681814445.11
          ],
          [
           -1.0543523408291775,
           -1.0123482243900832,
           -1185.8404623861095,
           -14315803511199.268
          ],
          [
           -1.0586384751596973,
           -1.0209204930511229,
           -1187.1691640285705,
           -14489151396680.908
          ],
          [
           -1.0740685587495686,
           -1.0337788960426824,
           -1190.3580479704774,
           -14751283804587.31
          ],
          [
           -1.0980709110004796,
           -1.0346361229087864,
           -1194.189852061962,
           -14822053585941.775
          ],
          [
           -1.0963564572682718,
           -1.0286355348460585,
           -1198.981750243483,
           -14914542875383.14
          ],
          [
           -1.0989281378665836,
           -1.0389222572393062,
           -1200.6104812890806,
           -14895891777245.85
          ],
          [
           -1.108357633393727,
           -1.0303499885782665,
           -1207.4168626059463,
           -14942011121126.787
          ],
          [
           -1.1023570453309994,
           -1.0337788960426824,
           -1211.6429910558388,
           -15174444589604.44
          ],
          [
           -1.1006425915987914,
           -1.0346361229087864,
           -1214.0089372062857,
           -15226030208159.652
          ],
          [
           -1.1006425915987914,
           -1.0312072154443706,
           -1219.7952185524875,
           -15332963469461.473
          ],
          [
           -1.110072087125935,
           -1.0363505766409942,
           -1220.4381387020655,
           -15444361401794.418
          ],
          [
           -1.1229304901174946,
           -1.0286355348460585,
           -1221.4668109413901,
           -15392036394615.32
          ],
          [
           -1.1203588095191828,
           -1.0217777199172269,
           -1222.272604195528,
           -15543023790034.996
          ],
          [
           -1.0954992304021678,
           -0.9994898213985237,
           -1235.696776918716,
           -15659342223391.05
          ],
          [
           -1.08521250800892,
           -1.0114909975239792,
           -1240.5572532495253,
           -15995298923717.912
          ],
          [
           -1.0826408274106083,
           -1.0200632661850189,
           -1240.5829700555087,
           -16008089789568.604
          ],
          [
           -1.0732113318834646,
           -1.0140626781222912,
           -1244.7062312814687,
           -16196548446364.982
          ],
          [
           -1.0697824244190488,
           -1.0200632661850189,
           -1250.4410790157042,
           -16155900378026.555
          ],
          [
           -1.0586384751596973,
           -1.0020615019968357,
           -1259.7505627815933,
           -16211477563602.383
          ],
          [
           -1.0303499885782665,
           -0.9977753676663158,
           -1268.4256986665653,
           -16470415746172.56
          ],
          [
           -1.0294927617121625,
           -1.0037759557290435,
           -1277.3922916860129,
           -16453705188446.395
          ],
          [
           -0.9926320064696921,
           -0.9857741915408603,
           -1280.5468865532753,
           -16591561081971.984
          ]
         ]
        }
       ],
       "layout": {
        "template": {
         "data": {
          "candlestick": [
           {
            "decreasing": {
             "line": {
              "color": "#000033"
             }
            },
            "increasing": {
             "line": {
              "color": "#000032"
             }
            },
            "type": "candlestick"
           }
          ],
          "contour": [
           {
            "colorscale": [
             [
              0,
              "#000011"
             ],
             [
              0.1111111111111111,
              "#000012"
             ],
             [
              0.2222222222222222,
              "#000013"
             ],
             [
              0.3333333333333333,
              "#000014"
             ],
             [
              0.4444444444444444,
              "#000015"
             ],
             [
              0.5555555555555556,
              "#000016"
             ],
             [
              0.6666666666666666,
              "#000017"
             ],
             [
              0.7777777777777778,
              "#000018"
             ],
             [
              0.8888888888888888,
              "#000019"
             ],
             [
              1,
              "#000020"
             ]
            ],
            "type": "contour"
           }
          ],
          "contourcarpet": [
           {
            "colorscale": [
             [
              0,
              "#000011"
             ],
             [
              0.1111111111111111,
              "#000012"
             ],
             [
              0.2222222222222222,
              "#000013"
             ],
             [
              0.3333333333333333,
              "#000014"
             ],
             [
              0.4444444444444444,
              "#000015"
             ],
             [
              0.5555555555555556,
              "#000016"
             ],
             [
              0.6666666666666666,
              "#000017"
             ],
             [
              0.7777777777777778,
              "#000018"
             ],
             [
              0.8888888888888888,
              "#000019"
             ],
             [
              1,
              "#000020"
             ]
            ],
            "type": "contourcarpet"
           }
          ],
          "heatmap": [
           {
            "colorscale": [
             [
              0,
              "#000011"
             ],
             [
              0.1111111111111111,
              "#000012"
             ],
             [
              0.2222222222222222,
              "#000013"
             ],
             [
              0.3333333333333333,
              "#000014"
             ],
             [
              0.4444444444444444,
              "#000015"
             ],
             [
              0.5555555555555556,
              "#000016"
             ],
             [
              0.6666666666666666,
              "#000017"
             ],
             [
              0.7777777777777778,
              "#000018"
             ],
             [
              0.8888888888888888,
              "#000019"
             ],
             [
              1,
              "#000020"
             ]
            ],
            "type": "heatmap"
           }
          ],
          "histogram2d": [
           {
            "colorscale": [
             [
              0,
              "#000011"
             ],
             [
              0.1111111111111111,
              "#000012"
             ],
             [
              0.2222222222222222,
              "#000013"
             ],
             [
              0.3333333333333333,
              "#000014"
             ],
             [
              0.4444444444444444,
              "#000015"
             ],
             [
              0.5555555555555556,
              "#000016"
             ],
             [
              0.6666666666666666,
              "#000017"
             ],
             [
              0.7777777777777778,
              "#000018"
             ],
             [
              0.8888888888888888,
              "#000019"
             ],
             [
              1,
              "#000020"
             ]
            ],
            "type": "histogram2d"
           }
          ],
          "icicle": [
           {
            "textfont": {
             "color": "white"
            },
            "type": "icicle"
           }
          ],
          "sankey": [
           {
            "textfont": {
             "color": "#000036"
            },
            "type": "sankey"
           }
          ],
          "scatter": [
           {
            "marker": {
             "line": {
              "width": 0
             }
            },
            "type": "scatter"
           }
          ],
          "table": [
           {
            "cells": {
             "fill": {
              "color": "#000038"
             },
             "font": {
              "color": "#000037"
             },
             "line": {
              "color": "#000039"
             }
            },
            "header": {
             "fill": {
              "color": "#000040"
             },
             "font": {
              "color": "#000036"
             },
             "line": {
              "color": "#000039"
             }
            },
            "type": "table"
           }
          ],
          "waterfall": [
           {
            "connector": {
             "line": {
              "color": "#000036",
              "width": 2
             }
            },
            "decreasing": {
             "marker": {
              "color": "#000033"
             }
            },
            "increasing": {
             "marker": {
              "color": "#000032"
             }
            },
            "totals": {
             "marker": {
              "color": "#000034"
             }
            },
            "type": "waterfall"
           }
          ]
         },
         "layout": {
          "coloraxis": {
           "colorscale": [
            [
             0,
             "#000011"
            ],
            [
             0.1111111111111111,
             "#000012"
            ],
            [
             0.2222222222222222,
             "#000013"
            ],
            [
             0.3333333333333333,
             "#000014"
            ],
            [
             0.4444444444444444,
             "#000015"
            ],
            [
             0.5555555555555556,
             "#000016"
            ],
            [
             0.6666666666666666,
             "#000017"
            ],
            [
             0.7777777777777778,
             "#000018"
            ],
            [
             0.8888888888888888,
             "#000019"
            ],
            [
             1,
             "#000020"
            ]
           ]
          },
          "colorscale": {
           "diverging": [
            [
             0,
             "#000021"
            ],
            [
             0.1,
             "#000022"
            ],
            [
             0.2,
             "#000023"
            ],
            [
             0.3,
             "#000024"
            ],
            [
             0.4,
             "#000025"
            ],
            [
             0.5,
             "#000026"
            ],
            [
             0.6,
             "#000027"
            ],
            [
             0.7,
             "#000028"
            ],
            [
             0.8,
             "#000029"
            ],
            [
             0.9,
             "#000030"
            ],
            [
             1,
             "#000031"
            ]
           ],
           "sequential": [
            [
             0,
             "#000011"
            ],
            [
             0.1111111111111111,
             "#000012"
            ],
            [
             0.2222222222222222,
             "#000013"
            ],
            [
             0.3333333333333333,
             "#000014"
            ],
            [
             0.4444444444444444,
             "#000015"
            ],
            [
             0.5555555555555556,
             "#000016"
            ],
            [
             0.6666666666666666,
             "#000017"
            ],
            [
             0.7777777777777778,
             "#000018"
            ],
            [
             0.8888888888888888,
             "#000019"
            ],
            [
             1,
             "#000020"
            ]
           ],
           "sequentialminus": [
            [
             0,
             "#000011"
            ],
            [
             0.1111111111111111,
             "#000012"
            ],
            [
             0.2222222222222222,
             "#000013"
            ],
            [
             0.3333333333333333,
             "#000014"
            ],
            [
             0.4444444444444444,
             "#000015"
            ],
            [
             0.5555555555555556,
             "#000016"
            ],
            [
             0.6666666666666666,
             "#000017"
            ],
            [
             0.7777777777777778,
             "#000018"
            ],
            [
             0.8888888888888888,
             "#000019"
            ],
            [
             1,
             "#000020"
            ]
           ]
          },
          "colorway": [
           "#000001",
           "#000002",
           "#000003",
           "#000004",
           "#000005",
           "#000006",
           "#000007",
           "#000008",
           "#000009",
           "#000010"
          ]
         }
        },
        "title": {
         "text": "Portfolio Returns vs all_factors"
        },
        "xaxis": {
         "title": {
          "text": "all_factors"
         }
        },
        "yaxis": {
         "title": {
          "text": "Portfolio Returns"
         }
        }
       }
      },
      "text/html": [
       "<div>                            <div id=\"115f72ad-2124-4492-a8dd-683d94132950\" class=\"plotly-graph-div\" style=\"height:525px; width:100%;\"></div>            <script type=\"text/javascript\">                require([\"plotly\"], function(Plotly) {                    window.PLOTLYENV=window.PLOTLYENV || {};                                    if (document.getElementById(\"115f72ad-2124-4492-a8dd-683d94132950\")) {                    Plotly.newPlot(                        \"115f72ad-2124-4492-a8dd-683d94132950\",                        [{\"mode\":\"markers\",\"name\":\"Data\",\"x\":[[2.86,2.14,11114.3,112352120956304.0],[2.71,2.17,11174.9,113176083333495.0],[2.72,2.13,11223.4,116068738304199.0],[2.71,2.18,11295.1,116881267341323.0],[2.56,2.22,11346.6,118229395815816.0],[2.6,2.26,11404.0,120958719736328.0],[2.54,2.29,11468.7,119424923991663.0],[2.42,2.12,11477.8,119749908384625.0],[2.53,1.97,11525.2,120205141184955.0],[2.3,1.92,11602.6,119923631381594.0],[2.33,1.79,11605.7,120860594890828.0],[2.21,1.68,11704.4,122837480654446.0],[1.88,1.65,11768.5,124270956100000.0],[1.98,1.83,11887.3,125738447800000.0],[2.04,1.76,11891.8,127533277661997.0],[1.94,1.94,11925.2,128077914306519.0],[2.2,1.8,11979.5,130735763080841.0],[2.36,1.87,12041.1,133337536453853.0],[2.32,1.74,12069.4,135321092482599.0],[2.17,1.63,12139.7,135690797692855.0],[2.17,1.41,12169.9,135982405527006.0],[2.07,1.53,12228.9,136102070462698.0],[2.26,1.59,12292.5,137395601474437.0],[2.24,1.54,12367.0,139227810919881.0],[2.09,1.41,12502.9,141631955112113.0],[1.78,1.42,12566.9,142461867792204.0],[1.89,1.62,12652.6,144619802900000.0],[1.81,1.71,12727.1,144520958800000.0],[1.81,1.54,12767.8,146169510000000.0],[1.64,1.4,12854.8,149049182794442.0],[1.5,1.49,12913.4,149155871700000.0],[1.56,1.47,12997.6,151098290500000.0],[1.63,1.6,13052.0,151636050000000.0],[1.76,1.73,13134.3,151948540477789.0],[2.14,1.94,13195.8,153043206189849.0],[2.49,1.95,13209.3,155006666781086.0],[2.43,2.05,13295.1,157594558824035.0],[2.42,2.02,13381.3,158291307400000.0],[2.48,1.97,13437.6,159960957300000.0],[2.3,1.92,13498.3,159633186800000.0],[2.3,1.81,13559.7,160136041500000.0],[2.19,1.73,13587.5,163128253000000.0],[2.32,1.82,13647.5,162899663081962.0],[2.21,1.76,13709.1,164515660058768.0],[2.2,1.84,13734.2,165566206768995.0],[2.36,1.88,13786.8,165343415785166.0],[2.35,1.86,13823.5,167001339753416.0],[2.4,1.96,13839.0,169023533554568.0],[2.58,2.11,13876.2,172081445272825.0],[2.86,2.12,13920.9,172907011807809.0],[2.84,2.05,13976.8,173985947770954.0],[2.87,2.17,13995.8,173768372950626.0],[2.98,2.07,14075.2,174306379232330.0],[2.91,2.11,14124.5,177017837280000.0],[2.89,2.12,14152.1,177619610516409.0],[2.89,2.08,14219.6,178867042970175.0],[3.0,2.14,14227.1,180166558147986.0],[3.15,2.05,14239.1,179556159556340.0],[3.12,1.97,14248.5,181317506539151.0],[2.83,1.71,14405.1,182674421936410.0],[2.71,1.85,14461.8,186593532659733.0],[2.68,1.95,14462.1,186742744803641.0],[2.57,1.88,14510.2,188941213660000.0],[2.53,1.95,14577.1,188467032670746.0],[2.4,1.74,14685.7,189115369625331.0],[2.07,1.69,14786.9,192136019033428.0],[2.06,1.76,14891.5,191941081632526.0],[1.63,1.55,14928.3,193549242773720.0]],\"y\":[-0.022767789393831284,0.08456361411625557,0.006972160934285432,0.0238037700888325,0.029015320604546257,0.005313067748732969,-0.01668649174974357,0.06911081439840405,-0.0448092788571246,0.02527740795476241,0.07475266708656281,-0.04662816275823467,-0.08023685185296192,0.11993894956089579,-0.03593923064358806,0.03816585783639881,0.011121753621671893,-0.029380841496837617,0.020328166535782843,-0.017444784581634787,0.029076147512591355,0.1517269691576313,0.0789678634563773,0.02571068400140497,-0.07636176492052071,0.06806102633417566,0.08191537966579343,-0.004261542015104203,0.16751536930471533,0.046005284986976314,0.07219273607403709,0.028033515818111754,0.05691119903809505,0.02535154135272699,0.14427822654087152,0.10035523226758425,0.028372659180651683,0.045061734748758964,0.02647241209072182,0.027182888755201695,0.25469188826146794,0.011177006562607783,0.08631762482631022,0.11650412270871735,0.027752058853328876,0.137265688388849,0.08250986324254805,0.04322965315468652,0.06322756663304063,0.01159526622882745,-0.07752028831699842,0.036248469874994305,0.02889777919203862,-0.03760534958906392,0.062226232651354074,0.07019799702941576,-0.012312236438861257,-0.10040487114078223,-0.14093683940566726,-0.12078950196837968,0.06085758369202132,0.07354085447092662,0.08715554843473639,0.06695237801500209,-0.03973928720594766,0.15610996066152416,0.014666560489148939,-0.002263375493744668],\"type\":\"scatter\"},{\"mode\":\"lines\",\"name\":\"Fitted line\",\"x\":[[2.86,2.14,11114.3,112352120956304.0],[2.71,2.17,11174.9,113176083333495.0],[2.72,2.13,11223.4,116068738304199.0],[2.71,2.18,11295.1,116881267341323.0],[2.56,2.22,11346.6,118229395815816.0],[2.6,2.26,11404.0,120958719736328.0],[2.54,2.29,11468.7,119424923991663.0],[2.42,2.12,11477.8,119749908384625.0],[2.53,1.97,11525.2,120205141184955.0],[2.3,1.92,11602.6,119923631381594.0],[2.33,1.79,11605.7,120860594890828.0],[2.21,1.68,11704.4,122837480654446.0],[1.88,1.65,11768.5,124270956100000.0],[1.98,1.83,11887.3,125738447800000.0],[2.04,1.76,11891.8,127533277661997.0],[1.94,1.94,11925.2,128077914306519.0],[2.2,1.8,11979.5,130735763080841.0],[2.36,1.87,12041.1,133337536453853.0],[2.32,1.74,12069.4,135321092482599.0],[2.17,1.63,12139.7,135690797692855.0],[2.17,1.41,12169.9,135982405527006.0],[2.07,1.53,12228.9,136102070462698.0],[2.26,1.59,12292.5,137395601474437.0],[2.24,1.54,12367.0,139227810919881.0],[2.09,1.41,12502.9,141631955112113.0],[1.78,1.42,12566.9,142461867792204.0],[1.89,1.62,12652.6,144619802900000.0],[1.81,1.71,12727.1,144520958800000.0],[1.81,1.54,12767.8,146169510000000.0],[1.64,1.4,12854.8,149049182794442.0],[1.5,1.49,12913.4,149155871700000.0],[1.56,1.47,12997.6,151098290500000.0],[1.63,1.6,13052.0,151636050000000.0],[1.76,1.73,13134.3,151948540477789.0],[2.14,1.94,13195.8,153043206189849.0],[2.49,1.95,13209.3,155006666781086.0],[2.43,2.05,13295.1,157594558824035.0],[2.42,2.02,13381.3,158291307400000.0],[2.48,1.97,13437.6,159960957300000.0],[2.3,1.92,13498.3,159633186800000.0],[2.3,1.81,13559.7,160136041500000.0],[2.19,1.73,13587.5,163128253000000.0],[2.32,1.82,13647.5,162899663081962.0],[2.21,1.76,13709.1,164515660058768.0],[2.2,1.84,13734.2,165566206768995.0],[2.36,1.88,13786.8,165343415785166.0],[2.35,1.86,13823.5,167001339753416.0],[2.4,1.96,13839.0,169023533554568.0],[2.58,2.11,13876.2,172081445272825.0],[2.86,2.12,13920.9,172907011807809.0],[2.84,2.05,13976.8,173985947770954.0],[2.87,2.17,13995.8,173768372950626.0],[2.98,2.07,14075.2,174306379232330.0],[2.91,2.11,14124.5,177017837280000.0],[2.89,2.12,14152.1,177619610516409.0],[2.89,2.08,14219.6,178867042970175.0],[3.0,2.14,14227.1,180166558147986.0],[3.15,2.05,14239.1,179556159556340.0],[3.12,1.97,14248.5,181317506539151.0],[2.83,1.71,14405.1,182674421936410.0],[2.71,1.85,14461.8,186593532659733.0],[2.68,1.95,14462.1,186742744803641.0],[2.57,1.88,14510.2,188941213660000.0],[2.53,1.95,14577.1,188467032670746.0],[2.4,1.74,14685.7,189115369625331.0],[2.07,1.69,14786.9,192136019033428.0],[2.06,1.76,14891.5,191941081632526.0],[1.63,1.55,14928.3,193549242773720.0]],\"y\":[[-1.0980709110004796,-1.0363505766409942,-953.6005598212234,-9631125654751.451],[-1.08521250800892,-1.0389222572393062,-958.7953546298135,-9701757923390.152],[-1.0860697348750241,-1.0354933497748902,-962.9529049304177,-9949724078915.818],[-1.08521250800892,-1.03977948410541,-969.0992215603832,-10019376250927.045],[-1.0723541050173606,-1.043208391569826,-973.5139399208186,-10134941445656.56],[-1.0757830124817767,-1.0466372990342419,-978.4344221322553,-10368906424752.87],[-1.0706396512851528,-1.0492089796325537,-983.9806799559481,-10237425332808.592],[-1.0603529288919051,-1.0346361229087864,-984.7607564041025,-10265283868079.744],[-1.0697824244190488,-1.0217777199172269,-988.8240117494354,-10304307646757.205],[-1.0500662064986577,-1.017491585586707,-995.4589476930801,-10280175870105.936],[-1.0526378870969695,-1.0063476363273556,-995.7246880215723,-10360494899373.379],[-1.042351164703722,-0.9969181408002119,-1004.1855171900183,-10529958858152.559],[-1.0140626781222912,-0.9943464602019,-1009.6803414017448,-10652840224535.482],[-1.022634946783331,-1.0097765437917714,-1019.8641965710599,-10778637555637.941],[-1.0277783079799545,-1.0037759557290435,-1020.2499486608066,-10932495193416.89],[-1.0192060393189148,-1.0192060393189148,-1023.113086393594,-10979182909811.79],[-1.041493937837618,-1.0072048631934594,-1027.7678282765385,-11207020847350.818],[-1.0552095676952815,-1.0132054512561872,-1033.048345771739,-11430051850836.8],[-1.0517806602308655,-1.0020615019968357,-1035.474297802813,-11600087602663.156],[-1.0389222572393062,-0.9926320064696921,-1041.5006026715241,-11631779726540.162],[-1.0389222572393062,-0.9737730154154048,-1044.0894278071578,-11656777133520.225],[-1.0303499885782665,-0.9840597378086524,-1049.1470663171713,-11667035133300.803],[-1.0466372990342419,-0.9892030990052763,-1054.5990291855926,-11777920086840.936],[-1.0449228453020338,-0.9849169646747564,-1060.9853693380671,-11934982002937.34],[-1.0320644423104743,-0.9737730154154048,-1072.63508244842,-12141071702094.248],[-1.0054904094612516,-0.9746302422815087,-1078.1213343914853,-12212214046683.682],[-1.014919904988395,-0.9917747796035881,-1085.4677686339962,-12397198041654.852],[-1.0080620900595634,-0.9994898213985237,-1091.8541087864708,-12388724859847.264],[-1.0080620900595634,-0.9849169646747564,-1095.3430221315139,-12530043097726.057],[-0.993489233335796,-0.9729157885493008,-1102.8008958666182,-12776896386224.494],[-0.9814880572103405,-0.9806308303442366,-1107.8242453019877,-12786042045840.447],[-0.9866314184069643,-0.9789163766120286,-1115.042095514583,-12952551403898.99],[-0.9926320064696921,-0.9900603258713802,-1119.7054096661886,-12998649592989.254],[-1.0037759557290435,-1.0012042751307317,-1126.7603867742241,-13025437116285.492],[-1.0363505766409942,-1.0192060393189148,-1132.0323320007635,-13119274802063.559],[-1.066353516954633,-1.0200632661850189,-1133.189588270004,-13287587918998.031],[-1.0612101557580091,-1.0286355348460585,-1140.544594781176,-13509428977577.287],[-1.0603529288919051,-1.0260638542477467,-1147.933890366992,-13569156137400.975],[-1.065496290088529,-1.0217777199172269,-1152.7600776231575,-13712283012527.754],[-1.0500662064986577,-1.017491585586707,-1157.9634447004084,-13684185644676.121],[-1.0500662064986577,-1.0080620900595634,-1163.226817658287,-13727291700534.787],[-1.040636710971514,-1.0012042751307317,-1165.6099083460558,-13983792109221.31],[-1.0517806602308655,-1.0089193169256674,-1170.7532695426796,-13964196767315.043],[-1.042351164703722,-1.0037759557290435,-1176.03378703788,-14102724369721.133],[-1.041493937837618,-1.0106337706578752,-1178.185426471801,-14192780056131.504],[-1.0552095676952815,-1.0140626781222912,-1182.694439787508,-14173681814445.11],[-1.0543523408291775,-1.0123482243900832,-1185.8404623861095,-14315803511199.268],[-1.0586384751596973,-1.0209204930511229,-1187.1691640285705,-14489151396680.908],[-1.0740685587495686,-1.0337788960426824,-1190.3580479704774,-14751283804587.31],[-1.0980709110004796,-1.0346361229087864,-1194.189852061962,-14822053585941.775],[-1.0963564572682718,-1.0286355348460585,-1198.981750243483,-14914542875383.14],[-1.0989281378665836,-1.0389222572393062,-1200.6104812890806,-14895891777245.85],[-1.108357633393727,-1.0303499885782665,-1207.4168626059463,-14942011121126.787],[-1.1023570453309994,-1.0337788960426824,-1211.6429910558388,-15174444589604.44],[-1.1006425915987914,-1.0346361229087864,-1214.0089372062857,-15226030208159.652],[-1.1006425915987914,-1.0312072154443706,-1219.7952185524875,-15332963469461.473],[-1.110072087125935,-1.0363505766409942,-1220.4381387020655,-15444361401794.418],[-1.1229304901174946,-1.0286355348460585,-1221.4668109413901,-15392036394615.32],[-1.1203588095191828,-1.0217777199172269,-1222.272604195528,-15543023790034.996],[-1.0954992304021678,-0.9994898213985237,-1235.696776918716,-15659342223391.05],[-1.08521250800892,-1.0114909975239792,-1240.5572532495253,-15995298923717.912],[-1.0826408274106083,-1.0200632661850189,-1240.5829700555087,-16008089789568.604],[-1.0732113318834646,-1.0140626781222912,-1244.7062312814687,-16196548446364.982],[-1.0697824244190488,-1.0200632661850189,-1250.4410790157042,-16155900378026.555],[-1.0586384751596973,-1.0020615019968357,-1259.7505627815933,-16211477563602.383],[-1.0303499885782665,-0.9977753676663158,-1268.4256986665653,-16470415746172.56],[-1.0294927617121625,-1.0037759557290435,-1277.3922916860129,-16453705188446.395],[-0.9926320064696921,-0.9857741915408603,-1280.5468865532753,-16591561081971.984]],\"type\":\"scatter\"}],                        {\"title\":{\"text\":\"Portfolio Returns vs all_factors\"},\"xaxis\":{\"title\":{\"text\":\"all_factors\"}},\"yaxis\":{\"title\":{\"text\":\"Portfolio Returns\"}},\"template\":{\"data\":{\"candlestick\":[{\"decreasing\":{\"line\":{\"color\":\"#000033\"}},\"increasing\":{\"line\":{\"color\":\"#000032\"}},\"type\":\"candlestick\"}],\"contourcarpet\":[{\"colorscale\":[[0.0,\"#000011\"],[0.1111111111111111,\"#000012\"],[0.2222222222222222,\"#000013\"],[0.3333333333333333,\"#000014\"],[0.4444444444444444,\"#000015\"],[0.5555555555555556,\"#000016\"],[0.6666666666666666,\"#000017\"],[0.7777777777777778,\"#000018\"],[0.8888888888888888,\"#000019\"],[1.0,\"#000020\"]],\"type\":\"contourcarpet\"}],\"contour\":[{\"colorscale\":[[0.0,\"#000011\"],[0.1111111111111111,\"#000012\"],[0.2222222222222222,\"#000013\"],[0.3333333333333333,\"#000014\"],[0.4444444444444444,\"#000015\"],[0.5555555555555556,\"#000016\"],[0.6666666666666666,\"#000017\"],[0.7777777777777778,\"#000018\"],[0.8888888888888888,\"#000019\"],[1.0,\"#000020\"]],\"type\":\"contour\"}],\"heatmap\":[{\"colorscale\":[[0.0,\"#000011\"],[0.1111111111111111,\"#000012\"],[0.2222222222222222,\"#000013\"],[0.3333333333333333,\"#000014\"],[0.4444444444444444,\"#000015\"],[0.5555555555555556,\"#000016\"],[0.6666666666666666,\"#000017\"],[0.7777777777777778,\"#000018\"],[0.8888888888888888,\"#000019\"],[1.0,\"#000020\"]],\"type\":\"heatmap\"}],\"histogram2d\":[{\"colorscale\":[[0.0,\"#000011\"],[0.1111111111111111,\"#000012\"],[0.2222222222222222,\"#000013\"],[0.3333333333333333,\"#000014\"],[0.4444444444444444,\"#000015\"],[0.5555555555555556,\"#000016\"],[0.6666666666666666,\"#000017\"],[0.7777777777777778,\"#000018\"],[0.8888888888888888,\"#000019\"],[1.0,\"#000020\"]],\"type\":\"histogram2d\"}],\"icicle\":[{\"textfont\":{\"color\":\"white\"},\"type\":\"icicle\"}],\"sankey\":[{\"textfont\":{\"color\":\"#000036\"},\"type\":\"sankey\"}],\"scatter\":[{\"marker\":{\"line\":{\"width\":0}},\"type\":\"scatter\"}],\"table\":[{\"cells\":{\"fill\":{\"color\":\"#000038\"},\"font\":{\"color\":\"#000037\"},\"line\":{\"color\":\"#000039\"}},\"header\":{\"fill\":{\"color\":\"#000040\"},\"font\":{\"color\":\"#000036\"},\"line\":{\"color\":\"#000039\"}},\"type\":\"table\"}],\"waterfall\":[{\"connector\":{\"line\":{\"color\":\"#000036\",\"width\":2}},\"decreasing\":{\"marker\":{\"color\":\"#000033\"}},\"increasing\":{\"marker\":{\"color\":\"#000032\"}},\"totals\":{\"marker\":{\"color\":\"#000034\"}},\"type\":\"waterfall\"}]},\"layout\":{\"coloraxis\":{\"colorscale\":[[0.0,\"#000011\"],[0.1111111111111111,\"#000012\"],[0.2222222222222222,\"#000013\"],[0.3333333333333333,\"#000014\"],[0.4444444444444444,\"#000015\"],[0.5555555555555556,\"#000016\"],[0.6666666666666666,\"#000017\"],[0.7777777777777778,\"#000018\"],[0.8888888888888888,\"#000019\"],[1.0,\"#000020\"]]},\"colorscale\":{\"diverging\":[[0.0,\"#000021\"],[0.1,\"#000022\"],[0.2,\"#000023\"],[0.3,\"#000024\"],[0.4,\"#000025\"],[0.5,\"#000026\"],[0.6,\"#000027\"],[0.7,\"#000028\"],[0.8,\"#000029\"],[0.9,\"#000030\"],[1.0,\"#000031\"]],\"sequential\":[[0.0,\"#000011\"],[0.1111111111111111,\"#000012\"],[0.2222222222222222,\"#000013\"],[0.3333333333333333,\"#000014\"],[0.4444444444444444,\"#000015\"],[0.5555555555555556,\"#000016\"],[0.6666666666666666,\"#000017\"],[0.7777777777777778,\"#000018\"],[0.8888888888888888,\"#000019\"],[1.0,\"#000020\"]],\"sequentialminus\":[[0.0,\"#000011\"],[0.1111111111111111,\"#000012\"],[0.2222222222222222,\"#000013\"],[0.3333333333333333,\"#000014\"],[0.4444444444444444,\"#000015\"],[0.5555555555555556,\"#000016\"],[0.6666666666666666,\"#000017\"],[0.7777777777777778,\"#000018\"],[0.8888888888888888,\"#000019\"],[1.0,\"#000020\"]]},\"colorway\":[\"#000001\",\"#000002\",\"#000003\",\"#000004\",\"#000005\",\"#000006\",\"#000007\",\"#000008\",\"#000009\",\"#000010\"]}}},                        {\"responsive\": true}                    ).then(function(){\n",
       "                            \n",
       "var gd = document.getElementById('115f72ad-2124-4492-a8dd-683d94132950');\n",
       "var x = new MutationObserver(function (mutations, observer) {{\n",
       "        var display = window.getComputedStyle(gd).display;\n",
       "        if (!display || display === 'none') {{\n",
       "            console.log([gd, 'removed!']);\n",
       "            Plotly.purge(gd);\n",
       "            observer.disconnect();\n",
       "        }}\n",
       "}});\n",
       "\n",
       "// Listen for the removal of the full notebook cells\n",
       "var notebookContainer = gd.closest('#notebook-container');\n",
       "if (notebookContainer) {{\n",
       "    x.observe(notebookContainer, {childList: true});\n",
       "}}\n",
       "\n",
       "// Listen for the clearing of the current output cell\n",
       "var outputEl = gd.closest('.output');\n",
       "if (outputEl) {{\n",
       "    x.observe(outputEl, {childList: true});\n",
       "}}\n",
       "\n",
       "                        })                };                });            </script>        </div>"
      ]
     },
     "metadata": {},
     "output_type": "display_data"
    }
   ],
   "source": [
    "def display_regression_formula(model, factor_name, y):\n",
    "    # Get the intercept and coefficient\n",
    "    intercept = model.intercept_\n",
    "    coef = model.coef_[0]\n",
    "    \n",
    "    # Format the formula string\n",
    "    formula = f\"{y} = {intercept:.4f} + ({coef:.4f} * {factor_name})\"\n",
    "    \n",
    "    # Display the formula\n",
    "    print(formula)\n",
    "    \n",
    "# plot the linear regression model\n",
    "for factor, model in cumulative_models.items():\n",
    "    print(display_regression_formula(model, factor, \"Cumulative Returns\"))\n",
    "    prediction = None\n",
    "    if factor in cumulative_performance_predictions:\n",
    "        prediction = {factor: user_macro_input[factor], 'prediction': cumulative_performance_predictions[factor][0]}\n",
    "    fig = plot.plot_linear_regression_v_single_model(model, cumulative_model_data, factor, \"weighted_portfolio_cumulative_returns\", prediction=prediction)\n",
    "    fig.show()\n",
    "\n",
    "    \n",
    "for factor, model in rate_models.items():\n",
    "    # ... (plot the regression here)\n",
    "    print(display_regression_formula(model, factor, \"Monthly Returns\"))\n",
    "    prediction = None\n",
    "    if factor in rate_performance_predictions:\n",
    "        prediction = {factor: user_macro_input[factor], 'prediction': rate_performance_predictions[factor][0]}\n",
    "    fig = plot.plot_linear_regression_v_single_model(model, rate_model_data, factor, \"weighted_portfolio_returns_monthly\", prediction=prediction)\n",
    "    fig.show()"
   ]
  },
  {
   "cell_type": "code",
   "execution_count": null,
   "metadata": {},
   "outputs": [],
   "source": []
  }
 ],
 "metadata": {
  "kernelspec": {
   "display_name": ".venv",
   "language": "python",
   "name": "python3"
  },
  "language_info": {
   "codemirror_mode": {
    "name": "ipython",
    "version": 3
   },
   "file_extension": ".py",
   "mimetype": "text/x-python",
   "name": "python",
   "nbconvert_exporter": "python",
   "pygments_lexer": "ipython3",
   "version": "3.10.6"
  },
  "orig_nbformat": 4
 },
 "nbformat": 4,
 "nbformat_minor": 2
}
